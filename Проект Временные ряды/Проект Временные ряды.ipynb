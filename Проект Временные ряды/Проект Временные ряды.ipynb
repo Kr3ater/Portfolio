{
 "cells": [
  {
   "cell_type": "markdown",
   "metadata": {
    "toc": true
   },
   "source": [
    "<h1>Содержание<span class=\"tocSkip\"></span></h1>\n",
    "<div class=\"toc\"><ul class=\"toc-item\"><li><span><a href=\"#Подготовка\" data-toc-modified-id=\"Подготовка-1\"><span class=\"toc-item-num\">1&nbsp;&nbsp;</span>Подготовка</a></span></li><li><span><a href=\"#Анализ\" data-toc-modified-id=\"Анализ-2\"><span class=\"toc-item-num\">2&nbsp;&nbsp;</span>Анализ</a></span></li><li><span><a href=\"#Обучение\" data-toc-modified-id=\"Обучение-3\"><span class=\"toc-item-num\">3&nbsp;&nbsp;</span>Обучение</a></span><ul class=\"toc-item\"><li><span><a href=\"#Разделим-датафрейм-на-выборки\" data-toc-modified-id=\"Разделим-датафрейм-на-выборки-3.1\"><span class=\"toc-item-num\">3.1&nbsp;&nbsp;</span>Разделим датафрейм на выборки</a></span></li><li><span><a href=\"#Обучим-разные-модели\" data-toc-modified-id=\"Обучим-разные-модели-3.2\"><span class=\"toc-item-num\">3.2&nbsp;&nbsp;</span>Обучим разные модели</a></span><ul class=\"toc-item\"><li><span><a href=\"#Ridge\" data-toc-modified-id=\"Ridge-3.2.1\"><span class=\"toc-item-num\">3.2.1&nbsp;&nbsp;</span>Ridge</a></span></li><li><span><a href=\"#RandomForestRegressor\" data-toc-modified-id=\"RandomForestRegressor-3.2.2\"><span class=\"toc-item-num\">3.2.2&nbsp;&nbsp;</span>RandomForestRegressor</a></span></li></ul></li></ul></li><li><span><a href=\"#Тестирование\" data-toc-modified-id=\"Тестирование-4\"><span class=\"toc-item-num\">4&nbsp;&nbsp;</span>Тестирование</a></span><ul class=\"toc-item\"><li><span><a href=\"#Вывод\" data-toc-modified-id=\"Вывод-4.1\"><span class=\"toc-item-num\">4.1&nbsp;&nbsp;</span>Вывод</a></span></li></ul></li><li><span><a href=\"#Чек-лист-проверки\" data-toc-modified-id=\"Чек-лист-проверки-5\"><span class=\"toc-item-num\">5&nbsp;&nbsp;</span>Чек-лист проверки</a></span></li></ul></div>"
   ]
  },
  {
   "cell_type": "markdown",
   "metadata": {},
   "source": [
    "#  Прогнозирование заказов такси"
   ]
  },
  {
   "cell_type": "markdown",
   "metadata": {},
   "source": [
    "Компания «Чётенькое такси» собрала исторические данные о заказах такси в аэропортах. Чтобы привлекать больше водителей в период пиковой нагрузки, нужно спрогнозировать количество заказов такси на следующий час. Постройте модель для такого предсказания.\n",
    "\n",
    "Значение метрики *RMSE* на тестовой выборке должно быть не больше 48.\n",
    "\n",
    "Вам нужно:\n",
    "\n",
    "1. Загрузить данные и выполнить их ресемплирование по одному часу.\n",
    "2. Проанализировать данные.\n",
    "3. Обучить разные модели с различными гиперпараметрами. Сделать тестовую выборку размером 10% от исходных данных.\n",
    "4. Проверить данные на тестовой выборке и сделать выводы.\n",
    "\n",
    "\n",
    "Данные лежат в файле `taxi.csv`. Количество заказов находится в столбце `num_orders` (от англ. *number of orders*, «число заказов»)."
   ]
  },
  {
   "cell_type": "markdown",
   "metadata": {},
   "source": [
    "## Подготовка"
   ]
  },
  {
   "cell_type": "code",
   "execution_count": 1,
   "metadata": {},
   "outputs": [],
   "source": [
    "# импорт библиотек\n",
    "\n",
    "import pandas as pd\n",
    "import seaborn as sns\n",
    "import matplotlib.pyplot as plt\n",
    "from sklearn.model_selection import train_test_split\n",
    "from sklearn.linear_model import LinearRegression\n",
    "from sklearn.metrics import mean_squared_error\n",
    "from statsmodels.tsa.seasonal import seasonal_decompose\n",
    "from sklearn.ensemble import RandomForestRegressor\n",
    "\n",
    "from sklearn.model_selection import TimeSeriesSplit\n",
    "from sklearn.metrics import mean_squared_error\n",
    "\n",
    "from sklearn.linear_model import Ridge\n",
    "RANDOM_STATE = 42\n",
    "\n",
    "import numpy as np\n",
    "from sklearn.model_selection import (\n",
    "    GridSearchCV, \n",
    "    RandomizedSearchCV,\n",
    "    train_test_split\n",
    ")"
   ]
  },
  {
   "cell_type": "code",
   "execution_count": 2,
   "metadata": {},
   "outputs": [],
   "source": [
    "# импортируем датафрейм, переведем первый столбец в формат datetime и сделаем его индексом\n",
    "data = pd.read_csv('/datasets/taxi.csv', index_col=[0], parse_dates=[0])"
   ]
  },
  {
   "cell_type": "code",
   "execution_count": 3,
   "metadata": {},
   "outputs": [
    {
     "name": "stdout",
     "output_type": "stream",
     "text": [
      "<class 'pandas.core.frame.DataFrame'>\n",
      "DatetimeIndex: 26496 entries, 2018-03-01 00:00:00 to 2018-08-31 23:50:00\n",
      "Data columns (total 1 columns):\n",
      " #   Column      Non-Null Count  Dtype\n",
      "---  ------      --------------  -----\n",
      " 0   num_orders  26496 non-null  int64\n",
      "dtypes: int64(1)\n",
      "memory usage: 414.0 KB\n"
     ]
    }
   ],
   "source": [
    "data.info()"
   ]
  },
  {
   "cell_type": "markdown",
   "metadata": {},
   "source": [
    "Отсортируем"
   ]
  },
  {
   "cell_type": "code",
   "execution_count": 4,
   "metadata": {},
   "outputs": [],
   "source": [
    "data.sort_index(inplace=True)"
   ]
  },
  {
   "cell_type": "markdown",
   "metadata": {},
   "source": [
    "Проверим индекс на монотонность"
   ]
  },
  {
   "cell_type": "code",
   "execution_count": 5,
   "metadata": {},
   "outputs": [
    {
     "data": {
      "text/plain": [
       "True"
      ]
     },
     "execution_count": 5,
     "metadata": {},
     "output_type": "execute_result"
    }
   ],
   "source": [
    "data.index.is_monotonic "
   ]
  },
  {
   "cell_type": "markdown",
   "metadata": {},
   "source": [
    "Индекс монотонен"
   ]
  },
  {
   "cell_type": "markdown",
   "metadata": {},
   "source": [
    "## Анализ"
   ]
  },
  {
   "cell_type": "markdown",
   "metadata": {},
   "source": [
    "Так как в задании от нас требуют спрогнозировать количество заказов такси на следующий час, то вычислять агрегированное значение ряда мы будем суммой"
   ]
  },
  {
   "cell_type": "markdown",
   "metadata": {},
   "source": [
    "Построим график количества заказов такси. Выберите интервал в час день, по каждому — вычислим суммарное энергопотребление"
   ]
  },
  {
   "cell_type": "code",
   "execution_count": 6,
   "metadata": {},
   "outputs": [
    {
     "data": {
      "text/plain": [
       "<AxesSubplot:xlabel='datetime'>"
      ]
     },
     "execution_count": 6,
     "metadata": {},
     "output_type": "execute_result"
    },
    {
     "data": {
      "image/png": "[encoded data removed]",
      "text/plain": [
       "<Figure size 432x288 with 1 Axes>"
      ]
     },
     "metadata": {
      "needs_background": "light"
     },
     "output_type": "display_data"
    }
   ],
   "source": [
    "data = data.resample('1H').sum()\n",
    "data.plot()"
   ]
  },
  {
   "cell_type": "markdown",
   "metadata": {},
   "source": [
    "На графике видно, как постепенно увеличивается среднее значение, а также заметно постепенное увеличение дисперсии"
   ]
  },
  {
   "cell_type": "markdown",
   "metadata": {},
   "source": [
    "Чтобы лучше понимать временной ряд, разберём тренды и сезонность"
   ]
  },
  {
   "cell_type": "code",
   "execution_count": 7,
   "metadata": {},
   "outputs": [
    {
     "data": {
      "image/png": "[encoded data removed]",
      "text/plain": [
       "<Figure size 432x576 with 3 Axes>"
      ]
     },
     "metadata": {
      "needs_background": "light"
     },
     "output_type": "display_data"
    }
   ],
   "source": [
    "decomposed = seasonal_decompose(data)\n",
    "\n",
    "plt.figure(figsize=(6, 8))\n",
    "plt.subplot(311)\n",
    "# Чтобы график корректно отобразился, указываем его\n",
    "# оси ax, равными plt.gca() (англ. get current axis,\n",
    "# получить текущие оси)\n",
    "decomposed.trend.plot(ax=plt.gca())\n",
    "plt.title('Trend')\n",
    "plt.subplot(312)\n",
    "decomposed.seasonal.plot(ax=plt.gca()) \n",
    "plt.title('Seasonality')\n",
    "plt.subplot(313)\n",
    "decomposed.resid.plot(ax=plt.gca()) \n",
    "plt.title('Residuals')\n",
    "plt.tight_layout()"
   ]
  },
  {
   "cell_type": "markdown",
   "metadata": {},
   "source": [
    "Очевидно, что тренд идет на увеличение. "
   ]
  },
  {
   "cell_type": "code",
   "execution_count": 8,
   "metadata": {},
   "outputs": [
    {
     "data": {
      "text/plain": [
       "<AxesSubplot:xlabel='datetime'>"
      ]
     },
     "execution_count": 8,
     "metadata": {},
     "output_type": "execute_result"
    },
    {
     "data": {
      "image/png": "[encoded data removed]",
      "text/plain": [
       "<Figure size 432x288 with 1 Axes>"
      ]
     },
     "metadata": {
      "needs_background": "light"
     },
     "output_type": "display_data"
    }
   ],
   "source": [
    "decomposed.seasonal['2018-03-01 00:00:00':'2018-03-02 00:00:00'].plot()"
   ]
  },
  {
   "cell_type": "markdown",
   "metadata": {},
   "source": [
    "Мы видим, что час пик у нас выпадает на 00, на 16 и чуть меньше на 9. Кроме того, мы видим что в 6 утра заказов почти нет."
   ]
  },
  {
   "cell_type": "markdown",
   "metadata": {},
   "source": [
    "## Обучение"
   ]
  },
  {
   "cell_type": "code",
   "execution_count": 9,
   "metadata": {},
   "outputs": [],
   "source": [
    "# создадим признаки для горизонта прогнозирования в один шаг\n",
    "# напишем функцию для создания признаков\n",
    "\n",
    "def make_features(data, max_lag, rolling_mean_size):\n",
    "    data['dayofweek'] = data.index.dayofweek\n",
    "    data['hour'] = data.index.hour\n",
    "    \n",
    "    for lag in range(1, max_lag + 1):\n",
    "        data['lag_{}'.format(lag)] = data['num_orders'].shift(lag)\n",
    "\n",
    "    data['rolling_mean'] = data['num_orders'].shift().rolling(rolling_mean_size).mean()"
   ]
  },
  {
   "cell_type": "code",
   "execution_count": 10,
   "metadata": {},
   "outputs": [],
   "source": [
    "# вызовем функцию, укажем количество отстающих значений равное 20\n",
    "# а скользящее среднее равное 24\n",
    "\n",
    "make_features(data, 2, 24)"
   ]
  },
  {
   "cell_type": "markdown",
   "metadata": {},
   "source": [
    "### Разделим датафрейм на выборки"
   ]
  },
  {
   "cell_type": "code",
   "execution_count": 11,
   "metadata": {},
   "outputs": [],
   "source": [
    "train_valid, test = train_test_split(data, shuffle=False, test_size=0.1)\n",
    "# чтобы данные не перемешивались укажим shuffle=False\n",
    "\n",
    "valid, train = train_test_split(train_valid, shuffle=False, test_size=0.6)\n",
    "\n",
    "# из обучающей выборки удалим строки с пропусками\n",
    "train = train.dropna()\n",
    "\n",
    "train_features = train.drop(columns='num_orders')\n",
    "train_target = train['num_orders']\n",
    "\n",
    "valid_features = train.drop(columns='num_orders')\n",
    "valid_target = train['num_orders']\n",
    "\n",
    "test_features = test.drop(columns='num_orders')\n",
    "test_target = test['num_orders']"
   ]
  },
  {
   "cell_type": "markdown",
   "metadata": {},
   "source": [
    "### Обучим разные модели"
   ]
  },
  {
   "cell_type": "markdown",
   "metadata": {},
   "source": [
    "#### Ridge"
   ]
  },
  {
   "cell_type": "code",
   "execution_count": 12,
   "metadata": {
    "scrolled": false
   },
   "outputs": [
    {
     "name": "stdout",
     "output_type": "stream",
     "text": [
      "Fitting 8 folds for each of 21 candidates, totalling 168 fits\n",
      "best_score: 33.671723094601326\n",
      "best_params: {'alpha': 0.0}\n",
      "CPU times: user 1.13 s, sys: 430 ms, total: 1.56 s\n",
      "Wall time: 1.55 s\n"
     ]
    }
   ],
   "source": [
    "%%time\n",
    "\n",
    "# random_state не перебирается, задаём его прямо в модели\n",
    "model_ridge = Ridge(random_state=RANDOM_STATE)\n",
    "\n",
    "# словарь с гиперпараметрами и значениями, которые хотим перебрать\n",
    "param_grid_ridge = {\n",
    "    'alpha': np.arange(0, 0.21, 0.01),\n",
    "}\n",
    "\n",
    "tscv = TimeSeriesSplit(n_splits=8)\n",
    "\n",
    "gs_ridge = GridSearchCV(\n",
    "    model_ridge, \n",
    "    param_grid=param_grid_ridge, \n",
    "    scoring='neg_root_mean_squared_error', \n",
    "    n_jobs=-1,\n",
    "    cv=tscv, \n",
    "    verbose=1\n",
    ")\n",
    "\n",
    "gs_ridge.fit(train_features, train_target)\n",
    "\n",
    "# лучшее значение RMSE на кросс-валидации\n",
    "print(f'best_score: {gs_ridge.best_score_ * -1}')\n",
    "\n",
    "# лучшие гиперпараметры\n",
    "print(f'best_params: {gs_ridge.best_params_}')"
   ]
  },
  {
   "cell_type": "markdown",
   "metadata": {},
   "source": [
    "#### RandomForestRegressor"
   ]
  },
  {
   "cell_type": "code",
   "execution_count": 14,
   "metadata": {},
   "outputs": [
    {
     "name": "stdout",
     "output_type": "stream",
     "text": [
      "best_score: 25.67686881138735\n",
      "best_params: {'max_depth': 9, 'n_estimators': 100}\n",
      "CPU times: user 8.58 s, sys: 84 ms, total: 8.66 s\n",
      "Wall time: 8.67 s\n"
     ]
    }
   ],
   "source": [
    "%%time\n",
    "\n",
    "model_rf = RandomForestRegressor(random_state=RANDOM_STATE)\n",
    "\n",
    "param_grid_rf = {\n",
    "    'n_estimators': range(100, 101),\n",
    "    'max_depth': range(5, 10)\n",
    "}\n",
    "\n",
    "tscv = TimeSeriesSplit(n_splits=8)\n",
    "\n",
    "gs_rf = GridSearchCV(\n",
    "    model_rf, \n",
    "    param_grid=param_grid_rf, \n",
    "    scoring='neg_root_mean_squared_error', \n",
    "    n_jobs=-1\n",
    ")\n",
    "\n",
    "gs_rf.fit(train_features, train_target)\n",
    "\n",
    "gs_rf_best_score = gs_rf.best_score_ * -1\n",
    "gs_rf_best_params = gs_rf.best_params_\n",
    "print(f'best_score: {gs_rf_best_score}')\n",
    "print(f'best_params: {gs_rf_best_params}')"
   ]
  },
  {
   "cell_type": "markdown",
   "metadata": {},
   "source": [
    "Выберем RandomForestRegressor с параметрами {'max_depth': 9, 'n_estimators': 100}"
   ]
  },
  {
   "cell_type": "markdown",
   "metadata": {},
   "source": [
    "## Тестирование"
   ]
  },
  {
   "cell_type": "markdown",
   "metadata": {},
   "source": [
    "Проверим нашу модель на качество"
   ]
  },
  {
   "cell_type": "code",
   "execution_count": null,
   "metadata": {},
   "outputs": [],
   "source": [
    "gs_rf_prediction = gs_rf.predict(test_features)\n",
    "metric_test = mean_squared_error(test_target, gs_rf_prediction, squared=False)\n",
    "metric_test"
   ]
  },
  {
   "cell_type": "markdown",
   "metadata": {},
   "source": [
    "На тестовой выборке итоговое RMSE не превышает 48. Результат нас устраивает"
   ]
  },
  {
   "cell_type": "markdown",
   "metadata": {},
   "source": [
    "Сравним наше предсказание с реальными данными. Построим график"
   ]
  },
  {
   "cell_type": "code",
   "execution_count": 228,
   "metadata": {},
   "outputs": [
    {
     "data": {
      "image/png": "[encoded data removed]",
      "text/plain": [
       "<Figure size 864x504 with 1 Axes>"
      ]
     },
     "metadata": {
      "needs_background": "light"
     },
     "output_type": "display_data"
    }
   ],
   "source": [
    "plt.figure(figsize=(12, 7))\n",
    "\n",
    "\n",
    "\n",
    "df = pd.DataFrame({'date': test_features.index,\n",
    " 'count_pred': prediction})\n",
    "\n",
    "mask = (df['date'] > '2018-08-14 00:00:00') & (df['date'] < '2018-08-15 06:00:00')\n",
    "# проиндексируем по столбцу date и выберем необходимый интервал для первого графика\n",
    "df = df.loc[mask]\n",
    "\n",
    "\n",
    "\n",
    "\n",
    "\n",
    "\n",
    "df2 = pd.DataFrame({'date': test_target.index,\n",
    " 'count_target': test_target})\n",
    "\n",
    "mask_2 = (df2['date'] > '2018-08-14 00:00:00') & (df2['date'] < '2018-08-15 06:00:00')\n",
    "# проиндексируем по столбцу date и выберем необходимый интервал для второго графика\n",
    "df2 = df2.loc[mask_2]\n",
    "\n",
    "\n",
    "\n",
    "#plot both time series\n",
    "plt.plot (df.date, df.count_pred , color= 'r', label='Предсказанные', linewidth = 2, alpha=0.8)\n",
    "plt.plot (df2.date, df2.count_target , color= 'k', label='Реальные', linewidth = 1)\n",
    "\n",
    "#add title and axis labels\n",
    "plt.xlabel('Дата и время')\n",
    "plt.ylabel('Число заказов')\n",
    "\n",
    "\n",
    "#add legend\n",
    "plt.legend(loc=\"best\")\n",
    "plt.title(\"Результаты модели, 2 дня\\nRandomForestRegressor\\n RMSE = {}\".format(round((mse)**0.5)))\n",
    "\n",
    "plt.grid(True);\n",
    "\n",
    "\n",
    "#display plot\n",
    "plt.show() "
   ]
  },
  {
   "cell_type": "markdown",
   "metadata": {},
   "source": [
    "### Вывод"
   ]
  },
  {
   "cell_type": "markdown",
   "metadata": {},
   "source": [
    "Мы проанализировали исторические данные о заказах такси в аэропортах компании «Чётенькое такси». Мы обратили внимание на пики и падения на сезонном графике. Кроме того мы создали функцию для создания признаков для горизонта прогнозирования в один шаг. И задали ею определенные значения, по которым вдальнейшем обучали и тестировали модели RandomForestRegressor и Ridge. Из них лучшей оказалась RandomForestRegressor. Она же показала на тестовых данных результат не более 48, что нас устраивает"
   ]
  }
 ],
 "metadata": {
  "ExecuteTimeLog": [
   {
    "duration": 593,
    "start_time": "2023-02-20T09:36:27.110Z"
   },
   {
    "duration": 30,
    "start_time": "2023-02-20T09:36:33.255Z"
   },
   {
    "duration": 70,
    "start_time": "2023-02-20T09:40:02.169Z"
   },
   {
    "duration": 13,
    "start_time": "2023-02-20T09:40:02.910Z"
   },
   {
    "duration": 4,
    "start_time": "2023-02-20T09:43:36.502Z"
   },
   {
    "duration": 13,
    "start_time": "2023-02-20T09:43:43.109Z"
   },
   {
    "duration": 1055,
    "start_time": "2023-02-20T09:54:56.450Z"
   },
   {
    "duration": 4,
    "start_time": "2023-02-20T09:57:14.659Z"
   },
   {
    "duration": 3,
    "start_time": "2023-02-20T09:57:15.161Z"
   },
   {
    "duration": 3,
    "start_time": "2023-02-20T09:57:15.505Z"
   },
   {
    "duration": 3,
    "start_time": "2023-02-20T09:57:16.691Z"
   },
   {
    "duration": 13,
    "start_time": "2023-02-20T09:57:21.410Z"
   },
   {
    "duration": 417,
    "start_time": "2023-02-20T09:57:37.688Z"
   },
   {
    "duration": 3,
    "start_time": "2023-02-20T09:57:38.107Z"
   },
   {
    "duration": 15,
    "start_time": "2023-02-20T09:57:38.111Z"
   },
   {
    "duration": 7,
    "start_time": "2023-02-20T09:57:38.128Z"
   },
   {
    "duration": 106,
    "start_time": "2023-02-20T09:57:38.138Z"
   },
   {
    "duration": 64,
    "start_time": "2023-02-20T09:57:43.258Z"
   },
   {
    "duration": 26,
    "start_time": "2023-02-20T09:57:44.661Z"
   },
   {
    "duration": 64,
    "start_time": "2023-02-20T09:58:04.147Z"
   },
   {
    "duration": 27,
    "start_time": "2023-02-20T09:58:05.599Z"
   },
   {
    "duration": 17,
    "start_time": "2023-02-20T09:58:50.462Z"
   },
   {
    "duration": 13,
    "start_time": "2023-02-20T10:00:33.308Z"
   },
   {
    "duration": 10,
    "start_time": "2023-02-20T10:01:20.958Z"
   },
   {
    "duration": 9,
    "start_time": "2023-02-20T10:01:29.246Z"
   },
   {
    "duration": 870,
    "start_time": "2023-02-20T10:01:45.164Z"
   },
   {
    "duration": 204,
    "start_time": "2023-02-20T10:01:47.889Z"
   },
   {
    "duration": 11296,
    "start_time": "2023-02-20T10:06:54.186Z"
   },
   {
    "duration": 3,
    "start_time": "2023-02-20T10:07:19.393Z"
   },
   {
    "duration": 10606,
    "start_time": "2023-02-20T10:07:43.038Z"
   },
   {
    "duration": 8,
    "start_time": "2023-02-20T10:08:18.964Z"
   },
   {
    "duration": 261,
    "start_time": "2023-02-20T10:15:00.454Z"
   },
   {
    "duration": 415,
    "start_time": "2023-02-20T10:15:31.185Z"
   },
   {
    "duration": 38,
    "start_time": "2023-02-20T10:16:08.455Z"
   },
   {
    "duration": 26,
    "start_time": "2023-02-20T10:16:11.496Z"
   },
   {
    "duration": 235,
    "start_time": "2023-02-20T10:16:16.304Z"
   },
   {
    "duration": 7,
    "start_time": "2023-02-20T10:43:07.511Z"
   },
   {
    "duration": 232,
    "start_time": "2023-02-20T10:43:07.815Z"
   },
   {
    "duration": 3,
    "start_time": "2023-02-20T10:43:08.068Z"
   },
   {
    "duration": 58,
    "start_time": "2023-02-20T10:43:17.293Z"
   },
   {
    "duration": 3,
    "start_time": "2023-02-20T10:43:18.320Z"
   },
   {
    "duration": 431,
    "start_time": "2023-02-20T10:43:19.629Z"
   },
   {
    "duration": 16,
    "start_time": "2023-02-20T10:51:06.511Z"
   },
   {
    "duration": 439,
    "start_time": "2023-02-20T10:53:00.684Z"
   },
   {
    "duration": 5,
    "start_time": "2023-02-20T10:53:46.428Z"
   },
   {
    "duration": 5,
    "start_time": "2023-02-20T10:54:00.894Z"
   },
   {
    "duration": 8,
    "start_time": "2023-02-20T10:54:46.620Z"
   },
   {
    "duration": 7,
    "start_time": "2023-02-20T10:54:46.947Z"
   },
   {
    "duration": 8,
    "start_time": "2023-02-20T10:54:47.222Z"
   },
   {
    "duration": 5,
    "start_time": "2023-02-20T10:55:16.094Z"
   },
   {
    "duration": 9,
    "start_time": "2023-02-20T10:55:22.120Z"
   },
   {
    "duration": 6,
    "start_time": "2023-02-20T10:55:43.912Z"
   },
   {
    "duration": 5,
    "start_time": "2023-02-20T10:55:44.629Z"
   },
   {
    "duration": 5,
    "start_time": "2023-02-20T10:55:45.113Z"
   },
   {
    "duration": 4,
    "start_time": "2023-02-20T11:00:30.595Z"
   },
   {
    "duration": 2222,
    "start_time": "2023-02-20T11:02:08.607Z"
   },
   {
    "duration": 24,
    "start_time": "2023-02-20T11:02:40.296Z"
   },
   {
    "duration": 5,
    "start_time": "2023-02-20T11:16:56.089Z"
   },
   {
    "duration": 9,
    "start_time": "2023-02-20T11:17:02.761Z"
   },
   {
    "duration": 12,
    "start_time": "2023-02-20T11:31:11.724Z"
   },
   {
    "duration": 12,
    "start_time": "2023-02-20T11:31:25.449Z"
   },
   {
    "duration": 11,
    "start_time": "2023-02-20T11:31:31.130Z"
   },
   {
    "duration": 14,
    "start_time": "2023-02-20T11:31:34.303Z"
   },
   {
    "duration": 33,
    "start_time": "2023-02-20T11:31:46.974Z"
   },
   {
    "duration": 60,
    "start_time": "2023-02-20T11:31:51.118Z"
   },
   {
    "duration": 77,
    "start_time": "2023-02-20T12:25:13.403Z"
   },
   {
    "duration": 3,
    "start_time": "2023-02-20T12:25:28.834Z"
   },
   {
    "duration": 19,
    "start_time": "2023-02-20T12:25:34.306Z"
   },
   {
    "duration": 82,
    "start_time": "2023-02-20T12:28:42.099Z"
   },
   {
    "duration": 12,
    "start_time": "2023-02-20T12:29:18.002Z"
   },
   {
    "duration": 10,
    "start_time": "2023-02-20T12:29:19.109Z"
   },
   {
    "duration": 47,
    "start_time": "2023-02-20T12:29:19.829Z"
   },
   {
    "duration": 21,
    "start_time": "2023-02-20T12:29:41.624Z"
   },
   {
    "duration": 12,
    "start_time": "2023-02-20T12:29:42.421Z"
   },
   {
    "duration": 186,
    "start_time": "2023-02-20T12:29:43.030Z"
   },
   {
    "duration": 9,
    "start_time": "2023-02-20T12:30:00.038Z"
   },
   {
    "duration": 12,
    "start_time": "2023-02-20T12:30:03.696Z"
   },
   {
    "duration": 102,
    "start_time": "2023-02-20T12:30:05.093Z"
   },
   {
    "duration": 13,
    "start_time": "2023-02-20T12:30:13.199Z"
   },
   {
    "duration": 12,
    "start_time": "2023-02-20T12:30:14.917Z"
   },
   {
    "duration": 156,
    "start_time": "2023-02-20T12:30:15.218Z"
   },
   {
    "duration": 19,
    "start_time": "2023-02-20T12:30:20.462Z"
   },
   {
    "duration": 13,
    "start_time": "2023-02-20T12:30:20.792Z"
   },
   {
    "duration": 15,
    "start_time": "2023-02-20T12:30:21.293Z"
   },
   {
    "duration": 156,
    "start_time": "2023-02-20T12:30:21.614Z"
   },
   {
    "duration": 42,
    "start_time": "2023-02-20T12:53:02.327Z"
   },
   {
    "duration": 1518,
    "start_time": "2023-02-20T12:53:37.801Z"
   },
   {
    "duration": 62,
    "start_time": "2023-02-20T12:53:39.321Z"
   },
   {
    "duration": 12,
    "start_time": "2023-02-20T12:53:39.389Z"
   },
   {
    "duration": 255,
    "start_time": "2023-02-20T12:53:39.404Z"
   },
   {
    "duration": 856,
    "start_time": "2023-02-20T12:53:39.662Z"
   },
   {
    "duration": 5,
    "start_time": "2023-02-20T12:53:40.520Z"
   },
   {
    "duration": 38,
    "start_time": "2023-02-20T12:53:40.527Z"
   },
   {
    "duration": 58,
    "start_time": "2023-02-20T12:53:40.567Z"
   },
   {
    "duration": 48,
    "start_time": "2023-02-20T12:53:40.627Z"
   },
   {
    "duration": 314,
    "start_time": "2023-02-20T13:01:54.028Z"
   },
   {
    "duration": 19,
    "start_time": "2023-02-20T13:02:17.210Z"
   },
   {
    "duration": 137,
    "start_time": "2023-02-20T13:02:40.616Z"
   },
   {
    "duration": 255,
    "start_time": "2023-02-20T13:03:27.061Z"
   },
   {
    "duration": 210,
    "start_time": "2023-02-20T13:03:38.101Z"
   },
   {
    "duration": 169,
    "start_time": "2023-02-20T13:03:43.996Z"
   },
   {
    "duration": 243,
    "start_time": "2023-02-20T13:03:48.561Z"
   },
   {
    "duration": 193,
    "start_time": "2023-02-20T13:04:06.945Z"
   },
   {
    "duration": 1655,
    "start_time": "2023-02-20T16:36:57.025Z"
   },
   {
    "duration": 199,
    "start_time": "2023-02-20T16:36:58.682Z"
   },
   {
    "duration": 3,
    "start_time": "2023-02-20T16:36:58.883Z"
   },
   {
    "duration": 238,
    "start_time": "2023-02-20T16:36:58.888Z"
   },
   {
    "duration": 850,
    "start_time": "2023-02-20T16:36:59.128Z"
   },
   {
    "duration": 159,
    "start_time": "2023-02-20T16:36:59.980Z"
   },
   {
    "duration": 7,
    "start_time": "2023-02-20T16:37:00.141Z"
   },
   {
    "duration": 14,
    "start_time": "2023-02-20T16:37:00.149Z"
   },
   {
    "duration": 22,
    "start_time": "2023-02-20T16:37:00.165Z"
   },
   {
    "duration": 161,
    "start_time": "2023-02-20T16:37:00.189Z"
   },
   {
    "duration": 1314,
    "start_time": "2023-02-20T16:37:26.109Z"
   },
   {
    "duration": 48,
    "start_time": "2023-02-20T16:37:27.425Z"
   },
   {
    "duration": 3,
    "start_time": "2023-02-20T16:37:27.474Z"
   },
   {
    "duration": 224,
    "start_time": "2023-02-20T16:37:27.479Z"
   },
   {
    "duration": 718,
    "start_time": "2023-02-20T16:37:27.705Z"
   },
   {
    "duration": 150,
    "start_time": "2023-02-20T16:37:28.425Z"
   },
   {
    "duration": 4,
    "start_time": "2023-02-20T16:37:28.577Z"
   },
   {
    "duration": 59,
    "start_time": "2023-02-20T16:37:28.583Z"
   },
   {
    "duration": 64,
    "start_time": "2023-02-20T16:37:28.644Z"
   },
   {
    "duration": 171,
    "start_time": "2023-02-20T16:37:28.710Z"
   },
   {
    "duration": 1322,
    "start_time": "2023-02-20T16:38:32.363Z"
   },
   {
    "duration": 46,
    "start_time": "2023-02-20T16:38:33.686Z"
   },
   {
    "duration": 3,
    "start_time": "2023-02-20T16:38:33.734Z"
   },
   {
    "duration": 267,
    "start_time": "2023-02-20T16:38:33.739Z"
   },
   {
    "duration": 782,
    "start_time": "2023-02-20T16:38:34.007Z"
   },
   {
    "duration": 161,
    "start_time": "2023-02-20T16:38:34.790Z"
   },
   {
    "duration": 5,
    "start_time": "2023-02-20T16:38:34.953Z"
   },
   {
    "duration": 28,
    "start_time": "2023-02-20T16:38:34.959Z"
   },
   {
    "duration": 19,
    "start_time": "2023-02-20T16:38:34.989Z"
   },
   {
    "duration": 145,
    "start_time": "2023-02-20T16:38:35.010Z"
   },
   {
    "duration": 10,
    "start_time": "2023-02-20T16:38:59.625Z"
   },
   {
    "duration": 8,
    "start_time": "2023-02-20T16:40:10.412Z"
   },
   {
    "duration": 11,
    "start_time": "2023-02-20T16:40:11.093Z"
   },
   {
    "duration": 11,
    "start_time": "2023-02-20T16:40:11.435Z"
   },
   {
    "duration": 24,
    "start_time": "2023-02-20T16:40:18.320Z"
   },
   {
    "duration": 13,
    "start_time": "2023-02-20T16:40:18.876Z"
   },
   {
    "duration": 17,
    "start_time": "2023-02-20T16:40:19.573Z"
   },
   {
    "duration": 50,
    "start_time": "2023-02-20T16:40:30.524Z"
   },
   {
    "duration": 21,
    "start_time": "2023-02-20T16:40:31.045Z"
   },
   {
    "duration": 226,
    "start_time": "2023-02-20T16:40:31.324Z"
   },
   {
    "duration": 720,
    "start_time": "2023-02-20T16:40:38.734Z"
   },
   {
    "duration": 98,
    "start_time": "2023-02-20T16:40:42.077Z"
   },
   {
    "duration": 3286,
    "start_time": "2023-02-20T16:40:42.366Z"
   },
   {
    "duration": 1329,
    "start_time": "2023-02-20T16:40:59.259Z"
   },
   {
    "duration": 167,
    "start_time": "2023-02-20T16:41:00.590Z"
   },
   {
    "duration": 24166,
    "start_time": "2023-02-20T16:41:02.383Z"
   },
   {
    "duration": 16,
    "start_time": "2023-02-20T16:42:18.765Z"
   },
   {
    "duration": 10,
    "start_time": "2023-02-20T16:43:24.949Z"
   },
   {
    "duration": 100,
    "start_time": "2023-02-20T16:43:25.790Z"
   },
   {
    "duration": 11150,
    "start_time": "2023-02-20T16:43:26.812Z"
   },
   {
    "duration": 18,
    "start_time": "2023-02-20T16:43:42.333Z"
   },
   {
    "duration": 1368,
    "start_time": "2023-02-20T16:43:57.727Z"
   },
   {
    "duration": 46,
    "start_time": "2023-02-20T16:43:59.097Z"
   },
   {
    "duration": 4,
    "start_time": "2023-02-20T16:43:59.144Z"
   },
   {
    "duration": 219,
    "start_time": "2023-02-20T16:43:59.149Z"
   },
   {
    "duration": 800,
    "start_time": "2023-02-20T16:43:59.370Z"
   },
   {
    "duration": 145,
    "start_time": "2023-02-20T16:44:00.172Z"
   },
   {
    "duration": 4,
    "start_time": "2023-02-20T16:44:00.319Z"
   },
   {
    "duration": 32,
    "start_time": "2023-02-20T16:44:00.325Z"
   },
   {
    "duration": 13,
    "start_time": "2023-02-20T16:44:00.358Z"
   },
   {
    "duration": 82,
    "start_time": "2023-02-20T16:44:00.372Z"
   },
   {
    "duration": 103,
    "start_time": "2023-02-20T16:44:00.457Z"
   },
   {
    "duration": 1283,
    "start_time": "2023-02-20T16:44:17.011Z"
   },
   {
    "duration": 47,
    "start_time": "2023-02-20T16:44:18.295Z"
   },
   {
    "duration": 3,
    "start_time": "2023-02-20T16:44:18.344Z"
   },
   {
    "duration": 223,
    "start_time": "2023-02-20T16:44:18.348Z"
   },
   {
    "duration": 717,
    "start_time": "2023-02-20T16:44:18.573Z"
   },
   {
    "duration": 137,
    "start_time": "2023-02-20T16:44:19.292Z"
   },
   {
    "duration": 4,
    "start_time": "2023-02-20T16:44:19.431Z"
   },
   {
    "duration": 1881,
    "start_time": "2023-02-20T16:44:19.436Z"
   },
   {
    "duration": 189,
    "start_time": "2023-02-20T16:44:21.319Z"
   },
   {
    "duration": 11444,
    "start_time": "2023-02-20T16:44:21.510Z"
   },
   {
    "duration": 195,
    "start_time": "2023-02-20T16:44:32.956Z"
   },
   {
    "duration": 1371,
    "start_time": "2023-02-20T16:48:36.574Z"
   },
   {
    "duration": 48,
    "start_time": "2023-02-20T16:48:37.947Z"
   },
   {
    "duration": 3,
    "start_time": "2023-02-20T16:48:37.997Z"
   },
   {
    "duration": 244,
    "start_time": "2023-02-20T16:48:38.001Z"
   },
   {
    "duration": 711,
    "start_time": "2023-02-20T16:48:38.248Z"
   },
   {
    "duration": 157,
    "start_time": "2023-02-20T16:48:38.961Z"
   },
   {
    "duration": 4,
    "start_time": "2023-02-20T16:48:39.119Z"
   },
   {
    "duration": 155,
    "start_time": "2023-02-20T16:48:39.126Z"
   },
   {
    "duration": 31,
    "start_time": "2023-02-20T16:48:39.283Z"
   },
   {
    "duration": 338,
    "start_time": "2023-02-20T16:48:39.316Z"
   },
   {
    "duration": 98,
    "start_time": "2023-02-20T16:48:39.659Z"
   },
   {
    "duration": 36,
    "start_time": "2023-02-20T16:48:57.411Z"
   },
   {
    "duration": 17,
    "start_time": "2023-02-20T16:48:58.296Z"
   },
   {
    "duration": 144,
    "start_time": "2023-02-20T16:48:59.913Z"
   },
   {
    "duration": 13,
    "start_time": "2023-02-20T16:49:01.256Z"
   },
   {
    "duration": 110,
    "start_time": "2023-02-20T16:49:19.370Z"
   },
   {
    "duration": 33,
    "start_time": "2023-02-20T16:49:19.737Z"
   },
   {
    "duration": 347,
    "start_time": "2023-02-20T16:49:19.911Z"
   },
   {
    "duration": 12,
    "start_time": "2023-02-20T16:49:20.510Z"
   },
   {
    "duration": 13,
    "start_time": "2023-02-20T16:49:32.051Z"
   },
   {
    "duration": 21,
    "start_time": "2023-02-20T16:49:32.421Z"
   },
   {
    "duration": 379,
    "start_time": "2023-02-20T16:49:32.575Z"
   },
   {
    "duration": 97,
    "start_time": "2023-02-20T16:49:33.056Z"
   },
   {
    "duration": 53,
    "start_time": "2023-02-21T06:59:36.515Z"
   },
   {
    "duration": 7,
    "start_time": "2023-02-21T06:59:47.984Z"
   },
   {
    "duration": 7,
    "start_time": "2023-02-21T06:59:58.395Z"
   },
   {
    "duration": 8,
    "start_time": "2023-02-21T07:00:07.312Z"
   },
   {
    "duration": 6,
    "start_time": "2023-02-21T07:00:25.472Z"
   },
   {
    "duration": 6,
    "start_time": "2023-02-21T07:00:38.504Z"
   },
   {
    "duration": 4,
    "start_time": "2023-02-21T07:00:45.258Z"
   },
   {
    "duration": 8,
    "start_time": "2023-02-21T07:01:13.556Z"
   },
   {
    "duration": 6,
    "start_time": "2023-02-21T07:01:30.399Z"
   },
   {
    "duration": 8,
    "start_time": "2023-02-21T07:01:35.457Z"
   },
   {
    "duration": 9,
    "start_time": "2023-02-21T07:01:49.368Z"
   },
   {
    "duration": 1588,
    "start_time": "2023-02-21T07:14:28.139Z"
   },
   {
    "duration": 116,
    "start_time": "2023-02-21T07:14:29.729Z"
   },
   {
    "duration": 3,
    "start_time": "2023-02-21T07:14:29.847Z"
   },
   {
    "duration": 259,
    "start_time": "2023-02-21T07:14:29.853Z"
   },
   {
    "duration": 867,
    "start_time": "2023-02-21T07:14:30.114Z"
   },
   {
    "duration": 162,
    "start_time": "2023-02-21T07:14:30.983Z"
   },
   {
    "duration": 4,
    "start_time": "2023-02-21T07:14:31.147Z"
   },
   {
    "duration": 62,
    "start_time": "2023-02-21T07:14:31.153Z"
   },
   {
    "duration": 18,
    "start_time": "2023-02-21T07:14:31.217Z"
   },
   {
    "duration": 112,
    "start_time": "2023-02-21T07:14:31.237Z"
   },
   {
    "duration": 116,
    "start_time": "2023-02-21T07:14:31.351Z"
   },
   {
    "duration": 178,
    "start_time": "2023-02-21T07:14:31.469Z"
   },
   {
    "duration": 0,
    "start_time": "2023-02-21T07:14:31.649Z"
   },
   {
    "duration": 9868,
    "start_time": "2023-02-21T07:14:43.380Z"
   },
   {
    "duration": 147,
    "start_time": "2023-02-21T07:20:43.525Z"
   },
   {
    "duration": 18,
    "start_time": "2023-02-21T07:21:02.369Z"
   },
   {
    "duration": 27,
    "start_time": "2023-02-21T07:21:53.513Z"
   },
   {
    "duration": 12,
    "start_time": "2023-02-21T07:22:48.836Z"
   },
   {
    "duration": 18,
    "start_time": "2023-02-21T07:22:56.214Z"
   },
   {
    "duration": 11,
    "start_time": "2023-02-21T07:23:23.123Z"
   },
   {
    "duration": 16,
    "start_time": "2023-02-21T07:50:40.130Z"
   },
   {
    "duration": 18,
    "start_time": "2023-02-21T07:51:00.027Z"
   },
   {
    "duration": 12,
    "start_time": "2023-02-21T07:58:18.441Z"
   },
   {
    "duration": 13,
    "start_time": "2023-02-21T07:58:56.605Z"
   },
   {
    "duration": 24,
    "start_time": "2023-02-21T07:59:31.822Z"
   },
   {
    "duration": 13,
    "start_time": "2023-02-21T08:00:56.977Z"
   },
   {
    "duration": 12,
    "start_time": "2023-02-21T08:01:14.005Z"
   },
   {
    "duration": 15,
    "start_time": "2023-02-21T08:01:29.686Z"
   },
   {
    "duration": 14,
    "start_time": "2023-02-21T08:01:40.798Z"
   },
   {
    "duration": 10766,
    "start_time": "2023-02-21T08:01:57.880Z"
   },
   {
    "duration": 10,
    "start_time": "2023-02-21T08:04:53.055Z"
   },
   {
    "duration": 10,
    "start_time": "2023-02-21T08:05:21.192Z"
   },
   {
    "duration": 1453,
    "start_time": "2023-02-21T08:05:53.707Z"
   },
   {
    "duration": 48,
    "start_time": "2023-02-21T08:05:55.162Z"
   },
   {
    "duration": 3,
    "start_time": "2023-02-21T08:05:55.212Z"
   },
   {
    "duration": 264,
    "start_time": "2023-02-21T08:05:55.217Z"
   },
   {
    "duration": 809,
    "start_time": "2023-02-21T08:05:55.483Z"
   },
   {
    "duration": 174,
    "start_time": "2023-02-21T08:05:56.294Z"
   },
   {
    "duration": 4,
    "start_time": "2023-02-21T08:05:56.470Z"
   },
   {
    "duration": 35,
    "start_time": "2023-02-21T08:05:56.476Z"
   },
   {
    "duration": 15,
    "start_time": "2023-02-21T08:05:56.513Z"
   },
   {
    "duration": 218,
    "start_time": "2023-02-21T08:05:56.530Z"
   },
   {
    "duration": 8,
    "start_time": "2023-02-21T08:05:56.750Z"
   },
   {
    "duration": 10386,
    "start_time": "2023-02-21T08:05:56.760Z"
   },
   {
    "duration": 11205,
    "start_time": "2023-02-21T08:06:07.149Z"
   },
   {
    "duration": 9,
    "start_time": "2023-02-21T08:06:18.444Z"
   },
   {
    "duration": 10263,
    "start_time": "2023-02-21T08:15:54.390Z"
   },
   {
    "duration": 153,
    "start_time": "2023-02-21T08:18:49.737Z"
   },
   {
    "duration": 34,
    "start_time": "2023-02-21T08:19:28.661Z"
   },
   {
    "duration": 24,
    "start_time": "2023-02-21T09:37:48.655Z"
   },
   {
    "duration": 9,
    "start_time": "2023-02-21T09:41:57.311Z"
   },
   {
    "duration": 9,
    "start_time": "2023-02-21T09:42:26.230Z"
   },
   {
    "duration": 10,
    "start_time": "2023-02-21T09:42:31.510Z"
   },
   {
    "duration": 9,
    "start_time": "2023-02-21T09:42:38.083Z"
   },
   {
    "duration": 10,
    "start_time": "2023-02-21T09:42:52.210Z"
   },
   {
    "duration": 11,
    "start_time": "2023-02-21T09:43:04.305Z"
   },
   {
    "duration": 10,
    "start_time": "2023-02-21T09:43:14.407Z"
   },
   {
    "duration": 11,
    "start_time": "2023-02-21T09:45:03.106Z"
   },
   {
    "duration": 2978,
    "start_time": "2023-02-21T09:46:23.821Z"
   },
   {
    "duration": 24,
    "start_time": "2023-02-21T09:46:36.646Z"
   },
   {
    "duration": 22,
    "start_time": "2023-02-21T09:46:47.539Z"
   },
   {
    "duration": 23,
    "start_time": "2023-02-21T09:47:31.684Z"
   },
   {
    "duration": 24,
    "start_time": "2023-02-21T09:47:51.612Z"
   },
   {
    "duration": 25,
    "start_time": "2023-02-21T09:48:13.018Z"
   },
   {
    "duration": 24,
    "start_time": "2023-02-21T09:48:32.756Z"
   },
   {
    "duration": 32,
    "start_time": "2023-02-21T09:48:37.429Z"
   },
   {
    "duration": 24,
    "start_time": "2023-02-21T09:51:16.927Z"
   },
   {
    "duration": 31,
    "start_time": "2023-02-21T09:52:56.782Z"
   },
   {
    "duration": 33,
    "start_time": "2023-02-21T09:53:09.971Z"
   },
   {
    "duration": 57,
    "start_time": "2023-02-21T09:55:24.485Z"
   },
   {
    "duration": 6032,
    "start_time": "2023-02-21T09:55:58.718Z"
   },
   {
    "duration": 8067,
    "start_time": "2023-02-21T09:57:16.580Z"
   },
   {
    "duration": 34,
    "start_time": "2023-02-21T09:58:20.185Z"
   },
   {
    "duration": 2992,
    "start_time": "2023-02-21T09:58:41.984Z"
   },
   {
    "duration": 18124,
    "start_time": "2023-02-21T09:59:31.847Z"
   },
   {
    "duration": 5289,
    "start_time": "2023-02-21T10:00:17.417Z"
   },
   {
    "duration": 7031,
    "start_time": "2023-02-21T10:00:34.205Z"
   },
   {
    "duration": 16532,
    "start_time": "2023-02-21T10:00:45.571Z"
   },
   {
    "duration": 21928,
    "start_time": "2023-02-21T10:01:29.462Z"
   },
   {
    "duration": 22279,
    "start_time": "2023-02-21T10:03:56.025Z"
   },
   {
    "duration": 46306,
    "start_time": "2023-02-21T10:04:29.929Z"
   },
   {
    "duration": 1443,
    "start_time": "2023-02-21T10:06:31.147Z"
   },
   {
    "duration": 46,
    "start_time": "2023-02-21T10:06:32.592Z"
   },
   {
    "duration": 3,
    "start_time": "2023-02-21T10:06:32.640Z"
   },
   {
    "duration": 267,
    "start_time": "2023-02-21T10:06:32.646Z"
   },
   {
    "duration": 817,
    "start_time": "2023-02-21T10:06:32.915Z"
   },
   {
    "duration": 159,
    "start_time": "2023-02-21T10:06:33.734Z"
   },
   {
    "duration": 4,
    "start_time": "2023-02-21T10:06:33.895Z"
   },
   {
    "duration": 25,
    "start_time": "2023-02-21T10:06:33.901Z"
   },
   {
    "duration": 22,
    "start_time": "2023-02-21T10:06:33.927Z"
   },
   {
    "duration": 96,
    "start_time": "2023-02-21T10:06:33.952Z"
   },
   {
    "duration": 103,
    "start_time": "2023-02-21T10:06:34.052Z"
   },
   {
    "duration": 6989,
    "start_time": "2023-02-21T10:06:34.158Z"
   },
   {
    "duration": 26916,
    "start_time": "2023-02-21T10:06:41.149Z"
   },
   {
    "duration": 11,
    "start_time": "2023-02-21T10:07:08.067Z"
   },
   {
    "duration": 18,
    "start_time": "2023-02-21T10:07:40.331Z"
   },
   {
    "duration": 2797,
    "start_time": "2023-02-21T10:24:04.142Z"
   },
   {
    "duration": 151,
    "start_time": "2023-02-21T10:24:06.941Z"
   },
   {
    "duration": 3,
    "start_time": "2023-02-21T10:24:07.094Z"
   },
   {
    "duration": 267,
    "start_time": "2023-02-21T10:26:28.859Z"
   },
   {
    "duration": 849,
    "start_time": "2023-02-21T10:27:02.498Z"
   },
   {
    "duration": 175,
    "start_time": "2023-02-21T10:27:03.349Z"
   },
   {
    "duration": 6,
    "start_time": "2023-02-21T10:27:38.519Z"
   },
   {
    "duration": 29,
    "start_time": "2023-02-21T10:27:39.593Z"
   },
   {
    "duration": 18,
    "start_time": "2023-02-21T10:29:18.804Z"
   },
   {
    "duration": 9569,
    "start_time": "2023-02-21T10:30:11.428Z"
   },
   {
    "duration": 1468,
    "start_time": "2023-02-21T12:36:17.077Z"
   },
   {
    "duration": 1322,
    "start_time": "2023-02-21T12:36:25.772Z"
   },
   {
    "duration": 5,
    "start_time": "2023-02-21T12:36:28.395Z"
   },
   {
    "duration": 124,
    "start_time": "2023-02-21T12:36:28.425Z"
   },
   {
    "duration": 2,
    "start_time": "2023-02-21T12:36:28.551Z"
   },
   {
    "duration": 215,
    "start_time": "2023-02-21T12:36:28.555Z"
   },
   {
    "duration": 716,
    "start_time": "2023-02-21T12:36:28.772Z"
   },
   {
    "duration": 137,
    "start_time": "2023-02-21T12:36:29.490Z"
   },
   {
    "duration": 3,
    "start_time": "2023-02-21T12:36:29.629Z"
   },
   {
    "duration": 34,
    "start_time": "2023-02-21T12:36:29.633Z"
   },
   {
    "duration": 11,
    "start_time": "2023-02-21T12:36:29.669Z"
   },
   {
    "duration": 8970,
    "start_time": "2023-02-21T12:36:29.681Z"
   },
   {
    "duration": 7406,
    "start_time": "2023-02-21T12:36:38.653Z"
   },
   {
    "duration": 23408,
    "start_time": "2023-02-21T12:36:46.061Z"
   },
   {
    "duration": 18,
    "start_time": "2023-02-21T12:37:09.470Z"
   },
   {
    "duration": 1362,
    "start_time": "2023-02-21T13:52:43.246Z"
   },
   {
    "duration": 46,
    "start_time": "2023-02-21T13:52:44.610Z"
   },
   {
    "duration": 3,
    "start_time": "2023-02-21T13:52:44.657Z"
   },
   {
    "duration": 212,
    "start_time": "2023-02-21T13:52:44.662Z"
   },
   {
    "duration": 752,
    "start_time": "2023-02-21T13:52:44.876Z"
   },
   {
    "duration": 177,
    "start_time": "2023-02-21T13:52:45.630Z"
   },
   {
    "duration": 4,
    "start_time": "2023-02-21T13:52:45.809Z"
   },
   {
    "duration": 19,
    "start_time": "2023-02-21T13:52:45.815Z"
   },
   {
    "duration": 20,
    "start_time": "2023-02-21T13:52:45.836Z"
   },
   {
    "duration": 7292,
    "start_time": "2023-02-21T13:52:45.859Z"
   },
   {
    "duration": 7001,
    "start_time": "2023-02-21T13:52:53.152Z"
   },
   {
    "duration": 23851,
    "start_time": "2023-02-21T13:53:00.160Z"
   },
   {
    "duration": 17,
    "start_time": "2023-02-21T13:53:24.012Z"
   },
   {
    "duration": 2131,
    "start_time": "2023-02-21T16:41:29.486Z"
   },
   {
    "duration": 213,
    "start_time": "2023-02-21T16:41:31.619Z"
   },
   {
    "duration": 3,
    "start_time": "2023-02-21T16:41:31.834Z"
   },
   {
    "duration": 351,
    "start_time": "2023-02-21T16:41:31.839Z"
   },
   {
    "duration": 921,
    "start_time": "2023-02-21T16:41:32.193Z"
   },
   {
    "duration": 174,
    "start_time": "2023-02-21T16:41:33.121Z"
   },
   {
    "duration": 5,
    "start_time": "2023-02-21T16:41:33.296Z"
   },
   {
    "duration": 38,
    "start_time": "2023-02-21T16:41:33.303Z"
   },
   {
    "duration": 14,
    "start_time": "2023-02-21T16:41:33.343Z"
   },
   {
    "duration": 9169,
    "start_time": "2023-02-21T16:41:33.359Z"
   },
   {
    "duration": 9088,
    "start_time": "2023-02-21T16:41:42.535Z"
   },
   {
    "duration": 5,
    "start_time": "2023-02-21T16:41:51.625Z"
   },
   {
    "duration": 27264,
    "start_time": "2023-02-21T16:41:51.634Z"
   },
   {
    "duration": 30,
    "start_time": "2023-02-21T16:42:18.901Z"
   },
   {
    "duration": 1453,
    "start_time": "2023-02-21T16:46:57.457Z"
   },
   {
    "duration": 47,
    "start_time": "2023-02-21T16:46:58.912Z"
   },
   {
    "duration": 11,
    "start_time": "2023-02-21T16:46:58.960Z"
   },
   {
    "duration": 3,
    "start_time": "2023-02-21T16:46:58.974Z"
   },
   {
    "duration": 10,
    "start_time": "2023-02-21T16:46:58.978Z"
   },
   {
    "duration": 249,
    "start_time": "2023-02-21T16:46:58.989Z"
   },
   {
    "duration": 794,
    "start_time": "2023-02-21T16:46:59.239Z"
   },
   {
    "duration": 173,
    "start_time": "2023-02-21T16:47:00.035Z"
   },
   {
    "duration": 5,
    "start_time": "2023-02-21T16:47:00.210Z"
   },
   {
    "duration": 23,
    "start_time": "2023-02-21T16:47:00.222Z"
   },
   {
    "duration": 40,
    "start_time": "2023-02-21T16:47:00.247Z"
   },
   {
    "duration": 5946,
    "start_time": "2023-02-21T16:47:00.289Z"
   },
   {
    "duration": 8216,
    "start_time": "2023-02-21T16:47:06.323Z"
   },
   {
    "duration": 4,
    "start_time": "2023-02-21T16:47:14.622Z"
   },
   {
    "duration": 25449,
    "start_time": "2023-02-21T16:47:14.629Z"
   },
   {
    "duration": 19,
    "start_time": "2023-02-21T16:47:40.080Z"
   },
   {
    "duration": 124,
    "start_time": "2023-02-21T16:56:49.570Z"
   },
   {
    "duration": 16,
    "start_time": "2023-02-21T16:56:53.966Z"
   },
   {
    "duration": 1643,
    "start_time": "2023-02-21T16:57:09.420Z"
   },
   {
    "duration": 51,
    "start_time": "2023-02-21T16:57:11.065Z"
   },
   {
    "duration": 12,
    "start_time": "2023-02-21T16:57:11.117Z"
   },
   {
    "duration": 4,
    "start_time": "2023-02-21T16:57:11.132Z"
   },
   {
    "duration": 7,
    "start_time": "2023-02-21T16:57:11.138Z"
   },
   {
    "duration": 241,
    "start_time": "2023-02-21T16:57:11.147Z"
   },
   {
    "duration": 812,
    "start_time": "2023-02-21T16:57:11.390Z"
   },
   {
    "duration": 161,
    "start_time": "2023-02-21T16:57:12.204Z"
   },
   {
    "duration": 0,
    "start_time": "2023-02-21T16:57:12.368Z"
   },
   {
    "duration": 0,
    "start_time": "2023-02-21T16:57:12.370Z"
   },
   {
    "duration": 0,
    "start_time": "2023-02-21T16:57:12.372Z"
   },
   {
    "duration": 0,
    "start_time": "2023-02-21T16:57:12.374Z"
   },
   {
    "duration": 0,
    "start_time": "2023-02-21T16:57:12.376Z"
   },
   {
    "duration": 0,
    "start_time": "2023-02-21T16:57:12.378Z"
   },
   {
    "duration": 0,
    "start_time": "2023-02-21T16:57:12.380Z"
   },
   {
    "duration": 0,
    "start_time": "2023-02-21T16:57:12.384Z"
   },
   {
    "duration": 0,
    "start_time": "2023-02-21T16:57:12.385Z"
   },
   {
    "duration": 228,
    "start_time": "2023-02-21T16:57:21.619Z"
   },
   {
    "duration": 792,
    "start_time": "2023-02-21T16:57:48.764Z"
   },
   {
    "duration": 655,
    "start_time": "2023-02-21T16:57:58.051Z"
   },
   {
    "duration": 229,
    "start_time": "2023-02-21T16:58:06.144Z"
   },
   {
    "duration": 752,
    "start_time": "2023-02-21T16:58:13.980Z"
   },
   {
    "duration": 376,
    "start_time": "2023-02-21T16:58:19.803Z"
   },
   {
    "duration": 797,
    "start_time": "2023-02-21T16:58:24.836Z"
   },
   {
    "duration": 18,
    "start_time": "2023-02-21T17:02:36.438Z"
   },
   {
    "duration": 1638,
    "start_time": "2023-02-21T17:02:54.145Z"
   },
   {
    "duration": 51,
    "start_time": "2023-02-21T17:02:55.786Z"
   },
   {
    "duration": 12,
    "start_time": "2023-02-21T17:02:55.839Z"
   },
   {
    "duration": 3,
    "start_time": "2023-02-21T17:02:55.853Z"
   },
   {
    "duration": 8,
    "start_time": "2023-02-21T17:02:55.858Z"
   },
   {
    "duration": 284,
    "start_time": "2023-02-21T17:02:55.868Z"
   },
   {
    "duration": 855,
    "start_time": "2023-02-21T17:02:56.154Z"
   },
   {
    "duration": 168,
    "start_time": "2023-02-21T17:02:57.011Z"
   },
   {
    "duration": 4,
    "start_time": "2023-02-21T17:02:57.182Z"
   },
   {
    "duration": 33,
    "start_time": "2023-02-21T17:02:57.188Z"
   },
   {
    "duration": 17,
    "start_time": "2023-02-21T17:02:57.222Z"
   },
   {
    "duration": 3883,
    "start_time": "2023-02-21T17:02:57.241Z"
   },
   {
    "duration": 6308,
    "start_time": "2023-02-21T17:03:01.127Z"
   },
   {
    "duration": 225,
    "start_time": "2023-02-21T17:03:07.524Z"
   },
   {
    "duration": 0,
    "start_time": "2023-02-21T17:03:07.751Z"
   },
   {
    "duration": 0,
    "start_time": "2023-02-21T17:03:07.755Z"
   },
   {
    "duration": 0,
    "start_time": "2023-02-21T17:03:07.756Z"
   },
   {
    "duration": 23,
    "start_time": "2023-02-21T17:03:55.327Z"
   },
   {
    "duration": 18,
    "start_time": "2023-02-21T17:04:36.246Z"
   },
   {
    "duration": 12,
    "start_time": "2023-02-21T17:13:26.467Z"
   },
   {
    "duration": 11,
    "start_time": "2023-02-21T17:15:35.635Z"
   },
   {
    "duration": 369,
    "start_time": "2023-02-21T17:17:33.970Z"
   },
   {
    "duration": 352,
    "start_time": "2023-02-21T17:20:10.308Z"
   },
   {
    "duration": 314,
    "start_time": "2023-02-21T17:21:40.483Z"
   },
   {
    "duration": 344,
    "start_time": "2023-02-21T17:23:25.836Z"
   },
   {
    "duration": 299,
    "start_time": "2023-02-21T17:23:51.195Z"
   },
   {
    "duration": 1582,
    "start_time": "2023-02-21T17:26:35.938Z"
   },
   {
    "duration": 1592,
    "start_time": "2023-02-21T17:27:29.869Z"
   },
   {
    "duration": 1408,
    "start_time": "2023-02-21T17:28:39.744Z"
   },
   {
    "duration": 47,
    "start_time": "2023-02-21T17:28:41.153Z"
   },
   {
    "duration": 10,
    "start_time": "2023-02-21T17:28:41.202Z"
   },
   {
    "duration": 34,
    "start_time": "2023-02-21T17:28:41.214Z"
   },
   {
    "duration": 19,
    "start_time": "2023-02-21T17:28:41.250Z"
   },
   {
    "duration": 262,
    "start_time": "2023-02-21T17:28:41.270Z"
   },
   {
    "duration": 821,
    "start_time": "2023-02-21T17:28:41.534Z"
   },
   {
    "duration": 163,
    "start_time": "2023-02-21T17:28:42.358Z"
   },
   {
    "duration": 7,
    "start_time": "2023-02-21T17:28:42.526Z"
   },
   {
    "duration": 37,
    "start_time": "2023-02-21T17:28:42.535Z"
   },
   {
    "duration": 14,
    "start_time": "2023-02-21T17:28:42.573Z"
   },
   {
    "duration": 5651,
    "start_time": "2023-02-21T17:28:42.589Z"
   },
   {
    "duration": 389,
    "start_time": "2023-02-21T17:28:48.323Z"
   },
   {
    "duration": 24990,
    "start_time": "2023-02-21T17:28:48.713Z"
   },
   {
    "duration": 1856,
    "start_time": "2023-02-21T17:29:13.705Z"
   },
   {
    "duration": 19,
    "start_time": "2023-02-21T17:29:15.563Z"
   },
   {
    "duration": 486,
    "start_time": "2023-02-21T17:30:52.517Z"
   },
   {
    "duration": 338,
    "start_time": "2023-02-21T17:31:11.070Z"
   },
   {
    "duration": 339,
    "start_time": "2023-02-21T17:31:36.750Z"
   },
   {
    "duration": 369,
    "start_time": "2023-02-21T17:31:51.711Z"
   },
   {
    "duration": 373,
    "start_time": "2023-02-21T17:37:35.633Z"
   },
   {
    "duration": 375,
    "start_time": "2023-02-21T17:39:10.713Z"
   },
   {
    "duration": 345,
    "start_time": "2023-02-21T17:39:20.072Z"
   },
   {
    "duration": 382,
    "start_time": "2023-02-21T17:39:41.103Z"
   },
   {
    "duration": 475,
    "start_time": "2023-02-21T17:40:00.944Z"
   },
   {
    "duration": 354,
    "start_time": "2023-02-21T17:40:08.649Z"
   },
   {
    "duration": 372,
    "start_time": "2023-02-21T17:41:07.513Z"
   },
   {
    "duration": 337,
    "start_time": "2023-02-21T17:41:11.476Z"
   },
   {
    "duration": 345,
    "start_time": "2023-02-21T17:41:46.258Z"
   },
   {
    "duration": 321,
    "start_time": "2023-02-21T17:42:43.483Z"
   },
   {
    "duration": 348,
    "start_time": "2023-02-21T17:43:46.674Z"
   },
   {
    "duration": 411,
    "start_time": "2023-02-21T17:44:11.313Z"
   },
   {
    "duration": 473,
    "start_time": "2023-02-21T17:45:11.914Z"
   },
   {
    "duration": 348,
    "start_time": "2023-02-21T17:45:21.897Z"
   },
   {
    "duration": 1645,
    "start_time": "2023-02-21T17:46:38.469Z"
   },
   {
    "duration": 1601,
    "start_time": "2023-02-21T17:46:50.148Z"
   },
   {
    "duration": 1542,
    "start_time": "2023-02-21T17:47:38.899Z"
   },
   {
    "duration": 1618,
    "start_time": "2023-02-21T17:48:08.284Z"
   },
   {
    "duration": 1531,
    "start_time": "2023-02-21T18:01:13.808Z"
   },
   {
    "duration": 53,
    "start_time": "2023-02-21T18:01:15.342Z"
   },
   {
    "duration": 11,
    "start_time": "2023-02-21T18:01:15.397Z"
   },
   {
    "duration": 2,
    "start_time": "2023-02-21T18:01:15.410Z"
   },
   {
    "duration": 9,
    "start_time": "2023-02-21T18:01:15.414Z"
   },
   {
    "duration": 256,
    "start_time": "2023-02-21T18:01:15.425Z"
   },
   {
    "duration": 789,
    "start_time": "2023-02-21T18:01:15.683Z"
   },
   {
    "duration": 171,
    "start_time": "2023-02-21T18:01:16.474Z"
   },
   {
    "duration": 4,
    "start_time": "2023-02-21T18:01:16.647Z"
   },
   {
    "duration": 13,
    "start_time": "2023-02-21T18:01:16.653Z"
   },
   {
    "duration": 10,
    "start_time": "2023-02-21T18:01:16.668Z"
   },
   {
    "duration": 1559,
    "start_time": "2023-02-21T18:01:16.680Z"
   },
   {
    "duration": 356,
    "start_time": "2023-02-21T18:01:18.244Z"
   },
   {
    "duration": 9434,
    "start_time": "2023-02-21T18:01:18.603Z"
   },
   {
    "duration": 615,
    "start_time": "2023-02-21T18:01:28.039Z"
   },
   {
    "duration": 19,
    "start_time": "2023-02-21T18:01:28.656Z"
   },
   {
    "duration": 334,
    "start_time": "2023-02-21T18:02:35.175Z"
   },
   {
    "duration": 672,
    "start_time": "2023-02-21T18:03:00.560Z"
   },
   {
    "duration": 651,
    "start_time": "2023-02-21T18:03:38.474Z"
   },
   {
    "duration": 703,
    "start_time": "2023-02-21T18:03:56.816Z"
   },
   {
    "duration": 658,
    "start_time": "2023-02-21T18:04:03.889Z"
   },
   {
    "duration": 330,
    "start_time": "2023-02-21T18:05:05.672Z"
   },
   {
    "duration": 361,
    "start_time": "2023-02-21T18:05:32.243Z"
   },
   {
    "duration": 1591,
    "start_time": "2023-02-22T06:46:08.490Z"
   },
   {
    "duration": 124,
    "start_time": "2023-02-22T06:46:10.083Z"
   },
   {
    "duration": 13,
    "start_time": "2023-02-22T06:46:10.208Z"
   },
   {
    "duration": 14,
    "start_time": "2023-02-22T06:46:10.224Z"
   },
   {
    "duration": 24,
    "start_time": "2023-02-22T06:46:10.239Z"
   },
   {
    "duration": 296,
    "start_time": "2023-02-22T06:46:10.264Z"
   },
   {
    "duration": 845,
    "start_time": "2023-02-22T06:46:10.561Z"
   },
   {
    "duration": 170,
    "start_time": "2023-02-22T06:46:11.409Z"
   },
   {
    "duration": 4,
    "start_time": "2023-02-22T06:46:11.581Z"
   },
   {
    "duration": 12,
    "start_time": "2023-02-22T06:46:11.588Z"
   },
   {
    "duration": 13,
    "start_time": "2023-02-22T06:46:11.602Z"
   },
   {
    "duration": 1556,
    "start_time": "2023-02-22T06:46:11.616Z"
   },
   {
    "duration": 358,
    "start_time": "2023-02-22T06:46:13.174Z"
   },
   {
    "duration": 8669,
    "start_time": "2023-02-22T06:46:13.534Z"
   },
   {
    "duration": 662,
    "start_time": "2023-02-22T06:46:22.205Z"
   },
   {
    "duration": 123,
    "start_time": "2023-02-22T06:46:22.869Z"
   },
   {
    "duration": 0,
    "start_time": "2023-02-22T06:46:22.994Z"
   },
   {
    "duration": 661,
    "start_time": "2023-02-22T06:47:03.818Z"
   },
   {
    "duration": 720,
    "start_time": "2023-02-22T06:47:19.689Z"
   },
   {
    "duration": 624,
    "start_time": "2023-02-22T06:47:34.979Z"
   },
   {
    "duration": 5,
    "start_time": "2023-02-22T06:55:51.864Z"
   },
   {
    "duration": 9,
    "start_time": "2023-02-22T06:55:59.698Z"
   },
   {
    "duration": 5,
    "start_time": "2023-02-22T06:56:05.146Z"
   },
   {
    "duration": 5,
    "start_time": "2023-02-22T06:56:34.789Z"
   },
   {
    "duration": 460,
    "start_time": "2023-02-22T07:00:20.564Z"
   },
   {
    "duration": 644,
    "start_time": "2023-02-22T07:00:27.173Z"
   },
   {
    "duration": 16,
    "start_time": "2023-02-22T07:06:59.023Z"
   },
   {
    "duration": 138,
    "start_time": "2023-02-22T07:07:20.489Z"
   },
   {
    "duration": 133,
    "start_time": "2023-02-22T07:08:32.489Z"
   },
   {
    "duration": 125,
    "start_time": "2023-02-22T07:09:59.336Z"
   },
   {
    "duration": 20,
    "start_time": "2023-02-22T07:10:14.494Z"
   },
   {
    "duration": 225,
    "start_time": "2023-02-22T07:10:18.925Z"
   },
   {
    "duration": 135,
    "start_time": "2023-02-22T07:12:09.474Z"
   },
   {
    "duration": 147,
    "start_time": "2023-02-22T07:12:23.523Z"
   },
   {
    "duration": 147,
    "start_time": "2023-02-22T07:13:54.819Z"
   },
   {
    "duration": 147,
    "start_time": "2023-02-22T07:14:38.752Z"
   },
   {
    "duration": 185,
    "start_time": "2023-02-22T07:19:46.760Z"
   },
   {
    "duration": 250,
    "start_time": "2023-02-22T07:20:02.349Z"
   },
   {
    "duration": 220,
    "start_time": "2023-02-22T07:23:55.525Z"
   },
   {
    "duration": 208,
    "start_time": "2023-02-22T07:24:16.525Z"
   },
   {
    "duration": 207,
    "start_time": "2023-02-22T07:24:24.884Z"
   },
   {
    "duration": 222,
    "start_time": "2023-02-22T07:24:29.230Z"
   },
   {
    "duration": 184,
    "start_time": "2023-02-22T07:24:42.181Z"
   },
   {
    "duration": 238,
    "start_time": "2023-02-22T07:24:45.781Z"
   },
   {
    "duration": 201,
    "start_time": "2023-02-22T07:26:58.550Z"
   },
   {
    "duration": 201,
    "start_time": "2023-02-22T07:27:38.231Z"
   },
   {
    "duration": 55,
    "start_time": "2023-02-22T07:35:29.257Z"
   },
   {
    "duration": 136,
    "start_time": "2023-02-22T07:37:17.053Z"
   },
   {
    "duration": 363,
    "start_time": "2023-02-22T07:37:30.758Z"
   },
   {
    "duration": 224,
    "start_time": "2023-02-22T07:38:24.482Z"
   },
   {
    "duration": 217,
    "start_time": "2023-02-22T07:38:44.908Z"
   },
   {
    "duration": 222,
    "start_time": "2023-02-22T07:38:52.875Z"
   },
   {
    "duration": 212,
    "start_time": "2023-02-22T07:39:42.307Z"
   },
   {
    "duration": 705,
    "start_time": "2023-02-22T07:40:02.922Z"
   },
   {
    "duration": 219,
    "start_time": "2023-02-22T07:40:05.482Z"
   },
   {
    "duration": 200,
    "start_time": "2023-02-22T07:40:16.063Z"
   },
   {
    "duration": 207,
    "start_time": "2023-02-22T07:41:07.013Z"
   },
   {
    "duration": 202,
    "start_time": "2023-02-22T07:41:28.357Z"
   },
   {
    "duration": 131,
    "start_time": "2023-02-22T07:41:39.013Z"
   },
   {
    "duration": 235,
    "start_time": "2023-02-22T07:41:41.428Z"
   },
   {
    "duration": 193,
    "start_time": "2023-02-22T07:42:15.669Z"
   },
   {
    "duration": 201,
    "start_time": "2023-02-22T07:42:19.531Z"
   },
   {
    "duration": 300,
    "start_time": "2023-02-22T07:42:22.587Z"
   },
   {
    "duration": 200,
    "start_time": "2023-02-22T07:42:47.093Z"
   },
   {
    "duration": 220,
    "start_time": "2023-02-22T07:42:50.859Z"
   },
   {
    "duration": 790,
    "start_time": "2023-02-22T07:55:48.965Z"
   },
   {
    "duration": 727,
    "start_time": "2023-02-22T07:56:14.766Z"
   },
   {
    "duration": 16,
    "start_time": "2023-02-22T07:57:03.304Z"
   },
   {
    "duration": 151,
    "start_time": "2023-02-22T07:57:12.426Z"
   },
   {
    "duration": 154,
    "start_time": "2023-02-22T07:57:22.270Z"
   },
   {
    "duration": 146,
    "start_time": "2023-02-22T07:57:30.075Z"
   },
   {
    "duration": 212,
    "start_time": "2023-02-22T07:58:07.097Z"
   },
   {
    "duration": 207,
    "start_time": "2023-02-22T07:58:39.884Z"
   },
   {
    "duration": 242,
    "start_time": "2023-02-22T07:58:50.089Z"
   },
   {
    "duration": 184,
    "start_time": "2023-02-22T07:58:59.265Z"
   },
   {
    "duration": 2,
    "start_time": "2023-02-22T08:48:22.659Z"
   },
   {
    "duration": 5,
    "start_time": "2023-02-22T08:48:28.387Z"
   },
   {
    "duration": 4,
    "start_time": "2023-02-22T08:48:37.669Z"
   },
   {
    "duration": 5,
    "start_time": "2023-02-22T08:48:45.805Z"
   },
   {
    "duration": 5,
    "start_time": "2023-02-22T08:49:15.093Z"
   },
   {
    "duration": 5,
    "start_time": "2023-02-22T08:49:18.717Z"
   },
   {
    "duration": 11,
    "start_time": "2023-02-22T08:49:22.323Z"
   },
   {
    "duration": 10,
    "start_time": "2023-02-22T08:49:28.070Z"
   },
   {
    "duration": 4,
    "start_time": "2023-02-22T08:49:46.529Z"
   },
   {
    "duration": 5,
    "start_time": "2023-02-22T08:49:51.146Z"
   },
   {
    "duration": 4,
    "start_time": "2023-02-22T08:49:55.055Z"
   },
   {
    "duration": 10,
    "start_time": "2023-02-22T08:49:58.134Z"
   },
   {
    "duration": 5,
    "start_time": "2023-02-22T08:50:03.828Z"
   },
   {
    "duration": 3,
    "start_time": "2023-02-22T08:50:34.477Z"
   },
   {
    "duration": 5,
    "start_time": "2023-02-22T08:51:43.601Z"
   },
   {
    "duration": 5,
    "start_time": "2023-02-22T08:56:59.521Z"
   },
   {
    "duration": 5,
    "start_time": "2023-02-22T08:57:37.624Z"
   },
   {
    "duration": 5,
    "start_time": "2023-02-22T08:57:38.550Z"
   },
   {
    "duration": 6,
    "start_time": "2023-02-22T08:57:39.566Z"
   },
   {
    "duration": 7,
    "start_time": "2023-02-22T08:57:40.520Z"
   },
   {
    "duration": 3,
    "start_time": "2023-02-22T08:57:41.819Z"
   },
   {
    "duration": 713,
    "start_time": "2023-02-22T09:23:06.032Z"
   },
   {
    "duration": 4,
    "start_time": "2023-02-22T09:23:40.827Z"
   },
   {
    "duration": 706,
    "start_time": "2023-02-22T09:25:49.737Z"
   },
   {
    "duration": 704,
    "start_time": "2023-02-22T09:26:08.694Z"
   },
   {
    "duration": 811,
    "start_time": "2023-02-22T09:42:37.572Z"
   },
   {
    "duration": 703,
    "start_time": "2023-02-22T09:43:22.220Z"
   },
   {
    "duration": 711,
    "start_time": "2023-02-22T09:43:41.499Z"
   },
   {
    "duration": 732,
    "start_time": "2023-02-22T09:44:23.195Z"
   },
   {
    "duration": 718,
    "start_time": "2023-02-22T09:44:33.037Z"
   },
   {
    "duration": 15,
    "start_time": "2023-02-22T09:49:59.426Z"
   },
   {
    "duration": 5,
    "start_time": "2023-02-22T09:50:07.580Z"
   },
   {
    "duration": 6,
    "start_time": "2023-02-22T09:50:52.694Z"
   },
   {
    "duration": 5,
    "start_time": "2023-02-22T09:51:16.175Z"
   },
   {
    "duration": 23,
    "start_time": "2023-02-22T09:52:01.736Z"
   },
   {
    "duration": 15,
    "start_time": "2023-02-22T09:52:28.825Z"
   },
   {
    "duration": 220,
    "start_time": "2023-02-22T09:53:06.271Z"
   },
   {
    "duration": 211,
    "start_time": "2023-02-22T09:54:27.781Z"
   },
   {
    "duration": 6,
    "start_time": "2023-02-22T09:54:46.297Z"
   },
   {
    "duration": 5,
    "start_time": "2023-02-22T09:54:55.773Z"
   },
   {
    "duration": 140,
    "start_time": "2023-02-22T09:55:25.762Z"
   },
   {
    "duration": 206,
    "start_time": "2023-02-22T09:55:38.170Z"
   },
   {
    "duration": 332,
    "start_time": "2023-02-22T09:56:14.340Z"
   },
   {
    "duration": 259,
    "start_time": "2023-02-22T09:56:28.738Z"
   },
   {
    "duration": 259,
    "start_time": "2023-02-22T09:56:54.215Z"
   },
   {
    "duration": 261,
    "start_time": "2023-02-22T10:00:04.691Z"
   },
   {
    "duration": 248,
    "start_time": "2023-02-22T10:00:11.689Z"
   },
   {
    "duration": 351,
    "start_time": "2023-02-22T10:34:12.375Z"
   },
   {
    "duration": 238,
    "start_time": "2023-02-22T10:53:56.648Z"
   },
   {
    "duration": 241,
    "start_time": "2023-02-22T10:54:05.389Z"
   },
   {
    "duration": 97,
    "start_time": "2023-02-22T10:54:13.957Z"
   },
   {
    "duration": 248,
    "start_time": "2023-02-22T10:54:17.703Z"
   },
   {
    "duration": 238,
    "start_time": "2023-02-22T10:54:45.607Z"
   },
   {
    "duration": 245,
    "start_time": "2023-02-22T10:54:54.205Z"
   },
   {
    "duration": 238,
    "start_time": "2023-02-22T10:55:11.808Z"
   },
   {
    "duration": 247,
    "start_time": "2023-02-22T11:00:41.920Z"
   },
   {
    "duration": 295,
    "start_time": "2023-02-22T11:01:50.297Z"
   },
   {
    "duration": 257,
    "start_time": "2023-02-22T11:04:04.763Z"
   },
   {
    "duration": 253,
    "start_time": "2023-02-22T11:04:11.585Z"
   },
   {
    "duration": 259,
    "start_time": "2023-02-22T11:05:20.764Z"
   },
   {
    "duration": 365,
    "start_time": "2023-02-22T11:06:10.898Z"
   },
   {
    "duration": 254,
    "start_time": "2023-02-22T11:06:23.867Z"
   },
   {
    "duration": 8,
    "start_time": "2023-02-22T11:08:37.889Z"
   },
   {
    "duration": 6,
    "start_time": "2023-02-22T11:08:55.273Z"
   },
   {
    "duration": 261,
    "start_time": "2023-02-22T11:11:35.868Z"
   },
   {
    "duration": 208,
    "start_time": "2023-02-22T11:12:35.934Z"
   },
   {
    "duration": 242,
    "start_time": "2023-02-22T11:12:43.698Z"
   },
   {
    "duration": 247,
    "start_time": "2023-02-22T11:12:49.854Z"
   },
   {
    "duration": 219,
    "start_time": "2023-02-22T11:14:31.259Z"
   },
   {
    "duration": 282,
    "start_time": "2023-02-22T11:16:35.322Z"
   },
   {
    "duration": 254,
    "start_time": "2023-02-22T11:34:41.559Z"
   },
   {
    "duration": 255,
    "start_time": "2023-02-22T11:34:47.602Z"
   },
   {
    "duration": 251,
    "start_time": "2023-02-22T11:36:19.044Z"
   },
   {
    "duration": 257,
    "start_time": "2023-02-22T11:36:27.564Z"
   },
   {
    "duration": 394,
    "start_time": "2023-02-22T11:36:31.715Z"
   },
   {
    "duration": 267,
    "start_time": "2023-02-22T11:36:36.489Z"
   },
   {
    "duration": 106,
    "start_time": "2023-02-22T11:36:53.468Z"
   },
   {
    "duration": 245,
    "start_time": "2023-02-22T11:36:56.655Z"
   },
   {
    "duration": 96,
    "start_time": "2023-02-22T11:37:03.762Z"
   },
   {
    "duration": 118,
    "start_time": "2023-02-22T11:37:06.961Z"
   },
   {
    "duration": 250,
    "start_time": "2023-02-22T11:37:10.823Z"
   },
   {
    "duration": 101,
    "start_time": "2023-02-22T11:37:28.916Z"
   },
   {
    "duration": 90,
    "start_time": "2023-02-22T11:37:32.966Z"
   },
   {
    "duration": 94,
    "start_time": "2023-02-22T11:37:36.479Z"
   },
   {
    "duration": 94,
    "start_time": "2023-02-22T11:37:39.838Z"
   },
   {
    "duration": 91,
    "start_time": "2023-02-22T11:37:42.619Z"
   },
   {
    "duration": 211,
    "start_time": "2023-02-22T11:37:44.536Z"
   },
   {
    "duration": 90,
    "start_time": "2023-02-22T11:37:48.616Z"
   },
   {
    "duration": 95,
    "start_time": "2023-02-22T11:37:51.887Z"
   },
   {
    "duration": 256,
    "start_time": "2023-02-22T11:37:56.286Z"
   },
   {
    "duration": 251,
    "start_time": "2023-02-22T11:38:09.818Z"
   },
   {
    "duration": 94,
    "start_time": "2023-02-22T11:43:43.262Z"
   },
   {
    "duration": 91,
    "start_time": "2023-02-22T11:43:47.314Z"
   },
   {
    "duration": 291,
    "start_time": "2023-02-22T11:43:51.273Z"
   },
   {
    "duration": 282,
    "start_time": "2023-02-22T11:44:15.305Z"
   },
   {
    "duration": 248,
    "start_time": "2023-02-22T11:44:53.567Z"
   },
   {
    "duration": 252,
    "start_time": "2023-02-22T11:44:58.421Z"
   },
   {
    "duration": 250,
    "start_time": "2023-02-22T11:45:02.727Z"
   },
   {
    "duration": 373,
    "start_time": "2023-02-22T11:45:08.958Z"
   },
   {
    "duration": 250,
    "start_time": "2023-02-22T11:45:18.014Z"
   },
   {
    "duration": 255,
    "start_time": "2023-02-22T11:45:25.486Z"
   },
   {
    "duration": 265,
    "start_time": "2023-02-22T11:45:29.742Z"
   },
   {
    "duration": 249,
    "start_time": "2023-02-22T11:45:35.880Z"
   },
   {
    "duration": 254,
    "start_time": "2023-02-22T11:45:42.513Z"
   },
   {
    "duration": 284,
    "start_time": "2023-02-22T11:47:07.759Z"
   },
   {
    "duration": 6,
    "start_time": "2023-02-22T11:47:13.826Z"
   },
   {
    "duration": 321,
    "start_time": "2023-02-22T11:47:20.542Z"
   },
   {
    "duration": 254,
    "start_time": "2023-02-22T11:47:35.873Z"
   },
   {
    "duration": 11,
    "start_time": "2023-02-22T12:45:08.656Z"
   },
   {
    "duration": 5,
    "start_time": "2023-02-22T12:46:56.160Z"
   },
   {
    "duration": 49,
    "start_time": "2023-02-22T12:47:05.789Z"
   },
   {
    "duration": 56,
    "start_time": "2023-02-22T12:47:09.797Z"
   },
   {
    "duration": 714,
    "start_time": "2023-02-22T12:47:13.663Z"
   },
   {
    "duration": 10,
    "start_time": "2023-02-22T12:47:19.805Z"
   },
   {
    "duration": 11,
    "start_time": "2023-02-22T12:48:40.310Z"
   },
   {
    "duration": 9,
    "start_time": "2023-02-22T12:48:51.920Z"
   },
   {
    "duration": 7,
    "start_time": "2023-02-22T12:48:57.972Z"
   },
   {
    "duration": 7,
    "start_time": "2023-02-22T12:49:08.859Z"
   },
   {
    "duration": 169,
    "start_time": "2023-02-22T12:51:34.856Z"
   },
   {
    "duration": 199,
    "start_time": "2023-02-22T12:51:50.621Z"
   },
   {
    "duration": 13,
    "start_time": "2023-02-22T12:54:09.219Z"
   },
   {
    "duration": 11,
    "start_time": "2023-02-22T12:55:04.620Z"
   },
   {
    "duration": 194,
    "start_time": "2023-02-22T12:55:29.051Z"
   },
   {
    "duration": 14,
    "start_time": "2023-02-22T12:57:38.928Z"
   },
   {
    "duration": 6,
    "start_time": "2023-02-22T12:57:52.401Z"
   },
   {
    "duration": 5,
    "start_time": "2023-02-22T12:58:05.001Z"
   },
   {
    "duration": 5,
    "start_time": "2023-02-22T12:58:14.967Z"
   },
   {
    "duration": 5,
    "start_time": "2023-02-22T12:58:19.747Z"
   },
   {
    "duration": 17,
    "start_time": "2023-02-22T13:00:23.769Z"
   },
   {
    "duration": 9,
    "start_time": "2023-02-22T13:00:34.866Z"
   },
   {
    "duration": 25,
    "start_time": "2023-02-22T13:00:49.401Z"
   },
   {
    "duration": 11,
    "start_time": "2023-02-22T13:02:50.867Z"
   },
   {
    "duration": 16,
    "start_time": "2023-02-22T13:04:00.778Z"
   },
   {
    "duration": 6,
    "start_time": "2023-02-22T13:05:01.356Z"
   },
   {
    "duration": 5,
    "start_time": "2023-02-22T13:05:19.615Z"
   },
   {
    "duration": 6,
    "start_time": "2023-02-22T13:05:23.667Z"
   },
   {
    "duration": 11,
    "start_time": "2023-02-22T13:06:24.195Z"
   },
   {
    "duration": 846,
    "start_time": "2023-02-22T13:06:34.801Z"
   },
   {
    "duration": 11,
    "start_time": "2023-02-22T13:06:47.580Z"
   },
   {
    "duration": 236,
    "start_time": "2023-02-22T13:13:37.025Z"
   },
   {
    "duration": 383,
    "start_time": "2023-02-22T13:14:32.427Z"
   },
   {
    "duration": 283,
    "start_time": "2023-02-22T13:20:12.138Z"
   },
   {
    "duration": 267,
    "start_time": "2023-02-22T13:20:50.199Z"
   },
   {
    "duration": 236,
    "start_time": "2023-02-22T13:21:41.831Z"
   },
   {
    "duration": 260,
    "start_time": "2023-02-22T13:23:06.369Z"
   },
   {
    "duration": 325,
    "start_time": "2023-02-22T13:23:15.905Z"
   },
   {
    "duration": 295,
    "start_time": "2023-02-22T13:23:19.961Z"
   },
   {
    "duration": 263,
    "start_time": "2023-02-22T13:23:26.720Z"
   },
   {
    "duration": 256,
    "start_time": "2023-02-22T13:24:25.804Z"
   },
   {
    "duration": 264,
    "start_time": "2023-02-22T13:25:24.249Z"
   },
   {
    "duration": 269,
    "start_time": "2023-02-22T13:26:11.219Z"
   },
   {
    "duration": 387,
    "start_time": "2023-02-22T13:26:26.505Z"
   },
   {
    "duration": 252,
    "start_time": "2023-02-22T13:27:08.771Z"
   },
   {
    "duration": 256,
    "start_time": "2023-02-22T13:27:17.875Z"
   }
  ],
  "kernelspec": {
   "display_name": "Python 3 (ipykernel)",
   "language": "python",
   "name": "python3"
  },
  "language_info": {
   "codemirror_mode": {
    "name": "ipython",
    "version": 3
   },
   "file_extension": ".py",
   "mimetype": "text/x-python",
   "name": "python",
   "nbconvert_exporter": "python",
   "pygments_lexer": "ipython3",
   "version": "3.9.13"
  },
  "toc": {
   "base_numbering": 1,
   "nav_menu": {},
   "number_sections": true,
   "sideBar": true,
   "skip_h1_title": true,
   "title_cell": "Содержание",
   "title_sidebar": "Contents",
   "toc_cell": true,
   "toc_position": {
    "height": "calc(100% - 180px)",
    "left": "10px",
    "top": "150px",
    "width": "165px"
   },
   "toc_section_display": true,
   "toc_window_display": true
  }
 },
 "nbformat": 4,
 "nbformat_minor": 2
}
