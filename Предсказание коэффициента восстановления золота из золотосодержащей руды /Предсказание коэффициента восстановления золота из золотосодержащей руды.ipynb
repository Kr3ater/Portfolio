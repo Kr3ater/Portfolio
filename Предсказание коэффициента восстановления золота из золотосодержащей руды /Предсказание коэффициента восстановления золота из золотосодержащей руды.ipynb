{
 "cells": [
  {
   "cell_type": "markdown",
   "metadata": {
    "toc": true
   },
   "source": [
    "<h1>Содержание<span class=\"tocSkip\"></span></h1>\n",
    "<div class=\"toc\"><ul class=\"toc-item\"><li><span><a href=\"#Описание-данных\" data-toc-modified-id=\"Описание-данных-1\"><span class=\"toc-item-num\">1&nbsp;&nbsp;</span>Описание данных</a></span><ul class=\"toc-item\"><li><span><a href=\"#Целевые-признаки\" data-toc-modified-id=\"Целевые-признаки-1.1\"><span class=\"toc-item-num\">1.1&nbsp;&nbsp;</span>Целевые признаки</a></span></li></ul></li><li><span><a href=\"#Подготовка-данных\" data-toc-modified-id=\"Подготовка-данных-2\"><span class=\"toc-item-num\">2&nbsp;&nbsp;</span>Подготовка данных</a></span><ul class=\"toc-item\"><li><ul class=\"toc-item\"><li><span><a href=\"#Импортируем-библиотеки\" data-toc-modified-id=\"Импортируем-библиотеки-2.0.1\"><span class=\"toc-item-num\">2.0.1&nbsp;&nbsp;</span>Импортируем библиотеки</a></span></li><li><span><a href=\"#Импортируем-датафеймы\" data-toc-modified-id=\"Импортируем-датафеймы-2.0.2\"><span class=\"toc-item-num\">2.0.2&nbsp;&nbsp;</span>Импортируем датафеймы</a></span></li><li><span><a href=\"#Изучим-данные\" data-toc-modified-id=\"Изучим-данные-2.0.3\"><span class=\"toc-item-num\">2.0.3&nbsp;&nbsp;</span>Изучим данные</a></span></li><li><span><a href=\"#Заменим-пропуски\" data-toc-modified-id=\"Заменим-пропуски-2.0.4\"><span class=\"toc-item-num\">2.0.4&nbsp;&nbsp;</span>Заменим пропуски</a></span></li><li><span><a href=\"#Удалим-аномальные-признаки\" data-toc-modified-id=\"Удалим-аномальные-признаки-2.0.5\"><span class=\"toc-item-num\">2.0.5&nbsp;&nbsp;</span>Удалим аномальные признаки</a></span></li></ul></li><li><span><a href=\"#Проверим,-что-эффективность-обогащения-рассчитана-правильно\" data-toc-modified-id=\"Проверим,-что-эффективность-обогащения-рассчитана-правильно-2.1\"><span class=\"toc-item-num\">2.1&nbsp;&nbsp;</span>Проверим, что эффективность обогащения рассчитана правильно</a></span></li><li><span><a href=\"#Проанализируем-признаки,-недоступные-в-тестовой-выборке\" data-toc-modified-id=\"Проанализируем-признаки,-недоступные-в-тестовой-выборке-2.2\"><span class=\"toc-item-num\">2.2&nbsp;&nbsp;</span>Проанализируем признаки, недоступные в тестовой выборке</a></span></li><li><span><a href=\"#Разделение-датайрейма-на-выборки\" data-toc-modified-id=\"Разделение-датайрейма-на-выборки-2.3\"><span class=\"toc-item-num\">2.3&nbsp;&nbsp;</span>Разделение датайрейма на выборки</a></span><ul class=\"toc-item\"><li><ul class=\"toc-item\"><li><span><a href=\"#Обучающие-выборки\" data-toc-modified-id=\"Обучающие-выборки-2.3.0.1\"><span class=\"toc-item-num\">2.3.0.1&nbsp;&nbsp;</span>Обучающие выборки</a></span></li><li><span><a href=\"#Тестовые-выборки\" data-toc-modified-id=\"Тестовые-выборки-2.3.0.2\"><span class=\"toc-item-num\">2.3.0.2&nbsp;&nbsp;</span>Тестовые выборки</a></span></li></ul></li></ul></li></ul></li><li><span><a href=\"#Анализ-данных\" data-toc-modified-id=\"Анализ-данных-3\"><span class=\"toc-item-num\">3&nbsp;&nbsp;</span>Анализ данных</a></span><ul class=\"toc-item\"><li><span><a href=\"#Исследуем-изменение-концентрации-элементов-на-каждом-этапе\" data-toc-modified-id=\"Исследуем-изменение-концентрации-элементов-на-каждом-этапе-3.1\"><span class=\"toc-item-num\">3.1&nbsp;&nbsp;</span>Исследуем изменение концентрации элементов на каждом этапе</a></span><ul class=\"toc-item\"><li><span><a href=\"#Ag\" data-toc-modified-id=\"Ag-3.1.1\"><span class=\"toc-item-num\">3.1.1&nbsp;&nbsp;</span>Ag</a></span></li><li><span><a href=\"#Pb\" data-toc-modified-id=\"Pb-3.1.2\"><span class=\"toc-item-num\">3.1.2&nbsp;&nbsp;</span>Pb</a></span></li><li><span><a href=\"#Au\" data-toc-modified-id=\"Au-3.1.3\"><span class=\"toc-item-num\">3.1.3&nbsp;&nbsp;</span>Au</a></span></li></ul></li><li><span><a href=\"#Сравним-распределения-размеров-гранул-сырья-на-обучающей-и-тестовой-выборках\" data-toc-modified-id=\"Сравним-распределения-размеров-гранул-сырья-на-обучающей-и-тестовой-выборках-3.2\"><span class=\"toc-item-num\">3.2&nbsp;&nbsp;</span>Сравним распределения размеров гранул сырья на обучающей и тестовой выборках</a></span><ul class=\"toc-item\"><li><span><a href=\"#Rougher-input\" data-toc-modified-id=\"Rougher-input-3.2.1\"><span class=\"toc-item-num\">3.2.1&nbsp;&nbsp;</span>Rougher input</a></span></li><li><span><a href=\"#Primary-cleaner\" data-toc-modified-id=\"Primary-cleaner-3.2.2\"><span class=\"toc-item-num\">3.2.2&nbsp;&nbsp;</span>Primary cleaner</a></span></li></ul></li><li><span><a href=\"#Исследуем-суммарные-концентрации-всех-веществ-на-разных-стадиях\" data-toc-modified-id=\"Исследуем-суммарные-концентрации-всех-веществ-на-разных-стадиях-3.3\"><span class=\"toc-item-num\">3.3&nbsp;&nbsp;</span>Исследуем суммарные концентрации всех веществ на разных стадиях</a></span><ul class=\"toc-item\"><li><span><a href=\"#Избавление-от-аномальных-признаков\" data-toc-modified-id=\"Избавление-от-аномальных-признаков-3.3.1\"><span class=\"toc-item-num\">3.3.1&nbsp;&nbsp;</span>Избавление от аномальных признаков</a></span></li></ul></li><li><span><a href=\"#Проведем-предобработку-данных\" data-toc-modified-id=\"Проведем-предобработку-данных-3.4\"><span class=\"toc-item-num\">3.4&nbsp;&nbsp;</span>Проведем предобработку данных</a></span><ul class=\"toc-item\"><li><span><a href=\"#Удалим-неинформативные-признаки\" data-toc-modified-id=\"Удалим-неинформативные-признаки-3.4.1\"><span class=\"toc-item-num\">3.4.1&nbsp;&nbsp;</span>Удалим неинформативные признаки</a></span></li></ul></li></ul></li><li><span><a href=\"#Модель\" data-toc-modified-id=\"Модель-4\"><span class=\"toc-item-num\">4&nbsp;&nbsp;</span>Модель</a></span><ul class=\"toc-item\"><li><span><a href=\"#Напишем-функцию-для-вычисления-итоговой-sMAPE\" data-toc-modified-id=\"Напишем-функцию-для-вычисления-итоговой-sMAPE-4.1\"><span class=\"toc-item-num\">4.1&nbsp;&nbsp;</span>Напишем функцию для вычисления итоговой sMAPE</a></span></li><li><span><a href=\"#Напишем-scorer\" data-toc-modified-id=\"Напишем-scorer-4.2\"><span class=\"toc-item-num\">4.2&nbsp;&nbsp;</span>Напишем scorer</a></span></li><li><span><a href=\"#Вычислим-лучшие-параметры-для-rougher\" data-toc-modified-id=\"Вычислим-лучшие-параметры-для-rougher-4.3\"><span class=\"toc-item-num\">4.3&nbsp;&nbsp;</span>Вычислим лучшие параметры для rougher</a></span><ul class=\"toc-item\"><li><span><a href=\"#RandomForestRegressor\" data-toc-modified-id=\"RandomForestRegressor-4.3.1\"><span class=\"toc-item-num\">4.3.1&nbsp;&nbsp;</span>RandomForestRegressor</a></span></li><li><span><a href=\"#LinearRegression\" data-toc-modified-id=\"LinearRegression-4.3.2\"><span class=\"toc-item-num\">4.3.2&nbsp;&nbsp;</span>LinearRegression</a></span></li></ul></li><li><span><a href=\"#Вычислим-лучшие-параметры-для-final\" data-toc-modified-id=\"Вычислим-лучшие-параметры-для-final-4.4\"><span class=\"toc-item-num\">4.4&nbsp;&nbsp;</span>Вычислим лучшие параметры для final</a></span><ul class=\"toc-item\"><li><span><a href=\"#RandomForestRegressor\" data-toc-modified-id=\"RandomForestRegressor-4.4.1\"><span class=\"toc-item-num\">4.4.1&nbsp;&nbsp;</span>RandomForestRegressor</a></span></li><li><span><a href=\"#LinearRegression\" data-toc-modified-id=\"LinearRegression-4.4.2\"><span class=\"toc-item-num\">4.4.2&nbsp;&nbsp;</span>LinearRegression</a></span></li></ul></li><li><span><a href=\"#Проверим-значение-лучших-моделей-на-тестовой-выборке\" data-toc-modified-id=\"Проверим-значение-лучших-моделей-на-тестовой-выборке-4.5\"><span class=\"toc-item-num\">4.5&nbsp;&nbsp;</span>Проверим значение лучших моделей на тестовой выборке</a></span><ul class=\"toc-item\"><li><span><a href=\"#Для-rougher\" data-toc-modified-id=\"Для-rougher-4.5.1\"><span class=\"toc-item-num\">4.5.1&nbsp;&nbsp;</span>Для rougher</a></span></li><li><span><a href=\"#Для-final\" data-toc-modified-id=\"Для-final-4.5.2\"><span class=\"toc-item-num\">4.5.2&nbsp;&nbsp;</span>Для final</a></span></li></ul></li><li><span><a href=\"#Посчитаем-итоговое-значение-sMAPE\" data-toc-modified-id=\"Посчитаем-итоговое-значение-sMAPE-4.6\"><span class=\"toc-item-num\">4.6&nbsp;&nbsp;</span>Посчитаем итоговое значение sMAPE</a></span></li><li><span><a href=\"#Сравним-модель-с-константной-моделью\" data-toc-modified-id=\"Сравним-модель-с-константной-моделью-4.7\"><span class=\"toc-item-num\">4.7&nbsp;&nbsp;</span>Сравним модель с константной моделью</a></span><ul class=\"toc-item\"><li><span><a href=\"#Для-rougher\" data-toc-modified-id=\"Для-rougher-4.7.1\"><span class=\"toc-item-num\">4.7.1&nbsp;&nbsp;</span>Для rougher</a></span></li><li><span><a href=\"#Для-final\" data-toc-modified-id=\"Для-final-4.7.2\"><span class=\"toc-item-num\">4.7.2&nbsp;&nbsp;</span>Для final</a></span></li></ul></li></ul></li><li><span><a href=\"#Вывод\" data-toc-modified-id=\"Вывод-5\"><span class=\"toc-item-num\">5&nbsp;&nbsp;</span>Вывод</a></span></li><li><span><a href=\"#Чек-лист-готовности-проекта\" data-toc-modified-id=\"Чек-лист-готовности-проекта-6\"><span class=\"toc-item-num\">6&nbsp;&nbsp;</span>Чек-лист готовности проекта</a></span></li></ul></div>"
   ]
  },
  {
   "cell_type": "markdown",
   "metadata": {},
   "source": [
    "# Восстановление золота из руды"
   ]
  },
  {
   "cell_type": "markdown",
   "metadata": {},
   "source": [
    "Подготовьте прототип модели машинного обучения для «Цифры». Компания разрабатывает решения для эффективной работы промышленных предприятий.\n",
    "\n",
    "Модель должна предсказать коэффициент восстановления золота из золотосодержащей руды. Используйте данные с параметрами добычи и очистки. \n",
    "\n",
    "Модель поможет оптимизировать производство, чтобы не запускать предприятие с убыточными характеристиками.\n",
    "\n",
    "Вам нужно:\n",
    "\n",
    "1. Подготовить данные;\n",
    "2. Провести исследовательский анализ данных;\n",
    "3. Построить и обучить модель.\n",
    "\n",
    "Чтобы выполнить проект, обращайтесь к библиотекам *pandas*, *matplotlib* и *sklearn.* Вам поможет их документация."
   ]
  },
  {
   "cell_type": "markdown",
   "metadata": {},
   "source": [
    "## Описание данных"
   ]
  },
  {
   "cell_type": "markdown",
   "metadata": {},
   "source": [
    "Наименование признаков должно быть такое:\n",
    "\n",
    "[этап].[тип_параметра].[название_параметра]\n",
    "\n",
    "Пример: rougher.input.feed_ag\n",
    "\n",
    "Возможные значения для блока [этап]:\n",
    "\n",
    "    rougher — флотация\n",
    "    primary_cleaner — первичная очистка\n",
    "    secondary_cleaner — вторичная очистка\n",
    "    final — финальные характеристики\n",
    "    \n",
    "Возможные значения для блока [тип_параметра]:\n",
    "\n",
    "    input — параметры сырья\n",
    "    output — параметры продукта\n",
    "    state — параметры, характеризующие текущее состояние этапа\n",
    "    calculation — расчётные характеристики\n",
    "    \n",
    "Возможные значения для блока [название_параметра]:\n",
    "\n",
    "\n",
    "Описание данных\n",
    "Технологический процесс\n",
    "\n",
    "    Rougher feed — исходное сырье\n",
    "    \n",
    "    Rougher additions (или reagent additions) — флотационные реагенты: Xanthate, Sulphate, Depressant\n",
    "        Xanthate **— ксантогенат (промотер, или активатор флотации);\n",
    "        Sulphate — сульфат (на данном производстве сульфид натрия);\n",
    "        Depressant — депрессант (силикат натрия).\n",
    "        \n",
    "    Rougher process (англ. «грубый процесс») — флотация\n",
    "    \n",
    "    Rougher tails — отвальные хвосты\n",
    "    \n",
    "    Float banks — флотационная установка\n",
    "    \n",
    "    Cleaner process — очистка\n",
    "    \n",
    "    Rougher Au — черновой концентрат золота\n",
    "    \n",
    "    Final Au — финальный концентрат золота\n",
    "\n",
    "Параметры этапов\n",
    "\n",
    "    air amount — объём воздуха\n",
    "    fluid levels — уровень жидкости\n",
    "    feed size — размер гранул сырья\n",
    "    feed rate — скорость подачи\n",
    "\n",
    "\n",
    "\n",
    "\n",
    "    concentrate_ag\n",
    "    concentrate_pb\n",
    "    concentrate_sol\n",
    "    concentrate_au\n",
    "    \n",
    "    recovery\n",
    "    \n",
    "    tail_ag\n",
    "    tail_pb\n",
    "    tail_sol\n",
    "    tail_au\n",
    "    \n",
    "    sulfate\n",
    "    depressant\n",
    "    feed_size\n",
    "    xanthate\n",
    "    \n",
    "    floatbank8_a_level\n",
    "    floatbank8_b_air\n",
    "    floatbank8_b_air\n",
    "\n",
    "    floatbank8_b_level\n",
    "    floatbank8_c_air \n",
    "    floatbank8_c_level \n",
    "    floatbank8_d_air  \n",
    "    floatbank8_d_level\n",
    "\n",
    "    sulfate_to_au_concentrate\n",
    "\n",
    "    floatbank10_sulfate_to_au_feed\n",
    "    floatbank11_sulfate_to_au_feed\n",
    "    \n",
    "    au_pb_ratio\n",
    "\n",
    "    feed_ag\n",
    "    feed_pb \n",
    "    feed_rate\n",
    "    feed_size\n",
    "    feed_sol\n",
    "    feed_au \n",
    "\n",
    "    floatbank10_sulfate \n",
    "    floatbank10_xanthate\n",
    "    floatbank11_sulfate\n",
    "    floatbank11_xanthate \n",
    "    \n",
    "    floatbank10_a_air\n",
    "    floatbank10_a_level\n",
    "    floatbank10_b_air \n",
    "    floatbank10_b_level \n",
    "    floatbank10_c_air  \n",
    "    floatbank10_c_level\n",
    "    floatbank10_d_air  \n",
    "    floatbank10_d_level\n",
    "    floatbank10_e_air\n",
    "    floatbank10_e_level\n",
    "    floatbank10_f_air \n",
    "    floatbank10_f_level\n",
    "    \n",
    "    floatbank2_a_air \n",
    "    floatbank2_a_level\n",
    "    floatbank2_b_air \n",
    "    floatbank2_b_level \n",
    "    \n",
    "    floatbank3_a_air \n",
    "    floatbank3_a_level\n",
    "    floatbank3_b_air  \n",
    "    floatbank3_b_level\n",
    "    \n",
    "    floatbank4_a_air \n",
    "    floatbank4_a_level\n",
    "    floatbank4_b_air\n",
    "    floatbank4_b_level\n",
    "    \n",
    "    floatbank5_a_air\n",
    "    floatbank5_a_level\n",
    "    floatbank5_b_air \n",
    "    floatbank5_b_level\n",
    "    \n",
    "    floatbank6_a_air \n",
    "    floatbank6_a_level "
   ]
  },
  {
   "cell_type": "markdown",
   "metadata": {},
   "source": [
    "### Целевые признаки"
   ]
  },
  {
   "cell_type": "markdown",
   "metadata": {},
   "source": [
    "Нужно спрогнозировать сразу две величины:\n",
    "\n",
    "    эффективность обогащения чернового концентрата rougher.output.recovery;\n",
    "    эффективность обогащения финального концентрата final.output.recovery"
   ]
  },
  {
   "cell_type": "markdown",
   "metadata": {},
   "source": [
    "## Подготовка данных"
   ]
  },
  {
   "cell_type": "markdown",
   "metadata": {},
   "source": [
    "#### Импортируем библиотеки"
   ]
  },
  {
   "cell_type": "code",
   "execution_count": 1,
   "metadata": {},
   "outputs": [],
   "source": [
    "import pandas as pd\n",
    "from sklearn.metrics import mean_absolute_error\n",
    "from sklearn.preprocessing import StandardScaler \n",
    "import matplotlib.pyplot as plt\n",
    "import seaborn as sns\n",
    "\n",
    "from sklearn.metrics import fbeta_score, make_scorer\n",
    "from sklearn.model_selection import cross_val_score\n",
    "import numpy as np\n",
    "from sklearn.ensemble import RandomForestRegressor\n",
    "from sklearn.linear_model import LinearRegression\n",
    "from sklearn.model_selection import GridSearchCV\n",
    "\n",
    "import warnings\n",
    "warnings.filterwarnings('ignore')\n"
   ]
  },
  {
   "cell_type": "markdown",
   "metadata": {},
   "source": [
    "#### Импортируем датафеймы"
   ]
  },
  {
   "cell_type": "code",
   "execution_count": 2,
   "metadata": {},
   "outputs": [],
   "source": [
    "train = pd.read_csv('/datasets/gold_recovery_train_new.csv')\n",
    "test = pd.read_csv('/datasets/gold_recovery_test_new.csv')\n",
    "full = pd.read_csv('/datasets/gold_recovery_full_new.csv')"
   ]
  },
  {
   "cell_type": "markdown",
   "metadata": {},
   "source": [
    "#### Изучим данные"
   ]
  },
  {
   "cell_type": "code",
   "execution_count": 3,
   "metadata": {
    "scrolled": true
   },
   "outputs": [
    {
     "name": "stdout",
     "output_type": "stream",
     "text": [
      "<class 'pandas.core.frame.DataFrame'>\n",
      "RangeIndex: 19439 entries, 0 to 19438\n",
      "Data columns (total 87 columns):\n",
      " #   Column                                              Non-Null Count  Dtype  \n",
      "---  ------                                              --------------  -----  \n",
      " 0   date                                                19439 non-null  object \n",
      " 1   final.output.concentrate_ag                         19438 non-null  float64\n",
      " 2   final.output.concentrate_pb                         19438 non-null  float64\n",
      " 3   final.output.concentrate_sol                        19228 non-null  float64\n",
      " 4   final.output.concentrate_au                         19439 non-null  float64\n",
      " 5   final.output.recovery                               19439 non-null  float64\n",
      " 6   final.output.tail_ag                                19438 non-null  float64\n",
      " 7   final.output.tail_pb                                19338 non-null  float64\n",
      " 8   final.output.tail_sol                               19433 non-null  float64\n",
      " 9   final.output.tail_au                                19439 non-null  float64\n",
      " 10  primary_cleaner.input.sulfate                       19415 non-null  float64\n",
      " 11  primary_cleaner.input.depressant                    19402 non-null  float64\n",
      " 12  primary_cleaner.input.feed_size                     19439 non-null  float64\n",
      " 13  primary_cleaner.input.xanthate                      19335 non-null  float64\n",
      " 14  primary_cleaner.output.concentrate_ag               19439 non-null  float64\n",
      " 15  primary_cleaner.output.concentrate_pb               19323 non-null  float64\n",
      " 16  primary_cleaner.output.concentrate_sol              19069 non-null  float64\n",
      " 17  primary_cleaner.output.concentrate_au               19439 non-null  float64\n",
      " 18  primary_cleaner.output.tail_ag                      19435 non-null  float64\n",
      " 19  primary_cleaner.output.tail_pb                      19418 non-null  float64\n",
      " 20  primary_cleaner.output.tail_sol                     19377 non-null  float64\n",
      " 21  primary_cleaner.output.tail_au                      19439 non-null  float64\n",
      " 22  primary_cleaner.state.floatbank8_a_air              19435 non-null  float64\n",
      " 23  primary_cleaner.state.floatbank8_a_level            19438 non-null  float64\n",
      " 24  primary_cleaner.state.floatbank8_b_air              19435 non-null  float64\n",
      " 25  primary_cleaner.state.floatbank8_b_level            19438 non-null  float64\n",
      " 26  primary_cleaner.state.floatbank8_c_air              19437 non-null  float64\n",
      " 27  primary_cleaner.state.floatbank8_c_level            19438 non-null  float64\n",
      " 28  primary_cleaner.state.floatbank8_d_air              19436 non-null  float64\n",
      " 29  primary_cleaner.state.floatbank8_d_level            19438 non-null  float64\n",
      " 30  rougher.calculation.sulfate_to_au_concentrate       19437 non-null  float64\n",
      " 31  rougher.calculation.floatbank10_sulfate_to_au_feed  19437 non-null  float64\n",
      " 32  rougher.calculation.floatbank11_sulfate_to_au_feed  19437 non-null  float64\n",
      " 33  rougher.calculation.au_pb_ratio                     19439 non-null  float64\n",
      " 34  rougher.input.feed_ag                               19439 non-null  float64\n",
      " 35  rougher.input.feed_pb                               19339 non-null  float64\n",
      " 36  rougher.input.feed_rate                             19428 non-null  float64\n",
      " 37  rougher.input.feed_size                             19294 non-null  float64\n",
      " 38  rougher.input.feed_sol                              19340 non-null  float64\n",
      " 39  rougher.input.feed_au                               19439 non-null  float64\n",
      " 40  rougher.input.floatbank10_sulfate                   19405 non-null  float64\n",
      " 41  rougher.input.floatbank10_xanthate                  19431 non-null  float64\n",
      " 42  rougher.input.floatbank11_sulfate                   19395 non-null  float64\n",
      " 43  rougher.input.floatbank11_xanthate                  18986 non-null  float64\n",
      " 44  rougher.output.concentrate_ag                       19439 non-null  float64\n",
      " 45  rougher.output.concentrate_pb                       19439 non-null  float64\n",
      " 46  rougher.output.concentrate_sol                      19416 non-null  float64\n",
      " 47  rougher.output.concentrate_au                       19439 non-null  float64\n",
      " 48  rougher.output.recovery                             19439 non-null  float64\n",
      " 49  rougher.output.tail_ag                              19438 non-null  float64\n",
      " 50  rougher.output.tail_pb                              19439 non-null  float64\n",
      " 51  rougher.output.tail_sol                             19439 non-null  float64\n",
      " 52  rougher.output.tail_au                              19439 non-null  float64\n",
      " 53  rougher.state.floatbank10_a_air                     19438 non-null  float64\n",
      " 54  rougher.state.floatbank10_a_level                   19438 non-null  float64\n",
      " 55  rougher.state.floatbank10_b_air                     19438 non-null  float64\n",
      " 56  rougher.state.floatbank10_b_level                   19438 non-null  float64\n",
      " 57  rougher.state.floatbank10_c_air                     19438 non-null  float64\n",
      " 58  rougher.state.floatbank10_c_level                   19438 non-null  float64\n",
      " 59  rougher.state.floatbank10_d_air                     19439 non-null  float64\n",
      " 60  rougher.state.floatbank10_d_level                   19439 non-null  float64\n",
      " 61  rougher.state.floatbank10_e_air                     19003 non-null  float64\n",
      " 62  rougher.state.floatbank10_e_level                   19439 non-null  float64\n",
      " 63  rougher.state.floatbank10_f_air                     19439 non-null  float64\n",
      " 64  rougher.state.floatbank10_f_level                   19439 non-null  float64\n",
      " 65  secondary_cleaner.output.tail_ag                    19437 non-null  float64\n",
      " 66  secondary_cleaner.output.tail_pb                    19427 non-null  float64\n",
      " 67  secondary_cleaner.output.tail_sol                   17691 non-null  float64\n",
      " 68  secondary_cleaner.output.tail_au                    19439 non-null  float64\n",
      " 69  secondary_cleaner.state.floatbank2_a_air            19219 non-null  float64\n",
      " 70  secondary_cleaner.state.floatbank2_a_level          19438 non-null  float64\n",
      " 71  secondary_cleaner.state.floatbank2_b_air            19416 non-null  float64\n",
      " 72  secondary_cleaner.state.floatbank2_b_level          19438 non-null  float64\n",
      " 73  secondary_cleaner.state.floatbank3_a_air            19426 non-null  float64\n",
      " 74  secondary_cleaner.state.floatbank3_a_level          19438 non-null  float64\n",
      " 75  secondary_cleaner.state.floatbank3_b_air            19438 non-null  float64\n",
      " 76  secondary_cleaner.state.floatbank3_b_level          19438 non-null  float64\n",
      " 77  secondary_cleaner.state.floatbank4_a_air            19433 non-null  float64\n",
      " 78  secondary_cleaner.state.floatbank4_a_level          19438 non-null  float64\n",
      " 79  secondary_cleaner.state.floatbank4_b_air            19438 non-null  float64\n",
      " 80  secondary_cleaner.state.floatbank4_b_level          19438 non-null  float64\n",
      " 81  secondary_cleaner.state.floatbank5_a_air            19438 non-null  float64\n",
      " 82  secondary_cleaner.state.floatbank5_a_level          19438 non-null  float64\n",
      " 83  secondary_cleaner.state.floatbank5_b_air            19438 non-null  float64\n",
      " 84  secondary_cleaner.state.floatbank5_b_level          19438 non-null  float64\n",
      " 85  secondary_cleaner.state.floatbank6_a_air            19437 non-null  float64\n",
      " 86  secondary_cleaner.state.floatbank6_a_level          19438 non-null  float64\n",
      "dtypes: float64(86), object(1)\n",
      "memory usage: 12.9+ MB\n"
     ]
    }
   ],
   "source": [
    "full.info()"
   ]
  },
  {
   "cell_type": "code",
   "execution_count": 4,
   "metadata": {},
   "outputs": [
    {
     "data": {
      "text/plain": [
       "0        70.541216\n",
       "1        69.266198\n",
       "2        68.116445\n",
       "3        68.347543\n",
       "4        66.927016\n",
       "           ...    \n",
       "19434    73.755150\n",
       "19435    69.049291\n",
       "19436    67.002189\n",
       "19437    65.523246\n",
       "19438    70.281454\n",
       "Name: final.output.recovery, Length: 19439, dtype: float64"
      ]
     },
     "execution_count": 4,
     "metadata": {},
     "output_type": "execute_result"
    }
   ],
   "source": [
    "full['final.output.recovery']\n",
    "#final.output.recovery\n",
    "#rougher.output.recovery"
   ]
  },
  {
   "cell_type": "markdown",
   "metadata": {},
   "source": [
    "#### Заменим пропуски"
   ]
  },
  {
   "cell_type": "code",
   "execution_count": 5,
   "metadata": {
    "scrolled": false
   },
   "outputs": [
    {
     "name": "stdout",
     "output_type": "stream",
     "text": [
      "train: наибольшее количество пропусков в столбцах: 1605, всего пропусков в датафрейме: 4100\n",
      "test: наибольшее количество пропусков в столбцах: 25, всего пропусков в датафрейме: 90\n",
      "full: наибольшее количество пропусков в столбцах: 1748, всего пропусков в датафрейме: 4481\n"
     ]
    }
   ],
   "source": [
    "print(f\"train: наибольшее количество пропусков в столбцах: {train.isna().sum().max()}, всего пропусков в датафрейме: {train.isna().sum().sum()}\")\n",
    "print(f\"test: наибольшее количество пропусков в столбцах: {test.isna().sum().max()}, всего пропусков в датафрейме: {test.isna().sum().sum()}\")\n",
    "print(f\"full: наибольшее количество пропусков в столбцах: {full.isna().sum().max()}, всего пропусков в датафрейме: {full.isna().sum().sum()}\")"
   ]
  },
  {
   "cell_type": "markdown",
   "metadata": {},
   "source": [
    "Заменим пропуски на ближайшее значение, так как в условии сказано, что ближайшие друг к другу строки имеют похожие значения"
   ]
  },
  {
   "cell_type": "code",
   "execution_count": 6,
   "metadata": {},
   "outputs": [],
   "source": [
    "train = train.fillna(method='bfill')\n",
    "test = test.fillna(method='bfill')\n",
    "full = full.fillna(method='bfill')"
   ]
  },
  {
   "cell_type": "code",
   "execution_count": 7,
   "metadata": {},
   "outputs": [
    {
     "name": "stdout",
     "output_type": "stream",
     "text": [
      "0\n",
      "0\n",
      "0\n"
     ]
    }
   ],
   "source": [
    "print(train.isna().sum().sum())\n",
    "print(test.isna().sum().sum())\n",
    "print(full.isna().sum().sum())"
   ]
  },
  {
   "cell_type": "markdown",
   "metadata": {},
   "source": [
    "#### Удалим аномальные признаки"
   ]
  },
  {
   "cell_type": "code",
   "execution_count": 8,
   "metadata": {},
   "outputs": [],
   "source": [
    "\n",
    "full['rougher.input.feed_sum']\\\n",
    "= full['rougher.input.feed_au']\\\n",
    "+ full['rougher.input.feed_ag']\\\n",
    "+ full['rougher.input.feed_pb']\\\n",
    "+ full['rougher.input.feed_sol']\n",
    "\n",
    "full['rougher.output.concentrate_sum']\\\n",
    "= full['rougher.output.concentrate_au']\\\n",
    "+ full['rougher.output.concentrate_ag']\\\n",
    "+ full['rougher.output.concentrate_pb']\\\n",
    "+ full['rougher.output.concentrate_sol']\n",
    "\n",
    "full['primary_cleaner.output.concentrate_sum']\\\n",
    "= full['primary_cleaner.output.concentrate_au']\\\n",
    "+ full['primary_cleaner.output.concentrate_ag']\\\n",
    "+ full['primary_cleaner.output.concentrate_pb']\\\n",
    "+ full['primary_cleaner.output.concentrate_sol']\n",
    "\n",
    "full['final.output.concentrate_sum']\\\n",
    "= full['final.output.concentrate_au']\\\n",
    "+ full['final.output.concentrate_ag']\\\n",
    "+ full['final.output.concentrate_pb']\\\n",
    "+ full['final.output.concentrate_sol']\n",
    "\n",
    "\n",
    "for col in ['rougher.input.feed_sum', 'rougher.output.concentrate_sum', 'primary_cleaner.output.concentrate_sum', 'final.output.concentrate_sum']:\n",
    "    full = full[full[col]>0]\n",
    "\n",
    "train = train.set_index('date', drop=False)\n",
    "full = full.set_index('date', drop=False)\n",
    "train = train.loc[train.index.isin(full.index)]"
   ]
  },
  {
   "cell_type": "code",
   "execution_count": 9,
   "metadata": {},
   "outputs": [],
   "source": [
    "train = train.reset_index(drop=True)\n",
    "full = full.reset_index(drop=True)"
   ]
  },
  {
   "cell_type": "markdown",
   "metadata": {},
   "source": [
    "### Проверим, что эффективность обогащения рассчитана правильно"
   ]
  },
  {
   "cell_type": "markdown",
   "metadata": {},
   "source": [
    "создадим столбец 'recovery' расчета эффективности обогащения и посчитаем значение rougher.output.recovery для обучающего датафрейма"
   ]
  },
  {
   "cell_type": "code",
   "execution_count": 10,
   "metadata": {},
   "outputs": [],
   "source": [
    "train['recovery'] = ((train['rougher.output.concentrate_au'] * (train['rougher.input.feed_au'] - \\\n",
    "train['rougher.output.tail_au'])) / (train['rougher.input.feed_au'] * (train['rougher.output.concentrate_au'] - \\\n",
    "train['rougher.output.tail_au']))) * 100"
   ]
  },
  {
   "cell_type": "markdown",
   "metadata": {},
   "source": [
    "посчитаем mae для посчитанной rougher.output.recovery в функции и rougher.output.recovery в тренировочном датафрейме"
   ]
  },
  {
   "cell_type": "code",
   "execution_count": 11,
   "metadata": {},
   "outputs": [
    {
     "data": {
      "text/plain": [
       "84.5086997722899"
      ]
     },
     "execution_count": 11,
     "metadata": {},
     "output_type": "execute_result"
    }
   ],
   "source": [
    "train['rougher.output.recovery'].mean()"
   ]
  },
  {
   "cell_type": "code",
   "execution_count": 12,
   "metadata": {},
   "outputs": [
    {
     "name": "stdout",
     "output_type": "stream",
     "text": [
      "9.9406093556995e-15\n"
     ]
    }
   ],
   "source": [
    "print(mean_absolute_error(train['rougher.output.recovery'], train['recovery']))"
   ]
  },
  {
   "cell_type": "code",
   "execution_count": 13,
   "metadata": {},
   "outputs": [
    {
     "name": "stdout",
     "output_type": "stream",
     "text": [
      "8.495475364240967\n"
     ]
    }
   ],
   "source": [
    "print(82.70450164550293 / 9.73512347450521)"
   ]
  },
  {
   "cell_type": "markdown",
   "metadata": {},
   "source": [
    "В среднем мы ошибаемся на 9 единиц. Это где-то 8.5% от среднего значения recovery по всему столбцу. Много это или мало я ответить затрудняюсь, но отличие от исходного датафрейма явно присутствуют"
   ]
  },
  {
   "cell_type": "markdown",
   "metadata": {},
   "source": [
    "### Проанализируем признаки, недоступные в тестовой выборке"
   ]
  },
  {
   "cell_type": "markdown",
   "metadata": {},
   "source": [
    "В тренировочной выборке удалим столбцы, отсутствующие в тестовой выборке"
   ]
  },
  {
   "cell_type": "code",
   "execution_count": 14,
   "metadata": {},
   "outputs": [],
   "source": [
    "train_drop = train.drop(train.columns.difference(test.columns), axis=1)"
   ]
  },
  {
   "cell_type": "code",
   "execution_count": 15,
   "metadata": {},
   "outputs": [
    {
     "data": {
      "text/plain": [
       "Index(['final.output.concentrate_ag', 'final.output.concentrate_au',\n",
       "       'final.output.concentrate_pb', 'final.output.concentrate_sol',\n",
       "       'final.output.recovery', 'final.output.tail_ag', 'final.output.tail_au',\n",
       "       'final.output.tail_pb', 'final.output.tail_sol',\n",
       "       'primary_cleaner.output.concentrate_ag',\n",
       "       'primary_cleaner.output.concentrate_au',\n",
       "       'primary_cleaner.output.concentrate_pb',\n",
       "       'primary_cleaner.output.concentrate_sol',\n",
       "       'primary_cleaner.output.tail_ag', 'primary_cleaner.output.tail_au',\n",
       "       'primary_cleaner.output.tail_pb', 'primary_cleaner.output.tail_sol',\n",
       "       'recovery', 'rougher.calculation.au_pb_ratio',\n",
       "       'rougher.calculation.floatbank10_sulfate_to_au_feed',\n",
       "       'rougher.calculation.floatbank11_sulfate_to_au_feed',\n",
       "       'rougher.calculation.sulfate_to_au_concentrate',\n",
       "       'rougher.output.concentrate_ag', 'rougher.output.concentrate_au',\n",
       "       'rougher.output.concentrate_pb', 'rougher.output.concentrate_sol',\n",
       "       'rougher.output.recovery', 'rougher.output.tail_ag',\n",
       "       'rougher.output.tail_au', 'rougher.output.tail_pb',\n",
       "       'rougher.output.tail_sol', 'secondary_cleaner.output.tail_ag',\n",
       "       'secondary_cleaner.output.tail_au', 'secondary_cleaner.output.tail_pb',\n",
       "       'secondary_cleaner.output.tail_sol'],\n",
       "      dtype='object')"
      ]
     },
     "execution_count": 15,
     "metadata": {},
     "output_type": "execute_result"
    }
   ],
   "source": [
    "train.columns.difference(test.columns)"
   ]
  },
  {
   "cell_type": "markdown",
   "metadata": {},
   "source": [
    "Почти все отсутствующие признаки - это признаки параметра output. Понятно, почему, эти признаки отсутствуют в тестовом датасете. Параметр продукта расчитываются позже, для применения модели, обученнной на таких признаках, придется ждать их появления. И до этого мы не сможем использовать модель"
   ]
  },
  {
   "cell_type": "markdown",
   "metadata": {},
   "source": [
    "### Разделение датайрейма на выборки"
   ]
  },
  {
   "cell_type": "markdown",
   "metadata": {},
   "source": [
    "Создаем две переменных для таргетов тестовой выборки rougher.output.recovery и final.output.recovery, подтягивая их из full по индексам"
   ]
  },
  {
   "cell_type": "code",
   "execution_count": 16,
   "metadata": {},
   "outputs": [],
   "source": [
    "data_merge = full[['date', 'rougher.output.recovery', 'final.output.recovery']]\n",
    "\n",
    "target_train_m = train_drop.merge(data_merge, on='date', how='left') # обучающая переменная для создания целевых признаков\n",
    "target_test_m = test.merge(data_merge, on='date', how='left') # тестовая переменная для создания целевых признаков"
   ]
  },
  {
   "cell_type": "markdown",
   "metadata": {},
   "source": [
    "##### Обучающие выборки"
   ]
  },
  {
   "cell_type": "markdown",
   "metadata": {},
   "source": [
    "Создадим две переменные для обучающих выборок, соответствующих целевым признакам"
   ]
  },
  {
   "cell_type": "code",
   "execution_count": 17,
   "metadata": {},
   "outputs": [],
   "source": [
    "features_train_rougher = target_train_m.drop(columns=['final.output.recovery', 'rougher.output.recovery'], axis=1)\n",
    "features_train_final = target_train_m.drop(columns=['final.output.recovery', 'rougher.output.recovery'], axis=1)"
   ]
  },
  {
   "cell_type": "markdown",
   "metadata": {},
   "source": [
    "Создаем две переменных для таргетов обучающей выборки rougher.output.recovery и final.output.recovery"
   ]
  },
  {
   "cell_type": "code",
   "execution_count": 18,
   "metadata": {},
   "outputs": [],
   "source": [
    "target_train_rougher = target_train_m['rougher.output.recovery']\n",
    "target_train_final = target_train_m['final.output.recovery']"
   ]
  },
  {
   "cell_type": "markdown",
   "metadata": {},
   "source": [
    "##### Тестовые выборки"
   ]
  },
  {
   "cell_type": "markdown",
   "metadata": {},
   "source": [
    "Создадим две переменные для тестовых выборок, соответствующих целевым признакам"
   ]
  },
  {
   "cell_type": "code",
   "execution_count": 19,
   "metadata": {},
   "outputs": [],
   "source": [
    "features_test_rougher = target_test_m.drop(columns=['final.output.recovery', 'rougher.output.recovery'], axis=1)\n",
    "features_test_final = target_test_m.drop(columns=['final.output.recovery', 'rougher.output.recovery'], axis=1)"
   ]
  },
  {
   "cell_type": "markdown",
   "metadata": {},
   "source": [
    "Создадим две переменные для целевых признаков тестовой выборки"
   ]
  },
  {
   "cell_type": "code",
   "execution_count": 20,
   "metadata": {},
   "outputs": [],
   "source": [
    "target_test_rougher = target_test_m['rougher.output.recovery']\n",
    "target_test_final = target_test_m['final.output.recovery']"
   ]
  },
  {
   "cell_type": "markdown",
   "metadata": {},
   "source": [
    "## Анализ данных"
   ]
  },
  {
   "cell_type": "markdown",
   "metadata": {},
   "source": [
    "### Исследуем изменение концентрации элементов на каждом этапе"
   ]
  },
  {
   "cell_type": "markdown",
   "metadata": {},
   "source": [
    "#### Ag"
   ]
  },
  {
   "cell_type": "code",
   "execution_count": 21,
   "metadata": {
    "scrolled": false
   },
   "outputs": [
    {
     "data": {
      "image/png": "[encoded data removed]",
      "text/plain": [
       "<Figure size 1040x800 with 1 Axes>"
      ]
     },
     "metadata": {
      "needs_background": "light"
     },
     "output_type": "display_data"
    }
   ],
   "source": [
    "# Draw Plot\n",
    "plt.figure(figsize=(13,10), dpi= 80)\n",
    "sns.distplot(full['rougher.input.feed_ag'], color=\"r\", label=\"rougher.input.feed\", hist_kws={'alpha':.7}, kde_kws={'linewidth':3})\n",
    "sns.distplot(full['rougher.output.concentrate_ag'], color=\"orange\", label=\"rougher.output.concentrate\", hist_kws={'alpha':.7}, kde_kws={'linewidth':3})\n",
    "sns.distplot(full['primary_cleaner.output.concentrate_ag'], color=\"g\", label=\"primary_cleaner.output.concentrate\", hist_kws={'alpha':.7}, kde_kws={'linewidth':3})\n",
    "sns.distplot(full['final.output.concentrate_ag'], color=\"dodgerblue\", label=\"final.output.concentrate\", hist_kws={'alpha':.7}, kde_kws={'linewidth':3})\n",
    "plt.ylim(0, 0.35)\n",
    "\n",
    "# Decoration\n",
    "plt.title('Ag', fontsize=22)\n",
    "plt.legend()\n",
    "plt.show()"
   ]
  },
  {
   "cell_type": "markdown",
   "metadata": {},
   "source": [
    "После флотации концетрация серебра умешьшилась. После первого этапа очистки начала расти, а после финального этапа очистки резко выросла. Так как график немного сузился, но увеличился в высоту, то можно предположить, что часть сырья обладала большой концентрацией серебра. Именно финальный этап эту концентрацию и раскрыл. Полагаю, Этап флотации отсеивает значительную долю серебра. А ведь если бы она осталась, то сырья с высокой долей серебра было бы больше, а так эта доля ушла в хвосты"
   ]
  },
  {
   "cell_type": "markdown",
   "metadata": {},
   "source": [
    "#### Pb"
   ]
  },
  {
   "cell_type": "code",
   "execution_count": 22,
   "metadata": {
    "scrolled": true
   },
   "outputs": [
    {
     "data": {
      "image/png": "[encoded data removed]",
      "text/plain": [
       "<Figure size 1040x800 with 1 Axes>"
      ]
     },
     "metadata": {
      "needs_background": "light"
     },
     "output_type": "display_data"
    }
   ],
   "source": [
    "# Draw Plot\n",
    "plt.figure(figsize=(13,10), dpi= 80)\n",
    "sns.distplot(full['rougher.input.feed_pb'], color=\"r\", label=\"rougher.input.feed\", hist_kws={'alpha':.7}, kde_kws={'linewidth':3})\n",
    "sns.distplot(full['rougher.output.concentrate_pb'], color=\"orange\", label=\"rougher.output.concentrate\", hist_kws={'alpha':.7}, kde_kws={'linewidth':3})\n",
    "sns.distplot(full['primary_cleaner.output.concentrate_pb'], color=\"g\", label=\"primary_cleaner.output.concentrate\", hist_kws={'alpha':.7}, kde_kws={'linewidth':3})\n",
    "sns.distplot(full['final.output.concentrate_pb'], color=\"dodgerblue\", label=\"final.output.concentrate\", hist_kws={'alpha':.7}, kde_kws={'linewidth':3})\n",
    "plt.ylim(0, 0.4)\n",
    "\n",
    "# Decoration\n",
    "plt.title('Pd', fontsize=22)\n",
    "plt.legend()\n",
    "plt.show()\n"
   ]
  },
  {
   "cell_type": "markdown",
   "metadata": {},
   "source": [
    "Начиная от флотации, минуя первый этап очистки, концентрация свинца падала. Хотя после первого этапа очистки заметно, что возрасла общая доля сырья, содержащего свинец, так как график стал шире. К сожалению, на финальном этапе эта доля исчезла, хоть доля высококонцентрированного продукта и возрасла. Как итог: большая часть изначального сырья, содержащего свинец, ушла в хвосты"
   ]
  },
  {
   "cell_type": "markdown",
   "metadata": {},
   "source": [
    "#### Au"
   ]
  },
  {
   "cell_type": "code",
   "execution_count": 23,
   "metadata": {
    "scrolled": true
   },
   "outputs": [
    {
     "data": {
      "image/png": "[encoded data removed]",
      "text/plain": [
       "<Figure size 1040x800 with 1 Axes>"
      ]
     },
     "metadata": {
      "needs_background": "light"
     },
     "output_type": "display_data"
    }
   ],
   "source": [
    "# Draw Plot\n",
    "plt.figure(figsize=(13,10), dpi= 80)\n",
    "sns.distplot(full['rougher.input.feed_au'], color=\"r\", label=\"rougher.input.feed\", hist_kws={'alpha':.7}, kde_kws={'linewidth':3})\n",
    "sns.distplot(full['rougher.output.concentrate_au'], color=\"orange\", label=\"rougher.output.concentrate\", hist_kws={'alpha':.7}, kde_kws={'linewidth':3})\n",
    "sns.distplot(full['primary_cleaner.output.concentrate_au'], color=\"g\", label=\"primary_cleaner.output.concentrate\", hist_kws={'alpha':.7}, kde_kws={'linewidth':3})\n",
    "sns.distplot(full['final.output.concentrate_au'], color=\"dodgerblue\", label=\"final.output.concentrate\", hist_kws={'alpha':.7}, kde_kws={'linewidth':3})\n",
    "plt.ylim(0, 0.225)\n",
    "\n",
    "# Decoration\n",
    "plt.title('Au', fontsize=22)\n",
    "plt.legend()\n",
    "plt.show()"
   ]
  },
  {
   "cell_type": "markdown",
   "metadata": {},
   "source": [
    "Этап флотации оказал малое влияние, но тем не менее после него концентрация сырья с высоким содержанием золота уменьшилась. После первого этапа очистки концентрация с высоким содержанием упала почти в половину, а общая доля сырья с малым содержанием золота увеличилась. И это было бы хорошо, если бы на финальном этапе очистки эта общая доля не сократилась и график бы не сузился. Возможно это могло бы компенсироваться малым объемом продукта с высоким содержанием золота, однако мы видим, что высота графика осталась на таком же уровне, что и сырье до флотации. Полагаю процесс первичной очистки отправил в хвосты большую часть сырья с высоким содержанием золота. Если проследить за общей динамикой, то возможно золота в итоге осталось меньше. А значит, нужно обратить внимание на хвосты"
   ]
  },
  {
   "cell_type": "markdown",
   "metadata": {},
   "source": [
    "### Сравним распределения размеров гранул сырья на обучающей и тестовой выборках"
   ]
  },
  {
   "cell_type": "markdown",
   "metadata": {},
   "source": [
    "#### Rougher input"
   ]
  },
  {
   "cell_type": "code",
   "execution_count": 24,
   "metadata": {},
   "outputs": [
    {
     "data": {
      "image/png": "[encoded data removed]",
      "text/plain": [
       "<Figure size 1040x800 with 1 Axes>"
      ]
     },
     "metadata": {
      "needs_background": "light"
     },
     "output_type": "display_data"
    }
   ],
   "source": [
    "# Draw Plot\n",
    "plt.figure(figsize=(13,10), dpi= 80)\n",
    "sns.distplot(train['rougher.input.feed_size'], color=\"b\", label=\"train\", hist_kws={'alpha':.7}, kde_kws={'linewidth':3})\n",
    "sns.distplot(test['rougher.input.feed_size'], color=\"r\", label=\"test\", hist_kws={'alpha':.7}, kde_kws={'linewidth':3})\n",
    "plt.ylim(0, 0.055)\n",
    "plt.xlim(0, 150)\n",
    "\n",
    "# Decoration\n",
    "plt.title('Feed size rougher input', fontsize=22)\n",
    "plt.legend()\n",
    "plt.show()"
   ]
  },
  {
   "cell_type": "markdown",
   "metadata": {},
   "source": [
    "#### Primary cleaner"
   ]
  },
  {
   "cell_type": "code",
   "execution_count": 25,
   "metadata": {},
   "outputs": [
    {
     "data": {
      "image/png": "[encoded data removed]",
      "text/plain": [
       "<Figure size 1040x800 with 1 Axes>"
      ]
     },
     "metadata": {
      "needs_background": "light"
     },
     "output_type": "display_data"
    }
   ],
   "source": [
    "# Draw Plot\n",
    "plt.figure(figsize=(13,10), dpi= 80)\n",
    "sns.distplot(train['primary_cleaner.input.feed_size'], color=\"b\", label=\"train\", hist_kws={'alpha':.7}, kde_kws={'linewidth':3})\n",
    "sns.distplot(test['primary_cleaner.input.feed_size'], color=\"r\", label=\"test\", hist_kws={'alpha':.7}, kde_kws={'linewidth':3})\n",
    "plt.ylim(0, 0.9)\n",
    "\n",
    "# Decoration\n",
    "plt.title('Feed size primary cleaner', fontsize=22)\n",
    "plt.legend()\n",
    "plt.show()"
   ]
  },
  {
   "cell_type": "markdown",
   "metadata": {},
   "source": [
    "Очевидно, что размеры частиц в Feed size primary cleaner совпадают между собой больше, чем в Rougher input.\n",
    "\n",
    "Не знаю, насколько критично различие между тестовой выборкой и обучающей в Rougher input. Но я могу утверждать, что распределение в Feed size primary cleaner распределение размер гранул между собой очень близки"
   ]
  },
  {
   "cell_type": "markdown",
   "metadata": {},
   "source": [
    "### Исследуем суммарные концентрации всех веществ на разных стадиях"
   ]
  },
  {
   "cell_type": "markdown",
   "metadata": {},
   "source": [
    "#### Избавление от аномальных признаков"
   ]
  },
  {
   "cell_type": "markdown",
   "metadata": {},
   "source": [
    "### Проведем предобработку данных"
   ]
  },
  {
   "cell_type": "code",
   "execution_count": 27,
   "metadata": {},
   "outputs": [
    {
     "data": {
      "text/plain": [
       "<AxesSubplot:xlabel='rougher.input.feed_sum', ylabel='Count'>"
      ]
     },
     "execution_count": 27,
     "metadata": {},
     "output_type": "execute_result"
    },
    {
     "data": {
      "image/png": "[encoded data removed]",
      "text/plain": [
       "<Figure size 432x288 with 1 Axes>"
      ]
     },
     "metadata": {
      "needs_background": "light"
     },
     "output_type": "display_data"
    }
   ],
   "source": [
    "sns.histplot(data=full['rougher.input.feed_sum'], bins=30)"
   ]
  },
  {
   "cell_type": "code",
   "execution_count": 28,
   "metadata": {},
   "outputs": [
    {
     "data": {
      "text/plain": [
       "<AxesSubplot:xlabel='rougher.output.concentrate_sum', ylabel='Count'>"
      ]
     },
     "execution_count": 28,
     "metadata": {},
     "output_type": "execute_result"
    },
    {
     "data": {
      "image/png": "[encoded data removed]",
      "text/plain": [
       "<Figure size 432x288 with 1 Axes>"
      ]
     },
     "metadata": {
      "needs_background": "light"
     },
     "output_type": "display_data"
    }
   ],
   "source": [
    "sns.histplot(data=full['rougher.output.concentrate_sum'], bins=30)"
   ]
  },
  {
   "cell_type": "code",
   "execution_count": 29,
   "metadata": {},
   "outputs": [
    {
     "data": {
      "text/plain": [
       "<AxesSubplot:xlabel='primary_cleaner.output.concentrate_sum', ylabel='Count'>"
      ]
     },
     "execution_count": 29,
     "metadata": {},
     "output_type": "execute_result"
    },
    {
     "data": {
      "image/png": "[encoded data removed]",
      "text/plain": [
       "<Figure size 432x288 with 1 Axes>"
      ]
     },
     "metadata": {
      "needs_background": "light"
     },
     "output_type": "display_data"
    }
   ],
   "source": [
    "sns.histplot(data=full['primary_cleaner.output.concentrate_sum'], bins=30)"
   ]
  },
  {
   "cell_type": "code",
   "execution_count": 30,
   "metadata": {
    "scrolled": true
   },
   "outputs": [
    {
     "data": {
      "text/plain": [
       "<AxesSubplot:xlabel='final.output.concentrate_sum', ylabel='Count'>"
      ]
     },
     "execution_count": 30,
     "metadata": {},
     "output_type": "execute_result"
    },
    {
     "data": {
      "image/png": "[encoded data removed]",
      "text/plain": [
       "<Figure size 432x288 with 1 Axes>"
      ]
     },
     "metadata": {
      "needs_background": "light"
     },
     "output_type": "display_data"
    }
   ],
   "source": [
    "sns.histplot(data=full['final.output.concentrate_sum'], bins=30)"
   ]
  },
  {
   "cell_type": "markdown",
   "metadata": {},
   "source": [
    "Во всех этапах суммы веществ мы видим аномальные на 0. Избавимся от них в пункте \"Удалим аномальные признаки\". Так же отчистим тренировочные выборки и целевые признаки от аномальных признаков"
   ]
  },
  {
   "cell_type": "markdown",
   "metadata": {},
   "source": [
    "#### Удалим неинформативные признаки"
   ]
  },
  {
   "cell_type": "code",
   "execution_count": 33,
   "metadata": {},
   "outputs": [],
   "source": [
    "features_test_rougher = features_test_rougher.drop(columns=['date'], axis=1)\n",
    "features_test_final = features_test_final.drop(columns=['date'], axis=1)\n",
    "\n",
    "features_train_rougher = features_train_rougher.drop(columns=['date'], axis=1)\n",
    "features_train_final = features_train_final.drop(columns=['date'], axis=1)\n",
    "\n",
    "\n",
    "\n"
   ]
  },
  {
   "cell_type": "markdown",
   "metadata": {},
   "source": [
    "## Модель"
   ]
  },
  {
   "cell_type": "markdown",
   "metadata": {},
   "source": [
    "### Напишем функцию для вычисления итоговой sMAPE"
   ]
  },
  {
   "cell_type": "code",
   "execution_count": 34,
   "metadata": {},
   "outputs": [],
   "source": [
    "# напишем функцию для расчета sMAPE\n",
    "def sMAPE(target, predictions):\n",
    "    abs_target_prediction = abs(target - predictions)\n",
    "    abs_target = abs(target)\n",
    "    abs_prediction = abs(predictions)\n",
    "    \n",
    "    error = (abs_target_prediction / ((abs_target + abs_prediction) / 2)) * 100\n",
    "    smape_error = np.mean(error)\n",
    "    \n",
    "    return smape_error"
   ]
  },
  {
   "cell_type": "markdown",
   "metadata": {},
   "source": [
    "В среднем мы ошибаемся на значение sMAPE"
   ]
  },
  {
   "cell_type": "code",
   "execution_count": 35,
   "metadata": {},
   "outputs": [],
   "source": [
    "# напишем функцию для расчета итоговой sMAPE\n",
    "def sMAPE_end(sMAPE_rougher, sMAPE_final):\n",
    "    end = sMAPE_rougher*0.25 + sMAPE_final*0.75\n",
    "    return print(end)"
   ]
  },
  {
   "cell_type": "markdown",
   "metadata": {},
   "source": [
    "### Напишем scorer"
   ]
  },
  {
   "cell_type": "code",
   "execution_count": 36,
   "metadata": {},
   "outputs": [],
   "source": [
    "custom_scorer = make_scorer(sMAPE, greater_is_better=False)"
   ]
  },
  {
   "cell_type": "markdown",
   "metadata": {},
   "source": [
    "test\n",
    "target_test_rougher\n",
    "target_test_final"
   ]
  },
  {
   "cell_type": "markdown",
   "metadata": {},
   "source": [
    "### Вычислим лучшие параметры для rougher"
   ]
  },
  {
   "cell_type": "markdown",
   "metadata": {},
   "source": [
    "#### RandomForestRegressor"
   ]
  },
  {
   "cell_type": "code",
   "execution_count": 46,
   "metadata": {
    "scrolled": false
   },
   "outputs": [
    {
     "name": "stdout",
     "output_type": "stream",
     "text": [
      "Лучшие параметры: {'max_depth': 1, 'n_estimators': 1}\n",
      "Лучший результат SMAPE: -7.636965172040263\n",
      "CPU times: user 744 ms, sys: 4.66 ms, total: 749 ms\n",
      "Wall time: 747 ms\n"
     ]
    }
   ],
   "source": [
    "%%time\n",
    "\n",
    "rf = RandomForestRegressor(n_jobs= -1)\n",
    "\n",
    "grid_space={'max_depth':[6,7,8,9],\n",
    "              'n_estimators':[10,11,12]\n",
    "           }\n",
    "\n",
    "\n",
    "grid = GridSearchCV(rf, param_grid=grid_space, cv=5, scoring = custom_scorer, n_jobs= -1)\n",
    "model_grid = grid.fit(features_train_rougher, target_train_rougher)\n",
    "\n",
    "print('Лучшие параметры: '+str(model_grid.best_params_))\n",
    "print('Лучший результат SMAPE: '+str(model_grid.best_score_))"
   ]
  },
  {
   "cell_type": "markdown",
   "metadata": {},
   "source": [
    "Лучшие параметры: {'max_depth': 6, 'n_estimators': 10}\n",
    "Лучший результат SMAPE: -10.266219839246423"
   ]
  },
  {
   "cell_type": "markdown",
   "metadata": {},
   "source": [
    "#### LinearRegression"
   ]
  },
  {
   "cell_type": "code",
   "execution_count": 45,
   "metadata": {},
   "outputs": [
    {
     "name": "stdout",
     "output_type": "stream",
     "text": [
      "-7.18311456640995\n",
      "CPU times: user 597 ms, sys: 724 ms, total: 1.32 s\n",
      "Wall time: 1.25 s\n"
     ]
    }
   ],
   "source": [
    "%%time\n",
    "\n",
    "model = LinearRegression()\n",
    "model.fit(features_train_rougher, target_train_rougher)\n",
    "\n",
    "scores = cross_val_score(model, features_train_rougher, target_train_rougher, cv=5, scoring=custom_scorer)\n",
    "\n",
    "smape_rouger = np.mean(scores)\n",
    "print(smape_rouger)"
   ]
  },
  {
   "cell_type": "markdown",
   "metadata": {},
   "source": [
    "результат SMAPE: -12.612320871397921"
   ]
  },
  {
   "cell_type": "markdown",
   "metadata": {},
   "source": [
    "### Вычислим лучшие параметры для final"
   ]
  },
  {
   "cell_type": "markdown",
   "metadata": {},
   "source": [
    "#### RandomForestRegressor"
   ]
  },
  {
   "cell_type": "code",
   "execution_count": null,
   "metadata": {},
   "outputs": [],
   "source": [
    "%%time\n",
    "\n",
    "rf = RandomForestRegressor(n_jobs= -1)\n",
    "\n",
    "grid_space={'max_depth':[1,2,3,4,5,6,7,8,9,10],\n",
    "              'n_estimators':[1,2,3,4,5,6,7,8,9,10]\n",
    "           }\n",
    "\n",
    "\n",
    "grid = GridSearchCV(rf, param_grid=grid_space, cv=5, scoring = custom_scorer, n_jobs= -1)\n",
    "model_grid = grid.fit(features_train_final, target_train_final)\n",
    "\n",
    "print('Лучшие параметры: '+str(model_grid.best_params_))\n",
    "print('Лучший результат SMAPE: '+str(model_grid.best_score_))"
   ]
  },
  {
   "cell_type": "markdown",
   "metadata": {},
   "source": [
    "Лучшие параметры: {'max_depth': 2, 'n_estimators': 10}\n",
    "Лучший результат SMAPE: -9.12294730175361"
   ]
  },
  {
   "cell_type": "markdown",
   "metadata": {},
   "source": [
    "#### LinearRegression"
   ]
  },
  {
   "cell_type": "code",
   "execution_count": null,
   "metadata": {},
   "outputs": [],
   "source": [
    "%%time\n",
    "\n",
    "model = LinearRegression()\n",
    "model.fit(features_train_final, target_train_final)\n",
    "\n",
    "scores = cross_val_score(model, features_train_final, target_train_final, cv=5, scoring=custom_scorer)\n",
    "\n",
    "smape_rouger = np.mean(scores)\n",
    "print(smape_rouger)"
   ]
  },
  {
   "cell_type": "markdown",
   "metadata": {},
   "source": [
    "результат SMAPE: -12.19982350766195"
   ]
  },
  {
   "cell_type": "markdown",
   "metadata": {},
   "source": [
    "### Проверим значение лучших моделей на тестовой выборке"
   ]
  },
  {
   "cell_type": "markdown",
   "metadata": {},
   "source": [
    "#### Для rougher"
   ]
  },
  {
   "cell_type": "code",
   "execution_count": null,
   "metadata": {},
   "outputs": [],
   "source": [
    "%%time\n",
    "\n",
    "from sklearn.ensemble import RandomForestRegressor\n",
    "\n",
    "model = RandomForestRegressor(n_estimators=7 , max_depth=12 , random_state=12345)\n",
    "\n",
    "model.fit(features_train_rougher, target_train_rougher)\n",
    "predictions = model.predict(features_test_rougher)\n",
    "s_mape = sMAPE(target_test_rougher, predictions)\n",
    "\n",
    "        \n",
    "print(f'Итоговое sMAPE для rougher- {s_mape}')"
   ]
  },
  {
   "cell_type": "code",
   "execution_count": null,
   "metadata": {},
   "outputs": [],
   "source": [
    "sMAPE_rougher = 10.104627844510447"
   ]
  },
  {
   "cell_type": "markdown",
   "metadata": {},
   "source": [
    "#### Для final"
   ]
  },
  {
   "cell_type": "code",
   "execution_count": null,
   "metadata": {},
   "outputs": [],
   "source": [
    "%%time\n",
    "\n",
    "from sklearn.ensemble import RandomForestRegressor\n",
    "\n",
    "model = RandomForestRegressor(n_estimators=2 , max_depth=10 , random_state=12345)\n",
    "\n",
    "model.fit(features_train_final, target_train_final)\n",
    "predictions = model.predict(features_test_final)\n",
    "s_mape = sMAPE(target_test_final, predictions)\n",
    "\n",
    "        \n",
    "print(f'Итоговое sMAPE для final - {s_mape}')"
   ]
  },
  {
   "cell_type": "code",
   "execution_count": null,
   "metadata": {},
   "outputs": [],
   "source": [
    "sMAPE_final = 9.328161242471536"
   ]
  },
  {
   "cell_type": "markdown",
   "metadata": {},
   "source": [
    "### Посчитаем итоговое значение sMAPE"
   ]
  },
  {
   "cell_type": "markdown",
   "metadata": {},
   "source": [
    "Создадим признаки суммарной концентрации веществ для каждого этапа"
   ]
  },
  {
   "cell_type": "code",
   "execution_count": null,
   "metadata": {},
   "outputs": [],
   "source": [
    "sMAPE_end(sMAPE_rougher, sMAPE_final)"
   ]
  },
  {
   "cell_type": "markdown",
   "metadata": {},
   "source": [
    "### Сравним модель с константной моделью"
   ]
  },
  {
   "cell_type": "markdown",
   "metadata": {},
   "source": [
    "#### Для rougher"
   ]
  },
  {
   "cell_type": "code",
   "execution_count": null,
   "metadata": {},
   "outputs": [],
   "source": [
    "from sklearn.dummy import DummyRegressor\n",
    "\n",
    "model = DummyRegressor(strategy=\"mean\")\n",
    "model.fit(features_train_rougher, target_train_rougher)\n",
    "\n",
    "\n",
    "pred = model.predict(features_test_rougher)\n",
    "\n",
    "s_mape = sMAPE(target_test_rougher, pred)\n",
    "\n",
    "print(s_mape)"
   ]
  },
  {
   "cell_type": "code",
   "execution_count": null,
   "metadata": {},
   "outputs": [],
   "source": [
    "mean_rougher = 10.37979928343849"
   ]
  },
  {
   "cell_type": "markdown",
   "metadata": {},
   "source": [
    "#### Для final"
   ]
  },
  {
   "cell_type": "code",
   "execution_count": null,
   "metadata": {},
   "outputs": [],
   "source": [
    "from sklearn.dummy import DummyRegressor\n",
    "\n",
    "model = DummyRegressor(strategy=\"mean\")\n",
    "model.fit(features_train_final, target_train_final)\n",
    "\n",
    "\n",
    "pred = model.predict(features_test_final)\n",
    "\n",
    "\n",
    "s_mape = sMAPE(target_test_final, pred)\n",
    "\n",
    "print(s_mape)"
   ]
  },
  {
   "cell_type": "code",
   "execution_count": null,
   "metadata": {},
   "outputs": [],
   "source": [
    "mean_final = 10.25957407354855"
   ]
  },
  {
   "cell_type": "code",
   "execution_count": null,
   "metadata": {},
   "outputs": [],
   "source": [
    "sMAPE_end(mean_rougher, mean_final)"
   ]
  },
  {
   "cell_type": "markdown",
   "metadata": {},
   "source": [
    "sMAPE нашей модели 9.522277892981263. Проверку на актуальность наша она прошла"
   ]
  },
  {
   "cell_type": "markdown",
   "metadata": {},
   "source": [
    "## Вывод"
   ]
  },
  {
   "cell_type": "markdown",
   "metadata": {},
   "source": [
    "Мы провели исследование 3х датафреймов. Нашей задачей было подготовить прототип модели машинного обучения для «Цифры». Компания разрабатывает решения для эффективной работы промышленных предприятий.Модель должна предсказать коэффициент восстановления золота из золотосодержащей руды. В нашем распоряжении данные с параметрами добычи и очистки. Модель поможет оптимизировать производство, чтобы не запускать предприятие с убыточными характеристиками.\n",
    "Сперва мы изучили данные, заменили пропуски на ближайшее значение, проанализировали признаки не доступные в тесте и пришли к выводу, что там содержатся параметры продукта, а так как они считаются уже потом, то для обучения нашей модели они не нужны.\n",
    "Длее мы разделили датафрейм на выборки, проанализировали данные, сравнили распределение гранул сырья и исследовали суммарные концентрации всех веществ.  Мы пришли к выводу, что в датафрейме присутствуют аномальные значения и удалили их. Далее, мы удалили неинформативные признаки date. Написали функцию расчета sMAPE, вычислили параметры длы rouger и final, проверили их на тестовой выборке, и в конце подтвердили их актуальность, сравнивая результат нашего  sMAPE c константной моделью"
   ]
  }
 ],
 "metadata": {
  "ExecuteTimeLog": [
   {
    "duration": 404,
    "start_time": "2022-12-29T18:26:04.420Z"
   },
   {
    "duration": 86,
    "start_time": "2022-12-29T18:26:05.296Z"
   },
   {
    "duration": 2994,
    "start_time": "2022-12-29T18:26:57.627Z"
   },
   {
    "duration": 25,
    "start_time": "2022-12-29T18:27:19.311Z"
   },
   {
    "duration": 20,
    "start_time": "2022-12-29T18:27:54.490Z"
   },
   {
    "duration": 12,
    "start_time": "2022-12-29T18:28:15.924Z"
   },
   {
    "duration": 16,
    "start_time": "2022-12-29T18:28:24.853Z"
   },
   {
    "duration": 678,
    "start_time": "2022-12-29T18:51:20.872Z"
   },
   {
    "duration": 698,
    "start_time": "2022-12-29T18:51:38.689Z"
   },
   {
    "duration": 759,
    "start_time": "2022-12-29T18:51:44.089Z"
   },
   {
    "duration": 20,
    "start_time": "2022-12-29T18:51:55.235Z"
   },
   {
    "duration": 5,
    "start_time": "2022-12-29T18:53:04.864Z"
   },
   {
    "duration": 25,
    "start_time": "2022-12-29T19:00:32.043Z"
   },
   {
    "duration": 10,
    "start_time": "2022-12-29T19:00:42.804Z"
   },
   {
    "duration": 10,
    "start_time": "2022-12-29T19:01:01.353Z"
   },
   {
    "duration": 6,
    "start_time": "2022-12-29T19:01:21.644Z"
   },
   {
    "duration": 8,
    "start_time": "2022-12-29T19:01:32.806Z"
   },
   {
    "duration": 8,
    "start_time": "2022-12-29T19:01:39.384Z"
   },
   {
    "duration": 8,
    "start_time": "2022-12-29T19:01:53.893Z"
   },
   {
    "duration": 9,
    "start_time": "2022-12-29T19:02:03.831Z"
   },
   {
    "duration": 9,
    "start_time": "2022-12-29T19:02:09.316Z"
   },
   {
    "duration": 8,
    "start_time": "2022-12-29T19:02:14.838Z"
   },
   {
    "duration": 9,
    "start_time": "2022-12-29T19:02:20.764Z"
   },
   {
    "duration": 9,
    "start_time": "2022-12-29T19:02:24.027Z"
   },
   {
    "duration": 10,
    "start_time": "2022-12-29T19:02:29.220Z"
   },
   {
    "duration": 9,
    "start_time": "2022-12-29T19:02:36.614Z"
   },
   {
    "duration": 9,
    "start_time": "2022-12-29T19:02:43.724Z"
   },
   {
    "duration": 8,
    "start_time": "2022-12-29T19:02:48.357Z"
   },
   {
    "duration": 9,
    "start_time": "2022-12-29T19:02:52.155Z"
   },
   {
    "duration": 9,
    "start_time": "2022-12-29T19:02:55.524Z"
   },
   {
    "duration": 9,
    "start_time": "2022-12-29T19:03:09.868Z"
   },
   {
    "duration": 10,
    "start_time": "2022-12-29T19:03:19.539Z"
   },
   {
    "duration": 10,
    "start_time": "2022-12-29T19:03:25.509Z"
   },
   {
    "duration": 8,
    "start_time": "2022-12-29T19:04:10.510Z"
   },
   {
    "duration": 8,
    "start_time": "2022-12-29T19:04:27.694Z"
   },
   {
    "duration": 7,
    "start_time": "2022-12-29T19:04:43.861Z"
   },
   {
    "duration": 16,
    "start_time": "2022-12-29T19:05:26.299Z"
   },
   {
    "duration": 17,
    "start_time": "2022-12-29T19:06:09.831Z"
   },
   {
    "duration": 26,
    "start_time": "2022-12-29T19:09:25.505Z"
   },
   {
    "duration": 9,
    "start_time": "2022-12-29T19:09:44.218Z"
   },
   {
    "duration": 123,
    "start_time": "2022-12-29T19:10:03.099Z"
   },
   {
    "duration": 10,
    "start_time": "2022-12-29T19:10:06.777Z"
   },
   {
    "duration": 23,
    "start_time": "2022-12-29T19:10:20.198Z"
   },
   {
    "duration": 36,
    "start_time": "2022-12-29T22:08:10.892Z"
   },
   {
    "duration": 7,
    "start_time": "2022-12-29T22:08:35.775Z"
   },
   {
    "duration": 11,
    "start_time": "2022-12-29T22:08:46.664Z"
   },
   {
    "duration": 8,
    "start_time": "2022-12-29T22:08:49.944Z"
   },
   {
    "duration": 387,
    "start_time": "2023-01-03T13:28:07.287Z"
   },
   {
    "duration": 2844,
    "start_time": "2023-01-03T13:28:07.675Z"
   },
   {
    "duration": 17,
    "start_time": "2023-01-03T13:28:10.521Z"
   },
   {
    "duration": 10,
    "start_time": "2023-01-03T13:28:10.540Z"
   },
   {
    "duration": 29,
    "start_time": "2023-01-03T13:28:10.552Z"
   },
   {
    "duration": 60,
    "start_time": "2023-01-03T13:28:10.583Z"
   },
   {
    "duration": 16,
    "start_time": "2023-01-03T13:28:10.644Z"
   },
   {
    "duration": 14,
    "start_time": "2023-01-03T13:28:38.147Z"
   },
   {
    "duration": 57,
    "start_time": "2023-01-04T11:56:41.274Z"
   },
   {
    "duration": 45,
    "start_time": "2023-01-04T11:57:13.130Z"
   },
   {
    "duration": 56,
    "start_time": "2023-01-04T11:57:29.176Z"
   },
   {
    "duration": 4,
    "start_time": "2023-01-04T11:57:34.187Z"
   },
   {
    "duration": 3,
    "start_time": "2023-01-04T12:05:57.126Z"
   },
   {
    "duration": 41,
    "start_time": "2023-01-04T12:06:00.348Z"
   },
   {
    "duration": 393,
    "start_time": "2023-01-04T12:06:19.196Z"
   },
   {
    "duration": 4171,
    "start_time": "2023-01-04T12:06:19.591Z"
   },
   {
    "duration": 20,
    "start_time": "2023-01-04T12:06:23.764Z"
   },
   {
    "duration": 12,
    "start_time": "2023-01-04T12:06:23.786Z"
   },
   {
    "duration": 30,
    "start_time": "2023-01-04T12:06:23.801Z"
   },
   {
    "duration": 27,
    "start_time": "2023-01-04T12:06:23.833Z"
   },
   {
    "duration": 40,
    "start_time": "2023-01-04T12:06:23.861Z"
   },
   {
    "duration": 5,
    "start_time": "2023-01-04T12:06:23.904Z"
   },
   {
    "duration": 15,
    "start_time": "2023-01-04T12:06:23.911Z"
   },
   {
    "duration": 716,
    "start_time": "2023-01-04T12:26:12.892Z"
   },
   {
    "duration": 3,
    "start_time": "2023-01-04T12:26:29.841Z"
   },
   {
    "duration": 5,
    "start_time": "2023-01-04T12:26:30.913Z"
   },
   {
    "duration": 15,
    "start_time": "2023-01-04T12:26:32.963Z"
   },
   {
    "duration": 4,
    "start_time": "2023-01-04T12:27:09.902Z"
   },
   {
    "duration": 5,
    "start_time": "2023-01-04T12:27:10.854Z"
   },
   {
    "duration": 11,
    "start_time": "2023-01-04T12:27:13.062Z"
   },
   {
    "duration": 4,
    "start_time": "2023-01-04T12:29:01.755Z"
   },
   {
    "duration": 5,
    "start_time": "2023-01-04T12:29:09.963Z"
   },
   {
    "duration": 4,
    "start_time": "2023-01-04T12:29:39.580Z"
   },
   {
    "duration": 4,
    "start_time": "2023-01-04T12:29:40.195Z"
   },
   {
    "duration": 4,
    "start_time": "2023-01-04T13:38:13.733Z"
   },
   {
    "duration": 8,
    "start_time": "2023-01-04T13:38:14.189Z"
   },
   {
    "duration": 2,
    "start_time": "2023-01-04T13:46:11.977Z"
   },
   {
    "duration": 4,
    "start_time": "2023-01-04T13:46:15.928Z"
   },
   {
    "duration": 5,
    "start_time": "2023-01-04T13:46:18.512Z"
   },
   {
    "duration": 4,
    "start_time": "2023-01-04T13:46:19.518Z"
   },
   {
    "duration": 6,
    "start_time": "2023-01-04T13:48:41.409Z"
   },
   {
    "duration": 4,
    "start_time": "2023-01-04T13:48:47.147Z"
   },
   {
    "duration": 4,
    "start_time": "2023-01-04T13:48:48.794Z"
   },
   {
    "duration": 5,
    "start_time": "2023-01-04T13:49:10.617Z"
   },
   {
    "duration": 4,
    "start_time": "2023-01-04T13:49:20.946Z"
   },
   {
    "duration": 11,
    "start_time": "2023-01-04T13:49:21.692Z"
   },
   {
    "duration": 49,
    "start_time": "2023-01-04T13:50:28.569Z"
   },
   {
    "duration": 44,
    "start_time": "2023-01-04T13:50:38.610Z"
   },
   {
    "duration": 43,
    "start_time": "2023-01-04T13:50:41.786Z"
   },
   {
    "duration": 42,
    "start_time": "2023-01-04T13:50:44.965Z"
   },
   {
    "duration": 9,
    "start_time": "2023-01-04T13:50:47.729Z"
   },
   {
    "duration": 47,
    "start_time": "2023-01-04T13:50:54.602Z"
   },
   {
    "duration": 60,
    "start_time": "2023-01-04T13:50:57.298Z"
   },
   {
    "duration": 67,
    "start_time": "2023-01-04T13:51:07.931Z"
   },
   {
    "duration": 5,
    "start_time": "2023-01-04T13:51:14.482Z"
   },
   {
    "duration": 5,
    "start_time": "2023-01-04T13:51:20.160Z"
   },
   {
    "duration": 5,
    "start_time": "2023-01-04T13:51:20.882Z"
   },
   {
    "duration": 5,
    "start_time": "2023-01-04T13:51:21.506Z"
   },
   {
    "duration": 69,
    "start_time": "2023-01-04T13:53:06.529Z"
   },
   {
    "duration": 11,
    "start_time": "2023-01-04T13:53:16.812Z"
   },
   {
    "duration": 3,
    "start_time": "2023-01-04T13:57:18.822Z"
   },
   {
    "duration": 6,
    "start_time": "2023-01-04T13:57:19.845Z"
   },
   {
    "duration": 4,
    "start_time": "2023-01-04T13:57:22.613Z"
   },
   {
    "duration": 5,
    "start_time": "2023-01-04T13:57:23.173Z"
   },
   {
    "duration": 15,
    "start_time": "2023-01-04T14:05:47.281Z"
   },
   {
    "duration": 5,
    "start_time": "2023-01-04T14:08:18.628Z"
   },
   {
    "duration": 6,
    "start_time": "2023-01-04T14:08:26.124Z"
   },
   {
    "duration": 5,
    "start_time": "2023-01-04T14:08:27.002Z"
   },
   {
    "duration": 4,
    "start_time": "2023-01-04T14:08:28.353Z"
   },
   {
    "duration": 6,
    "start_time": "2023-01-04T14:08:41.502Z"
   },
   {
    "duration": 6,
    "start_time": "2023-01-04T14:08:45.332Z"
   },
   {
    "duration": 6,
    "start_time": "2023-01-04T14:08:50.557Z"
   },
   {
    "duration": 4,
    "start_time": "2023-01-04T14:09:07.915Z"
   },
   {
    "duration": 8,
    "start_time": "2023-01-04T14:09:17.165Z"
   },
   {
    "duration": 4,
    "start_time": "2023-01-04T14:09:20.422Z"
   },
   {
    "duration": 8,
    "start_time": "2023-01-04T14:11:16.077Z"
   },
   {
    "duration": 5,
    "start_time": "2023-01-04T14:16:14.501Z"
   },
   {
    "duration": 4,
    "start_time": "2023-01-04T14:16:15.079Z"
   },
   {
    "duration": 45,
    "start_time": "2023-01-04T14:17:29.214Z"
   },
   {
    "duration": 57,
    "start_time": "2023-01-04T14:18:01.557Z"
   },
   {
    "duration": 46,
    "start_time": "2023-01-04T14:18:40.330Z"
   },
   {
    "duration": 46,
    "start_time": "2023-01-04T14:19:07.113Z"
   },
   {
    "duration": 7,
    "start_time": "2023-01-04T14:19:08.230Z"
   },
   {
    "duration": 6,
    "start_time": "2023-01-04T14:19:23.447Z"
   },
   {
    "duration": 6,
    "start_time": "2023-01-04T14:19:29.584Z"
   },
   {
    "duration": 5,
    "start_time": "2023-01-04T14:22:17.127Z"
   },
   {
    "duration": 5,
    "start_time": "2023-01-04T14:22:17.577Z"
   },
   {
    "duration": 5,
    "start_time": "2023-01-04T14:22:17.960Z"
   },
   {
    "duration": 691,
    "start_time": "2023-01-04T14:22:18.506Z"
   },
   {
    "duration": 12,
    "start_time": "2023-01-04T14:22:37.869Z"
   },
   {
    "duration": 9,
    "start_time": "2023-01-04T14:30:32.042Z"
   },
   {
    "duration": 5,
    "start_time": "2023-01-04T14:36:18.034Z"
   },
   {
    "duration": 5,
    "start_time": "2023-01-04T14:36:27.371Z"
   },
   {
    "duration": 5,
    "start_time": "2023-01-04T14:36:37.714Z"
   },
   {
    "duration": 5,
    "start_time": "2023-01-04T14:36:38.274Z"
   },
   {
    "duration": 5,
    "start_time": "2023-01-04T14:36:40.250Z"
   },
   {
    "duration": 5,
    "start_time": "2023-01-04T14:43:09.040Z"
   },
   {
    "duration": 5,
    "start_time": "2023-01-04T14:43:13.730Z"
   },
   {
    "duration": 5,
    "start_time": "2023-01-04T14:43:27.532Z"
   },
   {
    "duration": 5,
    "start_time": "2023-01-04T14:43:30.324Z"
   },
   {
    "duration": 3,
    "start_time": "2023-01-04T14:47:49.168Z"
   },
   {
    "duration": 634,
    "start_time": "2023-01-04T14:47:49.635Z"
   },
   {
    "duration": 2,
    "start_time": "2023-01-04T14:49:13.181Z"
   },
   {
    "duration": 879,
    "start_time": "2023-01-04T15:02:20.815Z"
   },
   {
    "duration": 6,
    "start_time": "2023-01-04T15:02:32.635Z"
   },
   {
    "duration": 5,
    "start_time": "2023-01-04T15:02:33.463Z"
   },
   {
    "duration": 4,
    "start_time": "2023-01-04T15:02:48.242Z"
   },
   {
    "duration": 6,
    "start_time": "2023-01-04T15:03:12.846Z"
   },
   {
    "duration": 4,
    "start_time": "2023-01-04T15:03:22.868Z"
   },
   {
    "duration": 5,
    "start_time": "2023-01-04T15:03:47.433Z"
   },
   {
    "duration": 4,
    "start_time": "2023-01-04T15:03:52.713Z"
   },
   {
    "duration": 4,
    "start_time": "2023-01-04T15:04:52.734Z"
   },
   {
    "duration": 5,
    "start_time": "2023-01-04T15:05:07.585Z"
   },
   {
    "duration": 5,
    "start_time": "2023-01-04T15:05:11.345Z"
   },
   {
    "duration": 3,
    "start_time": "2023-01-04T15:06:50.368Z"
   },
   {
    "duration": 3,
    "start_time": "2023-01-04T15:11:09.390Z"
   },
   {
    "duration": 14,
    "start_time": "2023-01-04T15:17:45.253Z"
   },
   {
    "duration": 19,
    "start_time": "2023-01-04T15:17:51.883Z"
   },
   {
    "duration": 12,
    "start_time": "2023-01-04T15:17:59.121Z"
   },
   {
    "duration": 6,
    "start_time": "2023-01-04T15:18:18.883Z"
   },
   {
    "duration": 724,
    "start_time": "2023-01-04T15:18:39.984Z"
   },
   {
    "duration": 660,
    "start_time": "2023-01-04T15:19:18.119Z"
   },
   {
    "duration": 5,
    "start_time": "2023-01-04T15:19:27.241Z"
   },
   {
    "duration": 6,
    "start_time": "2023-01-04T15:19:36.887Z"
   },
   {
    "duration": 10,
    "start_time": "2023-01-04T15:31:11.802Z"
   },
   {
    "duration": 8,
    "start_time": "2023-01-04T15:31:14.190Z"
   },
   {
    "duration": 9,
    "start_time": "2023-01-04T15:31:17.891Z"
   },
   {
    "duration": 10,
    "start_time": "2023-01-04T15:31:23.365Z"
   },
   {
    "duration": 5,
    "start_time": "2023-01-04T15:31:28.180Z"
   },
   {
    "duration": 9,
    "start_time": "2023-01-04T15:31:52.115Z"
   },
   {
    "duration": 8,
    "start_time": "2023-01-04T15:31:57.820Z"
   },
   {
    "duration": 4,
    "start_time": "2023-01-04T15:32:06.422Z"
   },
   {
    "duration": 4,
    "start_time": "2023-01-04T15:32:39.484Z"
   },
   {
    "duration": 77,
    "start_time": "2023-01-04T15:36:36.430Z"
   },
   {
    "duration": 216,
    "start_time": "2023-01-04T15:36:54.032Z"
   },
   {
    "duration": 5,
    "start_time": "2023-01-04T16:08:43.436Z"
   },
   {
    "duration": 50,
    "start_time": "2023-01-04T16:18:49.819Z"
   },
   {
    "duration": 7,
    "start_time": "2023-01-04T16:18:53.953Z"
   },
   {
    "duration": 5,
    "start_time": "2023-01-04T16:19:08.052Z"
   },
   {
    "duration": 10,
    "start_time": "2023-01-04T16:22:45.250Z"
   },
   {
    "duration": 5,
    "start_time": "2023-01-04T16:22:48.589Z"
   },
   {
    "duration": 10,
    "start_time": "2023-01-04T16:23:13.949Z"
   },
   {
    "duration": 10,
    "start_time": "2023-01-04T16:23:22.315Z"
   },
   {
    "duration": 11,
    "start_time": "2023-01-04T16:23:26.042Z"
   },
   {
    "duration": 10,
    "start_time": "2023-01-04T16:23:29.841Z"
   },
   {
    "duration": 6,
    "start_time": "2023-01-04T16:24:07.434Z"
   },
   {
    "duration": 6,
    "start_time": "2023-01-04T16:24:20.483Z"
   },
   {
    "duration": 6,
    "start_time": "2023-01-04T16:24:41.647Z"
   },
   {
    "duration": 7,
    "start_time": "2023-01-04T16:24:47.890Z"
   },
   {
    "duration": 6,
    "start_time": "2023-01-04T16:25:19.437Z"
   },
   {
    "duration": 6,
    "start_time": "2023-01-04T16:26:04.479Z"
   },
   {
    "duration": 9,
    "start_time": "2023-01-04T16:26:09.283Z"
   },
   {
    "duration": 9,
    "start_time": "2023-01-04T16:26:13.510Z"
   },
   {
    "duration": 6,
    "start_time": "2023-01-04T16:27:00.009Z"
   },
   {
    "duration": 6,
    "start_time": "2023-01-04T16:27:09.187Z"
   },
   {
    "duration": 44,
    "start_time": "2023-01-04T16:27:24.411Z"
   },
   {
    "duration": 6,
    "start_time": "2023-01-04T16:27:32.782Z"
   },
   {
    "duration": 5,
    "start_time": "2023-01-04T16:27:56.156Z"
   },
   {
    "duration": 6,
    "start_time": "2023-01-04T16:28:03.206Z"
   },
   {
    "duration": 8,
    "start_time": "2023-01-04T16:28:08.209Z"
   },
   {
    "duration": 5,
    "start_time": "2023-01-04T16:29:15.227Z"
   },
   {
    "duration": 4,
    "start_time": "2023-01-04T16:29:18.942Z"
   },
   {
    "duration": 9,
    "start_time": "2023-01-04T16:29:34.575Z"
   },
   {
    "duration": 43,
    "start_time": "2023-01-04T16:32:54.150Z"
   },
   {
    "duration": 51,
    "start_time": "2023-01-04T16:33:24.260Z"
   },
   {
    "duration": 9,
    "start_time": "2023-01-04T17:39:23.014Z"
   },
   {
    "duration": 4,
    "start_time": "2023-01-04T17:39:28.134Z"
   },
   {
    "duration": 9,
    "start_time": "2023-01-04T17:39:48.166Z"
   },
   {
    "duration": 8,
    "start_time": "2023-01-04T17:39:51.120Z"
   },
   {
    "duration": 5,
    "start_time": "2023-01-04T17:39:54.877Z"
   },
   {
    "duration": 5,
    "start_time": "2023-01-04T17:40:17.469Z"
   },
   {
    "duration": 4,
    "start_time": "2023-01-04T17:40:33.872Z"
   },
   {
    "duration": 4,
    "start_time": "2023-01-04T17:40:41.893Z"
   },
   {
    "duration": 4,
    "start_time": "2023-01-04T17:40:48.869Z"
   },
   {
    "duration": 6,
    "start_time": "2023-01-04T17:41:09.950Z"
   },
   {
    "duration": 4,
    "start_time": "2023-01-04T17:42:49.927Z"
   },
   {
    "duration": 8,
    "start_time": "2023-01-04T17:42:52.722Z"
   },
   {
    "duration": 5,
    "start_time": "2023-01-04T17:42:59.266Z"
   },
   {
    "duration": 4,
    "start_time": "2023-01-04T17:43:07.158Z"
   },
   {
    "duration": 5,
    "start_time": "2023-01-04T17:43:12.926Z"
   },
   {
    "duration": 15,
    "start_time": "2023-01-04T17:51:24.962Z"
   },
   {
    "duration": 16,
    "start_time": "2023-01-04T17:51:35.333Z"
   },
   {
    "duration": 24,
    "start_time": "2023-01-04T17:51:41.076Z"
   },
   {
    "duration": 13,
    "start_time": "2023-01-04T17:52:13.862Z"
   },
   {
    "duration": 6,
    "start_time": "2023-01-04T17:52:29.676Z"
   },
   {
    "duration": 32,
    "start_time": "2023-01-04T17:52:48.308Z"
   },
   {
    "duration": 27,
    "start_time": "2023-01-04T17:53:00.917Z"
   },
   {
    "duration": 5,
    "start_time": "2023-01-04T17:54:10.500Z"
   },
   {
    "duration": 774,
    "start_time": "2023-01-04T17:56:35.199Z"
   },
   {
    "duration": 6,
    "start_time": "2023-01-04T17:56:48.128Z"
   },
   {
    "duration": 5,
    "start_time": "2023-01-04T17:56:59.488Z"
   },
   {
    "duration": 2,
    "start_time": "2023-01-04T17:58:43.993Z"
   },
   {
    "duration": 3,
    "start_time": "2023-01-04T17:58:44.998Z"
   },
   {
    "duration": 3,
    "start_time": "2023-01-04T18:01:51.624Z"
   },
   {
    "duration": 8,
    "start_time": "2023-01-04T18:08:30.513Z"
   },
   {
    "duration": 2,
    "start_time": "2023-01-04T18:08:33.153Z"
   },
   {
    "duration": 2,
    "start_time": "2023-01-04T18:08:38.975Z"
   },
   {
    "duration": 8,
    "start_time": "2023-01-04T18:13:34.885Z"
   },
   {
    "duration": 24,
    "start_time": "2023-01-04T18:13:42.711Z"
   },
   {
    "duration": 24,
    "start_time": "2023-01-04T18:13:43.675Z"
   },
   {
    "duration": 16,
    "start_time": "2023-01-04T18:13:44.026Z"
   },
   {
    "duration": 1071,
    "start_time": "2023-01-04T18:14:14.971Z"
   },
   {
    "duration": 675,
    "start_time": "2023-01-04T18:14:16.044Z"
   },
   {
    "duration": 13,
    "start_time": "2023-01-04T18:14:16.720Z"
   },
   {
    "duration": 10,
    "start_time": "2023-01-04T18:14:16.735Z"
   },
   {
    "duration": 32,
    "start_time": "2023-01-04T18:14:16.747Z"
   },
   {
    "duration": 35,
    "start_time": "2023-01-04T18:14:16.781Z"
   },
   {
    "duration": 13,
    "start_time": "2023-01-04T18:14:16.818Z"
   },
   {
    "duration": 6,
    "start_time": "2023-01-04T18:14:16.832Z"
   },
   {
    "duration": 4,
    "start_time": "2023-01-04T18:14:16.840Z"
   },
   {
    "duration": 7,
    "start_time": "2023-01-04T18:14:16.846Z"
   },
   {
    "duration": 5,
    "start_time": "2023-01-04T18:14:16.854Z"
   },
   {
    "duration": 43,
    "start_time": "2023-01-04T18:14:16.860Z"
   },
   {
    "duration": 3,
    "start_time": "2023-01-04T18:14:16.904Z"
   },
   {
    "duration": 6,
    "start_time": "2023-01-04T18:14:16.908Z"
   },
   {
    "duration": 5,
    "start_time": "2023-01-04T18:14:16.916Z"
   },
   {
    "duration": 100,
    "start_time": "2023-01-04T18:14:16.922Z"
   },
   {
    "duration": 11,
    "start_time": "2023-01-04T18:24:27.446Z"
   },
   {
    "duration": 4,
    "start_time": "2023-01-04T18:24:30.822Z"
   },
   {
    "duration": 40,
    "start_time": "2023-01-04T18:27:26.421Z"
   },
   {
    "duration": 74,
    "start_time": "2023-01-04T18:27:33.662Z"
   },
   {
    "duration": 42,
    "start_time": "2023-01-04T18:27:40.344Z"
   },
   {
    "duration": 36,
    "start_time": "2023-01-04T18:28:16.637Z"
   },
   {
    "duration": 40,
    "start_time": "2023-01-04T18:29:15.697Z"
   },
   {
    "duration": 28,
    "start_time": "2023-01-04T18:29:32.398Z"
   },
   {
    "duration": 48,
    "start_time": "2023-01-04T18:30:12.685Z"
   },
   {
    "duration": 1023,
    "start_time": "2023-01-05T12:56:19.834Z"
   },
   {
    "duration": 4029,
    "start_time": "2023-01-05T12:56:20.859Z"
   },
   {
    "duration": 15,
    "start_time": "2023-01-05T12:56:24.890Z"
   },
   {
    "duration": 29,
    "start_time": "2023-01-05T12:56:24.908Z"
   },
   {
    "duration": 51,
    "start_time": "2023-01-05T12:56:24.939Z"
   },
   {
    "duration": 28,
    "start_time": "2023-01-05T12:56:24.992Z"
   },
   {
    "duration": 16,
    "start_time": "2023-01-05T12:56:25.021Z"
   },
   {
    "duration": 33,
    "start_time": "2023-01-05T12:56:25.039Z"
   },
   {
    "duration": 30,
    "start_time": "2023-01-05T12:56:25.074Z"
   },
   {
    "duration": 34,
    "start_time": "2023-01-05T12:56:25.108Z"
   },
   {
    "duration": 29,
    "start_time": "2023-01-05T12:56:25.145Z"
   },
   {
    "duration": 46,
    "start_time": "2023-01-05T12:56:25.175Z"
   },
   {
    "duration": 10,
    "start_time": "2023-01-05T12:56:25.223Z"
   },
   {
    "duration": 30,
    "start_time": "2023-01-05T12:56:25.234Z"
   },
   {
    "duration": 111,
    "start_time": "2023-01-05T12:56:25.266Z"
   },
   {
    "duration": 4,
    "start_time": "2023-01-05T12:56:25.379Z"
   },
   {
    "duration": 122,
    "start_time": "2023-01-05T12:56:25.384Z"
   },
   {
    "duration": 20,
    "start_time": "2023-01-05T13:00:06.570Z"
   },
   {
    "duration": 12,
    "start_time": "2023-01-05T13:20:44.797Z"
   },
   {
    "duration": 440,
    "start_time": "2023-01-05T13:21:21.452Z"
   },
   {
    "duration": 86,
    "start_time": "2023-01-05T13:22:02.274Z"
   },
   {
    "duration": 38,
    "start_time": "2023-01-05T13:23:53.763Z"
   },
   {
    "duration": 46,
    "start_time": "2023-01-05T13:24:07.188Z"
   },
   {
    "duration": 47,
    "start_time": "2023-01-05T13:24:24.086Z"
   },
   {
    "duration": 43,
    "start_time": "2023-01-05T13:24:38.240Z"
   },
   {
    "duration": 34,
    "start_time": "2023-01-05T13:25:35.343Z"
   },
   {
    "duration": 1365,
    "start_time": "2023-01-05T13:27:42.107Z"
   },
   {
    "duration": 1594,
    "start_time": "2023-01-05T13:28:52.753Z"
   },
   {
    "duration": 1723,
    "start_time": "2023-01-05T13:30:04.487Z"
   },
   {
    "duration": 3,
    "start_time": "2023-01-05T13:31:02.841Z"
   },
   {
    "duration": 263483,
    "start_time": "2023-01-05T13:42:37.493Z"
   },
   {
    "duration": 1664,
    "start_time": "2023-01-05T13:55:50.005Z"
   },
   {
    "duration": 1599,
    "start_time": "2023-01-05T13:55:58.573Z"
   },
   {
    "duration": 1958,
    "start_time": "2023-01-05T14:01:44.237Z"
   },
   {
    "duration": 1836,
    "start_time": "2023-01-05T14:03:20.648Z"
   },
   {
    "duration": 1927,
    "start_time": "2023-01-05T14:03:22.487Z"
   },
   {
    "duration": 1683,
    "start_time": "2023-01-05T14:04:24.683Z"
   },
   {
    "duration": 1199,
    "start_time": "2023-01-05T14:04:45.240Z"
   },
   {
    "duration": 1653,
    "start_time": "2023-01-05T14:05:05.202Z"
   },
   {
    "duration": 1649,
    "start_time": "2023-01-05T14:05:18.614Z"
   },
   {
    "duration": 1558,
    "start_time": "2023-01-05T14:06:34.103Z"
   },
   {
    "duration": 1683,
    "start_time": "2023-01-05T14:07:41.386Z"
   },
   {
    "duration": 1625,
    "start_time": "2023-01-05T14:07:55.020Z"
   },
   {
    "duration": 1647,
    "start_time": "2023-01-05T14:07:56.648Z"
   },
   {
    "duration": 1641,
    "start_time": "2023-01-05T14:07:58.297Z"
   },
   {
    "duration": 6055,
    "start_time": "2023-01-05T14:52:02.905Z"
   },
   {
    "duration": 605,
    "start_time": "2023-01-05T14:52:43.844Z"
   },
   {
    "duration": 597,
    "start_time": "2023-01-05T14:52:50.049Z"
   },
   {
    "duration": 599,
    "start_time": "2023-01-05T14:52:58.886Z"
   },
   {
    "duration": 704,
    "start_time": "2023-01-05T14:53:30.830Z"
   },
   {
    "duration": 881,
    "start_time": "2023-01-05T14:53:51.395Z"
   },
   {
    "duration": 633,
    "start_time": "2023-01-05T14:56:03.617Z"
   },
   {
    "duration": 680,
    "start_time": "2023-01-05T14:56:27.377Z"
   },
   {
    "duration": 653,
    "start_time": "2023-01-05T14:56:34.510Z"
   },
   {
    "duration": 659,
    "start_time": "2023-01-05T14:56:40.215Z"
   },
   {
    "duration": 682,
    "start_time": "2023-01-05T14:56:48.257Z"
   },
   {
    "duration": 739,
    "start_time": "2023-01-05T14:59:54.930Z"
   },
   {
    "duration": 636,
    "start_time": "2023-01-05T15:00:05.168Z"
   },
   {
    "duration": 689,
    "start_time": "2023-01-05T15:00:10.726Z"
   },
   {
    "duration": 618,
    "start_time": "2023-01-05T15:00:34.853Z"
   },
   {
    "duration": 669,
    "start_time": "2023-01-05T15:00:44.895Z"
   },
   {
    "duration": 734,
    "start_time": "2023-01-05T15:00:53.902Z"
   },
   {
    "duration": 1674,
    "start_time": "2023-01-05T15:01:13.866Z"
   },
   {
    "duration": 1649,
    "start_time": "2023-01-05T15:01:24.530Z"
   },
   {
    "duration": 1650,
    "start_time": "2023-01-05T15:01:33.833Z"
   },
   {
    "duration": 1704,
    "start_time": "2023-01-05T15:01:52.276Z"
   },
   {
    "duration": 643,
    "start_time": "2023-01-05T15:03:26.118Z"
   },
   {
    "duration": 674,
    "start_time": "2023-01-05T15:06:10.375Z"
   },
   {
    "duration": 638,
    "start_time": "2023-01-05T15:06:14.781Z"
   },
   {
    "duration": 1606,
    "start_time": "2023-01-05T15:25:31.055Z"
   },
   {
    "duration": 1422,
    "start_time": "2023-01-05T15:35:30.384Z"
   },
   {
    "duration": 1545,
    "start_time": "2023-01-05T15:38:34.413Z"
   },
   {
    "duration": 1365,
    "start_time": "2023-01-05T15:38:35.962Z"
   },
   {
    "duration": 1540,
    "start_time": "2023-01-05T15:38:37.330Z"
   },
   {
    "duration": 1301,
    "start_time": "2023-01-05T15:39:03.017Z"
   },
   {
    "duration": 1375,
    "start_time": "2023-01-05T15:39:16.162Z"
   },
   {
    "duration": 1284,
    "start_time": "2023-01-05T15:39:26.857Z"
   },
   {
    "duration": 1450,
    "start_time": "2023-01-05T15:39:51.495Z"
   },
   {
    "duration": 5,
    "start_time": "2023-01-05T15:56:30.818Z"
   },
   {
    "duration": 40,
    "start_time": "2023-01-06T11:55:11.817Z"
   },
   {
    "duration": 1471,
    "start_time": "2023-01-06T11:55:22.179Z"
   },
   {
    "duration": 2033,
    "start_time": "2023-01-06T11:55:23.652Z"
   },
   {
    "duration": 16,
    "start_time": "2023-01-06T11:55:25.687Z"
   },
   {
    "duration": 6,
    "start_time": "2023-01-06T11:55:25.705Z"
   },
   {
    "duration": 22,
    "start_time": "2023-01-06T11:55:25.713Z"
   },
   {
    "duration": 22,
    "start_time": "2023-01-06T11:55:25.736Z"
   },
   {
    "duration": 12,
    "start_time": "2023-01-06T11:55:25.759Z"
   },
   {
    "duration": 6,
    "start_time": "2023-01-06T11:55:25.772Z"
   },
   {
    "duration": 4,
    "start_time": "2023-01-06T11:55:25.779Z"
   },
   {
    "duration": 4,
    "start_time": "2023-01-06T11:55:25.812Z"
   },
   {
    "duration": 6,
    "start_time": "2023-01-06T11:55:25.817Z"
   },
   {
    "duration": 18,
    "start_time": "2023-01-06T11:55:25.824Z"
   },
   {
    "duration": 2,
    "start_time": "2023-01-06T11:55:25.844Z"
   },
   {
    "duration": 8,
    "start_time": "2023-01-06T11:55:25.848Z"
   },
   {
    "duration": 11,
    "start_time": "2023-01-06T11:55:25.858Z"
   },
   {
    "duration": 5,
    "start_time": "2023-01-06T11:55:25.870Z"
   },
   {
    "duration": 94,
    "start_time": "2023-01-06T11:55:25.877Z"
   },
   {
    "duration": 1465,
    "start_time": "2023-01-06T11:55:25.972Z"
   },
   {
    "duration": 1369,
    "start_time": "2023-01-06T11:55:27.439Z"
   },
   {
    "duration": 1365,
    "start_time": "2023-01-06T11:55:28.810Z"
   },
   {
    "duration": 565,
    "start_time": "2023-01-06T11:55:30.176Z"
   },
   {
    "duration": 595,
    "start_time": "2023-01-06T11:55:30.743Z"
   },
   {
    "duration": 1227,
    "start_time": "2023-01-06T11:55:31.340Z"
   },
   {
    "duration": 1226,
    "start_time": "2023-01-06T11:55:32.568Z"
   },
   {
    "duration": 1213,
    "start_time": "2023-01-06T11:55:33.796Z"
   },
   {
    "duration": 1223,
    "start_time": "2023-01-06T11:55:35.011Z"
   },
   {
    "duration": 4,
    "start_time": "2023-01-06T11:55:36.235Z"
   },
   {
    "duration": 98,
    "start_time": "2023-01-06T11:55:36.240Z"
   },
   {
    "duration": 1351,
    "start_time": "2023-01-06T13:02:39.993Z"
   },
   {
    "duration": 632,
    "start_time": "2023-01-06T13:02:41.345Z"
   },
   {
    "duration": 18,
    "start_time": "2023-01-06T13:02:41.979Z"
   },
   {
    "duration": 14,
    "start_time": "2023-01-06T13:02:41.999Z"
   },
   {
    "duration": 23,
    "start_time": "2023-01-06T13:02:42.014Z"
   },
   {
    "duration": 23,
    "start_time": "2023-01-06T13:02:42.038Z"
   },
   {
    "duration": 13,
    "start_time": "2023-01-06T13:02:42.062Z"
   },
   {
    "duration": 6,
    "start_time": "2023-01-06T13:02:42.076Z"
   },
   {
    "duration": 31,
    "start_time": "2023-01-06T13:02:42.083Z"
   },
   {
    "duration": 4,
    "start_time": "2023-01-06T13:02:42.116Z"
   },
   {
    "duration": 10,
    "start_time": "2023-01-06T13:02:42.121Z"
   },
   {
    "duration": 15,
    "start_time": "2023-01-06T13:02:42.133Z"
   },
   {
    "duration": 2,
    "start_time": "2023-01-06T13:02:42.150Z"
   },
   {
    "duration": 40,
    "start_time": "2023-01-06T13:02:42.154Z"
   },
   {
    "duration": 1265,
    "start_time": "2023-01-06T13:02:42.195Z"
   },
   {
    "duration": 0,
    "start_time": "2023-01-06T13:02:43.461Z"
   },
   {
    "duration": 0,
    "start_time": "2023-01-06T13:02:43.462Z"
   },
   {
    "duration": 0,
    "start_time": "2023-01-06T13:02:43.463Z"
   },
   {
    "duration": 0,
    "start_time": "2023-01-06T13:02:43.464Z"
   },
   {
    "duration": 0,
    "start_time": "2023-01-06T13:02:43.465Z"
   },
   {
    "duration": 0,
    "start_time": "2023-01-06T13:02:43.466Z"
   },
   {
    "duration": 0,
    "start_time": "2023-01-06T13:02:43.467Z"
   },
   {
    "duration": 0,
    "start_time": "2023-01-06T13:02:43.469Z"
   },
   {
    "duration": 1,
    "start_time": "2023-01-06T13:02:43.469Z"
   },
   {
    "duration": 0,
    "start_time": "2023-01-06T13:02:43.470Z"
   },
   {
    "duration": 0,
    "start_time": "2023-01-06T13:02:43.471Z"
   },
   {
    "duration": 0,
    "start_time": "2023-01-06T13:02:43.472Z"
   },
   {
    "duration": 15,
    "start_time": "2023-01-06T13:36:00.978Z"
   },
   {
    "duration": 5,
    "start_time": "2023-01-06T13:36:38.184Z"
   },
   {
    "duration": 42,
    "start_time": "2023-01-06T13:37:07.044Z"
   },
   {
    "duration": 5,
    "start_time": "2023-01-06T13:42:53.453Z"
   },
   {
    "duration": 12,
    "start_time": "2023-01-06T13:44:28.340Z"
   },
   {
    "duration": 11,
    "start_time": "2023-01-06T14:03:10.983Z"
   },
   {
    "duration": 12,
    "start_time": "2023-01-06T14:03:54.760Z"
   },
   {
    "duration": 1153,
    "start_time": "2023-01-06T14:03:57.354Z"
   },
   {
    "duration": 13,
    "start_time": "2023-01-06T16:08:58.150Z"
   },
   {
    "duration": 16,
    "start_time": "2023-01-06T16:09:09.136Z"
   },
   {
    "duration": 25,
    "start_time": "2023-01-06T16:09:18.998Z"
   },
   {
    "duration": 13,
    "start_time": "2023-01-06T16:20:39.231Z"
   },
   {
    "duration": 18,
    "start_time": "2023-01-06T16:20:58.956Z"
   },
   {
    "duration": 28,
    "start_time": "2023-01-06T16:23:46.253Z"
   },
   {
    "duration": 20,
    "start_time": "2023-01-06T16:24:04.816Z"
   },
   {
    "duration": 14,
    "start_time": "2023-01-06T16:25:18.386Z"
   },
   {
    "duration": 14,
    "start_time": "2023-01-06T16:25:24.925Z"
   },
   {
    "duration": 3,
    "start_time": "2023-01-06T18:02:27.509Z"
   },
   {
    "duration": 586,
    "start_time": "2023-01-06T18:02:27.516Z"
   },
   {
    "duration": 20,
    "start_time": "2023-01-06T18:02:28.104Z"
   },
   {
    "duration": 5,
    "start_time": "2023-01-06T18:02:28.125Z"
   },
   {
    "duration": 29,
    "start_time": "2023-01-06T18:02:28.131Z"
   },
   {
    "duration": 18,
    "start_time": "2023-01-06T18:02:28.162Z"
   },
   {
    "duration": 35,
    "start_time": "2023-01-06T18:02:28.181Z"
   },
   {
    "duration": 6,
    "start_time": "2023-01-06T18:02:28.217Z"
   },
   {
    "duration": 8,
    "start_time": "2023-01-06T18:02:28.225Z"
   },
   {
    "duration": 7,
    "start_time": "2023-01-06T18:02:28.235Z"
   },
   {
    "duration": 6,
    "start_time": "2023-01-06T18:02:28.244Z"
   },
   {
    "duration": 19,
    "start_time": "2023-01-06T18:02:28.252Z"
   },
   {
    "duration": 3,
    "start_time": "2023-01-06T18:02:28.273Z"
   },
   {
    "duration": 36,
    "start_time": "2023-01-06T18:02:28.277Z"
   },
   {
    "duration": 71,
    "start_time": "2023-01-06T18:02:28.316Z"
   },
   {
    "duration": 1550,
    "start_time": "2023-01-06T18:02:28.415Z"
   },
   {
    "duration": 1436,
    "start_time": "2023-01-06T18:02:29.967Z"
   },
   {
    "duration": 1408,
    "start_time": "2023-01-06T18:02:31.405Z"
   },
   {
    "duration": 527,
    "start_time": "2023-01-06T18:02:32.814Z"
   },
   {
    "duration": 631,
    "start_time": "2023-01-06T18:02:33.343Z"
   },
   {
    "duration": 1233,
    "start_time": "2023-01-06T18:02:33.976Z"
   },
   {
    "duration": 1171,
    "start_time": "2023-01-06T18:02:35.211Z"
   },
   {
    "duration": 1189,
    "start_time": "2023-01-06T18:02:36.384Z"
   },
   {
    "duration": 1093,
    "start_time": "2023-01-06T18:02:37.575Z"
   },
   {
    "duration": 4,
    "start_time": "2023-01-06T18:02:38.670Z"
   },
   {
    "duration": 12,
    "start_time": "2023-01-06T18:02:38.675Z"
   },
   {
    "duration": 0,
    "start_time": "2023-01-06T18:02:38.689Z"
   },
   {
    "duration": 3,
    "start_time": "2023-01-06T21:23:58.458Z"
   },
   {
    "duration": 20,
    "start_time": "2023-01-06T21:24:00.357Z"
   },
   {
    "duration": 3,
    "start_time": "2023-01-06T21:28:11.351Z"
   },
   {
    "duration": 6,
    "start_time": "2023-01-06T21:28:12.332Z"
   },
   {
    "duration": 3,
    "start_time": "2023-01-06T21:28:12.868Z"
   },
   {
    "duration": 13,
    "start_time": "2023-01-06T21:28:13.503Z"
   },
   {
    "duration": 5,
    "start_time": "2023-01-06T21:28:25.920Z"
   },
   {
    "duration": 17,
    "start_time": "2023-01-06T21:28:27.565Z"
   },
   {
    "duration": 7,
    "start_time": "2023-01-06T21:28:28.437Z"
   },
   {
    "duration": 2,
    "start_time": "2023-01-06T21:28:28.788Z"
   },
   {
    "duration": 20,
    "start_time": "2023-01-06T21:28:29.596Z"
   },
   {
    "duration": 274,
    "start_time": "2023-01-06T21:31:43.430Z"
   },
   {
    "duration": 35,
    "start_time": "2023-01-06T21:35:02.728Z"
   },
   {
    "duration": 14,
    "start_time": "2023-01-06T21:39:53.231Z"
   },
   {
    "duration": 1543,
    "start_time": "2023-01-07T08:47:48.459Z"
   },
   {
    "duration": 1843,
    "start_time": "2023-01-07T08:47:50.005Z"
   },
   {
    "duration": 18,
    "start_time": "2023-01-07T08:47:51.850Z"
   },
   {
    "duration": 6,
    "start_time": "2023-01-07T08:47:51.870Z"
   },
   {
    "duration": 25,
    "start_time": "2023-01-07T08:47:51.878Z"
   },
   {
    "duration": 30,
    "start_time": "2023-01-07T08:47:51.904Z"
   },
   {
    "duration": 13,
    "start_time": "2023-01-07T08:47:51.936Z"
   },
   {
    "duration": 6,
    "start_time": "2023-01-07T08:47:51.950Z"
   },
   {
    "duration": 4,
    "start_time": "2023-01-07T08:47:51.958Z"
   },
   {
    "duration": 5,
    "start_time": "2023-01-07T08:47:51.964Z"
   },
   {
    "duration": 9,
    "start_time": "2023-01-07T08:47:51.970Z"
   },
   {
    "duration": 46,
    "start_time": "2023-01-07T08:47:51.980Z"
   },
   {
    "duration": 3,
    "start_time": "2023-01-07T08:47:52.028Z"
   },
   {
    "duration": 16,
    "start_time": "2023-01-07T08:47:52.032Z"
   },
   {
    "duration": 122,
    "start_time": "2023-01-07T08:47:52.050Z"
   },
   {
    "duration": 0,
    "start_time": "2023-01-07T08:47:52.174Z"
   },
   {
    "duration": 0,
    "start_time": "2023-01-07T08:47:52.175Z"
   },
   {
    "duration": 0,
    "start_time": "2023-01-07T08:47:52.176Z"
   },
   {
    "duration": 0,
    "start_time": "2023-01-07T08:47:52.177Z"
   },
   {
    "duration": 0,
    "start_time": "2023-01-07T08:47:52.179Z"
   },
   {
    "duration": 0,
    "start_time": "2023-01-07T08:47:52.180Z"
   },
   {
    "duration": 0,
    "start_time": "2023-01-07T08:47:52.181Z"
   },
   {
    "duration": 0,
    "start_time": "2023-01-07T08:47:52.182Z"
   },
   {
    "duration": 0,
    "start_time": "2023-01-07T08:47:52.183Z"
   },
   {
    "duration": 0,
    "start_time": "2023-01-07T08:47:52.185Z"
   },
   {
    "duration": 0,
    "start_time": "2023-01-07T08:47:52.186Z"
   },
   {
    "duration": 0,
    "start_time": "2023-01-07T08:47:52.188Z"
   },
   {
    "duration": 0,
    "start_time": "2023-01-07T08:47:52.188Z"
   },
   {
    "duration": 0,
    "start_time": "2023-01-07T08:47:52.189Z"
   },
   {
    "duration": 0,
    "start_time": "2023-01-07T08:47:52.191Z"
   },
   {
    "duration": 0,
    "start_time": "2023-01-07T08:47:52.192Z"
   },
   {
    "duration": 10,
    "start_time": "2023-01-07T08:49:47.906Z"
   },
   {
    "duration": 1372,
    "start_time": "2023-01-07T08:49:58.827Z"
   },
   {
    "duration": 700,
    "start_time": "2023-01-07T08:50:00.202Z"
   },
   {
    "duration": 30,
    "start_time": "2023-01-07T08:50:00.904Z"
   },
   {
    "duration": 11,
    "start_time": "2023-01-07T08:50:00.937Z"
   },
   {
    "duration": 49,
    "start_time": "2023-01-07T08:50:00.951Z"
   },
   {
    "duration": 38,
    "start_time": "2023-01-07T08:50:01.002Z"
   },
   {
    "duration": 15,
    "start_time": "2023-01-07T08:50:01.042Z"
   },
   {
    "duration": 29,
    "start_time": "2023-01-07T08:50:01.059Z"
   },
   {
    "duration": 17,
    "start_time": "2023-01-07T08:50:01.090Z"
   },
   {
    "duration": 19,
    "start_time": "2023-01-07T08:50:01.109Z"
   },
   {
    "duration": 6,
    "start_time": "2023-01-07T08:50:01.129Z"
   },
   {
    "duration": 16,
    "start_time": "2023-01-07T08:50:01.137Z"
   },
   {
    "duration": 15,
    "start_time": "2023-01-07T08:50:01.155Z"
   },
   {
    "duration": 27,
    "start_time": "2023-01-07T08:50:01.171Z"
   },
   {
    "duration": 16,
    "start_time": "2023-01-07T08:50:01.200Z"
   },
   {
    "duration": 70,
    "start_time": "2023-01-07T08:50:01.217Z"
   },
   {
    "duration": 1651,
    "start_time": "2023-01-07T08:50:01.289Z"
   },
   {
    "duration": 1673,
    "start_time": "2023-01-07T08:50:02.942Z"
   },
   {
    "duration": 1616,
    "start_time": "2023-01-07T08:50:04.617Z"
   },
   {
    "duration": 593,
    "start_time": "2023-01-07T08:50:06.235Z"
   },
   {
    "duration": 0,
    "start_time": "2023-01-07T08:50:06.830Z"
   },
   {
    "duration": 0,
    "start_time": "2023-01-07T08:50:06.832Z"
   },
   {
    "duration": 0,
    "start_time": "2023-01-07T08:50:06.833Z"
   },
   {
    "duration": 0,
    "start_time": "2023-01-07T08:50:06.834Z"
   },
   {
    "duration": 0,
    "start_time": "2023-01-07T08:50:06.835Z"
   },
   {
    "duration": 0,
    "start_time": "2023-01-07T08:50:06.836Z"
   },
   {
    "duration": 0,
    "start_time": "2023-01-07T08:50:06.837Z"
   },
   {
    "duration": 0,
    "start_time": "2023-01-07T08:50:06.838Z"
   },
   {
    "duration": 0,
    "start_time": "2023-01-07T08:50:06.839Z"
   },
   {
    "duration": 0,
    "start_time": "2023-01-07T08:50:06.840Z"
   },
   {
    "duration": 0,
    "start_time": "2023-01-07T08:50:06.841Z"
   },
   {
    "duration": 1359,
    "start_time": "2023-01-07T09:06:32.731Z"
   },
   {
    "duration": 670,
    "start_time": "2023-01-07T09:06:34.093Z"
   },
   {
    "duration": 17,
    "start_time": "2023-01-07T09:06:34.765Z"
   },
   {
    "duration": 9,
    "start_time": "2023-01-07T09:06:34.784Z"
   },
   {
    "duration": 41,
    "start_time": "2023-01-07T09:06:34.795Z"
   },
   {
    "duration": 23,
    "start_time": "2023-01-07T09:06:34.838Z"
   },
   {
    "duration": 14,
    "start_time": "2023-01-07T09:06:34.863Z"
   },
   {
    "duration": 16,
    "start_time": "2023-01-07T09:06:34.878Z"
   },
   {
    "duration": 22,
    "start_time": "2023-01-07T09:06:34.896Z"
   },
   {
    "duration": 23,
    "start_time": "2023-01-07T09:06:34.921Z"
   },
   {
    "duration": 11,
    "start_time": "2023-01-07T09:06:34.946Z"
   },
   {
    "duration": 40,
    "start_time": "2023-01-07T09:06:34.959Z"
   },
   {
    "duration": 7,
    "start_time": "2023-01-07T09:06:35.001Z"
   },
   {
    "duration": 28,
    "start_time": "2023-01-07T09:06:35.009Z"
   },
   {
    "duration": 36,
    "start_time": "2023-01-07T09:06:35.039Z"
   },
   {
    "duration": 74,
    "start_time": "2023-01-07T09:06:35.077Z"
   },
   {
    "duration": 1671,
    "start_time": "2023-01-07T09:06:35.152Z"
   },
   {
    "duration": 2245,
    "start_time": "2023-01-07T09:06:36.825Z"
   },
   {
    "duration": 1659,
    "start_time": "2023-01-07T09:06:39.123Z"
   },
   {
    "duration": 531,
    "start_time": "2023-01-07T09:06:40.785Z"
   },
   {
    "duration": 0,
    "start_time": "2023-01-07T09:06:41.318Z"
   },
   {
    "duration": 0,
    "start_time": "2023-01-07T09:06:41.322Z"
   },
   {
    "duration": 0,
    "start_time": "2023-01-07T09:06:41.323Z"
   },
   {
    "duration": 0,
    "start_time": "2023-01-07T09:06:41.324Z"
   },
   {
    "duration": 0,
    "start_time": "2023-01-07T09:06:41.325Z"
   },
   {
    "duration": 0,
    "start_time": "2023-01-07T09:06:41.326Z"
   },
   {
    "duration": 0,
    "start_time": "2023-01-07T09:06:41.327Z"
   },
   {
    "duration": 0,
    "start_time": "2023-01-07T09:06:41.328Z"
   },
   {
    "duration": 0,
    "start_time": "2023-01-07T09:06:41.329Z"
   },
   {
    "duration": 0,
    "start_time": "2023-01-07T09:06:41.331Z"
   },
   {
    "duration": 0,
    "start_time": "2023-01-07T09:06:41.332Z"
   },
   {
    "duration": 7,
    "start_time": "2023-01-07T09:07:32.480Z"
   },
   {
    "duration": 9,
    "start_time": "2023-01-07T09:07:41.103Z"
   },
   {
    "duration": 8,
    "start_time": "2023-01-07T09:09:26.261Z"
   },
   {
    "duration": 8,
    "start_time": "2023-01-07T09:09:41.632Z"
   },
   {
    "duration": 435,
    "start_time": "2023-01-07T09:10:25.642Z"
   },
   {
    "duration": 1326,
    "start_time": "2023-01-07T09:11:16.244Z"
   },
   {
    "duration": 654,
    "start_time": "2023-01-07T09:11:17.572Z"
   },
   {
    "duration": 16,
    "start_time": "2023-01-07T09:11:18.228Z"
   },
   {
    "duration": 21,
    "start_time": "2023-01-07T09:11:18.246Z"
   },
   {
    "duration": 60,
    "start_time": "2023-01-07T09:11:18.269Z"
   },
   {
    "duration": 31,
    "start_time": "2023-01-07T09:11:18.331Z"
   },
   {
    "duration": 32,
    "start_time": "2023-01-07T09:11:18.363Z"
   },
   {
    "duration": 21,
    "start_time": "2023-01-07T09:11:18.397Z"
   },
   {
    "duration": 49,
    "start_time": "2023-01-07T09:11:18.419Z"
   },
   {
    "duration": 36,
    "start_time": "2023-01-07T09:11:18.470Z"
   },
   {
    "duration": 43,
    "start_time": "2023-01-07T09:11:18.508Z"
   },
   {
    "duration": 64,
    "start_time": "2023-01-07T09:11:18.552Z"
   },
   {
    "duration": 21,
    "start_time": "2023-01-07T09:11:18.617Z"
   },
   {
    "duration": 37,
    "start_time": "2023-01-07T09:11:18.641Z"
   },
   {
    "duration": 80,
    "start_time": "2023-01-07T09:11:18.680Z"
   },
   {
    "duration": 1646,
    "start_time": "2023-01-07T09:11:18.762Z"
   },
   {
    "duration": 2336,
    "start_time": "2023-01-07T09:11:20.409Z"
   },
   {
    "duration": 1694,
    "start_time": "2023-01-07T09:11:22.746Z"
   },
   {
    "duration": 642,
    "start_time": "2023-01-07T09:11:24.442Z"
   },
   {
    "duration": 608,
    "start_time": "2023-01-07T09:11:25.085Z"
   },
   {
    "duration": 1203,
    "start_time": "2023-01-07T09:11:25.695Z"
   },
   {
    "duration": 1092,
    "start_time": "2023-01-07T09:11:26.900Z"
   },
   {
    "duration": 1093,
    "start_time": "2023-01-07T09:11:27.993Z"
   },
   {
    "duration": 1197,
    "start_time": "2023-01-07T09:11:29.088Z"
   },
   {
    "duration": 4,
    "start_time": "2023-01-07T09:11:30.287Z"
   },
   {
    "duration": 401,
    "start_time": "2023-01-07T09:11:30.293Z"
   },
   {
    "duration": 85,
    "start_time": "2023-01-07T09:11:30.696Z"
   },
   {
    "duration": 5,
    "start_time": "2023-01-07T09:11:30.783Z"
   },
   {
    "duration": 32,
    "start_time": "2023-01-07T09:11:30.790Z"
   },
   {
    "duration": 0,
    "start_time": "2023-01-07T09:11:30.824Z"
   },
   {
    "duration": 1293,
    "start_time": "2023-01-07T09:12:42.165Z"
   },
   {
    "duration": 721,
    "start_time": "2023-01-07T09:12:43.461Z"
   },
   {
    "duration": 29,
    "start_time": "2023-01-07T09:12:44.184Z"
   },
   {
    "duration": 9,
    "start_time": "2023-01-07T09:12:44.223Z"
   },
   {
    "duration": 26,
    "start_time": "2023-01-07T09:12:44.233Z"
   },
   {
    "duration": 23,
    "start_time": "2023-01-07T09:12:44.261Z"
   },
   {
    "duration": 38,
    "start_time": "2023-01-07T09:12:44.286Z"
   },
   {
    "duration": 6,
    "start_time": "2023-01-07T09:12:44.326Z"
   },
   {
    "duration": 6,
    "start_time": "2023-01-07T09:12:44.333Z"
   },
   {
    "duration": 7,
    "start_time": "2023-01-07T09:12:44.341Z"
   },
   {
    "duration": 7,
    "start_time": "2023-01-07T09:12:44.350Z"
   },
   {
    "duration": 18,
    "start_time": "2023-01-07T09:12:44.358Z"
   },
   {
    "duration": 2,
    "start_time": "2023-01-07T09:12:44.378Z"
   },
   {
    "duration": 40,
    "start_time": "2023-01-07T09:12:44.382Z"
   },
   {
    "duration": 66,
    "start_time": "2023-01-07T09:12:44.424Z"
   },
   {
    "duration": 1580,
    "start_time": "2023-01-07T09:12:44.492Z"
   },
   {
    "duration": 1583,
    "start_time": "2023-01-07T09:12:46.074Z"
   },
   {
    "duration": 1619,
    "start_time": "2023-01-07T09:12:47.659Z"
   },
   {
    "duration": 600,
    "start_time": "2023-01-07T09:12:49.280Z"
   },
   {
    "duration": 610,
    "start_time": "2023-01-07T09:12:49.882Z"
   },
   {
    "duration": 1244,
    "start_time": "2023-01-07T09:12:50.493Z"
   },
   {
    "duration": 1149,
    "start_time": "2023-01-07T09:12:51.739Z"
   },
   {
    "duration": 1096,
    "start_time": "2023-01-07T09:12:52.890Z"
   },
   {
    "duration": 1228,
    "start_time": "2023-01-07T09:12:53.987Z"
   },
   {
    "duration": 11,
    "start_time": "2023-01-07T09:12:55.217Z"
   },
   {
    "duration": 5,
    "start_time": "2023-01-07T09:12:55.229Z"
   },
   {
    "duration": 337,
    "start_time": "2023-01-07T09:12:55.235Z"
   },
   {
    "duration": 80,
    "start_time": "2023-01-07T09:12:55.576Z"
   },
   {
    "duration": 4,
    "start_time": "2023-01-07T09:12:55.657Z"
   },
   {
    "duration": 14,
    "start_time": "2023-01-07T09:12:55.662Z"
   },
   {
    "duration": 0,
    "start_time": "2023-01-07T09:12:55.677Z"
   },
   {
    "duration": 4,
    "start_time": "2023-01-07T09:14:56.741Z"
   },
   {
    "duration": 3,
    "start_time": "2023-01-07T09:15:03.752Z"
   },
   {
    "duration": 3,
    "start_time": "2023-01-07T09:15:13.192Z"
   },
   {
    "duration": 3,
    "start_time": "2023-01-07T09:15:17.992Z"
   },
   {
    "duration": 3,
    "start_time": "2023-01-07T09:15:28.586Z"
   },
   {
    "duration": 1349,
    "start_time": "2023-01-07T09:16:31.504Z"
   },
   {
    "duration": 635,
    "start_time": "2023-01-07T09:16:32.855Z"
   },
   {
    "duration": 19,
    "start_time": "2023-01-07T09:16:33.491Z"
   },
   {
    "duration": 7,
    "start_time": "2023-01-07T09:16:33.523Z"
   },
   {
    "duration": 30,
    "start_time": "2023-01-07T09:16:33.531Z"
   },
   {
    "duration": 25,
    "start_time": "2023-01-07T09:16:33.563Z"
   },
   {
    "duration": 33,
    "start_time": "2023-01-07T09:16:33.589Z"
   },
   {
    "duration": 16,
    "start_time": "2023-01-07T09:16:33.623Z"
   },
   {
    "duration": 42,
    "start_time": "2023-01-07T09:16:33.641Z"
   },
   {
    "duration": 47,
    "start_time": "2023-01-07T09:16:33.685Z"
   },
   {
    "duration": 42,
    "start_time": "2023-01-07T09:16:33.734Z"
   },
   {
    "duration": 34,
    "start_time": "2023-01-07T09:16:33.777Z"
   },
   {
    "duration": 21,
    "start_time": "2023-01-07T09:16:33.813Z"
   },
   {
    "duration": 69,
    "start_time": "2023-01-07T09:16:33.836Z"
   },
   {
    "duration": 74,
    "start_time": "2023-01-07T09:16:33.907Z"
   },
   {
    "duration": 1661,
    "start_time": "2023-01-07T09:16:33.983Z"
   },
   {
    "duration": 1754,
    "start_time": "2023-01-07T09:16:35.646Z"
   },
   {
    "duration": 1792,
    "start_time": "2023-01-07T09:16:37.402Z"
   },
   {
    "duration": 610,
    "start_time": "2023-01-07T09:16:39.196Z"
   },
   {
    "duration": 601,
    "start_time": "2023-01-07T09:16:39.808Z"
   },
   {
    "duration": 1197,
    "start_time": "2023-01-07T09:16:40.411Z"
   },
   {
    "duration": 1203,
    "start_time": "2023-01-07T09:16:41.610Z"
   },
   {
    "duration": 1064,
    "start_time": "2023-01-07T09:16:42.815Z"
   },
   {
    "duration": 1215,
    "start_time": "2023-01-07T09:16:43.881Z"
   },
   {
    "duration": 3,
    "start_time": "2023-01-07T09:16:45.098Z"
   },
   {
    "duration": 385,
    "start_time": "2023-01-07T09:16:45.103Z"
   },
   {
    "duration": 77,
    "start_time": "2023-01-07T09:16:45.490Z"
   },
   {
    "duration": 4,
    "start_time": "2023-01-07T09:16:45.569Z"
   },
   {
    "duration": 21,
    "start_time": "2023-01-07T09:16:45.574Z"
   },
   {
    "duration": 0,
    "start_time": "2023-01-07T09:16:45.596Z"
   },
   {
    "duration": 33,
    "start_time": "2023-01-07T09:17:47.922Z"
   },
   {
    "duration": 6,
    "start_time": "2023-01-07T09:17:55.137Z"
   },
   {
    "duration": 27,
    "start_time": "2023-01-07T09:18:03.220Z"
   },
   {
    "duration": 17,
    "start_time": "2023-01-07T09:18:38.475Z"
   },
   {
    "duration": 1408,
    "start_time": "2023-01-07T09:19:05.300Z"
   },
   {
    "duration": 641,
    "start_time": "2023-01-07T09:19:06.709Z"
   },
   {
    "duration": 18,
    "start_time": "2023-01-07T09:19:07.351Z"
   },
   {
    "duration": 7,
    "start_time": "2023-01-07T09:19:07.371Z"
   },
   {
    "duration": 55,
    "start_time": "2023-01-07T09:19:07.380Z"
   },
   {
    "duration": 23,
    "start_time": "2023-01-07T09:19:07.437Z"
   },
   {
    "duration": 26,
    "start_time": "2023-01-07T09:19:07.462Z"
   },
   {
    "duration": 7,
    "start_time": "2023-01-07T09:19:07.489Z"
   },
   {
    "duration": 28,
    "start_time": "2023-01-07T09:19:07.498Z"
   },
   {
    "duration": 35,
    "start_time": "2023-01-07T09:19:07.528Z"
   },
   {
    "duration": 37,
    "start_time": "2023-01-07T09:19:07.565Z"
   },
   {
    "duration": 42,
    "start_time": "2023-01-07T09:19:07.603Z"
   },
   {
    "duration": 13,
    "start_time": "2023-01-07T09:19:07.647Z"
   },
   {
    "duration": 34,
    "start_time": "2023-01-07T09:19:07.662Z"
   },
   {
    "duration": 64,
    "start_time": "2023-01-07T09:19:07.697Z"
   },
   {
    "duration": 1684,
    "start_time": "2023-01-07T09:19:07.763Z"
   },
   {
    "duration": 1520,
    "start_time": "2023-01-07T09:19:09.450Z"
   },
   {
    "duration": 1601,
    "start_time": "2023-01-07T09:19:10.972Z"
   },
   {
    "duration": 598,
    "start_time": "2023-01-07T09:19:12.575Z"
   },
   {
    "duration": 613,
    "start_time": "2023-01-07T09:19:13.175Z"
   },
   {
    "duration": 1312,
    "start_time": "2023-01-07T09:19:13.789Z"
   },
   {
    "duration": 1108,
    "start_time": "2023-01-07T09:19:15.102Z"
   },
   {
    "duration": 1156,
    "start_time": "2023-01-07T09:19:16.212Z"
   },
   {
    "duration": 1235,
    "start_time": "2023-01-07T09:19:17.370Z"
   },
   {
    "duration": 15,
    "start_time": "2023-01-07T09:19:18.607Z"
   },
   {
    "duration": 40,
    "start_time": "2023-01-07T09:19:18.623Z"
   },
   {
    "duration": 109262,
    "start_time": "2023-01-07T09:19:18.664Z"
   },
   {
    "duration": 73,
    "start_time": "2023-01-07T09:21:07.928Z"
   },
   {
    "duration": 5,
    "start_time": "2023-01-07T09:21:08.002Z"
   },
   {
    "duration": 46,
    "start_time": "2023-01-07T09:21:08.008Z"
   },
   {
    "duration": 0,
    "start_time": "2023-01-07T09:21:08.057Z"
   },
   {
    "duration": 9294,
    "start_time": "2023-01-07T09:31:58.238Z"
   },
   {
    "duration": 108793,
    "start_time": "2023-01-07T09:34:41.982Z"
   },
   {
    "duration": 111472,
    "start_time": "2023-01-07T09:39:55.669Z"
   },
   {
    "duration": 1000,
    "start_time": "2023-01-07T14:39:33.882Z"
   },
   {
    "duration": 1520,
    "start_time": "2023-01-07T14:39:44.973Z"
   },
   {
    "duration": 2762,
    "start_time": "2023-01-07T14:39:46.496Z"
   },
   {
    "duration": 19,
    "start_time": "2023-01-07T14:39:49.260Z"
   },
   {
    "duration": 7,
    "start_time": "2023-01-07T14:39:49.281Z"
   },
   {
    "duration": 25,
    "start_time": "2023-01-07T14:39:49.289Z"
   },
   {
    "duration": 26,
    "start_time": "2023-01-07T14:39:49.316Z"
   },
   {
    "duration": 13,
    "start_time": "2023-01-07T14:39:49.344Z"
   },
   {
    "duration": 6,
    "start_time": "2023-01-07T14:39:49.358Z"
   },
   {
    "duration": 6,
    "start_time": "2023-01-07T14:39:49.365Z"
   },
   {
    "duration": 24,
    "start_time": "2023-01-07T14:39:49.374Z"
   },
   {
    "duration": 6,
    "start_time": "2023-01-07T14:39:49.399Z"
   },
   {
    "duration": 17,
    "start_time": "2023-01-07T14:39:49.406Z"
   },
   {
    "duration": 2,
    "start_time": "2023-01-07T14:39:49.425Z"
   },
   {
    "duration": 14,
    "start_time": "2023-01-07T14:39:49.429Z"
   },
   {
    "duration": 76,
    "start_time": "2023-01-07T14:39:49.445Z"
   },
   {
    "duration": 1528,
    "start_time": "2023-01-07T14:39:49.522Z"
   },
   {
    "duration": 1469,
    "start_time": "2023-01-07T14:39:51.051Z"
   },
   {
    "duration": 1592,
    "start_time": "2023-01-07T14:39:52.521Z"
   },
   {
    "duration": 627,
    "start_time": "2023-01-07T14:39:54.115Z"
   },
   {
    "duration": 620,
    "start_time": "2023-01-07T14:39:54.743Z"
   },
   {
    "duration": 1299,
    "start_time": "2023-01-07T14:39:55.364Z"
   },
   {
    "duration": 1165,
    "start_time": "2023-01-07T14:39:56.664Z"
   },
   {
    "duration": 1100,
    "start_time": "2023-01-07T14:39:57.830Z"
   },
   {
    "duration": 1227,
    "start_time": "2023-01-07T14:39:58.931Z"
   },
   {
    "duration": 9,
    "start_time": "2023-01-07T14:40:00.160Z"
   },
   {
    "duration": 28,
    "start_time": "2023-01-07T14:40:00.171Z"
   },
   {
    "duration": 6,
    "start_time": "2023-01-07T14:40:00.201Z"
   },
   {
    "duration": 105783,
    "start_time": "2023-01-07T14:40:00.210Z"
   },
   {
    "duration": 107373,
    "start_time": "2023-01-07T14:41:45.995Z"
   },
   {
    "duration": 49,
    "start_time": "2023-01-07T14:43:33.370Z"
   },
   {
    "duration": 3,
    "start_time": "2023-01-07T14:43:33.421Z"
   },
   {
    "duration": 14,
    "start_time": "2023-01-07T14:43:33.425Z"
   },
   {
    "duration": 0,
    "start_time": "2023-01-07T14:43:33.440Z"
   },
   {
    "duration": 99,
    "start_time": "2023-01-07T14:55:15.952Z"
   },
   {
    "duration": 95629,
    "start_time": "2023-01-07T15:05:42.005Z"
   },
   {
    "duration": 4,
    "start_time": "2023-01-07T15:07:20.508Z"
   },
   {
    "duration": 132,
    "start_time": "2023-01-07T15:07:44.555Z"
   },
   {
    "duration": 3,
    "start_time": "2023-01-07T15:26:01.807Z"
   },
   {
    "duration": 126,
    "start_time": "2023-01-07T15:26:06.314Z"
   },
   {
    "duration": 3,
    "start_time": "2023-01-07T15:36:40.533Z"
   },
   {
    "duration": 3,
    "start_time": "2023-01-07T16:49:52.450Z"
   },
   {
    "duration": 3,
    "start_time": "2023-01-07T16:49:55.024Z"
   },
   {
    "duration": 6,
    "start_time": "2023-01-07T16:52:27.700Z"
   },
   {
    "duration": 10,
    "start_time": "2023-01-07T16:52:36.004Z"
   },
   {
    "duration": 47,
    "start_time": "2023-01-07T17:08:14.664Z"
   },
   {
    "duration": 20,
    "start_time": "2023-01-07T17:20:44.310Z"
   },
   {
    "duration": 30,
    "start_time": "2023-01-07T17:21:04.692Z"
   },
   {
    "duration": 1303,
    "start_time": "2023-01-07T17:21:36.084Z"
   },
   {
    "duration": 636,
    "start_time": "2023-01-07T17:21:37.389Z"
   },
   {
    "duration": 18,
    "start_time": "2023-01-07T17:21:38.027Z"
   },
   {
    "duration": 6,
    "start_time": "2023-01-07T17:21:38.048Z"
   },
   {
    "duration": 44,
    "start_time": "2023-01-07T17:21:38.056Z"
   },
   {
    "duration": 23,
    "start_time": "2023-01-07T17:21:38.101Z"
   },
   {
    "duration": 13,
    "start_time": "2023-01-07T17:21:38.126Z"
   },
   {
    "duration": 6,
    "start_time": "2023-01-07T17:21:38.140Z"
   },
   {
    "duration": 5,
    "start_time": "2023-01-07T17:21:38.147Z"
   },
   {
    "duration": 4,
    "start_time": "2023-01-07T17:21:38.154Z"
   },
   {
    "duration": 5,
    "start_time": "2023-01-07T17:21:38.159Z"
   },
   {
    "duration": 43,
    "start_time": "2023-01-07T17:21:38.165Z"
   },
   {
    "duration": 15,
    "start_time": "2023-01-07T17:21:38.210Z"
   },
   {
    "duration": 11,
    "start_time": "2023-01-07T17:21:38.226Z"
   },
   {
    "duration": 10,
    "start_time": "2023-01-07T17:21:38.239Z"
   },
   {
    "duration": 9,
    "start_time": "2023-01-07T17:21:38.250Z"
   },
   {
    "duration": 18,
    "start_time": "2023-01-07T17:21:38.261Z"
   },
   {
    "duration": 68,
    "start_time": "2023-01-07T17:21:38.280Z"
   },
   {
    "duration": 1500,
    "start_time": "2023-01-07T17:21:38.349Z"
   },
   {
    "duration": 1593,
    "start_time": "2023-01-07T17:21:39.851Z"
   },
   {
    "duration": 2174,
    "start_time": "2023-01-07T17:21:41.445Z"
   },
   {
    "duration": 935,
    "start_time": "2023-01-07T17:21:43.620Z"
   },
   {
    "duration": 624,
    "start_time": "2023-01-07T17:21:44.556Z"
   },
   {
    "duration": 1348,
    "start_time": "2023-01-07T17:21:45.182Z"
   },
   {
    "duration": 1215,
    "start_time": "2023-01-07T17:21:46.532Z"
   },
   {
    "duration": 1099,
    "start_time": "2023-01-07T17:21:47.749Z"
   },
   {
    "duration": 1226,
    "start_time": "2023-01-07T17:21:48.849Z"
   },
   {
    "duration": 132,
    "start_time": "2023-01-07T17:21:50.078Z"
   },
   {
    "duration": 0,
    "start_time": "2023-01-07T17:21:50.212Z"
   },
   {
    "duration": 0,
    "start_time": "2023-01-07T17:21:50.213Z"
   },
   {
    "duration": 0,
    "start_time": "2023-01-07T17:21:50.214Z"
   },
   {
    "duration": 0,
    "start_time": "2023-01-07T17:21:50.215Z"
   },
   {
    "duration": 0,
    "start_time": "2023-01-07T17:21:50.216Z"
   },
   {
    "duration": 0,
    "start_time": "2023-01-07T17:21:50.217Z"
   },
   {
    "duration": 0,
    "start_time": "2023-01-07T17:21:50.218Z"
   },
   {
    "duration": 0,
    "start_time": "2023-01-07T17:21:50.218Z"
   },
   {
    "duration": 0,
    "start_time": "2023-01-07T17:21:50.220Z"
   },
   {
    "duration": 0,
    "start_time": "2023-01-07T17:21:50.220Z"
   },
   {
    "duration": 12,
    "start_time": "2023-01-07T17:22:28.580Z"
   },
   {
    "duration": 25,
    "start_time": "2023-01-07T17:22:45.032Z"
   },
   {
    "duration": 28,
    "start_time": "2023-01-07T17:22:50.829Z"
   },
   {
    "duration": 7,
    "start_time": "2023-01-07T17:31:46.211Z"
   },
   {
    "duration": 1262,
    "start_time": "2023-01-07T17:36:07.853Z"
   },
   {
    "duration": 671,
    "start_time": "2023-01-07T17:36:09.118Z"
   },
   {
    "duration": 26,
    "start_time": "2023-01-07T17:36:09.791Z"
   },
   {
    "duration": 11,
    "start_time": "2023-01-07T17:36:09.819Z"
   },
   {
    "duration": 29,
    "start_time": "2023-01-07T17:36:09.832Z"
   },
   {
    "duration": 23,
    "start_time": "2023-01-07T17:36:09.862Z"
   },
   {
    "duration": 17,
    "start_time": "2023-01-07T17:36:09.897Z"
   },
   {
    "duration": 13,
    "start_time": "2023-01-07T17:36:09.915Z"
   },
   {
    "duration": 15,
    "start_time": "2023-01-07T17:36:09.930Z"
   },
   {
    "duration": 8,
    "start_time": "2023-01-07T17:36:09.947Z"
   },
   {
    "duration": 5,
    "start_time": "2023-01-07T17:36:09.957Z"
   },
   {
    "duration": 16,
    "start_time": "2023-01-07T17:36:09.963Z"
   },
   {
    "duration": 33,
    "start_time": "2023-01-07T17:36:09.980Z"
   },
   {
    "duration": 109,
    "start_time": "2023-01-07T17:36:10.016Z"
   },
   {
    "duration": 0,
    "start_time": "2023-01-07T17:36:10.126Z"
   },
   {
    "duration": 0,
    "start_time": "2023-01-07T17:36:10.127Z"
   },
   {
    "duration": 0,
    "start_time": "2023-01-07T17:36:10.128Z"
   },
   {
    "duration": 0,
    "start_time": "2023-01-07T17:36:10.129Z"
   },
   {
    "duration": 0,
    "start_time": "2023-01-07T17:36:10.131Z"
   },
   {
    "duration": 0,
    "start_time": "2023-01-07T17:36:10.132Z"
   },
   {
    "duration": 0,
    "start_time": "2023-01-07T17:36:10.133Z"
   },
   {
    "duration": 0,
    "start_time": "2023-01-07T17:36:10.134Z"
   },
   {
    "duration": 0,
    "start_time": "2023-01-07T17:36:10.135Z"
   },
   {
    "duration": 0,
    "start_time": "2023-01-07T17:36:10.136Z"
   },
   {
    "duration": 0,
    "start_time": "2023-01-07T17:36:10.138Z"
   },
   {
    "duration": 0,
    "start_time": "2023-01-07T17:36:10.139Z"
   },
   {
    "duration": 0,
    "start_time": "2023-01-07T17:36:10.140Z"
   },
   {
    "duration": 0,
    "start_time": "2023-01-07T17:36:10.141Z"
   },
   {
    "duration": 0,
    "start_time": "2023-01-07T17:36:10.142Z"
   },
   {
    "duration": 0,
    "start_time": "2023-01-07T17:36:10.143Z"
   },
   {
    "duration": 0,
    "start_time": "2023-01-07T17:36:10.144Z"
   },
   {
    "duration": 0,
    "start_time": "2023-01-07T17:36:10.145Z"
   },
   {
    "duration": 0,
    "start_time": "2023-01-07T17:36:10.146Z"
   },
   {
    "duration": 0,
    "start_time": "2023-01-07T17:36:10.147Z"
   },
   {
    "duration": 0,
    "start_time": "2023-01-07T17:36:10.148Z"
   },
   {
    "duration": 0,
    "start_time": "2023-01-07T17:36:10.149Z"
   },
   {
    "duration": 0,
    "start_time": "2023-01-07T17:36:10.150Z"
   },
   {
    "duration": 0,
    "start_time": "2023-01-07T17:36:10.151Z"
   },
   {
    "duration": 0,
    "start_time": "2023-01-07T17:36:10.152Z"
   },
   {
    "duration": 812,
    "start_time": "2023-01-07T17:39:07.649Z"
   },
   {
    "duration": 729,
    "start_time": "2023-01-07T17:39:17.150Z"
   },
   {
    "duration": 14,
    "start_time": "2023-01-07T17:45:48.797Z"
   },
   {
    "duration": 12,
    "start_time": "2023-01-07T17:47:19.875Z"
   },
   {
    "duration": 14,
    "start_time": "2023-01-07T17:47:20.769Z"
   },
   {
    "duration": 12,
    "start_time": "2023-01-07T17:50:00.779Z"
   },
   {
    "duration": 29,
    "start_time": "2023-01-07T17:50:09.621Z"
   },
   {
    "duration": 6,
    "start_time": "2023-01-07T17:56:51.561Z"
   },
   {
    "duration": 13,
    "start_time": "2023-01-07T18:01:45.448Z"
   },
   {
    "duration": 7,
    "start_time": "2023-01-07T18:02:51.226Z"
   },
   {
    "duration": 879,
    "start_time": "2023-01-07T18:03:31.575Z"
   },
   {
    "duration": 880,
    "start_time": "2023-01-07T18:03:36.886Z"
   },
   {
    "duration": 826,
    "start_time": "2023-01-07T18:04:13.660Z"
   },
   {
    "duration": 5,
    "start_time": "2023-01-07T18:04:39.523Z"
   },
   {
    "duration": 11,
    "start_time": "2023-01-07T18:04:40.168Z"
   },
   {
    "duration": 833,
    "start_time": "2023-01-07T18:04:41.819Z"
   },
   {
    "duration": 5,
    "start_time": "2023-01-07T18:05:15.576Z"
   },
   {
    "duration": 7,
    "start_time": "2023-01-07T18:05:21.346Z"
   },
   {
    "duration": 14,
    "start_time": "2023-01-07T18:06:04.019Z"
   },
   {
    "duration": 27,
    "start_time": "2023-01-07T18:06:16.424Z"
   },
   {
    "duration": 10,
    "start_time": "2023-01-07T18:06:34.658Z"
   },
   {
    "duration": 25,
    "start_time": "2023-01-07T18:08:24.304Z"
   },
   {
    "duration": 40,
    "start_time": "2023-01-07T18:08:25.272Z"
   },
   {
    "duration": 17,
    "start_time": "2023-01-07T18:08:40.969Z"
   },
   {
    "duration": 30,
    "start_time": "2023-01-07T18:08:42.338Z"
   },
   {
    "duration": 11,
    "start_time": "2023-01-07T18:09:05.027Z"
   },
   {
    "duration": 25,
    "start_time": "2023-01-07T18:09:07.449Z"
   },
   {
    "duration": 15,
    "start_time": "2023-01-07T18:10:03.042Z"
   },
   {
    "duration": 18,
    "start_time": "2023-01-07T18:10:11.538Z"
   },
   {
    "duration": 38,
    "start_time": "2023-01-07T18:10:12.920Z"
   },
   {
    "duration": 20,
    "start_time": "2023-01-07T18:10:22.425Z"
   },
   {
    "duration": 31,
    "start_time": "2023-01-07T18:10:23.725Z"
   },
   {
    "duration": 12,
    "start_time": "2023-01-07T18:10:32.957Z"
   },
   {
    "duration": 26,
    "start_time": "2023-01-07T18:10:33.956Z"
   },
   {
    "duration": 15,
    "start_time": "2023-01-07T18:12:50.258Z"
   },
   {
    "duration": 37,
    "start_time": "2023-01-07T18:12:51.395Z"
   },
   {
    "duration": 12,
    "start_time": "2023-01-07T18:12:56.903Z"
   },
   {
    "duration": 15,
    "start_time": "2023-01-07T18:12:57.726Z"
   },
   {
    "duration": 35,
    "start_time": "2023-01-07T18:12:58.703Z"
   },
   {
    "duration": 22,
    "start_time": "2023-01-07T18:13:06.485Z"
   },
   {
    "duration": 30,
    "start_time": "2023-01-07T18:13:07.236Z"
   },
   {
    "duration": 16,
    "start_time": "2023-01-07T18:13:58.435Z"
   },
   {
    "duration": 50,
    "start_time": "2023-01-07T18:13:59.460Z"
   },
   {
    "duration": 43,
    "start_time": "2023-01-07T18:14:20.682Z"
   },
   {
    "duration": 14,
    "start_time": "2023-01-07T18:18:06.963Z"
   },
   {
    "duration": 20,
    "start_time": "2023-01-07T18:18:07.453Z"
   },
   {
    "duration": 30,
    "start_time": "2023-01-07T18:18:13.722Z"
   },
   {
    "duration": 28,
    "start_time": "2023-01-07T18:18:24.626Z"
   },
   {
    "duration": 70,
    "start_time": "2023-01-07T18:20:56.247Z"
   },
   {
    "duration": 25,
    "start_time": "2023-01-07T18:21:16.926Z"
   },
   {
    "duration": 59,
    "start_time": "2023-01-07T18:21:46.767Z"
   },
   {
    "duration": 33,
    "start_time": "2023-01-07T18:21:50.198Z"
   },
   {
    "duration": 7,
    "start_time": "2023-01-07T18:30:38.807Z"
   },
   {
    "duration": 14,
    "start_time": "2023-01-07T18:30:39.712Z"
   },
   {
    "duration": 14,
    "start_time": "2023-01-07T18:30:41.008Z"
   },
   {
    "duration": 14,
    "start_time": "2023-01-07T18:30:45.119Z"
   },
   {
    "duration": 679,
    "start_time": "2023-01-07T18:30:51.151Z"
   },
   {
    "duration": 3,
    "start_time": "2023-01-07T18:30:57.297Z"
   },
   {
    "duration": 17,
    "start_time": "2023-01-07T18:31:00.201Z"
   },
   {
    "duration": 13,
    "start_time": "2023-01-07T18:34:25.463Z"
   },
   {
    "duration": 10,
    "start_time": "2023-01-07T18:35:37.353Z"
   },
   {
    "duration": 13,
    "start_time": "2023-01-07T18:36:00.537Z"
   },
   {
    "duration": 14,
    "start_time": "2023-01-07T18:38:22.370Z"
   },
   {
    "duration": 28,
    "start_time": "2023-01-07T18:38:31.378Z"
   },
   {
    "duration": 27,
    "start_time": "2023-01-07T18:38:39.987Z"
   },
   {
    "duration": 10,
    "start_time": "2023-01-07T18:43:09.670Z"
   },
   {
    "duration": 24,
    "start_time": "2023-01-07T18:43:23.429Z"
   },
   {
    "duration": 25,
    "start_time": "2023-01-07T18:43:42.070Z"
   },
   {
    "duration": 9,
    "start_time": "2023-01-07T18:44:21.445Z"
   },
   {
    "duration": 16,
    "start_time": "2023-01-07T18:45:38.031Z"
   },
   {
    "duration": 14,
    "start_time": "2023-01-07T18:46:08.029Z"
   },
   {
    "duration": 22,
    "start_time": "2023-01-07T18:46:08.414Z"
   },
   {
    "duration": 9,
    "start_time": "2023-01-07T18:46:18.157Z"
   },
   {
    "duration": 9,
    "start_time": "2023-01-07T18:46:27.421Z"
   },
   {
    "duration": 9,
    "start_time": "2023-01-07T18:46:32.342Z"
   },
   {
    "duration": 18,
    "start_time": "2023-01-07T18:46:51.884Z"
   },
   {
    "duration": 10,
    "start_time": "2023-01-07T18:47:01.421Z"
   },
   {
    "duration": 21,
    "start_time": "2023-01-07T18:47:11.631Z"
   },
   {
    "duration": 17,
    "start_time": "2023-01-07T18:47:12.159Z"
   },
   {
    "duration": 11,
    "start_time": "2023-01-07T18:47:17.327Z"
   },
   {
    "duration": 1408,
    "start_time": "2023-01-07T18:58:17.989Z"
   },
   {
    "duration": 745,
    "start_time": "2023-01-07T18:58:19.399Z"
   },
   {
    "duration": 24,
    "start_time": "2023-01-07T18:58:20.145Z"
   },
   {
    "duration": 29,
    "start_time": "2023-01-07T18:58:20.172Z"
   },
   {
    "duration": 52,
    "start_time": "2023-01-07T18:58:20.203Z"
   },
   {
    "duration": 27,
    "start_time": "2023-01-07T18:58:20.256Z"
   },
   {
    "duration": 18,
    "start_time": "2023-01-07T18:58:20.285Z"
   },
   {
    "duration": 23,
    "start_time": "2023-01-07T18:58:20.304Z"
   },
   {
    "duration": 22,
    "start_time": "2023-01-07T18:58:20.329Z"
   },
   {
    "duration": 18,
    "start_time": "2023-01-07T18:58:20.355Z"
   },
   {
    "duration": 7,
    "start_time": "2023-01-07T18:58:20.375Z"
   },
   {
    "duration": 32,
    "start_time": "2023-01-07T18:58:20.384Z"
   },
   {
    "duration": 35,
    "start_time": "2023-01-07T18:58:20.419Z"
   },
   {
    "duration": 120,
    "start_time": "2023-01-07T18:58:20.456Z"
   },
   {
    "duration": 0,
    "start_time": "2023-01-07T18:58:20.578Z"
   },
   {
    "duration": 0,
    "start_time": "2023-01-07T18:58:20.580Z"
   },
   {
    "duration": 0,
    "start_time": "2023-01-07T18:58:20.581Z"
   },
   {
    "duration": 0,
    "start_time": "2023-01-07T18:58:20.583Z"
   },
   {
    "duration": 0,
    "start_time": "2023-01-07T18:58:20.598Z"
   },
   {
    "duration": 0,
    "start_time": "2023-01-07T18:58:20.599Z"
   },
   {
    "duration": 0,
    "start_time": "2023-01-07T18:58:20.600Z"
   },
   {
    "duration": 0,
    "start_time": "2023-01-07T18:58:20.602Z"
   },
   {
    "duration": 0,
    "start_time": "2023-01-07T18:58:20.604Z"
   },
   {
    "duration": 0,
    "start_time": "2023-01-07T18:58:20.606Z"
   },
   {
    "duration": 0,
    "start_time": "2023-01-07T18:58:20.607Z"
   },
   {
    "duration": 0,
    "start_time": "2023-01-07T18:58:20.609Z"
   },
   {
    "duration": 0,
    "start_time": "2023-01-07T18:58:20.611Z"
   },
   {
    "duration": 0,
    "start_time": "2023-01-07T18:58:20.612Z"
   },
   {
    "duration": 0,
    "start_time": "2023-01-07T18:58:20.613Z"
   },
   {
    "duration": 0,
    "start_time": "2023-01-07T18:58:20.620Z"
   },
   {
    "duration": 0,
    "start_time": "2023-01-07T18:58:20.623Z"
   },
   {
    "duration": 0,
    "start_time": "2023-01-07T18:58:20.624Z"
   },
   {
    "duration": 0,
    "start_time": "2023-01-07T18:58:20.626Z"
   },
   {
    "duration": 0,
    "start_time": "2023-01-07T18:58:20.626Z"
   },
   {
    "duration": 0,
    "start_time": "2023-01-07T18:58:20.628Z"
   },
   {
    "duration": 0,
    "start_time": "2023-01-07T18:58:20.629Z"
   },
   {
    "duration": 0,
    "start_time": "2023-01-07T18:58:20.630Z"
   },
   {
    "duration": 0,
    "start_time": "2023-01-07T18:58:20.631Z"
   },
   {
    "duration": 0,
    "start_time": "2023-01-07T18:58:20.632Z"
   },
   {
    "duration": 753,
    "start_time": "2023-01-07T18:59:43.114Z"
   },
   {
    "duration": 31,
    "start_time": "2023-01-07T18:59:57.710Z"
   },
   {
    "duration": 30,
    "start_time": "2023-01-07T19:00:18.537Z"
   },
   {
    "duration": 7,
    "start_time": "2023-01-07T19:01:04.720Z"
   },
   {
    "duration": 23,
    "start_time": "2023-01-07T19:01:05.544Z"
   },
   {
    "duration": 1317,
    "start_time": "2023-01-07T19:01:18.273Z"
   },
   {
    "duration": 700,
    "start_time": "2023-01-07T19:01:19.592Z"
   },
   {
    "duration": 20,
    "start_time": "2023-01-07T19:01:20.296Z"
   },
   {
    "duration": 9,
    "start_time": "2023-01-07T19:01:20.318Z"
   },
   {
    "duration": 28,
    "start_time": "2023-01-07T19:01:20.328Z"
   },
   {
    "duration": 50,
    "start_time": "2023-01-07T19:01:20.358Z"
   },
   {
    "duration": 13,
    "start_time": "2023-01-07T19:01:20.410Z"
   },
   {
    "duration": 6,
    "start_time": "2023-01-07T19:01:20.425Z"
   },
   {
    "duration": 9,
    "start_time": "2023-01-07T19:01:20.432Z"
   },
   {
    "duration": 8,
    "start_time": "2023-01-07T19:01:20.443Z"
   },
   {
    "duration": 6,
    "start_time": "2023-01-07T19:01:20.452Z"
   },
   {
    "duration": 24,
    "start_time": "2023-01-07T19:01:20.459Z"
   },
   {
    "duration": 36,
    "start_time": "2023-01-07T19:01:20.484Z"
   },
   {
    "duration": 113,
    "start_time": "2023-01-07T19:01:20.522Z"
   },
   {
    "duration": 0,
    "start_time": "2023-01-07T19:01:20.637Z"
   },
   {
    "duration": 0,
    "start_time": "2023-01-07T19:01:20.638Z"
   },
   {
    "duration": 0,
    "start_time": "2023-01-07T19:01:20.639Z"
   },
   {
    "duration": 0,
    "start_time": "2023-01-07T19:01:20.640Z"
   },
   {
    "duration": 0,
    "start_time": "2023-01-07T19:01:20.641Z"
   },
   {
    "duration": 0,
    "start_time": "2023-01-07T19:01:20.642Z"
   },
   {
    "duration": 0,
    "start_time": "2023-01-07T19:01:20.643Z"
   },
   {
    "duration": 0,
    "start_time": "2023-01-07T19:01:20.644Z"
   },
   {
    "duration": 0,
    "start_time": "2023-01-07T19:01:20.646Z"
   },
   {
    "duration": 0,
    "start_time": "2023-01-07T19:01:20.647Z"
   },
   {
    "duration": 0,
    "start_time": "2023-01-07T19:01:20.648Z"
   },
   {
    "duration": 0,
    "start_time": "2023-01-07T19:01:20.649Z"
   },
   {
    "duration": 0,
    "start_time": "2023-01-07T19:01:20.650Z"
   },
   {
    "duration": 0,
    "start_time": "2023-01-07T19:01:20.650Z"
   },
   {
    "duration": 0,
    "start_time": "2023-01-07T19:01:20.651Z"
   },
   {
    "duration": 0,
    "start_time": "2023-01-07T19:01:20.652Z"
   },
   {
    "duration": 0,
    "start_time": "2023-01-07T19:01:20.653Z"
   },
   {
    "duration": 0,
    "start_time": "2023-01-07T19:01:20.654Z"
   },
   {
    "duration": 0,
    "start_time": "2023-01-07T19:01:20.655Z"
   },
   {
    "duration": 0,
    "start_time": "2023-01-07T19:01:20.656Z"
   },
   {
    "duration": 0,
    "start_time": "2023-01-07T19:01:20.657Z"
   },
   {
    "duration": 0,
    "start_time": "2023-01-07T19:01:20.700Z"
   },
   {
    "duration": 0,
    "start_time": "2023-01-07T19:01:20.700Z"
   },
   {
    "duration": 0,
    "start_time": "2023-01-07T19:01:20.701Z"
   },
   {
    "duration": 0,
    "start_time": "2023-01-07T19:01:20.702Z"
   },
   {
    "duration": 737,
    "start_time": "2023-01-07T19:02:12.802Z"
   },
   {
    "duration": 5,
    "start_time": "2023-01-07T19:02:27.746Z"
   },
   {
    "duration": 6,
    "start_time": "2023-01-07T19:03:19.041Z"
   },
   {
    "duration": 6,
    "start_time": "2023-01-07T19:05:30.292Z"
   },
   {
    "duration": 28,
    "start_time": "2023-01-07T19:05:30.945Z"
   },
   {
    "duration": 6,
    "start_time": "2023-01-07T19:05:32.596Z"
   },
   {
    "duration": 705,
    "start_time": "2023-01-07T19:05:37.259Z"
   },
   {
    "duration": 6,
    "start_time": "2023-01-07T19:11:24.116Z"
   },
   {
    "duration": 6,
    "start_time": "2023-01-07T19:11:48.699Z"
   },
   {
    "duration": 681,
    "start_time": "2023-01-07T19:12:19.588Z"
   },
   {
    "duration": 8,
    "start_time": "2023-01-07T19:12:33.244Z"
   },
   {
    "duration": 7,
    "start_time": "2023-01-07T19:12:45.805Z"
   },
   {
    "duration": 692,
    "start_time": "2023-01-07T19:12:57.771Z"
   },
   {
    "duration": 6,
    "start_time": "2023-01-07T19:13:20.459Z"
   },
   {
    "duration": 30,
    "start_time": "2023-01-07T19:13:21.051Z"
   },
   {
    "duration": 6,
    "start_time": "2023-01-07T19:13:21.323Z"
   },
   {
    "duration": 15,
    "start_time": "2023-01-07T19:13:29.002Z"
   },
   {
    "duration": 4,
    "start_time": "2023-01-07T19:13:29.797Z"
   },
   {
    "duration": 4,
    "start_time": "2023-01-07T19:13:30.891Z"
   },
   {
    "duration": 8,
    "start_time": "2023-01-07T19:13:33.787Z"
   },
   {
    "duration": 7,
    "start_time": "2023-01-07T19:14:45.479Z"
   },
   {
    "duration": 22,
    "start_time": "2023-01-07T19:14:45.783Z"
   },
   {
    "duration": 11,
    "start_time": "2023-01-07T19:14:46.747Z"
   },
   {
    "duration": 4,
    "start_time": "2023-01-07T19:14:47.181Z"
   },
   {
    "duration": 6,
    "start_time": "2023-01-07T19:14:47.933Z"
   },
   {
    "duration": 3,
    "start_time": "2023-01-07T19:14:51.492Z"
   },
   {
    "duration": 20,
    "start_time": "2023-01-07T19:15:58.967Z"
   },
   {
    "duration": 708,
    "start_time": "2023-01-07T19:16:49.133Z"
   },
   {
    "duration": 771,
    "start_time": "2023-01-07T19:17:03.470Z"
   },
   {
    "duration": 687,
    "start_time": "2023-01-07T19:17:11.165Z"
   },
   {
    "duration": 714,
    "start_time": "2023-01-07T19:17:17.941Z"
   },
   {
    "duration": 575,
    "start_time": "2023-01-07T19:17:23.957Z"
   },
   {
    "duration": 5,
    "start_time": "2023-01-07T19:17:43.038Z"
   },
   {
    "duration": 6,
    "start_time": "2023-01-07T19:17:51.709Z"
   },
   {
    "duration": 705,
    "start_time": "2023-01-07T19:18:32.477Z"
   },
   {
    "duration": 6,
    "start_time": "2023-01-07T19:19:07.525Z"
   },
   {
    "duration": 5,
    "start_time": "2023-01-07T19:20:38.047Z"
   },
   {
    "duration": 5,
    "start_time": "2023-01-07T19:21:04.366Z"
   },
   {
    "duration": 749,
    "start_time": "2023-01-07T19:21:05.743Z"
   },
   {
    "duration": 5,
    "start_time": "2023-01-07T19:21:09.684Z"
   },
   {
    "duration": 4,
    "start_time": "2023-01-07T19:21:20.741Z"
   },
   {
    "duration": 10,
    "start_time": "2023-01-07T19:21:29.526Z"
   },
   {
    "duration": 11,
    "start_time": "2023-01-07T19:21:42.191Z"
   },
   {
    "duration": 10,
    "start_time": "2023-01-07T19:21:52.871Z"
   },
   {
    "duration": 11,
    "start_time": "2023-01-07T19:22:09.437Z"
   },
   {
    "duration": 5,
    "start_time": "2023-01-07T19:22:14.317Z"
   },
   {
    "duration": 5,
    "start_time": "2023-01-07T19:22:55.783Z"
   },
   {
    "duration": 11,
    "start_time": "2023-01-07T19:23:09.510Z"
   },
   {
    "duration": 9,
    "start_time": "2023-01-07T19:23:30.864Z"
   },
   {
    "duration": 11,
    "start_time": "2023-01-07T19:23:48.952Z"
   },
   {
    "duration": 8,
    "start_time": "2023-01-07T19:24:00.743Z"
   },
   {
    "duration": 5,
    "start_time": "2023-01-07T19:24:13.906Z"
   },
   {
    "duration": 4,
    "start_time": "2023-01-07T19:27:58.368Z"
   },
   {
    "duration": 3,
    "start_time": "2023-01-07T19:31:11.752Z"
   },
   {
    "duration": 4,
    "start_time": "2023-01-07T19:31:22.145Z"
   },
   {
    "duration": 4,
    "start_time": "2023-01-07T19:32:01.187Z"
   },
   {
    "duration": 2,
    "start_time": "2023-01-07T19:33:10.116Z"
   },
   {
    "duration": 2,
    "start_time": "2023-01-07T19:33:10.833Z"
   },
   {
    "duration": 24,
    "start_time": "2023-01-07T19:33:20.953Z"
   },
   {
    "duration": 4,
    "start_time": "2023-01-07T19:33:50.338Z"
   },
   {
    "duration": 1364,
    "start_time": "2023-01-07T19:34:04.112Z"
   },
   {
    "duration": 741,
    "start_time": "2023-01-07T19:34:05.478Z"
   },
   {
    "duration": 23,
    "start_time": "2023-01-07T19:34:06.221Z"
   },
   {
    "duration": 8,
    "start_time": "2023-01-07T19:34:06.245Z"
   },
   {
    "duration": 50,
    "start_time": "2023-01-07T19:34:06.256Z"
   },
   {
    "duration": 24,
    "start_time": "2023-01-07T19:34:06.314Z"
   },
   {
    "duration": 14,
    "start_time": "2023-01-07T19:34:06.340Z"
   },
   {
    "duration": 8,
    "start_time": "2023-01-07T19:34:06.355Z"
   },
   {
    "duration": 5,
    "start_time": "2023-01-07T19:34:06.364Z"
   },
   {
    "duration": 36,
    "start_time": "2023-01-07T19:34:06.370Z"
   },
   {
    "duration": 6,
    "start_time": "2023-01-07T19:34:06.409Z"
   },
   {
    "duration": 18,
    "start_time": "2023-01-07T19:34:06.417Z"
   },
   {
    "duration": 23,
    "start_time": "2023-01-07T19:34:06.436Z"
   },
   {
    "duration": 14,
    "start_time": "2023-01-07T19:34:06.462Z"
   },
   {
    "duration": 4,
    "start_time": "2023-01-07T19:34:06.477Z"
   },
   {
    "duration": 11,
    "start_time": "2023-01-07T19:34:06.498Z"
   },
   {
    "duration": 7,
    "start_time": "2023-01-07T19:34:06.510Z"
   },
   {
    "duration": 5,
    "start_time": "2023-01-07T19:34:06.518Z"
   },
   {
    "duration": 5,
    "start_time": "2023-01-07T19:34:06.525Z"
   },
   {
    "duration": 9,
    "start_time": "2023-01-07T19:34:06.531Z"
   },
   {
    "duration": 14,
    "start_time": "2023-01-07T19:34:06.541Z"
   },
   {
    "duration": 6,
    "start_time": "2023-01-07T19:34:06.557Z"
   },
   {
    "duration": 10,
    "start_time": "2023-01-07T19:34:06.565Z"
   },
   {
    "duration": 74,
    "start_time": "2023-01-07T19:34:06.576Z"
   },
   {
    "duration": 1915,
    "start_time": "2023-01-07T19:34:06.651Z"
   },
   {
    "duration": 2464,
    "start_time": "2023-01-07T19:34:08.606Z"
   },
   {
    "duration": 1696,
    "start_time": "2023-01-07T19:34:11.071Z"
   },
   {
    "duration": 593,
    "start_time": "2023-01-07T19:34:12.770Z"
   },
   {
    "duration": 618,
    "start_time": "2023-01-07T19:34:13.365Z"
   },
   {
    "duration": 1323,
    "start_time": "2023-01-07T19:34:13.985Z"
   },
   {
    "duration": 1271,
    "start_time": "2023-01-07T19:34:15.309Z"
   },
   {
    "duration": 1263,
    "start_time": "2023-01-07T19:34:16.581Z"
   },
   {
    "duration": 1223,
    "start_time": "2023-01-07T19:34:17.846Z"
   },
   {
    "duration": 137,
    "start_time": "2023-01-07T19:34:19.071Z"
   },
   {
    "duration": 0,
    "start_time": "2023-01-07T19:34:19.210Z"
   },
   {
    "duration": 0,
    "start_time": "2023-01-07T19:34:19.210Z"
   },
   {
    "duration": 0,
    "start_time": "2023-01-07T19:34:19.211Z"
   },
   {
    "duration": 0,
    "start_time": "2023-01-07T19:34:19.213Z"
   },
   {
    "duration": 0,
    "start_time": "2023-01-07T19:34:19.214Z"
   },
   {
    "duration": 0,
    "start_time": "2023-01-07T19:34:19.216Z"
   },
   {
    "duration": 0,
    "start_time": "2023-01-07T19:34:19.218Z"
   },
   {
    "duration": 0,
    "start_time": "2023-01-07T19:34:19.219Z"
   },
   {
    "duration": 0,
    "start_time": "2023-01-07T19:34:19.220Z"
   },
   {
    "duration": 0,
    "start_time": "2023-01-07T19:34:19.222Z"
   },
   {
    "duration": 6,
    "start_time": "2023-01-07T19:34:49.561Z"
   },
   {
    "duration": 6,
    "start_time": "2023-01-07T19:36:52.635Z"
   },
   {
    "duration": 5,
    "start_time": "2023-01-07T19:36:53.346Z"
   },
   {
    "duration": 2,
    "start_time": "2023-01-07T19:36:55.515Z"
   },
   {
    "duration": 3,
    "start_time": "2023-01-07T19:36:55.882Z"
   },
   {
    "duration": 9,
    "start_time": "2023-01-07T19:36:56.234Z"
   },
   {
    "duration": 5,
    "start_time": "2023-01-07T19:37:14.625Z"
   },
   {
    "duration": 5,
    "start_time": "2023-01-07T19:37:31.523Z"
   },
   {
    "duration": 6,
    "start_time": "2023-01-07T19:37:50.922Z"
   },
   {
    "duration": 1344,
    "start_time": "2023-01-07T19:40:47.076Z"
   },
   {
    "duration": 660,
    "start_time": "2023-01-07T19:40:48.422Z"
   },
   {
    "duration": 23,
    "start_time": "2023-01-07T19:40:49.084Z"
   },
   {
    "duration": 8,
    "start_time": "2023-01-07T19:40:49.110Z"
   },
   {
    "duration": 29,
    "start_time": "2023-01-07T19:40:49.120Z"
   },
   {
    "duration": 49,
    "start_time": "2023-01-07T19:40:49.151Z"
   },
   {
    "duration": 13,
    "start_time": "2023-01-07T19:40:49.202Z"
   },
   {
    "duration": 6,
    "start_time": "2023-01-07T19:40:49.217Z"
   },
   {
    "duration": 8,
    "start_time": "2023-01-07T19:40:49.224Z"
   },
   {
    "duration": 6,
    "start_time": "2023-01-07T19:40:49.235Z"
   },
   {
    "duration": 5,
    "start_time": "2023-01-07T19:40:49.243Z"
   },
   {
    "duration": 18,
    "start_time": "2023-01-07T19:40:49.250Z"
   },
   {
    "duration": 49,
    "start_time": "2023-01-07T19:40:49.270Z"
   },
   {
    "duration": 14,
    "start_time": "2023-01-07T19:40:49.321Z"
   },
   {
    "duration": 5,
    "start_time": "2023-01-07T19:40:49.337Z"
   },
   {
    "duration": 9,
    "start_time": "2023-01-07T19:40:49.343Z"
   },
   {
    "duration": 5,
    "start_time": "2023-01-07T19:40:49.353Z"
   },
   {
    "duration": 10,
    "start_time": "2023-01-07T19:40:49.360Z"
   },
   {
    "duration": 94,
    "start_time": "2023-01-07T19:40:49.372Z"
   },
   {
    "duration": 1609,
    "start_time": "2023-01-07T19:40:49.468Z"
   },
   {
    "duration": 1453,
    "start_time": "2023-01-07T19:40:51.079Z"
   },
   {
    "duration": 1615,
    "start_time": "2023-01-07T19:40:52.533Z"
   },
   {
    "duration": 593,
    "start_time": "2023-01-07T19:40:54.149Z"
   },
   {
    "duration": 627,
    "start_time": "2023-01-07T19:40:54.744Z"
   },
   {
    "duration": 1286,
    "start_time": "2023-01-07T19:40:55.373Z"
   },
   {
    "duration": 1092,
    "start_time": "2023-01-07T19:40:56.661Z"
   },
   {
    "duration": 1105,
    "start_time": "2023-01-07T19:40:57.755Z"
   },
   {
    "duration": 1184,
    "start_time": "2023-01-07T19:40:58.864Z"
   },
   {
    "duration": 4,
    "start_time": "2023-01-07T19:41:00.051Z"
   },
   {
    "duration": 21,
    "start_time": "2023-01-07T19:41:00.057Z"
   },
   {
    "duration": 21,
    "start_time": "2023-01-07T19:41:00.080Z"
   },
   {
    "duration": 123,
    "start_time": "2023-01-07T19:41:00.102Z"
   },
   {
    "duration": 0,
    "start_time": "2023-01-07T19:41:00.226Z"
   },
   {
    "duration": 0,
    "start_time": "2023-01-07T19:41:00.227Z"
   },
   {
    "duration": 0,
    "start_time": "2023-01-07T19:41:00.229Z"
   },
   {
    "duration": 0,
    "start_time": "2023-01-07T19:41:00.230Z"
   },
   {
    "duration": 0,
    "start_time": "2023-01-07T19:41:00.231Z"
   },
   {
    "duration": 0,
    "start_time": "2023-01-07T19:41:00.232Z"
   },
   {
    "duration": 9,
    "start_time": "2023-01-07T19:43:36.476Z"
   },
   {
    "duration": 205,
    "start_time": "2023-01-07T19:44:09.097Z"
   },
   {
    "duration": 5,
    "start_time": "2023-01-07T19:45:29.097Z"
   },
   {
    "duration": 6,
    "start_time": "2023-01-07T19:45:45.035Z"
   },
   {
    "duration": 668,
    "start_time": "2023-01-07T19:45:50.525Z"
   },
   {
    "duration": 804,
    "start_time": "2023-01-07T19:45:55.779Z"
   },
   {
    "duration": 718,
    "start_time": "2023-01-07T19:46:00.396Z"
   },
   {
    "duration": 714,
    "start_time": "2023-01-07T19:46:04.363Z"
   },
   {
    "duration": 725,
    "start_time": "2023-01-07T19:46:09.260Z"
   },
   {
    "duration": 759,
    "start_time": "2023-01-07T19:46:14.980Z"
   },
   {
    "duration": 5,
    "start_time": "2023-01-07T19:46:20.852Z"
   },
   {
    "duration": 15,
    "start_time": "2023-01-07T19:47:22.309Z"
   },
   {
    "duration": 1446,
    "start_time": "2023-01-07T19:47:39.964Z"
   },
   {
    "duration": 727,
    "start_time": "2023-01-07T19:47:41.412Z"
   },
   {
    "duration": 20,
    "start_time": "2023-01-07T19:47:42.140Z"
   },
   {
    "duration": 8,
    "start_time": "2023-01-07T19:47:42.162Z"
   },
   {
    "duration": 57,
    "start_time": "2023-01-07T19:47:42.172Z"
   },
   {
    "duration": 25,
    "start_time": "2023-01-07T19:47:42.230Z"
   },
   {
    "duration": 15,
    "start_time": "2023-01-07T19:47:42.257Z"
   },
   {
    "duration": 6,
    "start_time": "2023-01-07T19:47:42.274Z"
   },
   {
    "duration": 38,
    "start_time": "2023-01-07T19:47:42.281Z"
   },
   {
    "duration": 6,
    "start_time": "2023-01-07T19:47:42.321Z"
   },
   {
    "duration": 10,
    "start_time": "2023-01-07T19:47:42.328Z"
   },
   {
    "duration": 35,
    "start_time": "2023-01-07T19:47:42.339Z"
   },
   {
    "duration": 31,
    "start_time": "2023-01-07T19:47:42.376Z"
   },
   {
    "duration": 16,
    "start_time": "2023-01-07T19:47:42.417Z"
   },
   {
    "duration": 5,
    "start_time": "2023-01-07T19:47:42.435Z"
   },
   {
    "duration": 10,
    "start_time": "2023-01-07T19:47:42.442Z"
   },
   {
    "duration": 5,
    "start_time": "2023-01-07T19:47:42.454Z"
   },
   {
    "duration": 14,
    "start_time": "2023-01-07T19:47:42.461Z"
   },
   {
    "duration": 86,
    "start_time": "2023-01-07T19:47:42.477Z"
   },
   {
    "duration": 1677,
    "start_time": "2023-01-07T19:47:42.565Z"
   },
   {
    "duration": 1525,
    "start_time": "2023-01-07T19:47:44.244Z"
   },
   {
    "duration": 1795,
    "start_time": "2023-01-07T19:47:45.770Z"
   },
   {
    "duration": 616,
    "start_time": "2023-01-07T19:47:47.567Z"
   },
   {
    "duration": 727,
    "start_time": "2023-01-07T19:47:48.185Z"
   },
   {
    "duration": 1292,
    "start_time": "2023-01-07T19:47:48.913Z"
   },
   {
    "duration": 1274,
    "start_time": "2023-01-07T19:47:50.214Z"
   },
   {
    "duration": 1178,
    "start_time": "2023-01-07T19:47:51.490Z"
   },
   {
    "duration": 1195,
    "start_time": "2023-01-07T19:47:52.670Z"
   },
   {
    "duration": 5,
    "start_time": "2023-01-07T19:47:53.866Z"
   },
   {
    "duration": 16,
    "start_time": "2023-01-07T19:47:53.873Z"
   },
   {
    "duration": 20,
    "start_time": "2023-01-07T19:47:53.891Z"
   },
   {
    "duration": 29,
    "start_time": "2023-01-07T19:47:53.912Z"
   },
   {
    "duration": 297,
    "start_time": "2023-01-07T19:47:53.943Z"
   },
   {
    "duration": 0,
    "start_time": "2023-01-07T19:47:54.242Z"
   },
   {
    "duration": 0,
    "start_time": "2023-01-07T19:47:54.244Z"
   },
   {
    "duration": 0,
    "start_time": "2023-01-07T19:47:54.245Z"
   },
   {
    "duration": 0,
    "start_time": "2023-01-07T19:47:54.246Z"
   },
   {
    "duration": 0,
    "start_time": "2023-01-07T19:47:54.248Z"
   },
   {
    "duration": 0,
    "start_time": "2023-01-07T19:47:54.249Z"
   },
   {
    "duration": 904,
    "start_time": "2023-01-07T19:48:35.735Z"
   },
   {
    "duration": 5,
    "start_time": "2023-01-07T19:48:57.774Z"
   },
   {
    "duration": 4,
    "start_time": "2023-01-07T19:48:58.365Z"
   },
   {
    "duration": 29,
    "start_time": "2023-01-07T19:49:49.238Z"
   },
   {
    "duration": 764,
    "start_time": "2023-01-07T19:50:15.010Z"
   },
   {
    "duration": 28,
    "start_time": "2023-01-07T19:50:19.574Z"
   },
   {
    "duration": 1249,
    "start_time": "2023-01-07T19:51:09.356Z"
   },
   {
    "duration": 621,
    "start_time": "2023-01-07T19:51:10.607Z"
   },
   {
    "duration": 18,
    "start_time": "2023-01-07T19:51:11.230Z"
   },
   {
    "duration": 6,
    "start_time": "2023-01-07T19:51:11.250Z"
   },
   {
    "duration": 40,
    "start_time": "2023-01-07T19:51:11.258Z"
   },
   {
    "duration": 22,
    "start_time": "2023-01-07T19:51:11.300Z"
   },
   {
    "duration": 12,
    "start_time": "2023-01-07T19:51:11.324Z"
   },
   {
    "duration": 6,
    "start_time": "2023-01-07T19:51:11.338Z"
   },
   {
    "duration": 5,
    "start_time": "2023-01-07T19:51:11.345Z"
   },
   {
    "duration": 4,
    "start_time": "2023-01-07T19:51:11.352Z"
   },
   {
    "duration": 5,
    "start_time": "2023-01-07T19:51:11.358Z"
   },
   {
    "duration": 46,
    "start_time": "2023-01-07T19:51:11.364Z"
   },
   {
    "duration": 23,
    "start_time": "2023-01-07T19:51:11.412Z"
   },
   {
    "duration": 13,
    "start_time": "2023-01-07T19:51:11.437Z"
   },
   {
    "duration": 3,
    "start_time": "2023-01-07T19:51:11.452Z"
   },
   {
    "duration": 9,
    "start_time": "2023-01-07T19:51:11.457Z"
   },
   {
    "duration": 28,
    "start_time": "2023-01-07T19:51:11.468Z"
   },
   {
    "duration": 7,
    "start_time": "2023-01-07T19:51:11.498Z"
   },
   {
    "duration": 761,
    "start_time": "2023-01-07T19:51:11.506Z"
   },
   {
    "duration": 0,
    "start_time": "2023-01-07T19:51:12.269Z"
   },
   {
    "duration": 0,
    "start_time": "2023-01-07T19:51:12.270Z"
   },
   {
    "duration": 0,
    "start_time": "2023-01-07T19:51:12.271Z"
   },
   {
    "duration": 0,
    "start_time": "2023-01-07T19:51:12.272Z"
   },
   {
    "duration": 0,
    "start_time": "2023-01-07T19:51:12.274Z"
   },
   {
    "duration": 0,
    "start_time": "2023-01-07T19:51:12.274Z"
   },
   {
    "duration": 0,
    "start_time": "2023-01-07T19:51:12.275Z"
   },
   {
    "duration": 0,
    "start_time": "2023-01-07T19:51:12.277Z"
   },
   {
    "duration": 0,
    "start_time": "2023-01-07T19:51:12.278Z"
   },
   {
    "duration": 0,
    "start_time": "2023-01-07T19:51:12.279Z"
   },
   {
    "duration": 0,
    "start_time": "2023-01-07T19:51:12.280Z"
   },
   {
    "duration": 0,
    "start_time": "2023-01-07T19:51:12.281Z"
   },
   {
    "duration": 0,
    "start_time": "2023-01-07T19:51:12.282Z"
   },
   {
    "duration": 0,
    "start_time": "2023-01-07T19:51:12.283Z"
   },
   {
    "duration": 0,
    "start_time": "2023-01-07T19:51:12.284Z"
   },
   {
    "duration": 0,
    "start_time": "2023-01-07T19:51:12.285Z"
   },
   {
    "duration": 0,
    "start_time": "2023-01-07T19:51:12.286Z"
   },
   {
    "duration": 0,
    "start_time": "2023-01-07T19:51:12.287Z"
   },
   {
    "duration": 0,
    "start_time": "2023-01-07T19:51:12.288Z"
   },
   {
    "duration": 0,
    "start_time": "2023-01-07T19:51:12.289Z"
   },
   {
    "duration": 0,
    "start_time": "2023-01-07T19:51:12.290Z"
   },
   {
    "duration": 1223,
    "start_time": "2023-01-07T19:51:43.451Z"
   },
   {
    "duration": 632,
    "start_time": "2023-01-07T19:51:44.675Z"
   },
   {
    "duration": 17,
    "start_time": "2023-01-07T19:51:45.308Z"
   },
   {
    "duration": 6,
    "start_time": "2023-01-07T19:51:45.327Z"
   },
   {
    "duration": 25,
    "start_time": "2023-01-07T19:51:45.335Z"
   },
   {
    "duration": 43,
    "start_time": "2023-01-07T19:51:45.361Z"
   },
   {
    "duration": 13,
    "start_time": "2023-01-07T19:51:45.406Z"
   },
   {
    "duration": 6,
    "start_time": "2023-01-07T19:51:45.420Z"
   },
   {
    "duration": 5,
    "start_time": "2023-01-07T19:51:45.427Z"
   },
   {
    "duration": 5,
    "start_time": "2023-01-07T19:51:45.434Z"
   },
   {
    "duration": 6,
    "start_time": "2023-01-07T19:51:45.441Z"
   },
   {
    "duration": 16,
    "start_time": "2023-01-07T19:51:45.448Z"
   },
   {
    "duration": 53,
    "start_time": "2023-01-07T19:51:45.466Z"
   },
   {
    "duration": 15,
    "start_time": "2023-01-07T19:51:45.521Z"
   },
   {
    "duration": 4,
    "start_time": "2023-01-07T19:51:45.538Z"
   },
   {
    "duration": 12,
    "start_time": "2023-01-07T19:51:45.543Z"
   },
   {
    "duration": 4,
    "start_time": "2023-01-07T19:51:45.556Z"
   },
   {
    "duration": 9,
    "start_time": "2023-01-07T19:51:45.561Z"
   },
   {
    "duration": 100,
    "start_time": "2023-01-07T19:51:45.571Z"
   },
   {
    "duration": 1565,
    "start_time": "2023-01-07T19:51:45.672Z"
   },
   {
    "duration": 1613,
    "start_time": "2023-01-07T19:51:47.239Z"
   },
   {
    "duration": 782,
    "start_time": "2023-01-07T19:51:48.854Z"
   },
   {
    "duration": 0,
    "start_time": "2023-01-07T19:51:49.638Z"
   },
   {
    "duration": 0,
    "start_time": "2023-01-07T19:51:49.639Z"
   },
   {
    "duration": 0,
    "start_time": "2023-01-07T19:51:49.640Z"
   },
   {
    "duration": 0,
    "start_time": "2023-01-07T19:51:49.642Z"
   },
   {
    "duration": 0,
    "start_time": "2023-01-07T19:51:49.643Z"
   },
   {
    "duration": 0,
    "start_time": "2023-01-07T19:51:49.644Z"
   },
   {
    "duration": 0,
    "start_time": "2023-01-07T19:51:49.645Z"
   },
   {
    "duration": 0,
    "start_time": "2023-01-07T19:51:49.646Z"
   },
   {
    "duration": 0,
    "start_time": "2023-01-07T19:51:49.647Z"
   },
   {
    "duration": 0,
    "start_time": "2023-01-07T19:51:49.648Z"
   },
   {
    "duration": 0,
    "start_time": "2023-01-07T19:51:49.649Z"
   },
   {
    "duration": 0,
    "start_time": "2023-01-07T19:51:49.650Z"
   },
   {
    "duration": 0,
    "start_time": "2023-01-07T19:51:49.651Z"
   },
   {
    "duration": 0,
    "start_time": "2023-01-07T19:51:49.653Z"
   },
   {
    "duration": 0,
    "start_time": "2023-01-07T19:51:49.654Z"
   },
   {
    "duration": 0,
    "start_time": "2023-01-07T19:51:49.655Z"
   },
   {
    "duration": 0,
    "start_time": "2023-01-07T19:51:49.656Z"
   },
   {
    "duration": 0,
    "start_time": "2023-01-07T19:51:49.657Z"
   },
   {
    "duration": 1304,
    "start_time": "2023-01-07T19:52:29.510Z"
   },
   {
    "duration": 628,
    "start_time": "2023-01-07T19:52:30.816Z"
   },
   {
    "duration": 17,
    "start_time": "2023-01-07T19:52:31.446Z"
   },
   {
    "duration": 34,
    "start_time": "2023-01-07T19:52:31.465Z"
   },
   {
    "duration": 59,
    "start_time": "2023-01-07T19:52:31.501Z"
   },
   {
    "duration": 100,
    "start_time": "2023-01-07T19:52:31.562Z"
   },
   {
    "duration": 58,
    "start_time": "2023-01-07T19:52:31.663Z"
   },
   {
    "duration": 6,
    "start_time": "2023-01-07T19:52:31.722Z"
   },
   {
    "duration": 5,
    "start_time": "2023-01-07T19:52:31.729Z"
   },
   {
    "duration": 5,
    "start_time": "2023-01-07T19:52:31.736Z"
   },
   {
    "duration": 5,
    "start_time": "2023-01-07T19:52:31.742Z"
   },
   {
    "duration": 15,
    "start_time": "2023-01-07T19:52:31.749Z"
   },
   {
    "duration": 37,
    "start_time": "2023-01-07T19:52:31.766Z"
   },
   {
    "duration": 14,
    "start_time": "2023-01-07T19:52:31.805Z"
   },
   {
    "duration": 4,
    "start_time": "2023-01-07T19:52:31.820Z"
   },
   {
    "duration": 10,
    "start_time": "2023-01-07T19:52:31.825Z"
   },
   {
    "duration": 4,
    "start_time": "2023-01-07T19:52:31.836Z"
   },
   {
    "duration": 8,
    "start_time": "2023-01-07T19:52:31.842Z"
   },
   {
    "duration": 91,
    "start_time": "2023-01-07T19:52:31.852Z"
   },
   {
    "duration": 1624,
    "start_time": "2023-01-07T19:52:31.945Z"
   },
   {
    "duration": 1682,
    "start_time": "2023-01-07T19:52:33.571Z"
   },
   {
    "duration": 1559,
    "start_time": "2023-01-07T19:52:35.254Z"
   },
   {
    "duration": 623,
    "start_time": "2023-01-07T19:52:36.814Z"
   },
   {
    "duration": 613,
    "start_time": "2023-01-07T19:52:37.438Z"
   },
   {
    "duration": 799,
    "start_time": "2023-01-07T19:52:38.053Z"
   },
   {
    "duration": 0,
    "start_time": "2023-01-07T19:52:38.854Z"
   },
   {
    "duration": 0,
    "start_time": "2023-01-07T19:52:38.855Z"
   },
   {
    "duration": 0,
    "start_time": "2023-01-07T19:52:38.856Z"
   },
   {
    "duration": 0,
    "start_time": "2023-01-07T19:52:38.858Z"
   },
   {
    "duration": 0,
    "start_time": "2023-01-07T19:52:38.858Z"
   },
   {
    "duration": 0,
    "start_time": "2023-01-07T19:52:38.859Z"
   },
   {
    "duration": 0,
    "start_time": "2023-01-07T19:52:38.860Z"
   },
   {
    "duration": 0,
    "start_time": "2023-01-07T19:52:38.861Z"
   },
   {
    "duration": 0,
    "start_time": "2023-01-07T19:52:38.862Z"
   },
   {
    "duration": 0,
    "start_time": "2023-01-07T19:52:38.864Z"
   },
   {
    "duration": 0,
    "start_time": "2023-01-07T19:52:38.865Z"
   },
   {
    "duration": 0,
    "start_time": "2023-01-07T19:52:38.866Z"
   },
   {
    "duration": 0,
    "start_time": "2023-01-07T19:52:38.867Z"
   },
   {
    "duration": 0,
    "start_time": "2023-01-07T19:52:38.868Z"
   },
   {
    "duration": 0,
    "start_time": "2023-01-07T19:52:38.869Z"
   },
   {
    "duration": 1254,
    "start_time": "2023-01-07T19:53:13.030Z"
   },
   {
    "duration": 653,
    "start_time": "2023-01-07T19:53:14.286Z"
   },
   {
    "duration": 22,
    "start_time": "2023-01-07T19:53:14.940Z"
   },
   {
    "duration": 7,
    "start_time": "2023-01-07T19:53:14.965Z"
   },
   {
    "duration": 35,
    "start_time": "2023-01-07T19:53:14.973Z"
   },
   {
    "duration": 23,
    "start_time": "2023-01-07T19:53:15.010Z"
   },
   {
    "duration": 16,
    "start_time": "2023-01-07T19:53:15.034Z"
   },
   {
    "duration": 6,
    "start_time": "2023-01-07T19:53:15.051Z"
   },
   {
    "duration": 35,
    "start_time": "2023-01-07T19:53:15.058Z"
   },
   {
    "duration": 18,
    "start_time": "2023-01-07T19:53:15.096Z"
   },
   {
    "duration": 91,
    "start_time": "2023-01-07T19:53:15.116Z"
   },
   {
    "duration": 28,
    "start_time": "2023-01-07T19:53:15.208Z"
   },
   {
    "duration": 42,
    "start_time": "2023-01-07T19:53:15.238Z"
   },
   {
    "duration": 14,
    "start_time": "2023-01-07T19:53:15.281Z"
   },
   {
    "duration": 3,
    "start_time": "2023-01-07T19:53:15.297Z"
   },
   {
    "duration": 12,
    "start_time": "2023-01-07T19:53:15.302Z"
   },
   {
    "duration": 4,
    "start_time": "2023-01-07T19:53:15.317Z"
   },
   {
    "duration": 9,
    "start_time": "2023-01-07T19:53:15.322Z"
   },
   {
    "duration": 99,
    "start_time": "2023-01-07T19:53:15.333Z"
   },
   {
    "duration": 1644,
    "start_time": "2023-01-07T19:53:15.433Z"
   },
   {
    "duration": 2053,
    "start_time": "2023-01-07T19:53:17.079Z"
   },
   {
    "duration": 1915,
    "start_time": "2023-01-07T19:53:19.134Z"
   },
   {
    "duration": 602,
    "start_time": "2023-01-07T19:53:21.051Z"
   },
   {
    "duration": 612,
    "start_time": "2023-01-07T19:53:21.655Z"
   },
   {
    "duration": 1179,
    "start_time": "2023-01-07T19:53:22.269Z"
   },
   {
    "duration": 1208,
    "start_time": "2023-01-07T19:53:23.450Z"
   },
   {
    "duration": 1201,
    "start_time": "2023-01-07T19:53:24.660Z"
   },
   {
    "duration": 1120,
    "start_time": "2023-01-07T19:53:25.864Z"
   },
   {
    "duration": 780,
    "start_time": "2023-01-07T19:53:26.986Z"
   },
   {
    "duration": 0,
    "start_time": "2023-01-07T19:53:27.767Z"
   },
   {
    "duration": 0,
    "start_time": "2023-01-07T19:53:27.768Z"
   },
   {
    "duration": 0,
    "start_time": "2023-01-07T19:53:27.770Z"
   },
   {
    "duration": 0,
    "start_time": "2023-01-07T19:53:27.771Z"
   },
   {
    "duration": 0,
    "start_time": "2023-01-07T19:53:27.772Z"
   },
   {
    "duration": 0,
    "start_time": "2023-01-07T19:53:27.773Z"
   },
   {
    "duration": 0,
    "start_time": "2023-01-07T19:53:27.774Z"
   },
   {
    "duration": 0,
    "start_time": "2023-01-07T19:53:27.775Z"
   },
   {
    "duration": 0,
    "start_time": "2023-01-07T19:53:27.776Z"
   },
   {
    "duration": 0,
    "start_time": "2023-01-07T19:53:27.777Z"
   },
   {
    "duration": 0,
    "start_time": "2023-01-07T19:53:27.779Z"
   },
   {
    "duration": 824,
    "start_time": "2023-01-07T19:54:01.632Z"
   },
   {
    "duration": 199,
    "start_time": "2023-01-07T19:54:19.731Z"
   },
   {
    "duration": 1287,
    "start_time": "2023-01-07T19:54:43.917Z"
   },
   {
    "duration": 664,
    "start_time": "2023-01-07T19:54:45.208Z"
   },
   {
    "duration": 23,
    "start_time": "2023-01-07T19:54:45.874Z"
   },
   {
    "duration": 11,
    "start_time": "2023-01-07T19:54:45.899Z"
   },
   {
    "duration": 36,
    "start_time": "2023-01-07T19:54:45.913Z"
   },
   {
    "duration": 25,
    "start_time": "2023-01-07T19:54:45.951Z"
   },
   {
    "duration": 30,
    "start_time": "2023-01-07T19:54:45.977Z"
   },
   {
    "duration": 8,
    "start_time": "2023-01-07T19:54:46.010Z"
   },
   {
    "duration": 11,
    "start_time": "2023-01-07T19:54:46.021Z"
   },
   {
    "duration": 8,
    "start_time": "2023-01-07T19:54:46.034Z"
   },
   {
    "duration": 6,
    "start_time": "2023-01-07T19:54:46.044Z"
   },
   {
    "duration": 28,
    "start_time": "2023-01-07T19:54:46.052Z"
   },
   {
    "duration": 37,
    "start_time": "2023-01-07T19:54:46.082Z"
   },
   {
    "duration": 16,
    "start_time": "2023-01-07T19:54:46.123Z"
   },
   {
    "duration": 5,
    "start_time": "2023-01-07T19:54:46.142Z"
   },
   {
    "duration": 17,
    "start_time": "2023-01-07T19:54:46.149Z"
   },
   {
    "duration": 9,
    "start_time": "2023-01-07T19:54:46.167Z"
   },
   {
    "duration": 37,
    "start_time": "2023-01-07T19:54:46.178Z"
   },
   {
    "duration": 88,
    "start_time": "2023-01-07T19:54:46.217Z"
   },
   {
    "duration": 1658,
    "start_time": "2023-01-07T19:54:46.307Z"
   },
   {
    "duration": 1589,
    "start_time": "2023-01-07T19:54:47.968Z"
   },
   {
    "duration": 1572,
    "start_time": "2023-01-07T19:54:49.558Z"
   },
   {
    "duration": 728,
    "start_time": "2023-01-07T19:54:51.132Z"
   },
   {
    "duration": 607,
    "start_time": "2023-01-07T19:54:51.862Z"
   },
   {
    "duration": 1196,
    "start_time": "2023-01-07T19:54:52.471Z"
   },
   {
    "duration": 1078,
    "start_time": "2023-01-07T19:54:53.668Z"
   },
   {
    "duration": 1219,
    "start_time": "2023-01-07T19:54:54.747Z"
   },
   {
    "duration": 1182,
    "start_time": "2023-01-07T19:54:55.968Z"
   },
   {
    "duration": 3,
    "start_time": "2023-01-07T19:54:57.152Z"
   },
   {
    "duration": 12,
    "start_time": "2023-01-07T19:54:57.156Z"
   },
   {
    "duration": 7,
    "start_time": "2023-01-07T19:54:57.169Z"
   },
   {
    "duration": 280,
    "start_time": "2023-01-07T19:54:57.177Z"
   },
   {
    "duration": 0,
    "start_time": "2023-01-07T19:54:57.459Z"
   },
   {
    "duration": 0,
    "start_time": "2023-01-07T19:54:57.460Z"
   },
   {
    "duration": 0,
    "start_time": "2023-01-07T19:54:57.461Z"
   },
   {
    "duration": 0,
    "start_time": "2023-01-07T19:54:57.462Z"
   },
   {
    "duration": 0,
    "start_time": "2023-01-07T19:54:57.462Z"
   },
   {
    "duration": 0,
    "start_time": "2023-01-07T19:54:57.463Z"
   },
   {
    "duration": 886,
    "start_time": "2023-01-07T19:55:07.983Z"
   },
   {
    "duration": 5,
    "start_time": "2023-01-07T19:55:20.760Z"
   },
   {
    "duration": 9,
    "start_time": "2023-01-07T19:55:57.096Z"
   },
   {
    "duration": 5,
    "start_time": "2023-01-07T19:55:59.032Z"
   },
   {
    "duration": 6,
    "start_time": "2023-01-07T19:56:00.466Z"
   },
   {
    "duration": 5,
    "start_time": "2023-01-07T19:56:09.455Z"
   },
   {
    "duration": 732,
    "start_time": "2023-01-07T19:56:16.327Z"
   },
   {
    "duration": 753,
    "start_time": "2023-01-07T19:56:20.914Z"
   },
   {
    "duration": 729,
    "start_time": "2023-01-07T19:56:26.890Z"
   },
   {
    "duration": 711,
    "start_time": "2023-01-07T19:56:31.640Z"
   },
   {
    "duration": 703,
    "start_time": "2023-01-07T19:56:36.882Z"
   },
   {
    "duration": 811,
    "start_time": "2023-01-07T19:56:42.095Z"
   },
   {
    "duration": 1282,
    "start_time": "2023-01-07T19:57:41.526Z"
   },
   {
    "duration": 659,
    "start_time": "2023-01-07T19:57:42.809Z"
   },
   {
    "duration": 28,
    "start_time": "2023-01-07T19:57:43.470Z"
   },
   {
    "duration": 8,
    "start_time": "2023-01-07T19:57:43.500Z"
   },
   {
    "duration": 34,
    "start_time": "2023-01-07T19:57:43.510Z"
   },
   {
    "duration": 25,
    "start_time": "2023-01-07T19:57:43.545Z"
   },
   {
    "duration": 29,
    "start_time": "2023-01-07T19:57:43.572Z"
   },
   {
    "duration": 6,
    "start_time": "2023-01-07T19:57:43.605Z"
   },
   {
    "duration": 6,
    "start_time": "2023-01-07T19:57:43.613Z"
   },
   {
    "duration": 12,
    "start_time": "2023-01-07T19:57:43.622Z"
   },
   {
    "duration": 6,
    "start_time": "2023-01-07T19:57:43.636Z"
   },
   {
    "duration": 17,
    "start_time": "2023-01-07T19:57:43.644Z"
   },
   {
    "duration": 44,
    "start_time": "2023-01-07T19:57:43.662Z"
   },
   {
    "duration": 14,
    "start_time": "2023-01-07T19:57:43.707Z"
   },
   {
    "duration": 5,
    "start_time": "2023-01-07T19:57:43.722Z"
   },
   {
    "duration": 12,
    "start_time": "2023-01-07T19:57:43.729Z"
   },
   {
    "duration": 10,
    "start_time": "2023-01-07T19:57:43.743Z"
   },
   {
    "duration": 18,
    "start_time": "2023-01-07T19:57:43.755Z"
   },
   {
    "duration": 103,
    "start_time": "2023-01-07T19:57:43.797Z"
   },
   {
    "duration": 1692,
    "start_time": "2023-01-07T19:57:43.902Z"
   },
   {
    "duration": 1649,
    "start_time": "2023-01-07T19:57:45.595Z"
   },
   {
    "duration": 1684,
    "start_time": "2023-01-07T19:57:47.245Z"
   },
   {
    "duration": 614,
    "start_time": "2023-01-07T19:57:48.930Z"
   },
   {
    "duration": 630,
    "start_time": "2023-01-07T19:57:49.546Z"
   },
   {
    "duration": 1202,
    "start_time": "2023-01-07T19:57:50.178Z"
   },
   {
    "duration": 1076,
    "start_time": "2023-01-07T19:57:51.381Z"
   },
   {
    "duration": 1086,
    "start_time": "2023-01-07T19:57:52.459Z"
   },
   {
    "duration": 1199,
    "start_time": "2023-01-07T19:57:53.548Z"
   },
   {
    "duration": 3,
    "start_time": "2023-01-07T19:57:54.749Z"
   },
   {
    "duration": 19,
    "start_time": "2023-01-07T19:57:54.754Z"
   },
   {
    "duration": 19,
    "start_time": "2023-01-07T19:57:54.775Z"
   },
   {
    "duration": 1193,
    "start_time": "2023-01-07T19:57:54.795Z"
   },
   {
    "duration": 0,
    "start_time": "2023-01-07T19:57:55.990Z"
   },
   {
    "duration": 0,
    "start_time": "2023-01-07T19:57:55.992Z"
   },
   {
    "duration": 0,
    "start_time": "2023-01-07T19:57:55.994Z"
   },
   {
    "duration": 0,
    "start_time": "2023-01-07T19:57:55.995Z"
   },
   {
    "duration": 0,
    "start_time": "2023-01-07T19:57:55.996Z"
   },
   {
    "duration": 0,
    "start_time": "2023-01-07T19:57:55.997Z"
   },
   {
    "duration": 4,
    "start_time": "2023-01-07T20:05:56.910Z"
   },
   {
    "duration": 4,
    "start_time": "2023-01-07T20:06:33.409Z"
   },
   {
    "duration": 4,
    "start_time": "2023-01-07T20:06:47.368Z"
   },
   {
    "duration": 4,
    "start_time": "2023-01-07T20:07:22.704Z"
   },
   {
    "duration": 33,
    "start_time": "2023-01-07T20:07:44.523Z"
   },
   {
    "duration": 847,
    "start_time": "2023-01-07T20:08:06.971Z"
   },
   {
    "duration": 34,
    "start_time": "2023-01-07T20:18:08.076Z"
   },
   {
    "duration": 4,
    "start_time": "2023-01-07T20:18:10.541Z"
   },
   {
    "duration": 3,
    "start_time": "2023-01-07T20:18:11.572Z"
   },
   {
    "duration": 1522,
    "start_time": "2023-01-08T08:53:40.200Z"
   },
   {
    "duration": 2013,
    "start_time": "2023-01-08T08:53:41.723Z"
   },
   {
    "duration": 21,
    "start_time": "2023-01-08T08:53:43.738Z"
   },
   {
    "duration": 8,
    "start_time": "2023-01-08T08:53:43.761Z"
   },
   {
    "duration": 53,
    "start_time": "2023-01-08T08:53:43.771Z"
   },
   {
    "duration": 25,
    "start_time": "2023-01-08T08:53:43.825Z"
   },
   {
    "duration": 14,
    "start_time": "2023-01-08T08:53:43.852Z"
   },
   {
    "duration": 22,
    "start_time": "2023-01-08T08:53:43.868Z"
   },
   {
    "duration": 16,
    "start_time": "2023-01-08T08:53:43.893Z"
   },
   {
    "duration": 9,
    "start_time": "2023-01-08T08:53:43.913Z"
   },
   {
    "duration": 9,
    "start_time": "2023-01-08T08:53:43.924Z"
   },
   {
    "duration": 25,
    "start_time": "2023-01-08T08:53:43.935Z"
   },
   {
    "duration": 35,
    "start_time": "2023-01-08T08:53:43.962Z"
   },
   {
    "duration": 24,
    "start_time": "2023-01-08T08:53:43.999Z"
   },
   {
    "duration": 6,
    "start_time": "2023-01-08T08:53:44.025Z"
   },
   {
    "duration": 24,
    "start_time": "2023-01-08T08:53:44.033Z"
   },
   {
    "duration": 21,
    "start_time": "2023-01-08T08:53:44.059Z"
   },
   {
    "duration": 36,
    "start_time": "2023-01-08T08:53:44.084Z"
   },
   {
    "duration": 112,
    "start_time": "2023-01-08T08:53:44.123Z"
   },
   {
    "duration": 1790,
    "start_time": "2023-01-08T08:53:44.238Z"
   },
   {
    "duration": 1502,
    "start_time": "2023-01-08T08:53:46.030Z"
   },
   {
    "duration": 1669,
    "start_time": "2023-01-08T08:53:47.533Z"
   },
   {
    "duration": 650,
    "start_time": "2023-01-08T08:53:49.204Z"
   },
   {
    "duration": 601,
    "start_time": "2023-01-08T08:53:49.855Z"
   },
   {
    "duration": 1316,
    "start_time": "2023-01-08T08:53:50.457Z"
   },
   {
    "duration": 1171,
    "start_time": "2023-01-08T08:53:51.775Z"
   },
   {
    "duration": 1358,
    "start_time": "2023-01-08T08:53:52.948Z"
   },
   {
    "duration": 1208,
    "start_time": "2023-01-08T08:53:54.310Z"
   },
   {
    "duration": 5,
    "start_time": "2023-01-08T08:53:55.519Z"
   },
   {
    "duration": 8,
    "start_time": "2023-01-08T08:53:55.581Z"
   },
   {
    "duration": 15,
    "start_time": "2023-01-08T08:53:55.594Z"
   },
   {
    "duration": 3,
    "start_time": "2023-01-08T08:53:55.611Z"
   },
   {
    "duration": 8,
    "start_time": "2023-01-08T08:53:55.615Z"
   },
   {
    "duration": 59,
    "start_time": "2023-01-08T08:53:55.624Z"
   },
   {
    "duration": 92,
    "start_time": "2023-01-08T08:53:55.691Z"
   },
   {
    "duration": 2034,
    "start_time": "2023-01-08T08:53:55.788Z"
   },
   {
    "duration": 0,
    "start_time": "2023-01-08T08:53:57.823Z"
   },
   {
    "duration": 0,
    "start_time": "2023-01-08T08:53:57.825Z"
   },
   {
    "duration": 0,
    "start_time": "2023-01-08T08:53:57.826Z"
   },
   {
    "duration": 0,
    "start_time": "2023-01-08T08:53:57.827Z"
   },
   {
    "duration": 0,
    "start_time": "2023-01-08T08:53:57.828Z"
   },
   {
    "duration": 0,
    "start_time": "2023-01-08T08:53:57.830Z"
   },
   {
    "duration": 20,
    "start_time": "2023-01-08T08:54:11.076Z"
   },
   {
    "duration": 14,
    "start_time": "2023-01-08T08:54:38.676Z"
   },
   {
    "duration": 61,
    "start_time": "2023-01-08T10:48:45.561Z"
   },
   {
    "duration": 1554,
    "start_time": "2023-01-08T10:49:25.630Z"
   },
   {
    "duration": 2048,
    "start_time": "2023-01-08T10:49:27.186Z"
   },
   {
    "duration": 20,
    "start_time": "2023-01-08T10:49:29.235Z"
   },
   {
    "duration": 7,
    "start_time": "2023-01-08T10:49:29.256Z"
   },
   {
    "duration": 58,
    "start_time": "2023-01-08T10:49:29.265Z"
   },
   {
    "duration": 24,
    "start_time": "2023-01-08T10:49:29.325Z"
   },
   {
    "duration": 18,
    "start_time": "2023-01-08T10:49:29.351Z"
   },
   {
    "duration": 19,
    "start_time": "2023-01-08T10:49:29.370Z"
   },
   {
    "duration": 27,
    "start_time": "2023-01-08T10:49:29.391Z"
   },
   {
    "duration": 29,
    "start_time": "2023-01-08T10:49:29.420Z"
   },
   {
    "duration": 22,
    "start_time": "2023-01-08T10:49:29.450Z"
   },
   {
    "duration": 42,
    "start_time": "2023-01-08T10:49:29.474Z"
   },
   {
    "duration": 38,
    "start_time": "2023-01-08T10:49:29.519Z"
   },
   {
    "duration": 26,
    "start_time": "2023-01-08T10:49:29.560Z"
   },
   {
    "duration": 12,
    "start_time": "2023-01-08T10:49:29.588Z"
   },
   {
    "duration": 32,
    "start_time": "2023-01-08T10:49:29.602Z"
   },
   {
    "duration": 18,
    "start_time": "2023-01-08T10:49:29.636Z"
   },
   {
    "duration": 28,
    "start_time": "2023-01-08T10:49:29.656Z"
   },
   {
    "duration": 95,
    "start_time": "2023-01-08T10:49:29.685Z"
   },
   {
    "duration": 1772,
    "start_time": "2023-01-08T10:49:29.781Z"
   },
   {
    "duration": 1802,
    "start_time": "2023-01-08T10:49:31.555Z"
   },
   {
    "duration": 1702,
    "start_time": "2023-01-08T10:49:33.359Z"
   },
   {
    "duration": 691,
    "start_time": "2023-01-08T10:49:35.063Z"
   },
   {
    "duration": 740,
    "start_time": "2023-01-08T10:49:35.756Z"
   },
   {
    "duration": 1511,
    "start_time": "2023-01-08T10:49:36.498Z"
   },
   {
    "duration": 1307,
    "start_time": "2023-01-08T10:49:38.012Z"
   },
   {
    "duration": 1178,
    "start_time": "2023-01-08T10:49:39.322Z"
   },
   {
    "duration": 1293,
    "start_time": "2023-01-08T10:49:40.503Z"
   },
   {
    "duration": 9,
    "start_time": "2023-01-08T10:49:41.797Z"
   },
   {
    "duration": 20,
    "start_time": "2023-01-08T10:49:41.808Z"
   },
   {
    "duration": 18,
    "start_time": "2023-01-08T10:49:41.830Z"
   },
   {
    "duration": 2,
    "start_time": "2023-01-08T10:49:41.850Z"
   },
   {
    "duration": 8,
    "start_time": "2023-01-08T10:49:41.854Z"
   },
   {
    "duration": 7,
    "start_time": "2023-01-08T10:49:41.863Z"
   },
   {
    "duration": 29,
    "start_time": "2023-01-08T10:49:41.872Z"
   },
   {
    "duration": 130,
    "start_time": "2023-01-08T10:49:41.902Z"
   },
   {
    "duration": 0,
    "start_time": "2023-01-08T10:49:42.035Z"
   },
   {
    "duration": 0,
    "start_time": "2023-01-08T10:49:42.036Z"
   },
   {
    "duration": 0,
    "start_time": "2023-01-08T10:49:42.037Z"
   },
   {
    "duration": 0,
    "start_time": "2023-01-08T10:49:42.039Z"
   },
   {
    "duration": 0,
    "start_time": "2023-01-08T10:49:42.040Z"
   },
   {
    "duration": 0,
    "start_time": "2023-01-08T10:49:42.041Z"
   },
   {
    "duration": 0,
    "start_time": "2023-01-08T10:49:42.043Z"
   },
   {
    "duration": 0,
    "start_time": "2023-01-08T10:49:42.044Z"
   },
   {
    "duration": 10,
    "start_time": "2023-01-08T10:49:58.522Z"
   },
   {
    "duration": 4,
    "start_time": "2023-01-08T10:50:33.641Z"
   },
   {
    "duration": 10,
    "start_time": "2023-01-08T10:50:41.126Z"
   },
   {
    "duration": 5,
    "start_time": "2023-01-08T10:50:47.676Z"
   },
   {
    "duration": 3,
    "start_time": "2023-01-08T10:53:11.879Z"
   },
   {
    "duration": 4,
    "start_time": "2023-01-08T12:59:16.986Z"
   },
   {
    "duration": 10,
    "start_time": "2023-01-08T13:02:22.241Z"
   },
   {
    "duration": 36,
    "start_time": "2023-01-08T13:03:23.097Z"
   },
   {
    "duration": 7,
    "start_time": "2023-01-08T13:04:31.497Z"
   },
   {
    "duration": 184,
    "start_time": "2023-01-08T13:04:35.802Z"
   },
   {
    "duration": 9,
    "start_time": "2023-01-08T13:05:21.703Z"
   },
   {
    "duration": 19,
    "start_time": "2023-01-08T13:05:23.916Z"
   },
   {
    "duration": 4,
    "start_time": "2023-01-08T13:06:37.050Z"
   },
   {
    "duration": 18,
    "start_time": "2023-01-08T13:06:39.246Z"
   },
   {
    "duration": 3,
    "start_time": "2023-01-08T13:07:00.979Z"
   },
   {
    "duration": 4,
    "start_time": "2023-01-08T13:07:09.916Z"
   },
   {
    "duration": 1357,
    "start_time": "2023-01-08T13:11:21.241Z"
   },
   {
    "duration": 709,
    "start_time": "2023-01-08T13:11:22.600Z"
   },
   {
    "duration": 20,
    "start_time": "2023-01-08T13:11:23.312Z"
   },
   {
    "duration": 7,
    "start_time": "2023-01-08T13:11:23.334Z"
   },
   {
    "duration": 27,
    "start_time": "2023-01-08T13:11:23.342Z"
   },
   {
    "duration": 52,
    "start_time": "2023-01-08T13:11:23.371Z"
   },
   {
    "duration": 14,
    "start_time": "2023-01-08T13:11:23.424Z"
   },
   {
    "duration": 6,
    "start_time": "2023-01-08T13:11:23.440Z"
   },
   {
    "duration": 14,
    "start_time": "2023-01-08T13:11:23.448Z"
   },
   {
    "duration": 11,
    "start_time": "2023-01-08T13:11:23.464Z"
   },
   {
    "duration": 12,
    "start_time": "2023-01-08T13:11:23.477Z"
   },
   {
    "duration": 27,
    "start_time": "2023-01-08T13:11:23.491Z"
   },
   {
    "duration": 30,
    "start_time": "2023-01-08T13:11:23.520Z"
   },
   {
    "duration": 13,
    "start_time": "2023-01-08T13:11:23.551Z"
   },
   {
    "duration": 4,
    "start_time": "2023-01-08T13:11:23.566Z"
   },
   {
    "duration": 35,
    "start_time": "2023-01-08T13:11:23.571Z"
   },
   {
    "duration": 7,
    "start_time": "2023-01-08T13:11:23.610Z"
   },
   {
    "duration": 19,
    "start_time": "2023-01-08T13:11:23.619Z"
   },
   {
    "duration": 88,
    "start_time": "2023-01-08T13:11:23.640Z"
   },
   {
    "duration": 1705,
    "start_time": "2023-01-08T13:11:23.729Z"
   },
   {
    "duration": 1641,
    "start_time": "2023-01-08T13:11:25.435Z"
   },
   {
    "duration": 1653,
    "start_time": "2023-01-08T13:11:27.077Z"
   },
   {
    "duration": 672,
    "start_time": "2023-01-08T13:11:28.732Z"
   },
   {
    "duration": 726,
    "start_time": "2023-01-08T13:11:29.406Z"
   },
   {
    "duration": 1597,
    "start_time": "2023-01-08T13:11:30.134Z"
   },
   {
    "duration": 2016,
    "start_time": "2023-01-08T13:11:31.733Z"
   },
   {
    "duration": 1348,
    "start_time": "2023-01-08T13:11:33.750Z"
   },
   {
    "duration": 1297,
    "start_time": "2023-01-08T13:11:35.102Z"
   },
   {
    "duration": 7,
    "start_time": "2023-01-08T13:11:36.404Z"
   },
   {
    "duration": 16,
    "start_time": "2023-01-08T13:11:36.412Z"
   },
   {
    "duration": 9,
    "start_time": "2023-01-08T13:11:36.430Z"
   },
   {
    "duration": 3,
    "start_time": "2023-01-08T13:11:36.440Z"
   },
   {
    "duration": 7,
    "start_time": "2023-01-08T13:11:36.444Z"
   },
   {
    "duration": 12,
    "start_time": "2023-01-08T13:11:36.452Z"
   },
   {
    "duration": 3,
    "start_time": "2023-01-08T13:11:36.466Z"
   },
   {
    "duration": 14,
    "start_time": "2023-01-08T13:11:36.470Z"
   },
   {
    "duration": 277,
    "start_time": "2023-01-08T13:11:36.485Z"
   },
   {
    "duration": 0,
    "start_time": "2023-01-08T13:11:36.764Z"
   },
   {
    "duration": 0,
    "start_time": "2023-01-08T13:11:36.765Z"
   },
   {
    "duration": 0,
    "start_time": "2023-01-08T13:11:36.766Z"
   },
   {
    "duration": 0,
    "start_time": "2023-01-08T13:11:36.767Z"
   },
   {
    "duration": 0,
    "start_time": "2023-01-08T13:11:36.768Z"
   },
   {
    "duration": 0,
    "start_time": "2023-01-08T13:11:36.769Z"
   },
   {
    "duration": 3,
    "start_time": "2023-01-08T13:12:43.851Z"
   },
   {
    "duration": 4,
    "start_time": "2023-01-08T13:12:48.521Z"
   },
   {
    "duration": 1452,
    "start_time": "2023-01-08T13:15:11.976Z"
   },
   {
    "duration": 732,
    "start_time": "2023-01-08T13:15:13.430Z"
   },
   {
    "duration": 20,
    "start_time": "2023-01-08T13:15:14.163Z"
   },
   {
    "duration": 7,
    "start_time": "2023-01-08T13:15:14.185Z"
   },
   {
    "duration": 34,
    "start_time": "2023-01-08T13:15:14.205Z"
   },
   {
    "duration": 25,
    "start_time": "2023-01-08T13:15:14.241Z"
   },
   {
    "duration": 14,
    "start_time": "2023-01-08T13:15:14.268Z"
   },
   {
    "duration": 27,
    "start_time": "2023-01-08T13:15:14.283Z"
   },
   {
    "duration": 24,
    "start_time": "2023-01-08T13:15:14.313Z"
   },
   {
    "duration": 4,
    "start_time": "2023-01-08T13:15:14.340Z"
   },
   {
    "duration": 6,
    "start_time": "2023-01-08T13:15:14.346Z"
   },
   {
    "duration": 17,
    "start_time": "2023-01-08T13:15:14.353Z"
   },
   {
    "duration": 33,
    "start_time": "2023-01-08T13:15:14.372Z"
   },
   {
    "duration": 18,
    "start_time": "2023-01-08T13:15:14.407Z"
   },
   {
    "duration": 5,
    "start_time": "2023-01-08T13:15:14.426Z"
   },
   {
    "duration": 11,
    "start_time": "2023-01-08T13:15:14.433Z"
   },
   {
    "duration": 7,
    "start_time": "2023-01-08T13:15:14.445Z"
   },
   {
    "duration": 15,
    "start_time": "2023-01-08T13:15:14.454Z"
   },
   {
    "duration": 94,
    "start_time": "2023-01-08T13:15:14.470Z"
   },
   {
    "duration": 1667,
    "start_time": "2023-01-08T13:15:14.566Z"
   },
   {
    "duration": 1812,
    "start_time": "2023-01-08T13:15:16.236Z"
   },
   {
    "duration": 2179,
    "start_time": "2023-01-08T13:15:18.050Z"
   },
   {
    "duration": 1179,
    "start_time": "2023-01-08T13:15:20.231Z"
   },
   {
    "duration": 709,
    "start_time": "2023-01-08T13:15:21.412Z"
   },
   {
    "duration": 1399,
    "start_time": "2023-01-08T13:15:22.122Z"
   },
   {
    "duration": 1247,
    "start_time": "2023-01-08T13:15:23.523Z"
   },
   {
    "duration": 1197,
    "start_time": "2023-01-08T13:15:24.772Z"
   },
   {
    "duration": 1238,
    "start_time": "2023-01-08T13:15:25.972Z"
   },
   {
    "duration": 6,
    "start_time": "2023-01-08T13:15:27.213Z"
   },
   {
    "duration": 5,
    "start_time": "2023-01-08T13:15:27.221Z"
   },
   {
    "duration": 11,
    "start_time": "2023-01-08T13:15:27.228Z"
   },
   {
    "duration": 4,
    "start_time": "2023-01-08T13:15:27.240Z"
   },
   {
    "duration": 8,
    "start_time": "2023-01-08T13:15:27.245Z"
   },
   {
    "duration": 13,
    "start_time": "2023-01-08T13:15:27.254Z"
   },
   {
    "duration": 4,
    "start_time": "2023-01-08T13:15:27.269Z"
   },
   {
    "duration": 41,
    "start_time": "2023-01-08T13:15:27.274Z"
   },
   {
    "duration": 401,
    "start_time": "2023-01-08T13:15:27.318Z"
   },
   {
    "duration": 0,
    "start_time": "2023-01-08T13:15:27.721Z"
   },
   {
    "duration": 0,
    "start_time": "2023-01-08T13:15:27.722Z"
   },
   {
    "duration": 0,
    "start_time": "2023-01-08T13:15:27.722Z"
   },
   {
    "duration": 0,
    "start_time": "2023-01-08T13:15:27.723Z"
   },
   {
    "duration": 0,
    "start_time": "2023-01-08T13:15:27.724Z"
   },
   {
    "duration": 0,
    "start_time": "2023-01-08T13:15:27.726Z"
   },
   {
    "duration": 4,
    "start_time": "2023-01-08T13:16:25.037Z"
   },
   {
    "duration": 4,
    "start_time": "2023-01-08T13:17:25.516Z"
   },
   {
    "duration": 7,
    "start_time": "2023-01-08T13:17:33.391Z"
   },
   {
    "duration": 1407,
    "start_time": "2023-01-08T13:24:02.017Z"
   },
   {
    "duration": 773,
    "start_time": "2023-01-08T13:24:03.426Z"
   },
   {
    "duration": 27,
    "start_time": "2023-01-08T13:24:04.201Z"
   },
   {
    "duration": 8,
    "start_time": "2023-01-08T13:24:04.231Z"
   },
   {
    "duration": 28,
    "start_time": "2023-01-08T13:24:04.242Z"
   },
   {
    "duration": 60,
    "start_time": "2023-01-08T13:24:04.272Z"
   },
   {
    "duration": 14,
    "start_time": "2023-01-08T13:24:04.334Z"
   },
   {
    "duration": 6,
    "start_time": "2023-01-08T13:24:04.350Z"
   },
   {
    "duration": 5,
    "start_time": "2023-01-08T13:24:04.358Z"
   },
   {
    "duration": 6,
    "start_time": "2023-01-08T13:24:04.366Z"
   },
   {
    "duration": 33,
    "start_time": "2023-01-08T13:24:04.373Z"
   },
   {
    "duration": 29,
    "start_time": "2023-01-08T13:24:04.408Z"
   },
   {
    "duration": 28,
    "start_time": "2023-01-08T13:24:04.438Z"
   },
   {
    "duration": 14,
    "start_time": "2023-01-08T13:24:04.469Z"
   },
   {
    "duration": 22,
    "start_time": "2023-01-08T13:24:04.485Z"
   },
   {
    "duration": 29,
    "start_time": "2023-01-08T13:24:04.509Z"
   },
   {
    "duration": 4,
    "start_time": "2023-01-08T13:24:04.540Z"
   },
   {
    "duration": 16,
    "start_time": "2023-01-08T13:24:04.545Z"
   },
   {
    "duration": 96,
    "start_time": "2023-01-08T13:24:04.563Z"
   },
   {
    "duration": 1616,
    "start_time": "2023-01-08T13:24:04.661Z"
   },
   {
    "duration": 2786,
    "start_time": "2023-01-08T13:24:06.279Z"
   },
   {
    "duration": 1618,
    "start_time": "2023-01-08T13:24:09.067Z"
   },
   {
    "duration": 687,
    "start_time": "2023-01-08T13:24:10.688Z"
   },
   {
    "duration": 682,
    "start_time": "2023-01-08T13:24:11.377Z"
   },
   {
    "duration": 1485,
    "start_time": "2023-01-08T13:24:12.061Z"
   },
   {
    "duration": 1280,
    "start_time": "2023-01-08T13:24:13.548Z"
   },
   {
    "duration": 1275,
    "start_time": "2023-01-08T13:24:14.830Z"
   },
   {
    "duration": 1430,
    "start_time": "2023-01-08T13:24:16.110Z"
   },
   {
    "duration": 5,
    "start_time": "2023-01-08T13:24:17.542Z"
   },
   {
    "duration": 14,
    "start_time": "2023-01-08T13:24:17.549Z"
   },
   {
    "duration": 10,
    "start_time": "2023-01-08T13:24:17.565Z"
   },
   {
    "duration": 4,
    "start_time": "2023-01-08T13:24:17.577Z"
   },
   {
    "duration": 15,
    "start_time": "2023-01-08T13:24:17.583Z"
   },
   {
    "duration": 27,
    "start_time": "2023-01-08T13:24:17.609Z"
   },
   {
    "duration": 15,
    "start_time": "2023-01-08T13:24:17.639Z"
   },
   {
    "duration": 8,
    "start_time": "2023-01-08T13:24:17.656Z"
   },
   {
    "duration": 1661,
    "start_time": "2023-01-08T13:24:17.666Z"
   },
   {
    "duration": 0,
    "start_time": "2023-01-08T13:24:19.329Z"
   },
   {
    "duration": 0,
    "start_time": "2023-01-08T13:24:19.330Z"
   },
   {
    "duration": 0,
    "start_time": "2023-01-08T13:24:19.331Z"
   },
   {
    "duration": 0,
    "start_time": "2023-01-08T13:24:19.332Z"
   },
   {
    "duration": 0,
    "start_time": "2023-01-08T13:24:19.333Z"
   },
   {
    "duration": 0,
    "start_time": "2023-01-08T13:24:19.334Z"
   },
   {
    "duration": 10,
    "start_time": "2023-01-08T13:24:40.317Z"
   },
   {
    "duration": 10,
    "start_time": "2023-01-08T13:25:32.022Z"
   },
   {
    "duration": 3,
    "start_time": "2023-01-08T13:26:15.057Z"
   },
   {
    "duration": 7,
    "start_time": "2023-01-08T13:26:17.264Z"
   },
   {
    "duration": 1470,
    "start_time": "2023-01-08T17:28:00.659Z"
   },
   {
    "duration": 1831,
    "start_time": "2023-01-08T17:28:02.131Z"
   },
   {
    "duration": 17,
    "start_time": "2023-01-08T17:28:03.964Z"
   },
   {
    "duration": 13,
    "start_time": "2023-01-08T17:28:03.983Z"
   },
   {
    "duration": 56,
    "start_time": "2023-01-08T17:28:03.997Z"
   },
   {
    "duration": 30,
    "start_time": "2023-01-08T17:28:04.054Z"
   },
   {
    "duration": 14,
    "start_time": "2023-01-08T17:28:04.086Z"
   },
   {
    "duration": 14,
    "start_time": "2023-01-08T17:28:04.101Z"
   },
   {
    "duration": 9,
    "start_time": "2023-01-08T17:28:04.116Z"
   },
   {
    "duration": 25,
    "start_time": "2023-01-08T17:28:04.127Z"
   },
   {
    "duration": 15,
    "start_time": "2023-01-08T17:28:04.154Z"
   },
   {
    "duration": 34,
    "start_time": "2023-01-08T17:28:04.171Z"
   },
   {
    "duration": 26,
    "start_time": "2023-01-08T17:28:04.207Z"
   },
   {
    "duration": 15,
    "start_time": "2023-01-08T17:28:04.234Z"
   },
   {
    "duration": 6,
    "start_time": "2023-01-08T17:28:04.250Z"
   },
   {
    "duration": 13,
    "start_time": "2023-01-08T17:28:04.257Z"
   },
   {
    "duration": 34,
    "start_time": "2023-01-08T17:28:04.272Z"
   },
   {
    "duration": 37,
    "start_time": "2023-01-08T17:28:04.308Z"
   },
   {
    "duration": 72,
    "start_time": "2023-01-08T17:28:04.347Z"
   },
   {
    "duration": 1620,
    "start_time": "2023-01-08T17:28:04.421Z"
   },
   {
    "duration": 1638,
    "start_time": "2023-01-08T17:28:06.043Z"
   },
   {
    "duration": 1569,
    "start_time": "2023-01-08T17:28:07.683Z"
   },
   {
    "duration": 589,
    "start_time": "2023-01-08T17:28:09.254Z"
   },
   {
    "duration": 620,
    "start_time": "2023-01-08T17:28:09.845Z"
   },
   {
    "duration": 1281,
    "start_time": "2023-01-08T17:28:10.466Z"
   },
   {
    "duration": 1108,
    "start_time": "2023-01-08T17:28:11.749Z"
   },
   {
    "duration": 1094,
    "start_time": "2023-01-08T17:28:12.859Z"
   },
   {
    "duration": 1194,
    "start_time": "2023-01-08T17:28:13.956Z"
   },
   {
    "duration": 4,
    "start_time": "2023-01-08T17:28:15.151Z"
   },
   {
    "duration": 5,
    "start_time": "2023-01-08T17:28:15.157Z"
   },
   {
    "duration": 10,
    "start_time": "2023-01-08T17:28:15.163Z"
   },
   {
    "duration": 2,
    "start_time": "2023-01-08T17:28:15.174Z"
   },
   {
    "duration": 6,
    "start_time": "2023-01-08T17:28:15.178Z"
   },
   {
    "duration": 10,
    "start_time": "2023-01-08T17:28:15.206Z"
   },
   {
    "duration": 4,
    "start_time": "2023-01-08T17:28:15.218Z"
   },
   {
    "duration": 11,
    "start_time": "2023-01-08T17:28:15.224Z"
   },
   {
    "duration": 4,
    "start_time": "2023-01-08T17:28:15.237Z"
   },
   {
    "duration": 282,
    "start_time": "2023-01-08T17:28:15.242Z"
   },
   {
    "duration": 0,
    "start_time": "2023-01-08T17:28:15.525Z"
   },
   {
    "duration": 0,
    "start_time": "2023-01-08T17:28:15.526Z"
   },
   {
    "duration": 0,
    "start_time": "2023-01-08T17:28:15.527Z"
   },
   {
    "duration": 0,
    "start_time": "2023-01-08T17:28:15.528Z"
   },
   {
    "duration": 0,
    "start_time": "2023-01-08T17:28:15.530Z"
   },
   {
    "duration": 0,
    "start_time": "2023-01-08T17:28:15.531Z"
   },
   {
    "duration": 3,
    "start_time": "2023-01-08T17:28:38.799Z"
   },
   {
    "duration": 16,
    "start_time": "2023-01-08T17:28:40.958Z"
   },
   {
    "duration": 3,
    "start_time": "2023-01-08T17:29:13.318Z"
   },
   {
    "duration": 26,
    "start_time": "2023-01-08T17:29:21.750Z"
   },
   {
    "duration": 4,
    "start_time": "2023-01-08T17:29:28.263Z"
   },
   {
    "duration": 25,
    "start_time": "2023-01-08T17:29:39.878Z"
   },
   {
    "duration": 2,
    "start_time": "2023-01-08T17:30:38.277Z"
   },
   {
    "duration": 3,
    "start_time": "2023-01-08T17:30:39.237Z"
   },
   {
    "duration": 1412,
    "start_time": "2023-01-08T17:31:06.576Z"
   },
   {
    "duration": 703,
    "start_time": "2023-01-08T17:31:07.990Z"
   },
   {
    "duration": 25,
    "start_time": "2023-01-08T17:31:08.694Z"
   },
   {
    "duration": 7,
    "start_time": "2023-01-08T17:31:08.721Z"
   },
   {
    "duration": 28,
    "start_time": "2023-01-08T17:31:08.730Z"
   },
   {
    "duration": 45,
    "start_time": "2023-01-08T17:31:08.760Z"
   },
   {
    "duration": 13,
    "start_time": "2023-01-08T17:31:08.807Z"
   },
   {
    "duration": 6,
    "start_time": "2023-01-08T17:31:08.822Z"
   },
   {
    "duration": 15,
    "start_time": "2023-01-08T17:31:08.830Z"
   },
   {
    "duration": 23,
    "start_time": "2023-01-08T17:31:08.848Z"
   },
   {
    "duration": 11,
    "start_time": "2023-01-08T17:31:08.873Z"
   },
   {
    "duration": 50,
    "start_time": "2023-01-08T17:31:08.885Z"
   },
   {
    "duration": 25,
    "start_time": "2023-01-08T17:31:08.936Z"
   },
   {
    "duration": 19,
    "start_time": "2023-01-08T17:31:08.963Z"
   },
   {
    "duration": 10,
    "start_time": "2023-01-08T17:31:08.984Z"
   },
   {
    "duration": 38,
    "start_time": "2023-01-08T17:31:08.996Z"
   },
   {
    "duration": 27,
    "start_time": "2023-01-08T17:31:09.036Z"
   },
   {
    "duration": 21,
    "start_time": "2023-01-08T17:31:09.065Z"
   },
   {
    "duration": 73,
    "start_time": "2023-01-08T17:31:09.088Z"
   },
   {
    "duration": 1596,
    "start_time": "2023-01-08T17:31:09.162Z"
   },
   {
    "duration": 1591,
    "start_time": "2023-01-08T17:31:10.759Z"
   },
   {
    "duration": 1579,
    "start_time": "2023-01-08T17:31:12.351Z"
   },
   {
    "duration": 646,
    "start_time": "2023-01-08T17:31:13.931Z"
   },
   {
    "duration": 596,
    "start_time": "2023-01-08T17:31:14.578Z"
   },
   {
    "duration": 1311,
    "start_time": "2023-01-08T17:31:15.176Z"
   },
   {
    "duration": 1187,
    "start_time": "2023-01-08T17:31:16.489Z"
   },
   {
    "duration": 1182,
    "start_time": "2023-01-08T17:31:17.677Z"
   },
   {
    "duration": 1187,
    "start_time": "2023-01-08T17:31:18.864Z"
   },
   {
    "duration": 5,
    "start_time": "2023-01-08T17:31:20.052Z"
   },
   {
    "duration": 16,
    "start_time": "2023-01-08T17:31:20.058Z"
   },
   {
    "duration": 20,
    "start_time": "2023-01-08T17:31:20.075Z"
   },
   {
    "duration": 9,
    "start_time": "2023-01-08T17:31:20.097Z"
   },
   {
    "duration": 8,
    "start_time": "2023-01-08T17:31:20.108Z"
   },
   {
    "duration": 15,
    "start_time": "2023-01-08T17:31:20.117Z"
   },
   {
    "duration": 265,
    "start_time": "2023-01-08T17:31:20.134Z"
   },
   {
    "duration": 0,
    "start_time": "2023-01-08T17:31:20.404Z"
   },
   {
    "duration": 0,
    "start_time": "2023-01-08T17:31:20.405Z"
   },
   {
    "duration": 0,
    "start_time": "2023-01-08T17:31:20.407Z"
   },
   {
    "duration": 0,
    "start_time": "2023-01-08T17:31:20.408Z"
   },
   {
    "duration": 0,
    "start_time": "2023-01-08T17:31:20.410Z"
   },
   {
    "duration": 0,
    "start_time": "2023-01-08T17:31:20.412Z"
   },
   {
    "duration": 3,
    "start_time": "2023-01-08T17:32:41.216Z"
   },
   {
    "duration": 1383,
    "start_time": "2023-01-08T17:33:33.005Z"
   },
   {
    "duration": 697,
    "start_time": "2023-01-08T17:33:34.390Z"
   },
   {
    "duration": 23,
    "start_time": "2023-01-08T17:33:35.088Z"
   },
   {
    "duration": 7,
    "start_time": "2023-01-08T17:33:35.114Z"
   },
   {
    "duration": 27,
    "start_time": "2023-01-08T17:33:35.122Z"
   },
   {
    "duration": 25,
    "start_time": "2023-01-08T17:33:35.151Z"
   },
   {
    "duration": 38,
    "start_time": "2023-01-08T17:33:35.178Z"
   },
   {
    "duration": 6,
    "start_time": "2023-01-08T17:33:35.218Z"
   },
   {
    "duration": 4,
    "start_time": "2023-01-08T17:33:35.226Z"
   },
   {
    "duration": 6,
    "start_time": "2023-01-08T17:33:35.233Z"
   },
   {
    "duration": 5,
    "start_time": "2023-01-08T17:33:35.240Z"
   },
   {
    "duration": 20,
    "start_time": "2023-01-08T17:33:35.246Z"
   },
   {
    "duration": 57,
    "start_time": "2023-01-08T17:33:35.267Z"
   },
   {
    "duration": 16,
    "start_time": "2023-01-08T17:33:35.326Z"
   },
   {
    "duration": 5,
    "start_time": "2023-01-08T17:33:35.343Z"
   },
   {
    "duration": 9,
    "start_time": "2023-01-08T17:33:35.350Z"
   },
   {
    "duration": 5,
    "start_time": "2023-01-08T17:33:35.361Z"
   },
   {
    "duration": 43,
    "start_time": "2023-01-08T17:33:35.367Z"
   },
   {
    "duration": 59,
    "start_time": "2023-01-08T17:33:35.412Z"
   },
   {
    "duration": 1640,
    "start_time": "2023-01-08T17:33:35.473Z"
   },
   {
    "duration": 1791,
    "start_time": "2023-01-08T17:33:37.115Z"
   },
   {
    "duration": 1527,
    "start_time": "2023-01-08T17:33:38.908Z"
   },
   {
    "duration": 629,
    "start_time": "2023-01-08T17:33:40.436Z"
   },
   {
    "duration": 637,
    "start_time": "2023-01-08T17:33:41.067Z"
   },
   {
    "duration": 1248,
    "start_time": "2023-01-08T17:33:41.707Z"
   },
   {
    "duration": 1227,
    "start_time": "2023-01-08T17:33:42.957Z"
   },
   {
    "duration": 1191,
    "start_time": "2023-01-08T17:33:44.185Z"
   },
   {
    "duration": 1191,
    "start_time": "2023-01-08T17:33:45.379Z"
   },
   {
    "duration": 4,
    "start_time": "2023-01-08T17:33:46.571Z"
   },
   {
    "duration": 5,
    "start_time": "2023-01-08T17:33:46.577Z"
   },
   {
    "duration": 10,
    "start_time": "2023-01-08T17:33:46.583Z"
   },
   {
    "duration": 11,
    "start_time": "2023-01-08T17:33:46.594Z"
   },
   {
    "duration": 6,
    "start_time": "2023-01-08T17:33:46.606Z"
   },
   {
    "duration": 5,
    "start_time": "2023-01-08T17:33:46.613Z"
   },
   {
    "duration": 258,
    "start_time": "2023-01-08T17:33:46.619Z"
   },
   {
    "duration": 0,
    "start_time": "2023-01-08T17:33:46.878Z"
   },
   {
    "duration": 0,
    "start_time": "2023-01-08T17:33:46.880Z"
   },
   {
    "duration": 0,
    "start_time": "2023-01-08T17:33:46.881Z"
   },
   {
    "duration": 0,
    "start_time": "2023-01-08T17:33:46.882Z"
   },
   {
    "duration": 0,
    "start_time": "2023-01-08T17:33:46.883Z"
   },
   {
    "duration": 0,
    "start_time": "2023-01-08T17:33:46.884Z"
   },
   {
    "duration": 1570,
    "start_time": "2023-01-09T16:21:54.196Z"
   },
   {
    "duration": 3731,
    "start_time": "2023-01-09T16:21:55.768Z"
   },
   {
    "duration": 17,
    "start_time": "2023-01-09T16:21:59.500Z"
   },
   {
    "duration": 7,
    "start_time": "2023-01-09T16:21:59.519Z"
   },
   {
    "duration": 30,
    "start_time": "2023-01-09T16:21:59.528Z"
   },
   {
    "duration": 24,
    "start_time": "2023-01-09T16:21:59.559Z"
   },
   {
    "duration": 14,
    "start_time": "2023-01-09T16:21:59.584Z"
   },
   {
    "duration": 25,
    "start_time": "2023-01-09T16:21:59.600Z"
   },
   {
    "duration": 6,
    "start_time": "2023-01-09T16:21:59.627Z"
   },
   {
    "duration": 9,
    "start_time": "2023-01-09T16:21:59.636Z"
   },
   {
    "duration": 7,
    "start_time": "2023-01-09T16:21:59.646Z"
   },
   {
    "duration": 20,
    "start_time": "2023-01-09T16:21:59.655Z"
   },
   {
    "duration": 25,
    "start_time": "2023-01-09T16:21:59.677Z"
   },
   {
    "duration": 12,
    "start_time": "2023-01-09T16:21:59.721Z"
   },
   {
    "duration": 4,
    "start_time": "2023-01-09T16:21:59.735Z"
   },
   {
    "duration": 15,
    "start_time": "2023-01-09T16:21:59.741Z"
   },
   {
    "duration": 5,
    "start_time": "2023-01-09T16:21:59.757Z"
   },
   {
    "duration": 15,
    "start_time": "2023-01-09T16:21:59.763Z"
   },
   {
    "duration": 99,
    "start_time": "2023-01-09T16:21:59.780Z"
   },
   {
    "duration": 1727,
    "start_time": "2023-01-09T16:21:59.881Z"
   },
   {
    "duration": 1527,
    "start_time": "2023-01-09T16:22:01.610Z"
   },
   {
    "duration": 1655,
    "start_time": "2023-01-09T16:22:03.138Z"
   },
   {
    "duration": 584,
    "start_time": "2023-01-09T16:22:04.794Z"
   },
   {
    "duration": 652,
    "start_time": "2023-01-09T16:22:05.379Z"
   },
   {
    "duration": 1373,
    "start_time": "2023-01-09T16:22:06.033Z"
   },
   {
    "duration": 1181,
    "start_time": "2023-01-09T16:22:07.407Z"
   },
   {
    "duration": 1185,
    "start_time": "2023-01-09T16:22:08.589Z"
   },
   {
    "duration": 1206,
    "start_time": "2023-01-09T16:22:09.777Z"
   },
   {
    "duration": 5,
    "start_time": "2023-01-09T16:22:10.984Z"
   },
   {
    "duration": 18,
    "start_time": "2023-01-09T16:22:10.990Z"
   },
   {
    "duration": 63,
    "start_time": "2023-01-09T16:22:11.009Z"
   },
   {
    "duration": 0,
    "start_time": "2023-01-09T16:22:11.074Z"
   },
   {
    "duration": 0,
    "start_time": "2023-01-09T16:22:11.075Z"
   },
   {
    "duration": 0,
    "start_time": "2023-01-09T16:22:11.076Z"
   },
   {
    "duration": 0,
    "start_time": "2023-01-09T16:22:11.077Z"
   },
   {
    "duration": 0,
    "start_time": "2023-01-09T16:22:11.078Z"
   },
   {
    "duration": 0,
    "start_time": "2023-01-09T16:22:11.079Z"
   },
   {
    "duration": 0,
    "start_time": "2023-01-09T16:22:11.080Z"
   },
   {
    "duration": 0,
    "start_time": "2023-01-09T16:22:11.081Z"
   },
   {
    "duration": 0,
    "start_time": "2023-01-09T16:22:11.082Z"
   },
   {
    "duration": 0,
    "start_time": "2023-01-09T16:22:11.083Z"
   },
   {
    "duration": 4,
    "start_time": "2023-01-09T16:22:45.089Z"
   },
   {
    "duration": 9,
    "start_time": "2023-01-09T16:22:45.793Z"
   },
   {
    "duration": 3,
    "start_time": "2023-01-09T16:22:47.273Z"
   },
   {
    "duration": 3,
    "start_time": "2023-01-09T16:22:47.488Z"
   },
   {
    "duration": 348,
    "start_time": "2023-01-09T16:22:48.265Z"
   },
   {
    "duration": 4,
    "start_time": "2023-01-09T16:23:21.938Z"
   },
   {
    "duration": 2,
    "start_time": "2023-01-09T16:23:31.730Z"
   },
   {
    "duration": 3,
    "start_time": "2023-01-09T16:23:32.130Z"
   },
   {
    "duration": 16,
    "start_time": "2023-01-09T16:23:32.722Z"
   },
   {
    "duration": 1258,
    "start_time": "2023-01-09T16:23:46.380Z"
   },
   {
    "duration": 653,
    "start_time": "2023-01-09T16:23:47.640Z"
   },
   {
    "duration": 17,
    "start_time": "2023-01-09T16:23:48.295Z"
   },
   {
    "duration": 6,
    "start_time": "2023-01-09T16:23:48.321Z"
   },
   {
    "duration": 31,
    "start_time": "2023-01-09T16:23:48.328Z"
   },
   {
    "duration": 25,
    "start_time": "2023-01-09T16:23:48.360Z"
   },
   {
    "duration": 18,
    "start_time": "2023-01-09T16:23:48.386Z"
   },
   {
    "duration": 21,
    "start_time": "2023-01-09T16:23:48.406Z"
   },
   {
    "duration": 32,
    "start_time": "2023-01-09T16:23:48.429Z"
   },
   {
    "duration": 44,
    "start_time": "2023-01-09T16:23:48.464Z"
   },
   {
    "duration": 11,
    "start_time": "2023-01-09T16:23:48.509Z"
   },
   {
    "duration": 17,
    "start_time": "2023-01-09T16:23:48.522Z"
   },
   {
    "duration": 29,
    "start_time": "2023-01-09T16:23:48.541Z"
   },
   {
    "duration": 20,
    "start_time": "2023-01-09T16:23:48.572Z"
   },
   {
    "duration": 13,
    "start_time": "2023-01-09T16:23:48.594Z"
   },
   {
    "duration": 19,
    "start_time": "2023-01-09T16:23:48.609Z"
   },
   {
    "duration": 8,
    "start_time": "2023-01-09T16:23:48.629Z"
   },
   {
    "duration": 36,
    "start_time": "2023-01-09T16:23:48.638Z"
   },
   {
    "duration": 76,
    "start_time": "2023-01-09T16:23:48.675Z"
   },
   {
    "duration": 1655,
    "start_time": "2023-01-09T16:23:48.753Z"
   },
   {
    "duration": 1466,
    "start_time": "2023-01-09T16:23:50.410Z"
   },
   {
    "duration": 1593,
    "start_time": "2023-01-09T16:23:51.877Z"
   },
   {
    "duration": 604,
    "start_time": "2023-01-09T16:23:53.471Z"
   },
   {
    "duration": 629,
    "start_time": "2023-01-09T16:23:54.077Z"
   },
   {
    "duration": 1280,
    "start_time": "2023-01-09T16:23:54.707Z"
   },
   {
    "duration": 1206,
    "start_time": "2023-01-09T16:23:55.989Z"
   },
   {
    "duration": 1269,
    "start_time": "2023-01-09T16:23:57.196Z"
   },
   {
    "duration": 1107,
    "start_time": "2023-01-09T16:23:58.468Z"
   },
   {
    "duration": 5,
    "start_time": "2023-01-09T16:23:59.577Z"
   },
   {
    "duration": 7,
    "start_time": "2023-01-09T16:23:59.583Z"
   },
   {
    "duration": 12,
    "start_time": "2023-01-09T16:23:59.591Z"
   },
   {
    "duration": 11,
    "start_time": "2023-01-09T16:23:59.605Z"
   },
   {
    "duration": 7,
    "start_time": "2023-01-09T16:23:59.620Z"
   },
   {
    "duration": 8,
    "start_time": "2023-01-09T16:23:59.629Z"
   },
   {
    "duration": 246,
    "start_time": "2023-01-09T16:23:59.639Z"
   },
   {
    "duration": 0,
    "start_time": "2023-01-09T16:23:59.887Z"
   },
   {
    "duration": 0,
    "start_time": "2023-01-09T16:23:59.889Z"
   },
   {
    "duration": 0,
    "start_time": "2023-01-09T16:23:59.889Z"
   },
   {
    "duration": 0,
    "start_time": "2023-01-09T16:23:59.891Z"
   },
   {
    "duration": 0,
    "start_time": "2023-01-09T16:23:59.892Z"
   },
   {
    "duration": 0,
    "start_time": "2023-01-09T16:23:59.894Z"
   },
   {
    "duration": 3,
    "start_time": "2023-01-09T16:26:43.499Z"
   },
   {
    "duration": 1283,
    "start_time": "2023-01-09T16:26:53.737Z"
   },
   {
    "duration": 699,
    "start_time": "2023-01-09T16:26:55.021Z"
   },
   {
    "duration": 19,
    "start_time": "2023-01-09T16:26:55.721Z"
   },
   {
    "duration": 7,
    "start_time": "2023-01-09T16:26:55.741Z"
   },
   {
    "duration": 29,
    "start_time": "2023-01-09T16:26:55.749Z"
   },
   {
    "duration": 22,
    "start_time": "2023-01-09T16:26:55.780Z"
   },
   {
    "duration": 14,
    "start_time": "2023-01-09T16:26:55.820Z"
   },
   {
    "duration": 6,
    "start_time": "2023-01-09T16:26:55.835Z"
   },
   {
    "duration": 7,
    "start_time": "2023-01-09T16:26:55.842Z"
   },
   {
    "duration": 7,
    "start_time": "2023-01-09T16:26:55.851Z"
   },
   {
    "duration": 5,
    "start_time": "2023-01-09T16:26:55.859Z"
   },
   {
    "duration": 16,
    "start_time": "2023-01-09T16:26:55.866Z"
   },
   {
    "duration": 51,
    "start_time": "2023-01-09T16:26:55.883Z"
   },
   {
    "duration": 14,
    "start_time": "2023-01-09T16:26:55.936Z"
   },
   {
    "duration": 5,
    "start_time": "2023-01-09T16:26:55.951Z"
   },
   {
    "duration": 14,
    "start_time": "2023-01-09T16:26:55.957Z"
   },
   {
    "duration": 6,
    "start_time": "2023-01-09T16:26:55.972Z"
   },
   {
    "duration": 18,
    "start_time": "2023-01-09T16:26:55.979Z"
   },
   {
    "duration": 65,
    "start_time": "2023-01-09T16:26:55.999Z"
   },
   {
    "duration": 1614,
    "start_time": "2023-01-09T16:26:56.065Z"
   },
   {
    "duration": 1502,
    "start_time": "2023-01-09T16:26:57.681Z"
   },
   {
    "duration": 1575,
    "start_time": "2023-01-09T16:26:59.184Z"
   },
   {
    "duration": 618,
    "start_time": "2023-01-09T16:27:00.761Z"
   },
   {
    "duration": 616,
    "start_time": "2023-01-09T16:27:01.380Z"
   },
   {
    "duration": 1296,
    "start_time": "2023-01-09T16:27:01.997Z"
   },
   {
    "duration": 1196,
    "start_time": "2023-01-09T16:27:03.295Z"
   },
   {
    "duration": 1222,
    "start_time": "2023-01-09T16:27:04.493Z"
   },
   {
    "duration": 1162,
    "start_time": "2023-01-09T16:27:05.720Z"
   },
   {
    "duration": 4,
    "start_time": "2023-01-09T16:27:06.884Z"
   },
   {
    "duration": 9,
    "start_time": "2023-01-09T16:27:06.889Z"
   },
   {
    "duration": 355,
    "start_time": "2023-01-09T16:27:06.899Z"
   },
   {
    "duration": 0,
    "start_time": "2023-01-09T16:27:07.256Z"
   },
   {
    "duration": 0,
    "start_time": "2023-01-09T16:27:07.257Z"
   },
   {
    "duration": 0,
    "start_time": "2023-01-09T16:27:07.258Z"
   },
   {
    "duration": 0,
    "start_time": "2023-01-09T16:27:07.259Z"
   },
   {
    "duration": 0,
    "start_time": "2023-01-09T16:27:07.261Z"
   },
   {
    "duration": 0,
    "start_time": "2023-01-09T16:27:07.262Z"
   },
   {
    "duration": 1262,
    "start_time": "2023-01-09T16:37:47.077Z"
   },
   {
    "duration": 688,
    "start_time": "2023-01-09T16:37:48.341Z"
   },
   {
    "duration": 18,
    "start_time": "2023-01-09T16:37:49.031Z"
   },
   {
    "duration": 6,
    "start_time": "2023-01-09T16:37:49.051Z"
   },
   {
    "duration": 42,
    "start_time": "2023-01-09T16:37:49.059Z"
   },
   {
    "duration": 40,
    "start_time": "2023-01-09T16:37:49.103Z"
   },
   {
    "duration": 15,
    "start_time": "2023-01-09T16:37:49.145Z"
   },
   {
    "duration": 7,
    "start_time": "2023-01-09T16:37:49.162Z"
   },
   {
    "duration": 6,
    "start_time": "2023-01-09T16:37:49.170Z"
   },
   {
    "duration": 7,
    "start_time": "2023-01-09T16:37:49.178Z"
   },
   {
    "duration": 34,
    "start_time": "2023-01-09T16:37:49.187Z"
   },
   {
    "duration": 24,
    "start_time": "2023-01-09T16:37:49.223Z"
   },
   {
    "duration": 37,
    "start_time": "2023-01-09T16:37:49.248Z"
   },
   {
    "duration": 12,
    "start_time": "2023-01-09T16:37:49.287Z"
   },
   {
    "duration": 20,
    "start_time": "2023-01-09T16:37:49.301Z"
   },
   {
    "duration": 18,
    "start_time": "2023-01-09T16:37:49.323Z"
   },
   {
    "duration": 3,
    "start_time": "2023-01-09T16:37:49.342Z"
   },
   {
    "duration": 18,
    "start_time": "2023-01-09T16:37:49.347Z"
   },
   {
    "duration": 77,
    "start_time": "2023-01-09T16:37:49.367Z"
   },
   {
    "duration": 1587,
    "start_time": "2023-01-09T16:37:49.445Z"
   },
   {
    "duration": 1640,
    "start_time": "2023-01-09T16:37:51.034Z"
   },
   {
    "duration": 1501,
    "start_time": "2023-01-09T16:37:52.675Z"
   },
   {
    "duration": 603,
    "start_time": "2023-01-09T16:37:54.178Z"
   },
   {
    "duration": 611,
    "start_time": "2023-01-09T16:37:54.783Z"
   },
   {
    "duration": 1306,
    "start_time": "2023-01-09T16:37:55.395Z"
   },
   {
    "duration": 1129,
    "start_time": "2023-01-09T16:37:56.703Z"
   },
   {
    "duration": 1147,
    "start_time": "2023-01-09T16:37:57.834Z"
   },
   {
    "duration": 1205,
    "start_time": "2023-01-09T16:37:58.984Z"
   },
   {
    "duration": 4,
    "start_time": "2023-01-09T16:38:00.192Z"
   },
   {
    "duration": 10,
    "start_time": "2023-01-09T16:38:00.198Z"
   },
   {
    "duration": 255,
    "start_time": "2023-01-09T16:38:00.209Z"
   },
   {
    "duration": 146,
    "start_time": "2023-01-09T16:38:00.466Z"
   },
   {
    "duration": 101,
    "start_time": "2023-01-09T16:38:00.614Z"
   },
   {
    "duration": 108,
    "start_time": "2023-01-09T16:38:00.717Z"
   },
   {
    "duration": 75,
    "start_time": "2023-01-09T16:38:00.826Z"
   },
   {
    "duration": 4,
    "start_time": "2023-01-09T16:38:00.903Z"
   },
   {
    "duration": 111,
    "start_time": "2023-01-09T16:38:00.909Z"
   },
   {
    "duration": 10,
    "start_time": "2023-01-09T16:44:38.946Z"
   },
   {
    "duration": 3,
    "start_time": "2023-01-09T16:45:02.595Z"
   },
   {
    "duration": 3,
    "start_time": "2023-01-09T16:45:04.267Z"
   },
   {
    "duration": 102,
    "start_time": "2023-01-09T16:45:05.748Z"
   },
   {
    "duration": 161,
    "start_time": "2023-01-09T16:45:09.258Z"
   },
   {
    "duration": 831,
    "start_time": "2023-01-09T16:46:21.658Z"
   },
   {
    "duration": 694,
    "start_time": "2023-01-09T16:46:29.563Z"
   },
   {
    "duration": 941,
    "start_time": "2023-01-09T16:46:35.675Z"
   },
   {
    "duration": 876,
    "start_time": "2023-01-09T16:46:41.715Z"
   },
   {
    "duration": 577,
    "start_time": "2023-01-09T16:46:47.995Z"
   },
   {
    "duration": 551,
    "start_time": "2023-01-09T16:46:52.915Z"
   },
   {
    "duration": 1005,
    "start_time": "2023-01-09T16:46:59.539Z"
   },
   {
    "duration": 1251,
    "start_time": "2023-01-09T16:47:03.812Z"
   },
   {
    "duration": 879,
    "start_time": "2023-01-09T16:47:08.715Z"
   },
   {
    "duration": 1109,
    "start_time": "2023-01-09T16:47:13.548Z"
   },
   {
    "duration": 3,
    "start_time": "2023-01-09T16:51:27.214Z"
   },
   {
    "duration": 3,
    "start_time": "2023-01-09T17:07:12.379Z"
   },
   {
    "duration": 1527,
    "start_time": "2023-01-10T16:20:22.970Z"
   },
   {
    "duration": 2622,
    "start_time": "2023-01-10T16:20:24.500Z"
   },
   {
    "duration": 18,
    "start_time": "2023-01-10T16:20:27.123Z"
   },
   {
    "duration": 7,
    "start_time": "2023-01-10T16:20:27.143Z"
   },
   {
    "duration": 27,
    "start_time": "2023-01-10T16:20:27.152Z"
   },
   {
    "duration": 25,
    "start_time": "2023-01-10T16:20:27.180Z"
   },
   {
    "duration": 13,
    "start_time": "2023-01-10T16:20:27.207Z"
   },
   {
    "duration": 6,
    "start_time": "2023-01-10T16:20:27.222Z"
   },
   {
    "duration": 5,
    "start_time": "2023-01-10T16:20:27.229Z"
   },
   {
    "duration": 5,
    "start_time": "2023-01-10T16:20:27.237Z"
   },
   {
    "duration": 37,
    "start_time": "2023-01-10T16:20:27.243Z"
   },
   {
    "duration": 18,
    "start_time": "2023-01-10T16:20:27.282Z"
   },
   {
    "duration": 26,
    "start_time": "2023-01-10T16:20:27.302Z"
   },
   {
    "duration": 13,
    "start_time": "2023-01-10T16:20:27.330Z"
   },
   {
    "duration": 3,
    "start_time": "2023-01-10T16:20:27.345Z"
   },
   {
    "duration": 34,
    "start_time": "2023-01-10T16:20:27.349Z"
   },
   {
    "duration": 2,
    "start_time": "2023-01-10T16:20:27.385Z"
   },
   {
    "duration": 15,
    "start_time": "2023-01-10T16:20:27.389Z"
   },
   {
    "duration": 89,
    "start_time": "2023-01-10T16:20:27.406Z"
   },
   {
    "duration": 1665,
    "start_time": "2023-01-10T16:20:27.496Z"
   },
   {
    "duration": 1719,
    "start_time": "2023-01-10T16:20:29.163Z"
   },
   {
    "duration": 1624,
    "start_time": "2023-01-10T16:20:30.885Z"
   },
   {
    "duration": 656,
    "start_time": "2023-01-10T16:20:32.511Z"
   },
   {
    "duration": 589,
    "start_time": "2023-01-10T16:20:33.169Z"
   },
   {
    "duration": 1574,
    "start_time": "2023-01-10T16:20:33.761Z"
   },
   {
    "duration": 1308,
    "start_time": "2023-01-10T16:20:35.338Z"
   },
   {
    "duration": 1219,
    "start_time": "2023-01-10T16:20:36.648Z"
   },
   {
    "duration": 1155,
    "start_time": "2023-01-10T16:20:37.876Z"
   },
   {
    "duration": 110,
    "start_time": "2023-01-10T16:20:39.033Z"
   },
   {
    "duration": 3,
    "start_time": "2023-01-10T16:20:39.145Z"
   },
   {
    "duration": 6,
    "start_time": "2023-01-10T16:20:39.149Z"
   },
   {
    "duration": 126,
    "start_time": "2023-01-10T16:20:39.156Z"
   },
   {
    "duration": 0,
    "start_time": "2023-01-10T16:20:39.284Z"
   },
   {
    "duration": 0,
    "start_time": "2023-01-10T16:20:39.285Z"
   },
   {
    "duration": 0,
    "start_time": "2023-01-10T16:20:39.286Z"
   },
   {
    "duration": 0,
    "start_time": "2023-01-10T16:20:39.287Z"
   },
   {
    "duration": 0,
    "start_time": "2023-01-10T16:20:39.289Z"
   },
   {
    "duration": 0,
    "start_time": "2023-01-10T16:20:39.290Z"
   },
   {
    "duration": 0,
    "start_time": "2023-01-10T16:20:39.292Z"
   },
   {
    "duration": 0,
    "start_time": "2023-01-10T16:20:39.293Z"
   },
   {
    "duration": 109,
    "start_time": "2023-01-10T16:21:15.327Z"
   },
   {
    "duration": 16282,
    "start_time": "2023-01-10T16:48:31.967Z"
   },
   {
    "duration": 17501,
    "start_time": "2023-01-10T16:49:48.542Z"
   },
   {
    "duration": 17284,
    "start_time": "2023-01-10T16:52:04.072Z"
   },
   {
    "duration": 17092,
    "start_time": "2023-01-10T16:52:50.905Z"
   },
   {
    "duration": 166,
    "start_time": "2023-01-10T17:02:30.242Z"
   },
   {
    "duration": 2,
    "start_time": "2023-01-10T17:03:23.490Z"
   },
   {
    "duration": 3,
    "start_time": "2023-01-10T17:03:23.857Z"
   },
   {
    "duration": 2,
    "start_time": "2023-01-10T17:03:24.546Z"
   },
   {
    "duration": 159,
    "start_time": "2023-01-10T17:03:25.841Z"
   },
   {
    "duration": 210,
    "start_time": "2023-01-10T17:13:04.149Z"
   },
   {
    "duration": 208,
    "start_time": "2023-01-10T17:13:29.493Z"
   },
   {
    "duration": 198,
    "start_time": "2023-01-10T17:13:56.500Z"
   },
   {
    "duration": 102,
    "start_time": "2023-01-10T17:16:24.253Z"
   },
   {
    "duration": 122,
    "start_time": "2023-01-10T17:17:00.213Z"
   },
   {
    "duration": 218,
    "start_time": "2023-01-10T17:17:05.175Z"
   },
   {
    "duration": 56,
    "start_time": "2023-01-10T17:31:51.525Z"
   },
   {
    "duration": 210,
    "start_time": "2023-01-10T17:31:56.487Z"
   },
   {
    "duration": 103,
    "start_time": "2023-01-10T17:32:36.490Z"
   },
   {
    "duration": 201,
    "start_time": "2023-01-10T18:57:00.327Z"
   },
   {
    "duration": 200,
    "start_time": "2023-01-10T18:57:12.908Z"
   },
   {
    "duration": 2,
    "start_time": "2023-01-10T19:08:23.098Z"
   },
   {
    "duration": 4,
    "start_time": "2023-01-10T19:08:23.470Z"
   },
   {
    "duration": 3,
    "start_time": "2023-01-10T19:08:24.222Z"
   },
   {
    "duration": 208,
    "start_time": "2023-01-10T19:08:25.023Z"
   },
   {
    "duration": 210,
    "start_time": "2023-01-10T19:10:31.473Z"
   },
   {
    "duration": 202,
    "start_time": "2023-01-10T19:11:15.395Z"
   },
   {
    "duration": 218,
    "start_time": "2023-01-10T19:12:04.450Z"
   },
   {
    "duration": 219,
    "start_time": "2023-01-10T19:12:07.736Z"
   },
   {
    "duration": 203,
    "start_time": "2023-01-10T19:12:10.723Z"
   },
   {
    "duration": 202,
    "start_time": "2023-01-10T19:12:14.280Z"
   },
   {
    "duration": 201,
    "start_time": "2023-01-10T19:12:23.809Z"
   },
   {
    "duration": 1409,
    "start_time": "2023-01-10T19:13:11.794Z"
   },
   {
    "duration": 731,
    "start_time": "2023-01-10T19:13:13.205Z"
   },
   {
    "duration": 20,
    "start_time": "2023-01-10T19:13:13.938Z"
   },
   {
    "duration": 20,
    "start_time": "2023-01-10T19:13:13.960Z"
   },
   {
    "duration": 33,
    "start_time": "2023-01-10T19:13:13.982Z"
   },
   {
    "duration": 26,
    "start_time": "2023-01-10T19:13:14.016Z"
   },
   {
    "duration": 35,
    "start_time": "2023-01-10T19:13:14.043Z"
   },
   {
    "duration": 7,
    "start_time": "2023-01-10T19:13:14.080Z"
   },
   {
    "duration": 6,
    "start_time": "2023-01-10T19:13:14.088Z"
   },
   {
    "duration": 6,
    "start_time": "2023-01-10T19:13:14.096Z"
   },
   {
    "duration": 5,
    "start_time": "2023-01-10T19:13:14.103Z"
   },
   {
    "duration": 17,
    "start_time": "2023-01-10T19:13:14.109Z"
   },
   {
    "duration": 56,
    "start_time": "2023-01-10T19:13:14.128Z"
   },
   {
    "duration": 14,
    "start_time": "2023-01-10T19:13:14.186Z"
   },
   {
    "duration": 3,
    "start_time": "2023-01-10T19:13:14.202Z"
   },
   {
    "duration": 14,
    "start_time": "2023-01-10T19:13:14.206Z"
   },
   {
    "duration": 4,
    "start_time": "2023-01-10T19:13:14.222Z"
   },
   {
    "duration": 15,
    "start_time": "2023-01-10T19:13:14.228Z"
   },
   {
    "duration": 90,
    "start_time": "2023-01-10T19:13:14.245Z"
   },
   {
    "duration": 1624,
    "start_time": "2023-01-10T19:13:14.337Z"
   },
   {
    "duration": 1689,
    "start_time": "2023-01-10T19:13:15.963Z"
   },
   {
    "duration": 1639,
    "start_time": "2023-01-10T19:13:17.653Z"
   },
   {
    "duration": 672,
    "start_time": "2023-01-10T19:13:19.294Z"
   },
   {
    "duration": 595,
    "start_time": "2023-01-10T19:13:19.969Z"
   },
   {
    "duration": 1297,
    "start_time": "2023-01-10T19:13:20.566Z"
   },
   {
    "duration": 1313,
    "start_time": "2023-01-10T19:13:21.864Z"
   },
   {
    "duration": 1264,
    "start_time": "2023-01-10T19:13:23.179Z"
   },
   {
    "duration": 1332,
    "start_time": "2023-01-10T19:13:24.446Z"
   },
   {
    "duration": 257,
    "start_time": "2023-01-10T19:13:25.780Z"
   },
   {
    "duration": 0,
    "start_time": "2023-01-10T19:13:26.038Z"
   },
   {
    "duration": 0,
    "start_time": "2023-01-10T19:13:26.039Z"
   },
   {
    "duration": 0,
    "start_time": "2023-01-10T19:13:26.040Z"
   },
   {
    "duration": 0,
    "start_time": "2023-01-10T19:13:26.041Z"
   },
   {
    "duration": 0,
    "start_time": "2023-01-10T19:13:26.042Z"
   },
   {
    "duration": 0,
    "start_time": "2023-01-10T19:13:26.043Z"
   },
   {
    "duration": 0,
    "start_time": "2023-01-10T19:13:26.044Z"
   },
   {
    "duration": 0,
    "start_time": "2023-01-10T19:13:26.045Z"
   },
   {
    "duration": 0,
    "start_time": "2023-01-10T19:13:26.046Z"
   },
   {
    "duration": 0,
    "start_time": "2023-01-10T19:13:26.047Z"
   },
   {
    "duration": 0,
    "start_time": "2023-01-10T19:13:26.048Z"
   },
   {
    "duration": 0,
    "start_time": "2023-01-10T19:13:26.050Z"
   },
   {
    "duration": 2,
    "start_time": "2023-01-10T19:13:51.975Z"
   },
   {
    "duration": 3,
    "start_time": "2023-01-10T19:13:52.411Z"
   },
   {
    "duration": 3,
    "start_time": "2023-01-10T19:13:53.102Z"
   },
   {
    "duration": 216,
    "start_time": "2023-01-10T19:13:53.950Z"
   },
   {
    "duration": 1410,
    "start_time": "2023-01-11T11:05:42.787Z"
   },
   {
    "duration": 1966,
    "start_time": "2023-01-11T11:05:44.198Z"
   },
   {
    "duration": 18,
    "start_time": "2023-01-11T11:05:46.166Z"
   },
   {
    "duration": 7,
    "start_time": "2023-01-11T11:05:46.187Z"
   },
   {
    "duration": 30,
    "start_time": "2023-01-11T11:05:46.196Z"
   },
   {
    "duration": 22,
    "start_time": "2023-01-11T11:05:46.228Z"
   },
   {
    "duration": 13,
    "start_time": "2023-01-11T11:05:46.252Z"
   },
   {
    "duration": 6,
    "start_time": "2023-01-11T11:05:46.266Z"
   },
   {
    "duration": 9,
    "start_time": "2023-01-11T11:05:46.273Z"
   },
   {
    "duration": 9,
    "start_time": "2023-01-11T11:05:46.284Z"
   },
   {
    "duration": 14,
    "start_time": "2023-01-11T11:05:46.294Z"
   },
   {
    "duration": 26,
    "start_time": "2023-01-11T11:05:46.309Z"
   },
   {
    "duration": 25,
    "start_time": "2023-01-11T11:05:46.337Z"
   },
   {
    "duration": 13,
    "start_time": "2023-01-11T11:05:46.363Z"
   },
   {
    "duration": 2,
    "start_time": "2023-01-11T11:05:46.378Z"
   },
   {
    "duration": 8,
    "start_time": "2023-01-11T11:05:46.381Z"
   },
   {
    "duration": 2,
    "start_time": "2023-01-11T11:05:46.391Z"
   },
   {
    "duration": 37,
    "start_time": "2023-01-11T11:05:46.394Z"
   },
   {
    "duration": 57,
    "start_time": "2023-01-11T11:05:46.433Z"
   },
   {
    "duration": 1698,
    "start_time": "2023-01-11T11:05:46.491Z"
   },
   {
    "duration": 1567,
    "start_time": "2023-01-11T11:05:48.191Z"
   },
   {
    "duration": 1622,
    "start_time": "2023-01-11T11:05:49.759Z"
   },
   {
    "duration": 602,
    "start_time": "2023-01-11T11:05:51.383Z"
   },
   {
    "duration": 631,
    "start_time": "2023-01-11T11:05:51.987Z"
   },
   {
    "duration": 1290,
    "start_time": "2023-01-11T11:05:52.625Z"
   },
   {
    "duration": 1169,
    "start_time": "2023-01-11T11:05:53.917Z"
   },
   {
    "duration": 1195,
    "start_time": "2023-01-11T11:05:55.088Z"
   },
   {
    "duration": 1204,
    "start_time": "2023-01-11T11:05:56.287Z"
   },
   {
    "duration": 7,
    "start_time": "2023-01-11T11:05:57.493Z"
   },
   {
    "duration": 6,
    "start_time": "2023-01-11T11:05:57.501Z"
   },
   {
    "duration": 10,
    "start_time": "2023-01-11T11:05:57.509Z"
   },
   {
    "duration": 649,
    "start_time": "2023-01-11T11:05:57.521Z"
   },
   {
    "duration": 4,
    "start_time": "2023-01-11T11:05:58.172Z"
   },
   {
    "duration": 112,
    "start_time": "2023-01-11T11:05:58.178Z"
   },
   {
    "duration": 379,
    "start_time": "2023-01-11T11:05:58.293Z"
   },
   {
    "duration": 113,
    "start_time": "2023-01-11T11:05:58.674Z"
   },
   {
    "duration": 118,
    "start_time": "2023-01-11T11:05:58.789Z"
   },
   {
    "duration": 83,
    "start_time": "2023-01-11T11:05:58.909Z"
   },
   {
    "duration": 3,
    "start_time": "2023-01-11T11:05:58.994Z"
   },
   {
    "duration": 99,
    "start_time": "2023-01-11T11:05:58.999Z"
   },
   {
    "duration": 675,
    "start_time": "2023-01-11T11:07:34.139Z"
   },
   {
    "duration": 490,
    "start_time": "2023-01-11T11:07:44.740Z"
   },
   {
    "duration": 3,
    "start_time": "2023-01-11T11:08:18.052Z"
   },
   {
    "duration": 3,
    "start_time": "2023-01-11T11:08:19.683Z"
   },
   {
    "duration": 485,
    "start_time": "2023-01-11T11:08:27.341Z"
   },
   {
    "duration": 3,
    "start_time": "2023-01-11T11:09:02.241Z"
   },
   {
    "duration": 2,
    "start_time": "2023-01-11T11:09:02.895Z"
   },
   {
    "duration": 472,
    "start_time": "2023-01-11T11:09:03.663Z"
   },
   {
    "duration": 2,
    "start_time": "2023-01-11T11:09:40.740Z"
   },
   {
    "duration": 100,
    "start_time": "2023-01-11T11:09:41.204Z"
   },
   {
    "duration": 65,
    "start_time": "2023-01-11T11:09:52.544Z"
   },
   {
    "duration": 72,
    "start_time": "2023-01-11T11:09:57.839Z"
   },
   {
    "duration": 70,
    "start_time": "2023-01-11T11:10:08.142Z"
   },
   {
    "duration": 70,
    "start_time": "2023-01-11T11:10:29.909Z"
   },
   {
    "duration": 70,
    "start_time": "2023-01-11T11:10:35.799Z"
   },
   {
    "duration": 4,
    "start_time": "2023-01-11T11:11:21.441Z"
   },
   {
    "duration": 3,
    "start_time": "2023-01-11T11:11:32.439Z"
   },
   {
    "duration": 3,
    "start_time": "2023-01-11T11:11:32.765Z"
   },
   {
    "duration": 3,
    "start_time": "2023-01-11T11:11:33.580Z"
   },
   {
    "duration": 478,
    "start_time": "2023-01-11T11:11:34.508Z"
   },
   {
    "duration": 194,
    "start_time": "2023-01-11T11:39:52.502Z"
   },
   {
    "duration": 1225,
    "start_time": "2023-01-11T11:41:46.146Z"
   },
   {
    "duration": 1368,
    "start_time": "2023-01-11T11:42:24.585Z"
   },
   {
    "duration": 1975,
    "start_time": "2023-01-11T11:42:25.954Z"
   },
   {
    "duration": 17,
    "start_time": "2023-01-11T11:42:27.931Z"
   },
   {
    "duration": 7,
    "start_time": "2023-01-11T11:42:27.949Z"
   },
   {
    "duration": 30,
    "start_time": "2023-01-11T11:42:27.957Z"
   },
   {
    "duration": 23,
    "start_time": "2023-01-11T11:42:27.988Z"
   },
   {
    "duration": 25,
    "start_time": "2023-01-11T11:42:28.012Z"
   },
   {
    "duration": 7,
    "start_time": "2023-01-11T11:42:28.038Z"
   },
   {
    "duration": 7,
    "start_time": "2023-01-11T11:42:28.046Z"
   },
   {
    "duration": 17,
    "start_time": "2023-01-11T11:42:28.055Z"
   },
   {
    "duration": 5,
    "start_time": "2023-01-11T11:42:28.074Z"
   },
   {
    "duration": 20,
    "start_time": "2023-01-11T11:42:28.081Z"
   },
   {
    "duration": 51,
    "start_time": "2023-01-11T11:42:28.103Z"
   },
   {
    "duration": 13,
    "start_time": "2023-01-11T11:42:28.156Z"
   },
   {
    "duration": 3,
    "start_time": "2023-01-11T11:42:28.170Z"
   },
   {
    "duration": 21,
    "start_time": "2023-01-11T11:42:28.174Z"
   },
   {
    "duration": 5,
    "start_time": "2023-01-11T11:42:28.197Z"
   },
   {
    "duration": 32,
    "start_time": "2023-01-11T11:42:28.204Z"
   },
   {
    "duration": 89,
    "start_time": "2023-01-11T11:42:28.238Z"
   },
   {
    "duration": 1452,
    "start_time": "2023-01-11T11:42:28.329Z"
   },
   {
    "duration": 1472,
    "start_time": "2023-01-11T11:42:29.783Z"
   },
   {
    "duration": 1586,
    "start_time": "2023-01-11T11:42:31.257Z"
   },
   {
    "duration": 626,
    "start_time": "2023-01-11T11:42:32.845Z"
   },
   {
    "duration": 622,
    "start_time": "2023-01-11T11:42:33.473Z"
   },
   {
    "duration": 1299,
    "start_time": "2023-01-11T11:42:34.097Z"
   },
   {
    "duration": 1164,
    "start_time": "2023-01-11T11:42:35.398Z"
   },
   {
    "duration": 1207,
    "start_time": "2023-01-11T11:42:36.563Z"
   },
   {
    "duration": 1203,
    "start_time": "2023-01-11T11:42:37.773Z"
   },
   {
    "duration": 7,
    "start_time": "2023-01-11T11:42:38.977Z"
   },
   {
    "duration": 20,
    "start_time": "2023-01-11T11:42:38.985Z"
   },
   {
    "duration": 15,
    "start_time": "2023-01-11T11:42:39.007Z"
   },
   {
    "duration": 604,
    "start_time": "2023-01-11T11:42:39.024Z"
   },
   {
    "duration": 1030,
    "start_time": "2023-01-11T11:46:24.754Z"
   },
   {
    "duration": 1625,
    "start_time": "2023-01-11T11:47:30.421Z"
   },
   {
    "duration": 2096,
    "start_time": "2023-01-11T11:47:32.048Z"
   },
   {
    "duration": 21,
    "start_time": "2023-01-11T11:47:34.146Z"
   },
   {
    "duration": 32,
    "start_time": "2023-01-11T11:47:34.170Z"
   },
   {
    "duration": 60,
    "start_time": "2023-01-11T11:47:34.204Z"
   },
   {
    "duration": 27,
    "start_time": "2023-01-11T11:47:34.266Z"
   },
   {
    "duration": 24,
    "start_time": "2023-01-11T11:47:34.294Z"
   },
   {
    "duration": 12,
    "start_time": "2023-01-11T11:47:34.319Z"
   },
   {
    "duration": 37,
    "start_time": "2023-01-11T11:47:34.333Z"
   },
   {
    "duration": 25,
    "start_time": "2023-01-11T11:47:34.373Z"
   },
   {
    "duration": 34,
    "start_time": "2023-01-11T11:47:34.399Z"
   },
   {
    "duration": 50,
    "start_time": "2023-01-11T11:47:34.434Z"
   },
   {
    "duration": 45,
    "start_time": "2023-01-11T11:47:34.485Z"
   },
   {
    "duration": 13,
    "start_time": "2023-01-11T11:47:34.531Z"
   },
   {
    "duration": 17,
    "start_time": "2023-01-11T11:47:34.546Z"
   },
   {
    "duration": 63,
    "start_time": "2023-01-11T11:47:34.565Z"
   },
   {
    "duration": 31,
    "start_time": "2023-01-11T11:47:34.629Z"
   },
   {
    "duration": 33,
    "start_time": "2023-01-11T11:47:34.662Z"
   },
   {
    "duration": 78,
    "start_time": "2023-01-11T11:47:34.697Z"
   },
   {
    "duration": 1645,
    "start_time": "2023-01-11T11:47:34.776Z"
   },
   {
    "duration": 1832,
    "start_time": "2023-01-11T11:47:36.422Z"
   },
   {
    "duration": 1634,
    "start_time": "2023-01-11T11:47:38.256Z"
   },
   {
    "duration": 601,
    "start_time": "2023-01-11T11:47:39.892Z"
   },
   {
    "duration": 621,
    "start_time": "2023-01-11T11:47:40.495Z"
   },
   {
    "duration": 1315,
    "start_time": "2023-01-11T11:47:41.117Z"
   },
   {
    "duration": 1167,
    "start_time": "2023-01-11T11:47:42.434Z"
   },
   {
    "duration": 1274,
    "start_time": "2023-01-11T11:47:43.603Z"
   },
   {
    "duration": 1241,
    "start_time": "2023-01-11T11:47:44.882Z"
   },
   {
    "duration": 8,
    "start_time": "2023-01-11T11:47:46.126Z"
   },
   {
    "duration": 4,
    "start_time": "2023-01-11T11:47:46.136Z"
   },
   {
    "duration": 10,
    "start_time": "2023-01-11T11:47:46.141Z"
   },
   {
    "duration": 627,
    "start_time": "2023-01-11T11:47:46.152Z"
   },
   {
    "duration": 1629,
    "start_time": "2023-01-11T17:52:01.913Z"
   },
   {
    "duration": 2334,
    "start_time": "2023-01-11T17:52:03.544Z"
   },
   {
    "duration": 27,
    "start_time": "2023-01-11T17:52:05.880Z"
   },
   {
    "duration": 60,
    "start_time": "2023-01-11T17:52:05.909Z"
   },
   {
    "duration": 61,
    "start_time": "2023-01-11T17:52:05.970Z"
   },
   {
    "duration": 66,
    "start_time": "2023-01-11T17:52:06.033Z"
   },
   {
    "duration": 34,
    "start_time": "2023-01-11T17:52:06.101Z"
   },
   {
    "duration": 28,
    "start_time": "2023-01-11T17:52:06.137Z"
   },
   {
    "duration": 55,
    "start_time": "2023-01-11T17:52:06.167Z"
   },
   {
    "duration": 57,
    "start_time": "2023-01-11T17:52:06.226Z"
   },
   {
    "duration": 32,
    "start_time": "2023-01-11T17:52:06.285Z"
   },
   {
    "duration": 59,
    "start_time": "2023-01-11T17:52:06.319Z"
   },
   {
    "duration": 59,
    "start_time": "2023-01-11T17:52:06.379Z"
   },
   {
    "duration": 70,
    "start_time": "2023-01-11T17:52:06.440Z"
   },
   {
    "duration": 48,
    "start_time": "2023-01-11T17:52:06.512Z"
   },
   {
    "duration": 61,
    "start_time": "2023-01-11T17:52:06.562Z"
   },
   {
    "duration": 47,
    "start_time": "2023-01-11T17:52:06.625Z"
   },
   {
    "duration": 72,
    "start_time": "2023-01-11T17:52:06.674Z"
   },
   {
    "duration": 114,
    "start_time": "2023-01-11T17:52:06.748Z"
   },
   {
    "duration": 1700,
    "start_time": "2023-01-11T17:52:06.864Z"
   },
   {
    "duration": 1848,
    "start_time": "2023-01-11T17:52:08.565Z"
   },
   {
    "duration": 1860,
    "start_time": "2023-01-11T17:52:10.422Z"
   },
   {
    "duration": 647,
    "start_time": "2023-01-11T17:52:12.284Z"
   },
   {
    "duration": 710,
    "start_time": "2023-01-11T17:52:12.936Z"
   },
   {
    "duration": 1405,
    "start_time": "2023-01-11T17:52:13.648Z"
   },
   {
    "duration": 1298,
    "start_time": "2023-01-11T17:52:15.055Z"
   },
   {
    "duration": 1249,
    "start_time": "2023-01-11T17:52:16.354Z"
   },
   {
    "duration": 1228,
    "start_time": "2023-01-11T17:52:17.606Z"
   },
   {
    "duration": 11,
    "start_time": "2023-01-11T17:52:18.836Z"
   },
   {
    "duration": 23,
    "start_time": "2023-01-11T17:52:18.849Z"
   },
   {
    "duration": 14,
    "start_time": "2023-01-11T17:52:18.874Z"
   },
   {
    "duration": 1397,
    "start_time": "2023-01-11T17:53:40.540Z"
   },
   {
    "duration": 2052,
    "start_time": "2023-01-11T17:53:41.939Z"
   },
   {
    "duration": 18,
    "start_time": "2023-01-11T17:53:43.993Z"
   },
   {
    "duration": 7,
    "start_time": "2023-01-11T17:53:44.014Z"
   },
   {
    "duration": 39,
    "start_time": "2023-01-11T17:53:44.023Z"
   },
   {
    "duration": 26,
    "start_time": "2023-01-11T17:53:44.064Z"
   },
   {
    "duration": 32,
    "start_time": "2023-01-11T17:53:44.092Z"
   },
   {
    "duration": 8,
    "start_time": "2023-01-11T17:53:44.126Z"
   },
   {
    "duration": 10,
    "start_time": "2023-01-11T17:53:44.136Z"
   },
   {
    "duration": 13,
    "start_time": "2023-01-11T17:53:44.149Z"
   },
   {
    "duration": 10,
    "start_time": "2023-01-11T17:53:44.164Z"
   },
   {
    "duration": 19,
    "start_time": "2023-01-11T17:53:44.176Z"
   },
   {
    "duration": 52,
    "start_time": "2023-01-11T17:53:44.198Z"
   },
   {
    "duration": 16,
    "start_time": "2023-01-11T17:53:44.252Z"
   },
   {
    "duration": 10,
    "start_time": "2023-01-11T17:53:44.271Z"
   },
   {
    "duration": 14,
    "start_time": "2023-01-11T17:53:44.283Z"
   },
   {
    "duration": 7,
    "start_time": "2023-01-11T17:53:44.299Z"
   },
   {
    "duration": 24,
    "start_time": "2023-01-11T17:53:44.308Z"
   },
   {
    "duration": 57,
    "start_time": "2023-01-11T17:53:44.334Z"
   },
   {
    "duration": 1662,
    "start_time": "2023-01-11T17:53:44.393Z"
   },
   {
    "duration": 1626,
    "start_time": "2023-01-11T17:53:46.057Z"
   },
   {
    "duration": 1673,
    "start_time": "2023-01-11T17:53:47.685Z"
   },
   {
    "duration": 651,
    "start_time": "2023-01-11T17:53:49.360Z"
   },
   {
    "duration": 599,
    "start_time": "2023-01-11T17:53:50.013Z"
   },
   {
    "duration": 1233,
    "start_time": "2023-01-11T17:53:50.614Z"
   },
   {
    "duration": 1675,
    "start_time": "2023-01-11T17:53:51.850Z"
   },
   {
    "duration": 1559,
    "start_time": "2023-01-11T17:53:53.527Z"
   },
   {
    "duration": 1221,
    "start_time": "2023-01-11T17:53:55.089Z"
   },
   {
    "duration": 9,
    "start_time": "2023-01-11T17:53:56.313Z"
   },
   {
    "duration": 4,
    "start_time": "2023-01-11T17:53:56.324Z"
   },
   {
    "duration": 8,
    "start_time": "2023-01-11T17:53:56.330Z"
   },
   {
    "duration": 666,
    "start_time": "2023-01-11T17:53:56.339Z"
   },
   {
    "duration": 77,
    "start_time": "2023-01-11T17:53:57.007Z"
   },
   {
    "duration": 0,
    "start_time": "2023-01-11T17:53:57.085Z"
   },
   {
    "duration": 1,
    "start_time": "2023-01-11T17:53:57.086Z"
   },
   {
    "duration": 0,
    "start_time": "2023-01-11T17:53:57.087Z"
   },
   {
    "duration": 0,
    "start_time": "2023-01-11T17:53:57.089Z"
   },
   {
    "duration": 0,
    "start_time": "2023-01-11T17:53:57.090Z"
   },
   {
    "duration": 0,
    "start_time": "2023-01-11T17:53:57.090Z"
   },
   {
    "duration": 1,
    "start_time": "2023-01-11T17:53:57.091Z"
   },
   {
    "duration": 0,
    "start_time": "2023-01-11T17:53:57.093Z"
   },
   {
    "duration": 0,
    "start_time": "2023-01-11T17:53:57.094Z"
   },
   {
    "duration": 0,
    "start_time": "2023-01-11T17:53:57.095Z"
   },
   {
    "duration": 1227,
    "start_time": "2023-01-11T17:56:06.189Z"
   },
   {
    "duration": 1307,
    "start_time": "2023-01-11T18:00:06.564Z"
   },
   {
    "duration": 2104,
    "start_time": "2023-01-11T18:00:07.873Z"
   },
   {
    "duration": 19,
    "start_time": "2023-01-11T18:00:09.979Z"
   },
   {
    "duration": 7,
    "start_time": "2023-01-11T18:00:10.000Z"
   },
   {
    "duration": 33,
    "start_time": "2023-01-11T18:00:10.009Z"
   },
   {
    "duration": 24,
    "start_time": "2023-01-11T18:00:10.044Z"
   },
   {
    "duration": 15,
    "start_time": "2023-01-11T18:00:10.070Z"
   },
   {
    "duration": 8,
    "start_time": "2023-01-11T18:00:10.087Z"
   },
   {
    "duration": 29,
    "start_time": "2023-01-11T18:00:10.097Z"
   },
   {
    "duration": 15,
    "start_time": "2023-01-11T18:00:10.130Z"
   },
   {
    "duration": 10,
    "start_time": "2023-01-11T18:00:10.147Z"
   },
   {
    "duration": 17,
    "start_time": "2023-01-11T18:00:10.159Z"
   },
   {
    "duration": 44,
    "start_time": "2023-01-11T18:00:10.178Z"
   },
   {
    "duration": 16,
    "start_time": "2023-01-11T18:00:10.224Z"
   },
   {
    "duration": 4,
    "start_time": "2023-01-11T18:00:10.242Z"
   },
   {
    "duration": 18,
    "start_time": "2023-01-11T18:00:10.248Z"
   },
   {
    "duration": 3,
    "start_time": "2023-01-11T18:00:10.268Z"
   },
   {
    "duration": 17,
    "start_time": "2023-01-11T18:00:10.273Z"
   },
   {
    "duration": 108,
    "start_time": "2023-01-11T18:00:10.292Z"
   },
   {
    "duration": 1831,
    "start_time": "2023-01-11T18:00:10.401Z"
   },
   {
    "duration": 1557,
    "start_time": "2023-01-11T18:00:12.234Z"
   },
   {
    "duration": 1734,
    "start_time": "2023-01-11T18:00:13.793Z"
   },
   {
    "duration": 785,
    "start_time": "2023-01-11T18:00:15.529Z"
   },
   {
    "duration": 609,
    "start_time": "2023-01-11T18:00:16.316Z"
   },
   {
    "duration": 1491,
    "start_time": "2023-01-11T18:00:16.927Z"
   },
   {
    "duration": 1329,
    "start_time": "2023-01-11T18:00:18.419Z"
   },
   {
    "duration": 1242,
    "start_time": "2023-01-11T18:00:19.749Z"
   },
   {
    "duration": 1203,
    "start_time": "2023-01-11T18:00:20.996Z"
   },
   {
    "duration": 8,
    "start_time": "2023-01-11T18:00:22.200Z"
   },
   {
    "duration": 27,
    "start_time": "2023-01-11T18:00:22.221Z"
   },
   {
    "duration": 41,
    "start_time": "2023-01-11T18:00:22.250Z"
   },
   {
    "duration": 716,
    "start_time": "2023-01-11T18:00:22.293Z"
   },
   {
    "duration": 68,
    "start_time": "2023-01-11T18:00:23.011Z"
   },
   {
    "duration": 0,
    "start_time": "2023-01-11T18:00:23.081Z"
   },
   {
    "duration": 0,
    "start_time": "2023-01-11T18:00:23.082Z"
   },
   {
    "duration": 0,
    "start_time": "2023-01-11T18:00:23.084Z"
   },
   {
    "duration": 0,
    "start_time": "2023-01-11T18:00:23.085Z"
   },
   {
    "duration": 0,
    "start_time": "2023-01-11T18:00:23.086Z"
   },
   {
    "duration": 0,
    "start_time": "2023-01-11T18:00:23.087Z"
   },
   {
    "duration": 0,
    "start_time": "2023-01-11T18:00:23.088Z"
   },
   {
    "duration": 0,
    "start_time": "2023-01-11T18:00:23.089Z"
   },
   {
    "duration": 0,
    "start_time": "2023-01-11T18:00:23.090Z"
   },
   {
    "duration": 0,
    "start_time": "2023-01-11T18:00:23.092Z"
   },
   {
    "duration": 1571,
    "start_time": "2023-01-11T18:01:24.159Z"
   },
   {
    "duration": 2063,
    "start_time": "2023-01-11T18:01:25.732Z"
   },
   {
    "duration": 20,
    "start_time": "2023-01-11T18:01:27.796Z"
   },
   {
    "duration": 8,
    "start_time": "2023-01-11T18:01:27.818Z"
   },
   {
    "duration": 37,
    "start_time": "2023-01-11T18:01:27.827Z"
   },
   {
    "duration": 27,
    "start_time": "2023-01-11T18:01:27.866Z"
   },
   {
    "duration": 32,
    "start_time": "2023-01-11T18:01:27.895Z"
   },
   {
    "duration": 8,
    "start_time": "2023-01-11T18:01:27.929Z"
   },
   {
    "duration": 17,
    "start_time": "2023-01-11T18:01:27.938Z"
   },
   {
    "duration": 17,
    "start_time": "2023-01-11T18:01:27.957Z"
   },
   {
    "duration": 8,
    "start_time": "2023-01-11T18:01:27.976Z"
   },
   {
    "duration": 26,
    "start_time": "2023-01-11T18:01:27.985Z"
   },
   {
    "duration": 28,
    "start_time": "2023-01-11T18:01:28.013Z"
   },
   {
    "duration": 14,
    "start_time": "2023-01-11T18:01:28.043Z"
   },
   {
    "duration": 3,
    "start_time": "2023-01-11T18:01:28.059Z"
   },
   {
    "duration": 12,
    "start_time": "2023-01-11T18:01:28.064Z"
   },
   {
    "duration": 12,
    "start_time": "2023-01-11T18:01:28.077Z"
   },
   {
    "duration": 21,
    "start_time": "2023-01-11T18:01:28.091Z"
   },
   {
    "duration": 58,
    "start_time": "2023-01-11T18:01:28.114Z"
   },
   {
    "duration": 1653,
    "start_time": "2023-01-11T18:01:28.174Z"
   },
   {
    "duration": 1682,
    "start_time": "2023-01-11T18:01:29.829Z"
   },
   {
    "duration": 1611,
    "start_time": "2023-01-11T18:01:31.512Z"
   },
   {
    "duration": 580,
    "start_time": "2023-01-11T18:01:33.125Z"
   },
   {
    "duration": 716,
    "start_time": "2023-01-11T18:01:33.706Z"
   },
   {
    "duration": 1438,
    "start_time": "2023-01-11T18:01:34.424Z"
   },
   {
    "duration": 1250,
    "start_time": "2023-01-11T18:01:35.864Z"
   },
   {
    "duration": 1177,
    "start_time": "2023-01-11T18:01:37.116Z"
   },
   {
    "duration": 1202,
    "start_time": "2023-01-11T18:01:38.297Z"
   },
   {
    "duration": 8,
    "start_time": "2023-01-11T18:01:39.501Z"
   },
   {
    "duration": 32,
    "start_time": "2023-01-11T18:01:39.511Z"
   },
   {
    "duration": 33,
    "start_time": "2023-01-11T18:01:39.545Z"
   },
   {
    "duration": 662,
    "start_time": "2023-01-11T18:01:39.579Z"
   },
   {
    "duration": 72,
    "start_time": "2023-01-11T18:01:40.243Z"
   },
   {
    "duration": 0,
    "start_time": "2023-01-11T18:01:40.316Z"
   },
   {
    "duration": 0,
    "start_time": "2023-01-11T18:01:40.317Z"
   },
   {
    "duration": 0,
    "start_time": "2023-01-11T18:01:40.318Z"
   },
   {
    "duration": 0,
    "start_time": "2023-01-11T18:01:40.320Z"
   },
   {
    "duration": 0,
    "start_time": "2023-01-11T18:01:40.321Z"
   },
   {
    "duration": 0,
    "start_time": "2023-01-11T18:01:40.322Z"
   },
   {
    "duration": 0,
    "start_time": "2023-01-11T18:01:40.323Z"
   },
   {
    "duration": 0,
    "start_time": "2023-01-11T18:01:40.325Z"
   },
   {
    "duration": 0,
    "start_time": "2023-01-11T18:01:40.325Z"
   },
   {
    "duration": 0,
    "start_time": "2023-01-11T18:01:40.326Z"
   },
   {
    "duration": 1404,
    "start_time": "2023-01-11T18:09:58.011Z"
   },
   {
    "duration": 2046,
    "start_time": "2023-01-11T18:09:59.417Z"
   },
   {
    "duration": 18,
    "start_time": "2023-01-11T18:10:01.465Z"
   },
   {
    "duration": 50,
    "start_time": "2023-01-11T18:10:01.485Z"
   },
   {
    "duration": 85,
    "start_time": "2023-01-11T18:10:01.538Z"
   },
   {
    "duration": 33,
    "start_time": "2023-01-11T18:10:01.625Z"
   },
   {
    "duration": 87,
    "start_time": "2023-01-11T18:10:01.660Z"
   },
   {
    "duration": 7,
    "start_time": "2023-01-11T18:10:01.748Z"
   },
   {
    "duration": 10,
    "start_time": "2023-01-11T18:10:01.757Z"
   },
   {
    "duration": 14,
    "start_time": "2023-01-11T18:10:01.768Z"
   },
   {
    "duration": 29,
    "start_time": "2023-01-11T18:10:01.783Z"
   },
   {
    "duration": 24,
    "start_time": "2023-01-11T18:10:01.814Z"
   },
   {
    "duration": 37,
    "start_time": "2023-01-11T18:10:01.840Z"
   },
   {
    "duration": 14,
    "start_time": "2023-01-11T18:10:01.881Z"
   },
   {
    "duration": 23,
    "start_time": "2023-01-11T18:10:01.897Z"
   },
   {
    "duration": 22,
    "start_time": "2023-01-11T18:10:01.922Z"
   },
   {
    "duration": 39,
    "start_time": "2023-01-11T18:10:01.946Z"
   },
   {
    "duration": 60,
    "start_time": "2023-01-11T18:10:01.986Z"
   },
   {
    "duration": 62,
    "start_time": "2023-01-11T18:10:02.048Z"
   },
   {
    "duration": 1577,
    "start_time": "2023-01-11T18:10:02.111Z"
   },
   {
    "duration": 1598,
    "start_time": "2023-01-11T18:10:03.690Z"
   },
   {
    "duration": 1562,
    "start_time": "2023-01-11T18:10:05.290Z"
   },
   {
    "duration": 638,
    "start_time": "2023-01-11T18:10:06.854Z"
   },
   {
    "duration": 634,
    "start_time": "2023-01-11T18:10:07.494Z"
   },
   {
    "duration": 1261,
    "start_time": "2023-01-11T18:10:08.130Z"
   },
   {
    "duration": 1112,
    "start_time": "2023-01-11T18:10:09.393Z"
   },
   {
    "duration": 1189,
    "start_time": "2023-01-11T18:10:10.507Z"
   },
   {
    "duration": 1200,
    "start_time": "2023-01-11T18:10:11.697Z"
   },
   {
    "duration": 9,
    "start_time": "2023-01-11T18:10:12.898Z"
   },
   {
    "duration": 31,
    "start_time": "2023-01-11T18:10:12.909Z"
   },
   {
    "duration": 55,
    "start_time": "2023-01-11T18:10:12.942Z"
   },
   {
    "duration": 688,
    "start_time": "2023-01-11T18:10:12.998Z"
   },
   {
    "duration": 81,
    "start_time": "2023-01-11T18:10:13.688Z"
   },
   {
    "duration": 0,
    "start_time": "2023-01-11T18:10:13.772Z"
   },
   {
    "duration": 0,
    "start_time": "2023-01-11T18:10:13.774Z"
   },
   {
    "duration": 0,
    "start_time": "2023-01-11T18:10:13.775Z"
   },
   {
    "duration": 0,
    "start_time": "2023-01-11T18:10:13.776Z"
   },
   {
    "duration": 0,
    "start_time": "2023-01-11T18:10:13.777Z"
   },
   {
    "duration": 0,
    "start_time": "2023-01-11T18:10:13.779Z"
   },
   {
    "duration": 0,
    "start_time": "2023-01-11T18:10:13.780Z"
   },
   {
    "duration": 0,
    "start_time": "2023-01-11T18:10:13.781Z"
   },
   {
    "duration": 0,
    "start_time": "2023-01-11T18:10:13.782Z"
   },
   {
    "duration": 0,
    "start_time": "2023-01-11T18:10:13.783Z"
   },
   {
    "duration": 1422,
    "start_time": "2023-01-11T18:20:43.478Z"
   },
   {
    "duration": 2143,
    "start_time": "2023-01-11T18:20:44.902Z"
   },
   {
    "duration": 19,
    "start_time": "2023-01-11T18:20:47.047Z"
   },
   {
    "duration": 8,
    "start_time": "2023-01-11T18:20:47.068Z"
   },
   {
    "duration": 42,
    "start_time": "2023-01-11T18:20:47.078Z"
   },
   {
    "duration": 27,
    "start_time": "2023-01-11T18:20:47.121Z"
   },
   {
    "duration": 16,
    "start_time": "2023-01-11T18:20:47.150Z"
   },
   {
    "duration": 7,
    "start_time": "2023-01-11T18:20:47.168Z"
   },
   {
    "duration": 9,
    "start_time": "2023-01-11T18:20:47.177Z"
   },
   {
    "duration": 8,
    "start_time": "2023-01-11T18:20:47.189Z"
   },
   {
    "duration": 4,
    "start_time": "2023-01-11T18:20:47.221Z"
   },
   {
    "duration": 17,
    "start_time": "2023-01-11T18:20:47.227Z"
   },
   {
    "duration": 27,
    "start_time": "2023-01-11T18:20:47.245Z"
   },
   {
    "duration": 15,
    "start_time": "2023-01-11T18:20:47.274Z"
   },
   {
    "duration": 2,
    "start_time": "2023-01-11T18:20:47.291Z"
   },
   {
    "duration": 32,
    "start_time": "2023-01-11T18:20:47.295Z"
   },
   {
    "duration": 18,
    "start_time": "2023-01-11T18:20:47.328Z"
   },
   {
    "duration": 24,
    "start_time": "2023-01-11T18:20:47.348Z"
   },
   {
    "duration": 70,
    "start_time": "2023-01-11T18:20:47.373Z"
   },
   {
    "duration": 1668,
    "start_time": "2023-01-11T18:20:47.444Z"
   },
   {
    "duration": 1696,
    "start_time": "2023-01-11T18:20:49.114Z"
   },
   {
    "duration": 1587,
    "start_time": "2023-01-11T18:20:50.812Z"
   },
   {
    "duration": 611,
    "start_time": "2023-01-11T18:20:52.401Z"
   },
   {
    "duration": 605,
    "start_time": "2023-01-11T18:20:53.013Z"
   },
   {
    "duration": 1319,
    "start_time": "2023-01-11T18:20:53.622Z"
   },
   {
    "duration": 1257,
    "start_time": "2023-01-11T18:20:54.942Z"
   },
   {
    "duration": 1195,
    "start_time": "2023-01-11T18:20:56.201Z"
   },
   {
    "duration": 1207,
    "start_time": "2023-01-11T18:20:57.399Z"
   },
   {
    "duration": 8,
    "start_time": "2023-01-11T18:20:58.607Z"
   },
   {
    "duration": 4,
    "start_time": "2023-01-11T18:20:58.622Z"
   },
   {
    "duration": 8,
    "start_time": "2023-01-11T18:20:58.627Z"
   },
   {
    "duration": 679,
    "start_time": "2023-01-11T18:20:58.637Z"
   },
   {
    "duration": 70,
    "start_time": "2023-01-11T18:20:59.321Z"
   },
   {
    "duration": 0,
    "start_time": "2023-01-11T18:20:59.392Z"
   },
   {
    "duration": 0,
    "start_time": "2023-01-11T18:20:59.394Z"
   },
   {
    "duration": 0,
    "start_time": "2023-01-11T18:20:59.395Z"
   },
   {
    "duration": 0,
    "start_time": "2023-01-11T18:20:59.396Z"
   },
   {
    "duration": 0,
    "start_time": "2023-01-11T18:20:59.397Z"
   },
   {
    "duration": 0,
    "start_time": "2023-01-11T18:20:59.398Z"
   },
   {
    "duration": 0,
    "start_time": "2023-01-11T18:20:59.399Z"
   },
   {
    "duration": 0,
    "start_time": "2023-01-11T18:20:59.400Z"
   },
   {
    "duration": 0,
    "start_time": "2023-01-11T18:20:59.402Z"
   },
   {
    "duration": 0,
    "start_time": "2023-01-11T18:20:59.403Z"
   },
   {
    "duration": 1487,
    "start_time": "2023-01-11T18:28:00.400Z"
   },
   {
    "duration": 2224,
    "start_time": "2023-01-11T18:28:01.889Z"
   },
   {
    "duration": 20,
    "start_time": "2023-01-11T18:28:04.115Z"
   },
   {
    "duration": 70,
    "start_time": "2023-01-11T18:28:04.137Z"
   },
   {
    "duration": 66,
    "start_time": "2023-01-11T18:28:04.209Z"
   },
   {
    "duration": 72,
    "start_time": "2023-01-11T18:28:04.278Z"
   },
   {
    "duration": 22,
    "start_time": "2023-01-11T18:28:04.352Z"
   },
   {
    "duration": 46,
    "start_time": "2023-01-11T18:28:04.376Z"
   },
   {
    "duration": 53,
    "start_time": "2023-01-11T18:28:04.424Z"
   },
   {
    "duration": 41,
    "start_time": "2023-01-11T18:28:04.480Z"
   },
   {
    "duration": 57,
    "start_time": "2023-01-11T18:28:04.523Z"
   },
   {
    "duration": 64,
    "start_time": "2023-01-11T18:28:04.582Z"
   },
   {
    "duration": 39,
    "start_time": "2023-01-11T18:28:04.648Z"
   },
   {
    "duration": 21,
    "start_time": "2023-01-11T18:28:04.689Z"
   },
   {
    "duration": 27,
    "start_time": "2023-01-11T18:28:04.712Z"
   },
   {
    "duration": 48,
    "start_time": "2023-01-11T18:28:04.741Z"
   },
   {
    "duration": 13,
    "start_time": "2023-01-11T18:28:04.791Z"
   },
   {
    "duration": 38,
    "start_time": "2023-01-11T18:28:04.806Z"
   },
   {
    "duration": 107,
    "start_time": "2023-01-11T18:28:04.846Z"
   },
   {
    "duration": 1718,
    "start_time": "2023-01-11T18:28:04.954Z"
   },
   {
    "duration": 1743,
    "start_time": "2023-01-11T18:28:06.673Z"
   },
   {
    "duration": 1695,
    "start_time": "2023-01-11T18:28:08.418Z"
   },
   {
    "duration": 690,
    "start_time": "2023-01-11T18:28:10.115Z"
   },
   {
    "duration": 613,
    "start_time": "2023-01-11T18:28:10.807Z"
   },
   {
    "duration": 1417,
    "start_time": "2023-01-11T18:28:11.422Z"
   },
   {
    "duration": 1300,
    "start_time": "2023-01-11T18:28:12.841Z"
   },
   {
    "duration": 1173,
    "start_time": "2023-01-11T18:28:14.143Z"
   },
   {
    "duration": 1263,
    "start_time": "2023-01-11T18:28:15.321Z"
   },
   {
    "duration": 8,
    "start_time": "2023-01-11T18:28:16.585Z"
   },
   {
    "duration": 24,
    "start_time": "2023-01-11T18:28:16.595Z"
   },
   {
    "duration": 54,
    "start_time": "2023-01-11T18:28:16.620Z"
   },
   {
    "duration": 662,
    "start_time": "2023-01-11T18:28:16.675Z"
   },
   {
    "duration": 91,
    "start_time": "2023-01-11T18:28:17.339Z"
   },
   {
    "duration": 0,
    "start_time": "2023-01-11T18:28:17.432Z"
   },
   {
    "duration": 0,
    "start_time": "2023-01-11T18:28:17.433Z"
   },
   {
    "duration": 1,
    "start_time": "2023-01-11T18:28:17.434Z"
   },
   {
    "duration": 0,
    "start_time": "2023-01-11T18:28:17.436Z"
   },
   {
    "duration": 0,
    "start_time": "2023-01-11T18:28:17.437Z"
   },
   {
    "duration": 0,
    "start_time": "2023-01-11T18:28:17.438Z"
   },
   {
    "duration": 0,
    "start_time": "2023-01-11T18:28:17.439Z"
   },
   {
    "duration": 0,
    "start_time": "2023-01-11T18:28:17.440Z"
   },
   {
    "duration": 0,
    "start_time": "2023-01-11T18:28:17.441Z"
   },
   {
    "duration": 0,
    "start_time": "2023-01-11T18:28:17.443Z"
   },
   {
    "duration": 4779,
    "start_time": "2023-01-11T18:28:25.437Z"
   },
   {
    "duration": 4905,
    "start_time": "2023-01-11T18:29:15.067Z"
   },
   {
    "duration": 4702,
    "start_time": "2023-01-11T18:29:39.443Z"
   },
   {
    "duration": 43644,
    "start_time": "2023-01-11T18:31:59.681Z"
   },
   {
    "duration": 29229,
    "start_time": "2023-01-11T18:34:17.261Z"
   },
   {
    "duration": 552154,
    "start_time": "2023-01-11T18:36:09.778Z"
   },
   {
    "duration": 108089,
    "start_time": "2023-01-11T18:45:29.942Z"
   },
   {
    "duration": 237092,
    "start_time": "2023-01-11T18:47:21.989Z"
   },
   {
    "duration": 245344,
    "start_time": "2023-01-11T18:52:20.521Z"
   },
   {
    "duration": 12,
    "start_time": "2023-01-11T19:42:06.161Z"
   },
   {
    "duration": 258,
    "start_time": "2023-01-11T19:58:05.818Z"
   },
   {
    "duration": 351773,
    "start_time": "2023-01-11T20:02:58.708Z"
   },
   {
    "duration": 1653,
    "start_time": "2023-01-12T10:14:06.853Z"
   },
   {
    "duration": 3377,
    "start_time": "2023-01-12T10:14:08.508Z"
   },
   {
    "duration": 20,
    "start_time": "2023-01-12T10:14:11.887Z"
   },
   {
    "duration": 28,
    "start_time": "2023-01-12T10:14:11.909Z"
   },
   {
    "duration": 66,
    "start_time": "2023-01-12T10:14:11.939Z"
   },
   {
    "duration": 29,
    "start_time": "2023-01-12T10:14:12.006Z"
   },
   {
    "duration": 49,
    "start_time": "2023-01-12T10:14:12.037Z"
   },
   {
    "duration": 38,
    "start_time": "2023-01-12T10:14:12.088Z"
   },
   {
    "duration": 31,
    "start_time": "2023-01-12T10:14:12.128Z"
   },
   {
    "duration": 41,
    "start_time": "2023-01-12T10:14:12.162Z"
   },
   {
    "duration": 26,
    "start_time": "2023-01-12T10:14:12.205Z"
   },
   {
    "duration": 51,
    "start_time": "2023-01-12T10:14:12.233Z"
   },
   {
    "duration": 55,
    "start_time": "2023-01-12T10:14:12.286Z"
   },
   {
    "duration": 72,
    "start_time": "2023-01-12T10:14:12.343Z"
   },
   {
    "duration": 21,
    "start_time": "2023-01-12T10:14:12.416Z"
   },
   {
    "duration": 29,
    "start_time": "2023-01-12T10:14:12.439Z"
   },
   {
    "duration": 9,
    "start_time": "2023-01-12T10:14:12.469Z"
   },
   {
    "duration": 34,
    "start_time": "2023-01-12T10:14:12.480Z"
   },
   {
    "duration": 94,
    "start_time": "2023-01-12T10:14:12.515Z"
   },
   {
    "duration": 1619,
    "start_time": "2023-01-12T10:14:12.610Z"
   },
   {
    "duration": 1566,
    "start_time": "2023-01-12T10:14:14.231Z"
   },
   {
    "duration": 1595,
    "start_time": "2023-01-12T10:14:15.798Z"
   },
   {
    "duration": 597,
    "start_time": "2023-01-12T10:14:17.395Z"
   },
   {
    "duration": 619,
    "start_time": "2023-01-12T10:14:17.994Z"
   },
   {
    "duration": 1384,
    "start_time": "2023-01-12T10:14:18.614Z"
   },
   {
    "duration": 1195,
    "start_time": "2023-01-12T10:14:20.000Z"
   },
   {
    "duration": 1101,
    "start_time": "2023-01-12T10:14:21.197Z"
   },
   {
    "duration": 1335,
    "start_time": "2023-01-12T10:14:22.302Z"
   },
   {
    "duration": 9,
    "start_time": "2023-01-12T10:14:23.638Z"
   },
   {
    "duration": 4,
    "start_time": "2023-01-12T10:14:23.649Z"
   },
   {
    "duration": 6,
    "start_time": "2023-01-12T10:14:23.654Z"
   },
   {
    "duration": 670,
    "start_time": "2023-01-12T10:14:23.661Z"
   },
   {
    "duration": 245405,
    "start_time": "2023-01-12T10:28:38.508Z"
   },
   {
    "duration": 499,
    "start_time": "2023-01-12T10:32:43.915Z"
   },
   {
    "duration": 4,
    "start_time": "2023-01-12T10:32:44.416Z"
   },
   {
    "duration": 134,
    "start_time": "2023-01-12T10:32:44.422Z"
   },
   {
    "duration": 419,
    "start_time": "2023-01-12T10:32:44.557Z"
   },
   {
    "duration": 121,
    "start_time": "2023-01-12T10:32:44.977Z"
   },
   {
    "duration": 116,
    "start_time": "2023-01-12T10:32:45.100Z"
   },
   {
    "duration": 81,
    "start_time": "2023-01-12T10:32:45.218Z"
   },
   {
    "duration": 4,
    "start_time": "2023-01-12T10:32:45.300Z"
   },
   {
    "duration": 176,
    "start_time": "2023-01-12T10:32:45.306Z"
   },
   {
    "duration": 45,
    "start_time": "2023-01-12T10:32:45.485Z"
   },
   {
    "duration": 43,
    "start_time": "2023-01-12T10:42:12.124Z"
   },
   {
    "duration": 44,
    "start_time": "2023-01-12T10:42:16.263Z"
   },
   {
    "duration": 44,
    "start_time": "2023-01-12T10:42:21.116Z"
   },
   {
    "duration": 45,
    "start_time": "2023-01-12T10:42:41.316Z"
   },
   {
    "duration": 47,
    "start_time": "2023-01-12T10:42:42.896Z"
   },
   {
    "duration": 46,
    "start_time": "2023-01-12T10:43:14.934Z"
   },
   {
    "duration": 1413,
    "start_time": "2023-01-12T10:44:29.653Z"
   },
   {
    "duration": 109,
    "start_time": "2023-01-12T10:44:31.068Z"
   },
   {
    "duration": 0,
    "start_time": "2023-01-12T10:44:31.180Z"
   },
   {
    "duration": 0,
    "start_time": "2023-01-12T10:44:31.181Z"
   },
   {
    "duration": 0,
    "start_time": "2023-01-12T10:44:31.181Z"
   },
   {
    "duration": 0,
    "start_time": "2023-01-12T10:44:31.182Z"
   },
   {
    "duration": 0,
    "start_time": "2023-01-12T10:44:31.183Z"
   },
   {
    "duration": 0,
    "start_time": "2023-01-12T10:44:31.184Z"
   },
   {
    "duration": 0,
    "start_time": "2023-01-12T10:44:31.185Z"
   },
   {
    "duration": 0,
    "start_time": "2023-01-12T10:44:31.186Z"
   },
   {
    "duration": 0,
    "start_time": "2023-01-12T10:44:31.187Z"
   },
   {
    "duration": 0,
    "start_time": "2023-01-12T10:44:31.187Z"
   },
   {
    "duration": 0,
    "start_time": "2023-01-12T10:44:31.188Z"
   },
   {
    "duration": 0,
    "start_time": "2023-01-12T10:44:31.189Z"
   },
   {
    "duration": 0,
    "start_time": "2023-01-12T10:44:31.190Z"
   },
   {
    "duration": 0,
    "start_time": "2023-01-12T10:44:31.191Z"
   },
   {
    "duration": 0,
    "start_time": "2023-01-12T10:44:31.192Z"
   },
   {
    "duration": 1,
    "start_time": "2023-01-12T10:44:31.192Z"
   },
   {
    "duration": 0,
    "start_time": "2023-01-12T10:44:31.213Z"
   },
   {
    "duration": 0,
    "start_time": "2023-01-12T10:44:31.214Z"
   },
   {
    "duration": 0,
    "start_time": "2023-01-12T10:44:31.216Z"
   },
   {
    "duration": 0,
    "start_time": "2023-01-12T10:44:31.217Z"
   },
   {
    "duration": 0,
    "start_time": "2023-01-12T10:44:31.218Z"
   },
   {
    "duration": 0,
    "start_time": "2023-01-12T10:44:31.219Z"
   },
   {
    "duration": 0,
    "start_time": "2023-01-12T10:44:31.219Z"
   },
   {
    "duration": 0,
    "start_time": "2023-01-12T10:44:31.221Z"
   },
   {
    "duration": 0,
    "start_time": "2023-01-12T10:44:31.222Z"
   },
   {
    "duration": 0,
    "start_time": "2023-01-12T10:44:31.223Z"
   },
   {
    "duration": 0,
    "start_time": "2023-01-12T10:44:31.224Z"
   },
   {
    "duration": 0,
    "start_time": "2023-01-12T10:44:31.225Z"
   },
   {
    "duration": 0,
    "start_time": "2023-01-12T10:44:31.226Z"
   },
   {
    "duration": 0,
    "start_time": "2023-01-12T10:44:31.227Z"
   },
   {
    "duration": 0,
    "start_time": "2023-01-12T10:44:31.227Z"
   },
   {
    "duration": 0,
    "start_time": "2023-01-12T10:44:31.228Z"
   },
   {
    "duration": 0,
    "start_time": "2023-01-12T10:44:31.229Z"
   },
   {
    "duration": 0,
    "start_time": "2023-01-12T10:44:31.230Z"
   },
   {
    "duration": 0,
    "start_time": "2023-01-12T10:44:31.231Z"
   },
   {
    "duration": 0,
    "start_time": "2023-01-12T10:44:31.232Z"
   },
   {
    "duration": 0,
    "start_time": "2023-01-12T10:44:31.233Z"
   },
   {
    "duration": 0,
    "start_time": "2023-01-12T10:44:31.234Z"
   },
   {
    "duration": 1,
    "start_time": "2023-01-12T10:44:31.234Z"
   },
   {
    "duration": 0,
    "start_time": "2023-01-12T10:44:31.235Z"
   },
   {
    "duration": 0,
    "start_time": "2023-01-12T10:44:31.236Z"
   },
   {
    "duration": 14,
    "start_time": "2023-01-12T10:44:57.800Z"
   },
   {
    "duration": 1369,
    "start_time": "2023-01-12T10:45:14.779Z"
   },
   {
    "duration": 109,
    "start_time": "2023-01-12T10:45:16.150Z"
   },
   {
    "duration": 0,
    "start_time": "2023-01-12T10:45:16.262Z"
   },
   {
    "duration": 0,
    "start_time": "2023-01-12T10:45:16.263Z"
   },
   {
    "duration": 0,
    "start_time": "2023-01-12T10:45:16.264Z"
   },
   {
    "duration": 0,
    "start_time": "2023-01-12T10:45:16.265Z"
   },
   {
    "duration": 0,
    "start_time": "2023-01-12T10:45:16.266Z"
   },
   {
    "duration": 0,
    "start_time": "2023-01-12T10:45:16.267Z"
   },
   {
    "duration": 0,
    "start_time": "2023-01-12T10:45:16.268Z"
   },
   {
    "duration": 0,
    "start_time": "2023-01-12T10:45:16.269Z"
   },
   {
    "duration": 0,
    "start_time": "2023-01-12T10:45:16.270Z"
   },
   {
    "duration": 0,
    "start_time": "2023-01-12T10:45:16.271Z"
   },
   {
    "duration": 0,
    "start_time": "2023-01-12T10:45:16.272Z"
   },
   {
    "duration": 0,
    "start_time": "2023-01-12T10:45:16.273Z"
   },
   {
    "duration": 0,
    "start_time": "2023-01-12T10:45:16.273Z"
   },
   {
    "duration": 0,
    "start_time": "2023-01-12T10:45:16.274Z"
   },
   {
    "duration": 0,
    "start_time": "2023-01-12T10:45:16.275Z"
   },
   {
    "duration": 0,
    "start_time": "2023-01-12T10:45:16.277Z"
   },
   {
    "duration": 0,
    "start_time": "2023-01-12T10:45:16.277Z"
   },
   {
    "duration": 0,
    "start_time": "2023-01-12T10:45:16.278Z"
   },
   {
    "duration": 0,
    "start_time": "2023-01-12T10:45:16.280Z"
   },
   {
    "duration": 0,
    "start_time": "2023-01-12T10:45:16.281Z"
   },
   {
    "duration": 0,
    "start_time": "2023-01-12T10:45:16.282Z"
   },
   {
    "duration": 0,
    "start_time": "2023-01-12T10:45:16.283Z"
   },
   {
    "duration": 0,
    "start_time": "2023-01-12T10:45:16.313Z"
   },
   {
    "duration": 0,
    "start_time": "2023-01-12T10:45:16.314Z"
   },
   {
    "duration": 0,
    "start_time": "2023-01-12T10:45:16.315Z"
   },
   {
    "duration": 0,
    "start_time": "2023-01-12T10:45:16.316Z"
   },
   {
    "duration": 0,
    "start_time": "2023-01-12T10:45:16.317Z"
   },
   {
    "duration": 0,
    "start_time": "2023-01-12T10:45:16.318Z"
   },
   {
    "duration": 0,
    "start_time": "2023-01-12T10:45:16.319Z"
   },
   {
    "duration": 0,
    "start_time": "2023-01-12T10:45:16.321Z"
   },
   {
    "duration": 0,
    "start_time": "2023-01-12T10:45:16.322Z"
   },
   {
    "duration": 1,
    "start_time": "2023-01-12T10:45:16.322Z"
   },
   {
    "duration": 0,
    "start_time": "2023-01-12T10:45:16.324Z"
   },
   {
    "duration": 0,
    "start_time": "2023-01-12T10:45:16.325Z"
   },
   {
    "duration": 0,
    "start_time": "2023-01-12T10:45:16.326Z"
   },
   {
    "duration": 0,
    "start_time": "2023-01-12T10:45:16.327Z"
   },
   {
    "duration": 0,
    "start_time": "2023-01-12T10:45:16.328Z"
   },
   {
    "duration": 0,
    "start_time": "2023-01-12T10:45:16.329Z"
   },
   {
    "duration": 0,
    "start_time": "2023-01-12T10:45:16.330Z"
   },
   {
    "duration": 0,
    "start_time": "2023-01-12T10:45:16.331Z"
   },
   {
    "duration": 0,
    "start_time": "2023-01-12T10:45:16.332Z"
   },
   {
    "duration": 1328,
    "start_time": "2023-01-12T11:00:46.435Z"
   },
   {
    "duration": 634,
    "start_time": "2023-01-12T11:00:47.765Z"
   },
   {
    "duration": 17,
    "start_time": "2023-01-12T11:00:48.401Z"
   },
   {
    "duration": 22,
    "start_time": "2023-01-12T11:00:48.420Z"
   },
   {
    "duration": 41,
    "start_time": "2023-01-12T11:00:48.444Z"
   },
   {
    "duration": 53,
    "start_time": "2023-01-12T11:00:48.487Z"
   },
   {
    "duration": 14,
    "start_time": "2023-01-12T11:00:48.541Z"
   },
   {
    "duration": 13,
    "start_time": "2023-01-12T11:00:48.556Z"
   },
   {
    "duration": 24,
    "start_time": "2023-01-12T11:00:48.571Z"
   },
   {
    "duration": 24,
    "start_time": "2023-01-12T11:00:48.597Z"
   },
   {
    "duration": 22,
    "start_time": "2023-01-12T11:00:48.623Z"
   },
   {
    "duration": 40,
    "start_time": "2023-01-12T11:00:48.647Z"
   },
   {
    "duration": 45,
    "start_time": "2023-01-12T11:00:48.689Z"
   },
   {
    "duration": 18,
    "start_time": "2023-01-12T11:00:48.738Z"
   },
   {
    "duration": 3,
    "start_time": "2023-01-12T11:00:48.758Z"
   },
   {
    "duration": 12,
    "start_time": "2023-01-12T11:00:48.762Z"
   },
   {
    "duration": 3,
    "start_time": "2023-01-12T11:00:48.776Z"
   },
   {
    "duration": 14,
    "start_time": "2023-01-12T11:00:48.780Z"
   },
   {
    "duration": 73,
    "start_time": "2023-01-12T11:00:48.796Z"
   },
   {
    "duration": 2066,
    "start_time": "2023-01-12T11:00:48.871Z"
   },
   {
    "duration": 2134,
    "start_time": "2023-01-12T11:00:50.939Z"
   },
   {
    "duration": 1617,
    "start_time": "2023-01-12T11:00:53.075Z"
   },
   {
    "duration": 621,
    "start_time": "2023-01-12T11:00:54.694Z"
   },
   {
    "duration": 595,
    "start_time": "2023-01-12T11:00:55.318Z"
   },
   {
    "duration": 2014,
    "start_time": "2023-01-12T11:00:55.915Z"
   },
   {
    "duration": 1786,
    "start_time": "2023-01-12T11:00:57.930Z"
   },
   {
    "duration": 1639,
    "start_time": "2023-01-12T11:00:59.718Z"
   },
   {
    "duration": 1268,
    "start_time": "2023-01-12T11:01:01.359Z"
   },
   {
    "duration": 9,
    "start_time": "2023-01-12T11:01:02.628Z"
   },
   {
    "duration": 17,
    "start_time": "2023-01-12T11:01:02.639Z"
   },
   {
    "duration": 19,
    "start_time": "2023-01-12T11:01:02.658Z"
   },
   {
    "duration": 681,
    "start_time": "2023-01-12T11:01:02.678Z"
   },
   {
    "duration": 513,
    "start_time": "2023-01-12T11:01:03.361Z"
   },
   {
    "duration": 0,
    "start_time": "2023-01-12T11:01:03.876Z"
   },
   {
    "duration": 0,
    "start_time": "2023-01-12T11:01:03.877Z"
   },
   {
    "duration": 0,
    "start_time": "2023-01-12T11:01:03.878Z"
   },
   {
    "duration": 0,
    "start_time": "2023-01-12T11:01:03.880Z"
   },
   {
    "duration": 0,
    "start_time": "2023-01-12T11:01:03.881Z"
   },
   {
    "duration": 0,
    "start_time": "2023-01-12T11:01:03.883Z"
   },
   {
    "duration": 0,
    "start_time": "2023-01-12T11:01:03.884Z"
   },
   {
    "duration": 0,
    "start_time": "2023-01-12T11:01:03.886Z"
   },
   {
    "duration": 0,
    "start_time": "2023-01-12T11:01:03.887Z"
   },
   {
    "duration": 0,
    "start_time": "2023-01-12T11:01:03.913Z"
   },
   {
    "duration": 16,
    "start_time": "2023-01-12T11:58:10.178Z"
   },
   {
    "duration": 830948,
    "start_time": "2023-01-12T11:58:26.364Z"
   },
   {
    "duration": 47840,
    "start_time": "2023-01-12T12:21:24.290Z"
   },
   {
    "duration": 86986,
    "start_time": "2023-01-12T12:23:57.423Z"
   },
   {
    "duration": 3,
    "start_time": "2023-01-12T12:39:45.271Z"
   },
   {
    "duration": 79936,
    "start_time": "2023-01-12T12:39:49.003Z"
   },
   {
    "duration": 4,
    "start_time": "2023-01-12T12:51:51.541Z"
   },
   {
    "duration": 3,
    "start_time": "2023-01-12T12:51:52.306Z"
   },
   {
    "duration": 74,
    "start_time": "2023-01-12T12:51:53.298Z"
   },
   {
    "duration": 87648,
    "start_time": "2023-01-12T12:52:05.771Z"
   },
   {
    "duration": 31528,
    "start_time": "2023-01-12T12:54:46.812Z"
   },
   {
    "duration": 104527,
    "start_time": "2023-01-12T13:02:28.862Z"
   },
   {
    "duration": 31402,
    "start_time": "2023-01-12T13:04:58.345Z"
   },
   {
    "duration": 2,
    "start_time": "2023-01-12T13:09:36.391Z"
   },
   {
    "duration": 95669,
    "start_time": "2023-01-12T13:09:37.223Z"
   },
   {
    "duration": 3,
    "start_time": "2023-01-12T13:12:14.943Z"
   },
   {
    "duration": 2,
    "start_time": "2023-01-12T13:12:15.600Z"
   },
   {
    "duration": 99636,
    "start_time": "2023-01-12T13:12:29.863Z"
   },
   {
    "duration": 3,
    "start_time": "2023-01-12T13:16:12.151Z"
   },
   {
    "duration": 95965,
    "start_time": "2023-01-12T13:16:12.984Z"
   },
   {
    "duration": 4,
    "start_time": "2023-01-12T13:22:10.378Z"
   },
   {
    "duration": 2,
    "start_time": "2023-01-12T13:22:17.602Z"
   },
   {
    "duration": 103541,
    "start_time": "2023-01-12T13:22:19.245Z"
   },
   {
    "duration": 1510,
    "start_time": "2023-01-12T16:14:15.766Z"
   },
   {
    "duration": 1779,
    "start_time": "2023-01-12T16:14:17.278Z"
   },
   {
    "duration": 21,
    "start_time": "2023-01-12T16:14:19.059Z"
   },
   {
    "duration": 25,
    "start_time": "2023-01-12T16:14:19.082Z"
   },
   {
    "duration": 36,
    "start_time": "2023-01-12T16:14:19.109Z"
   },
   {
    "duration": 30,
    "start_time": "2023-01-12T16:14:19.147Z"
   },
   {
    "duration": 15,
    "start_time": "2023-01-12T16:14:19.179Z"
   },
   {
    "duration": 12,
    "start_time": "2023-01-12T16:14:19.196Z"
   },
   {
    "duration": 34,
    "start_time": "2023-01-12T16:14:19.209Z"
   },
   {
    "duration": 9,
    "start_time": "2023-01-12T16:14:19.246Z"
   },
   {
    "duration": 21,
    "start_time": "2023-01-12T16:14:19.257Z"
   },
   {
    "duration": 34,
    "start_time": "2023-01-12T16:14:19.279Z"
   },
   {
    "duration": 37,
    "start_time": "2023-01-12T16:14:19.315Z"
   },
   {
    "duration": 14,
    "start_time": "2023-01-12T16:14:19.354Z"
   },
   {
    "duration": 21,
    "start_time": "2023-01-12T16:14:19.369Z"
   },
   {
    "duration": 14,
    "start_time": "2023-01-12T16:14:19.391Z"
   },
   {
    "duration": 14,
    "start_time": "2023-01-12T16:14:19.406Z"
   },
   {
    "duration": 40,
    "start_time": "2023-01-12T16:14:19.422Z"
   },
   {
    "duration": 72,
    "start_time": "2023-01-12T16:14:19.464Z"
   },
   {
    "duration": 1671,
    "start_time": "2023-01-12T16:14:19.538Z"
   },
   {
    "duration": 1682,
    "start_time": "2023-01-12T16:14:21.211Z"
   },
   {
    "duration": 1575,
    "start_time": "2023-01-12T16:14:22.896Z"
   },
   {
    "duration": 618,
    "start_time": "2023-01-12T16:14:24.472Z"
   },
   {
    "duration": 628,
    "start_time": "2023-01-12T16:14:25.092Z"
   },
   {
    "duration": 1400,
    "start_time": "2023-01-12T16:14:25.722Z"
   },
   {
    "duration": 1273,
    "start_time": "2023-01-12T16:14:27.123Z"
   },
   {
    "duration": 1185,
    "start_time": "2023-01-12T16:14:28.398Z"
   },
   {
    "duration": 1242,
    "start_time": "2023-01-12T16:14:29.586Z"
   },
   {
    "duration": 8,
    "start_time": "2023-01-12T16:14:30.830Z"
   },
   {
    "duration": 49,
    "start_time": "2023-01-12T16:14:30.840Z"
   },
   {
    "duration": 22,
    "start_time": "2023-01-12T16:14:30.891Z"
   },
   {
    "duration": 308,
    "start_time": "2023-01-12T16:14:30.915Z"
   },
   {
    "duration": 0,
    "start_time": "2023-01-12T16:14:31.225Z"
   },
   {
    "duration": 0,
    "start_time": "2023-01-12T16:14:31.226Z"
   },
   {
    "duration": 0,
    "start_time": "2023-01-12T16:14:31.228Z"
   },
   {
    "duration": 0,
    "start_time": "2023-01-12T16:14:31.228Z"
   },
   {
    "duration": 0,
    "start_time": "2023-01-12T16:14:31.230Z"
   },
   {
    "duration": 0,
    "start_time": "2023-01-12T16:14:31.231Z"
   },
   {
    "duration": 0,
    "start_time": "2023-01-12T16:14:31.232Z"
   },
   {
    "duration": 0,
    "start_time": "2023-01-12T16:14:31.233Z"
   },
   {
    "duration": 0,
    "start_time": "2023-01-12T16:14:31.234Z"
   },
   {
    "duration": 0,
    "start_time": "2023-01-12T16:14:31.235Z"
   },
   {
    "duration": 0,
    "start_time": "2023-01-12T16:14:31.237Z"
   },
   {
    "duration": 47,
    "start_time": "2023-01-12T16:14:43.940Z"
   },
   {
    "duration": 5538,
    "start_time": "2023-01-12T16:15:45.741Z"
   },
   {
    "duration": 0,
    "start_time": "2023-01-12T16:15:51.281Z"
   },
   {
    "duration": 0,
    "start_time": "2023-01-12T16:17:52.023Z"
   },
   {
    "duration": 0,
    "start_time": "2023-01-12T16:17:52.024Z"
   },
   {
    "duration": 3,
    "start_time": "2023-01-12T16:17:57.533Z"
   },
   {
    "duration": 4,
    "start_time": "2023-01-12T16:17:57.995Z"
   },
   {
    "duration": 2,
    "start_time": "2023-01-12T16:17:58.830Z"
   },
   {
    "duration": 0,
    "start_time": "2023-01-12T16:18:42.846Z"
   },
   {
    "duration": 0,
    "start_time": "2023-01-12T16:18:42.847Z"
   },
   {
    "duration": 0,
    "start_time": "2023-01-12T16:18:42.848Z"
   },
   {
    "duration": 59,
    "start_time": "2023-01-12T16:18:54.004Z"
   },
   {
    "duration": 0,
    "start_time": "2023-01-12T16:20:18.574Z"
   },
   {
    "duration": 0,
    "start_time": "2023-01-12T16:20:18.575Z"
   },
   {
    "duration": 0,
    "start_time": "2023-01-12T16:20:18.576Z"
   },
   {
    "duration": 0,
    "start_time": "2023-01-12T16:20:18.577Z"
   },
   {
    "duration": 1368,
    "start_time": "2023-01-12T16:23:54.108Z"
   },
   {
    "duration": 625,
    "start_time": "2023-01-12T16:23:55.478Z"
   },
   {
    "duration": 19,
    "start_time": "2023-01-12T16:23:56.104Z"
   },
   {
    "duration": 7,
    "start_time": "2023-01-12T16:23:56.124Z"
   },
   {
    "duration": 27,
    "start_time": "2023-01-12T16:23:56.133Z"
   },
   {
    "duration": 24,
    "start_time": "2023-01-12T16:23:56.161Z"
   },
   {
    "duration": 35,
    "start_time": "2023-01-12T16:23:56.186Z"
   },
   {
    "duration": 7,
    "start_time": "2023-01-12T16:23:56.222Z"
   },
   {
    "duration": 7,
    "start_time": "2023-01-12T16:23:56.230Z"
   },
   {
    "duration": 6,
    "start_time": "2023-01-12T16:23:56.238Z"
   },
   {
    "duration": 5,
    "start_time": "2023-01-12T16:23:56.245Z"
   },
   {
    "duration": 19,
    "start_time": "2023-01-12T16:23:56.252Z"
   },
   {
    "duration": 54,
    "start_time": "2023-01-12T16:23:56.272Z"
   },
   {
    "duration": 13,
    "start_time": "2023-01-12T16:23:56.329Z"
   },
   {
    "duration": 3,
    "start_time": "2023-01-12T16:23:56.343Z"
   },
   {
    "duration": 14,
    "start_time": "2023-01-12T16:23:56.347Z"
   },
   {
    "duration": 2,
    "start_time": "2023-01-12T16:23:56.363Z"
   },
   {
    "duration": 15,
    "start_time": "2023-01-12T16:23:56.367Z"
   },
   {
    "duration": 74,
    "start_time": "2023-01-12T16:23:56.384Z"
   },
   {
    "duration": 1666,
    "start_time": "2023-01-12T16:23:56.459Z"
   },
   {
    "duration": 1658,
    "start_time": "2023-01-12T16:23:58.127Z"
   },
   {
    "duration": 1586,
    "start_time": "2023-01-12T16:23:59.788Z"
   },
   {
    "duration": 602,
    "start_time": "2023-01-12T16:24:01.376Z"
   },
   {
    "duration": 641,
    "start_time": "2023-01-12T16:24:01.979Z"
   },
   {
    "duration": 1274,
    "start_time": "2023-01-12T16:24:02.622Z"
   },
   {
    "duration": 1201,
    "start_time": "2023-01-12T16:24:03.898Z"
   },
   {
    "duration": 1170,
    "start_time": "2023-01-12T16:24:05.101Z"
   },
   {
    "duration": 1229,
    "start_time": "2023-01-12T16:24:06.273Z"
   },
   {
    "duration": 12,
    "start_time": "2023-01-12T16:24:07.504Z"
   },
   {
    "duration": 3,
    "start_time": "2023-01-12T16:24:07.518Z"
   },
   {
    "duration": 6,
    "start_time": "2023-01-12T16:24:07.523Z"
   },
   {
    "duration": 0,
    "start_time": "2023-01-12T16:25:27.438Z"
   },
   {
    "duration": 0,
    "start_time": "2023-01-12T16:25:27.439Z"
   },
   {
    "duration": 0,
    "start_time": "2023-01-12T16:25:27.440Z"
   },
   {
    "duration": 0,
    "start_time": "2023-01-12T16:25:27.441Z"
   },
   {
    "duration": 3,
    "start_time": "2023-01-12T16:25:59.465Z"
   },
   {
    "duration": 3,
    "start_time": "2023-01-12T16:26:00.239Z"
   },
   {
    "duration": 20323,
    "start_time": "2023-01-12T16:26:01.616Z"
   },
   {
    "duration": 0,
    "start_time": "2023-01-12T16:26:21.941Z"
   },
   {
    "duration": 0,
    "start_time": "2023-01-12T16:26:21.942Z"
   },
   {
    "duration": 4,
    "start_time": "2023-01-12T16:27:10.382Z"
   },
   {
    "duration": 3,
    "start_time": "2023-01-12T16:27:10.894Z"
   },
   {
    "duration": 9,
    "start_time": "2023-01-12T16:27:11.838Z"
   },
   {
    "duration": 3,
    "start_time": "2023-01-12T16:27:16.534Z"
   },
   {
    "duration": 2,
    "start_time": "2023-01-12T16:27:17.344Z"
   },
   {
    "duration": 8877,
    "start_time": "2023-01-12T16:27:19.070Z"
   },
   {
    "duration": 7320,
    "start_time": "2023-01-12T16:27:52.622Z"
   },
   {
    "duration": 8835,
    "start_time": "2023-01-12T16:28:18.342Z"
   },
   {
    "duration": 120,
    "start_time": "2023-01-12T16:29:03.239Z"
   },
   {
    "duration": 119,
    "start_time": "2023-01-12T16:29:08.565Z"
   },
   {
    "duration": 4,
    "start_time": "2023-01-12T16:29:32.790Z"
   },
   {
    "duration": 3,
    "start_time": "2023-01-12T16:29:39.061Z"
   },
   {
    "duration": 50,
    "start_time": "2023-01-12T16:31:28.758Z"
   },
   {
    "duration": 48,
    "start_time": "2023-01-12T16:31:31.423Z"
   },
   {
    "duration": 50,
    "start_time": "2023-01-12T16:31:34.846Z"
   },
   {
    "duration": 50,
    "start_time": "2023-01-12T16:31:38.832Z"
   },
   {
    "duration": 1973,
    "start_time": "2023-01-12T16:31:52.198Z"
   },
   {
    "duration": 1967,
    "start_time": "2023-01-12T16:31:58.238Z"
   },
   {
    "duration": 474894,
    "start_time": "2023-01-12T16:32:21.694Z"
   },
   {
    "duration": 2,
    "start_time": "2023-01-12T16:49:10.706Z"
   },
   {
    "duration": 3,
    "start_time": "2023-01-12T16:49:11.408Z"
   },
   {
    "duration": 6764,
    "start_time": "2023-01-12T16:49:21.275Z"
   },
   {
    "duration": 2,
    "start_time": "2023-01-12T16:49:42.058Z"
   },
   {
    "duration": 4,
    "start_time": "2023-01-12T16:49:47.162Z"
   },
   {
    "duration": 6726,
    "start_time": "2023-01-12T16:49:57.499Z"
   },
   {
    "duration": 4,
    "start_time": "2023-01-12T16:52:58.898Z"
   },
   {
    "duration": 10,
    "start_time": "2023-01-12T16:52:59.889Z"
   },
   {
    "duration": 9,
    "start_time": "2023-01-12T16:53:11.570Z"
   },
   {
    "duration": 9,
    "start_time": "2023-01-12T16:53:15.986Z"
   },
   {
    "duration": 78,
    "start_time": "2023-01-12T16:53:55.477Z"
   },
   {
    "duration": 43,
    "start_time": "2023-01-12T16:54:15.171Z"
   },
   {
    "duration": 3,
    "start_time": "2023-01-12T16:54:45.475Z"
   },
   {
    "duration": 65103,
    "start_time": "2023-01-12T16:55:03.283Z"
   },
   {
    "duration": 1425026,
    "start_time": "2023-01-12T16:56:53.677Z"
   },
   {
    "duration": 7801,
    "start_time": "2023-01-12T17:20:47.628Z"
   },
   {
    "duration": 3828,
    "start_time": "2023-01-12T17:24:06.736Z"
   },
   {
    "duration": 16254,
    "start_time": "2023-01-12T17:24:13.872Z"
   },
   {
    "duration": 39,
    "start_time": "2023-01-12T17:25:23.637Z"
   },
   {
    "duration": 39420,
    "start_time": "2023-01-12T17:25:47.453Z"
   },
   {
    "duration": 39144,
    "start_time": "2023-01-12T17:26:51.162Z"
   },
   {
    "duration": 287957,
    "start_time": "2023-01-12T17:29:44.391Z"
   },
   {
    "duration": 128181,
    "start_time": "2023-01-12T17:34:40.130Z"
   },
   {
    "duration": 39162,
    "start_time": "2023-01-12T17:36:52.474Z"
   },
   {
    "duration": 22852,
    "start_time": "2023-01-12T17:38:11.578Z"
   },
   {
    "duration": 52837,
    "start_time": "2023-01-12T17:39:38.267Z"
   },
   {
    "duration": 3,
    "start_time": "2023-01-12T17:42:10.803Z"
   },
   {
    "duration": 3,
    "start_time": "2023-01-12T17:42:11.652Z"
   },
   {
    "duration": 59,
    "start_time": "2023-01-12T17:42:12.770Z"
   },
   {
    "duration": 6730,
    "start_time": "2023-01-12T17:42:18.324Z"
   },
   {
    "duration": 3,
    "start_time": "2023-01-12T17:42:34.852Z"
   },
   {
    "duration": 2,
    "start_time": "2023-01-12T17:42:35.703Z"
   },
   {
    "duration": 6909,
    "start_time": "2023-01-12T17:42:36.459Z"
   },
   {
    "duration": 139046,
    "start_time": "2023-01-12T17:43:35.718Z"
   },
   {
    "duration": 47,
    "start_time": "2023-01-12T17:50:20.406Z"
   },
   {
    "duration": 158847,
    "start_time": "2023-01-12T17:50:23.751Z"
   },
   {
    "duration": 474320,
    "start_time": "2023-01-12T17:57:33.400Z"
   },
   {
    "duration": 3165,
    "start_time": "2023-01-12T18:13:29.919Z"
   },
   {
    "duration": 760,
    "start_time": "2023-01-12T18:13:34.877Z"
   },
   {
    "duration": 3,
    "start_time": "2023-01-12T18:35:50.077Z"
   },
   {
    "duration": 3,
    "start_time": "2023-01-12T18:35:51.273Z"
   },
   {
    "duration": 3,
    "start_time": "2023-01-12T18:35:52.058Z"
   },
   {
    "duration": 4,
    "start_time": "2023-01-12T18:35:59.231Z"
   },
   {
    "duration": 76,
    "start_time": "2023-01-12T18:36:33.562Z"
   },
   {
    "duration": 30,
    "start_time": "2023-01-13T13:04:13.275Z"
   },
   {
    "duration": 12,
    "start_time": "2023-01-13T13:04:24.643Z"
   },
   {
    "duration": 14,
    "start_time": "2023-01-13T13:04:39.295Z"
   },
   {
    "duration": 1650,
    "start_time": "2023-01-13T13:24:17.174Z"
   },
   {
    "duration": 133,
    "start_time": "2023-01-13T13:24:23.446Z"
   },
   {
    "duration": 4,
    "start_time": "2023-01-13T13:24:31.231Z"
   },
   {
    "duration": 1976,
    "start_time": "2023-01-13T13:24:31.268Z"
   },
   {
    "duration": 21,
    "start_time": "2023-01-13T13:24:33.246Z"
   },
   {
    "duration": 7,
    "start_time": "2023-01-13T13:24:33.268Z"
   },
   {
    "duration": 47,
    "start_time": "2023-01-13T13:24:33.277Z"
   },
   {
    "duration": 25,
    "start_time": "2023-01-13T13:24:33.327Z"
   },
   {
    "duration": 15,
    "start_time": "2023-01-13T13:24:33.354Z"
   },
   {
    "duration": 9,
    "start_time": "2023-01-13T13:24:33.371Z"
   },
   {
    "duration": 7,
    "start_time": "2023-01-13T13:24:33.382Z"
   },
   {
    "duration": 7,
    "start_time": "2023-01-13T13:24:33.391Z"
   },
   {
    "duration": 10,
    "start_time": "2023-01-13T13:24:33.399Z"
   },
   {
    "duration": 31,
    "start_time": "2023-01-13T13:24:33.438Z"
   },
   {
    "duration": 29,
    "start_time": "2023-01-13T13:24:33.471Z"
   },
   {
    "duration": 15,
    "start_time": "2023-01-13T13:24:33.502Z"
   },
   {
    "duration": 3,
    "start_time": "2023-01-13T13:24:33.521Z"
   },
   {
    "duration": 18,
    "start_time": "2023-01-13T13:24:33.537Z"
   },
   {
    "duration": 13,
    "start_time": "2023-01-13T13:24:33.557Z"
   },
   {
    "duration": 32,
    "start_time": "2023-01-13T13:24:33.572Z"
   },
   {
    "duration": 94,
    "start_time": "2023-01-13T13:24:33.606Z"
   },
   {
    "duration": 1772,
    "start_time": "2023-01-13T13:24:33.702Z"
   },
   {
    "duration": 1764,
    "start_time": "2023-01-13T13:24:35.476Z"
   },
   {
    "duration": 1618,
    "start_time": "2023-01-13T13:24:37.242Z"
   },
   {
    "duration": 661,
    "start_time": "2023-01-13T13:24:38.862Z"
   },
   {
    "duration": 724,
    "start_time": "2023-01-13T13:24:39.525Z"
   },
   {
    "duration": 1405,
    "start_time": "2023-01-13T13:24:40.251Z"
   },
   {
    "duration": 1291,
    "start_time": "2023-01-13T13:24:41.657Z"
   },
   {
    "duration": 1307,
    "start_time": "2023-01-13T13:24:42.949Z"
   },
   {
    "duration": 1727,
    "start_time": "2023-01-13T13:24:44.258Z"
   },
   {
    "duration": 322,
    "start_time": "2023-01-13T13:24:46.038Z"
   },
   {
    "duration": 4,
    "start_time": "2023-01-13T13:24:46.362Z"
   },
   {
    "duration": 15,
    "start_time": "2023-01-13T13:24:46.367Z"
   },
   {
    "duration": 53748,
    "start_time": "2023-01-13T13:24:46.384Z"
   },
   {
    "duration": 530988,
    "start_time": "2023-01-13T13:25:40.133Z"
   },
   {
    "duration": 3368,
    "start_time": "2023-01-13T13:34:31.122Z"
   },
   {
    "duration": 3,
    "start_time": "2023-01-13T13:34:34.491Z"
   },
   {
    "duration": 892,
    "start_time": "2023-01-13T13:34:34.496Z"
   },
   {
    "duration": 2,
    "start_time": "2023-01-13T13:34:35.392Z"
   },
   {
    "duration": 31,
    "start_time": "2023-01-13T13:34:35.396Z"
   },
   {
    "duration": 7,
    "start_time": "2023-01-13T13:49:18.885Z"
   },
   {
    "duration": 34,
    "start_time": "2023-01-13T13:52:04.653Z"
   },
   {
    "duration": 49,
    "start_time": "2023-01-13T16:29:05.206Z"
   },
   {
    "duration": 47,
    "start_time": "2023-01-13T16:29:43.608Z"
   },
   {
    "duration": 51,
    "start_time": "2023-01-13T16:29:55.872Z"
   },
   {
    "duration": 52,
    "start_time": "2023-01-13T16:33:45.757Z"
   },
   {
    "duration": 1461,
    "start_time": "2023-01-13T16:47:19.141Z"
   },
   {
    "duration": 3132,
    "start_time": "2023-01-13T16:47:20.604Z"
   },
   {
    "duration": 19,
    "start_time": "2023-01-13T16:47:23.738Z"
   },
   {
    "duration": 7,
    "start_time": "2023-01-13T16:47:23.759Z"
   },
   {
    "duration": 36,
    "start_time": "2023-01-13T16:47:23.767Z"
   },
   {
    "duration": 24,
    "start_time": "2023-01-13T16:47:23.805Z"
   },
   {
    "duration": 12,
    "start_time": "2023-01-13T16:47:23.831Z"
   },
   {
    "duration": 5,
    "start_time": "2023-01-13T16:47:23.845Z"
   },
   {
    "duration": 4,
    "start_time": "2023-01-13T16:47:23.852Z"
   },
   {
    "duration": 6,
    "start_time": "2023-01-13T16:47:23.858Z"
   },
   {
    "duration": 9,
    "start_time": "2023-01-13T16:47:23.866Z"
   },
   {
    "duration": 36,
    "start_time": "2023-01-13T16:47:23.876Z"
   },
   {
    "duration": 4,
    "start_time": "2023-01-13T16:47:23.914Z"
   },
   {
    "duration": 27,
    "start_time": "2023-01-13T16:47:23.920Z"
   },
   {
    "duration": 12,
    "start_time": "2023-01-13T16:47:23.948Z"
   },
   {
    "duration": 5,
    "start_time": "2023-01-13T16:47:23.961Z"
   },
   {
    "duration": 14,
    "start_time": "2023-01-13T16:47:23.967Z"
   },
   {
    "duration": 3,
    "start_time": "2023-01-13T16:47:23.982Z"
   },
   {
    "duration": 33,
    "start_time": "2023-01-13T16:47:23.986Z"
   },
   {
    "duration": 57,
    "start_time": "2023-01-13T16:47:24.021Z"
   },
   {
    "duration": 1591,
    "start_time": "2023-01-13T16:47:24.080Z"
   },
   {
    "duration": 2262,
    "start_time": "2023-01-13T16:47:25.673Z"
   },
   {
    "duration": 2094,
    "start_time": "2023-01-13T16:47:27.936Z"
   },
   {
    "duration": 1044,
    "start_time": "2023-01-13T16:47:30.032Z"
   },
   {
    "duration": 611,
    "start_time": "2023-01-13T16:47:31.078Z"
   },
   {
    "duration": 9,
    "start_time": "2023-01-13T16:47:31.691Z"
   },
   {
    "duration": 48,
    "start_time": "2023-01-13T16:47:31.711Z"
   },
   {
    "duration": 3,
    "start_time": "2023-01-13T16:47:31.762Z"
   },
   {
    "duration": 8,
    "start_time": "2023-01-13T16:47:31.766Z"
   },
   {
    "duration": 10973,
    "start_time": "2023-01-13T16:47:31.775Z"
   },
   {
    "duration": 85089,
    "start_time": "2023-01-13T16:47:42.750Z"
   },
   {
    "duration": 3039,
    "start_time": "2023-01-13T16:49:07.841Z"
   },
   {
    "duration": 2,
    "start_time": "2023-01-13T16:49:10.881Z"
   },
   {
    "duration": 742,
    "start_time": "2023-01-13T16:49:10.885Z"
   },
   {
    "duration": 3,
    "start_time": "2023-01-13T16:49:11.629Z"
   },
   {
    "duration": 37,
    "start_time": "2023-01-13T16:49:11.634Z"
   },
   {
    "duration": 45,
    "start_time": "2023-01-13T16:49:11.676Z"
   },
   {
    "duration": 11,
    "start_time": "2023-01-13T16:49:45.532Z"
   },
   {
    "duration": 11,
    "start_time": "2023-01-13T16:50:09.585Z"
   },
   {
    "duration": 13,
    "start_time": "2023-01-13T16:50:19.473Z"
   },
   {
    "duration": 12,
    "start_time": "2023-01-13T16:50:29.243Z"
   },
   {
    "duration": 11,
    "start_time": "2023-01-13T16:50:40.018Z"
   },
   {
    "duration": 9,
    "start_time": "2023-01-13T16:50:44.444Z"
   },
   {
    "duration": 18,
    "start_time": "2023-01-13T16:52:12.972Z"
   },
   {
    "duration": 14,
    "start_time": "2023-01-13T16:52:52.459Z"
   },
   {
    "duration": 182,
    "start_time": "2023-01-13T16:53:31.924Z"
   },
   {
    "duration": 336,
    "start_time": "2023-01-13T16:54:39.547Z"
   },
   {
    "duration": 188,
    "start_time": "2023-01-13T16:55:07.627Z"
   },
   {
    "duration": 186,
    "start_time": "2023-01-13T16:55:08.915Z"
   },
   {
    "duration": 215,
    "start_time": "2023-01-13T16:55:11.215Z"
   },
   {
    "duration": 192,
    "start_time": "2023-01-13T16:55:13.411Z"
   },
   {
    "duration": 88,
    "start_time": "2023-01-13T17:11:29.234Z"
   },
   {
    "duration": 13,
    "start_time": "2023-01-13T17:11:55.993Z"
   },
   {
    "duration": 11,
    "start_time": "2023-01-13T17:14:01.644Z"
   },
   {
    "duration": 12,
    "start_time": "2023-01-13T17:14:10.722Z"
   },
   {
    "duration": 12,
    "start_time": "2023-01-13T17:15:09.474Z"
   },
   {
    "duration": 36,
    "start_time": "2023-01-13T17:15:38.555Z"
   },
   {
    "duration": 20,
    "start_time": "2023-01-13T17:15:50.482Z"
   },
   {
    "duration": 19,
    "start_time": "2023-01-13T17:15:56.691Z"
   },
   {
    "duration": 15,
    "start_time": "2023-01-13T17:15:57.650Z"
   },
   {
    "duration": 1352,
    "start_time": "2023-01-13T17:16:16.395Z"
   },
   {
    "duration": 745,
    "start_time": "2023-01-13T17:16:17.749Z"
   },
   {
    "duration": 25,
    "start_time": "2023-01-13T17:16:18.496Z"
   },
   {
    "duration": 9,
    "start_time": "2023-01-13T17:16:18.524Z"
   },
   {
    "duration": 41,
    "start_time": "2023-01-13T17:16:18.535Z"
   },
   {
    "duration": 41,
    "start_time": "2023-01-13T17:16:18.579Z"
   },
   {
    "duration": 15,
    "start_time": "2023-01-13T17:16:18.622Z"
   },
   {
    "duration": 8,
    "start_time": "2023-01-13T17:16:18.640Z"
   },
   {
    "duration": 7,
    "start_time": "2023-01-13T17:16:18.650Z"
   },
   {
    "duration": 6,
    "start_time": "2023-01-13T17:16:18.661Z"
   },
   {
    "duration": 10,
    "start_time": "2023-01-13T17:16:18.669Z"
   },
   {
    "duration": 48,
    "start_time": "2023-01-13T17:16:18.680Z"
   },
   {
    "duration": 6,
    "start_time": "2023-01-13T17:16:18.730Z"
   },
   {
    "duration": 26,
    "start_time": "2023-01-13T17:16:18.739Z"
   },
   {
    "duration": 16,
    "start_time": "2023-01-13T17:16:18.767Z"
   },
   {
    "duration": 27,
    "start_time": "2023-01-13T17:16:18.785Z"
   },
   {
    "duration": 9,
    "start_time": "2023-01-13T17:16:18.814Z"
   },
   {
    "duration": 11,
    "start_time": "2023-01-13T17:16:18.825Z"
   },
   {
    "duration": 100,
    "start_time": "2023-01-13T17:16:18.837Z"
   },
   {
    "duration": 1697,
    "start_time": "2023-01-13T17:16:18.939Z"
   },
   {
    "duration": 1642,
    "start_time": "2023-01-13T17:16:20.638Z"
   },
   {
    "duration": 1627,
    "start_time": "2023-01-13T17:16:22.282Z"
   },
   {
    "duration": 659,
    "start_time": "2023-01-13T17:16:23.911Z"
   },
   {
    "duration": 633,
    "start_time": "2023-01-13T17:16:24.571Z"
   },
   {
    "duration": 12,
    "start_time": "2023-01-13T17:16:25.206Z"
   },
   {
    "duration": 210,
    "start_time": "2023-01-13T17:16:25.220Z"
   },
   {
    "duration": 184,
    "start_time": "2023-01-13T17:16:25.431Z"
   },
   {
    "duration": 299,
    "start_time": "2023-01-13T17:16:25.618Z"
   },
   {
    "duration": 194,
    "start_time": "2023-01-13T17:16:25.918Z"
   },
   {
    "duration": 41,
    "start_time": "2023-01-13T17:16:26.113Z"
   },
   {
    "duration": 141,
    "start_time": "2023-01-13T17:16:26.155Z"
   },
   {
    "duration": 0,
    "start_time": "2023-01-13T17:16:26.298Z"
   },
   {
    "duration": 0,
    "start_time": "2023-01-13T17:16:26.300Z"
   },
   {
    "duration": 0,
    "start_time": "2023-01-13T17:16:26.301Z"
   },
   {
    "duration": 0,
    "start_time": "2023-01-13T17:16:26.307Z"
   },
   {
    "duration": 0,
    "start_time": "2023-01-13T17:16:26.312Z"
   },
   {
    "duration": 1,
    "start_time": "2023-01-13T17:16:26.314Z"
   },
   {
    "duration": 0,
    "start_time": "2023-01-13T17:16:26.316Z"
   },
   {
    "duration": 0,
    "start_time": "2023-01-13T17:16:26.318Z"
   },
   {
    "duration": 0,
    "start_time": "2023-01-13T17:16:26.320Z"
   },
   {
    "duration": 0,
    "start_time": "2023-01-13T17:16:26.321Z"
   },
   {
    "duration": 0,
    "start_time": "2023-01-13T17:16:26.322Z"
   },
   {
    "duration": 1390,
    "start_time": "2023-01-13T17:58:51.495Z"
   },
   {
    "duration": 715,
    "start_time": "2023-01-13T17:58:52.887Z"
   },
   {
    "duration": 22,
    "start_time": "2023-01-13T17:58:53.603Z"
   },
   {
    "duration": 8,
    "start_time": "2023-01-13T17:58:53.628Z"
   },
   {
    "duration": 37,
    "start_time": "2023-01-13T17:58:53.638Z"
   },
   {
    "duration": 44,
    "start_time": "2023-01-13T17:58:53.677Z"
   },
   {
    "duration": 14,
    "start_time": "2023-01-13T17:58:53.723Z"
   },
   {
    "duration": 7,
    "start_time": "2023-01-13T17:58:53.739Z"
   },
   {
    "duration": 6,
    "start_time": "2023-01-13T17:58:53.748Z"
   },
   {
    "duration": 6,
    "start_time": "2023-01-13T17:58:53.757Z"
   },
   {
    "duration": 6,
    "start_time": "2023-01-13T17:58:53.765Z"
   },
   {
    "duration": 46,
    "start_time": "2023-01-13T17:58:53.773Z"
   },
   {
    "duration": 5,
    "start_time": "2023-01-13T17:58:53.821Z"
   },
   {
    "duration": 16,
    "start_time": "2023-01-13T17:58:53.828Z"
   },
   {
    "duration": 47,
    "start_time": "2023-01-13T17:58:53.845Z"
   },
   {
    "duration": 0,
    "start_time": "2023-01-13T17:58:53.894Z"
   },
   {
    "duration": 0,
    "start_time": "2023-01-13T17:58:53.896Z"
   },
   {
    "duration": 0,
    "start_time": "2023-01-13T17:58:53.897Z"
   },
   {
    "duration": 0,
    "start_time": "2023-01-13T17:58:53.898Z"
   },
   {
    "duration": 0,
    "start_time": "2023-01-13T17:58:53.899Z"
   },
   {
    "duration": 0,
    "start_time": "2023-01-13T17:58:53.901Z"
   },
   {
    "duration": 0,
    "start_time": "2023-01-13T17:58:53.902Z"
   },
   {
    "duration": 0,
    "start_time": "2023-01-13T17:58:53.903Z"
   },
   {
    "duration": 0,
    "start_time": "2023-01-13T17:58:53.904Z"
   },
   {
    "duration": 0,
    "start_time": "2023-01-13T17:58:53.905Z"
   },
   {
    "duration": 0,
    "start_time": "2023-01-13T17:58:53.907Z"
   },
   {
    "duration": 0,
    "start_time": "2023-01-13T17:58:53.908Z"
   },
   {
    "duration": 0,
    "start_time": "2023-01-13T17:58:53.909Z"
   },
   {
    "duration": 0,
    "start_time": "2023-01-13T17:58:53.910Z"
   },
   {
    "duration": 0,
    "start_time": "2023-01-13T17:58:53.912Z"
   },
   {
    "duration": 0,
    "start_time": "2023-01-13T17:58:53.913Z"
   },
   {
    "duration": 0,
    "start_time": "2023-01-13T17:58:53.914Z"
   },
   {
    "duration": 1,
    "start_time": "2023-01-13T17:58:53.914Z"
   },
   {
    "duration": 0,
    "start_time": "2023-01-13T17:58:53.916Z"
   },
   {
    "duration": 0,
    "start_time": "2023-01-13T17:58:53.917Z"
   },
   {
    "duration": 0,
    "start_time": "2023-01-13T17:58:53.918Z"
   },
   {
    "duration": 0,
    "start_time": "2023-01-13T17:58:53.919Z"
   },
   {
    "duration": 0,
    "start_time": "2023-01-13T17:58:53.920Z"
   },
   {
    "duration": 0,
    "start_time": "2023-01-13T17:58:53.921Z"
   },
   {
    "duration": 0,
    "start_time": "2023-01-13T17:58:53.922Z"
   },
   {
    "duration": 0,
    "start_time": "2023-01-13T17:58:53.923Z"
   },
   {
    "duration": 0,
    "start_time": "2023-01-13T17:58:53.924Z"
   },
   {
    "duration": 0,
    "start_time": "2023-01-13T17:58:53.925Z"
   },
   {
    "duration": 0,
    "start_time": "2023-01-13T17:58:53.926Z"
   },
   {
    "duration": 1365,
    "start_time": "2023-01-13T17:59:15.767Z"
   },
   {
    "duration": 662,
    "start_time": "2023-01-13T17:59:17.134Z"
   },
   {
    "duration": 26,
    "start_time": "2023-01-13T17:59:17.798Z"
   },
   {
    "duration": 6,
    "start_time": "2023-01-13T17:59:17.826Z"
   },
   {
    "duration": 30,
    "start_time": "2023-01-13T17:59:17.834Z"
   },
   {
    "duration": 27,
    "start_time": "2023-01-13T17:59:17.866Z"
   },
   {
    "duration": 25,
    "start_time": "2023-01-13T17:59:17.897Z"
   },
   {
    "duration": 7,
    "start_time": "2023-01-13T17:59:17.924Z"
   },
   {
    "duration": 5,
    "start_time": "2023-01-13T17:59:17.933Z"
   },
   {
    "duration": 4,
    "start_time": "2023-01-13T17:59:17.941Z"
   },
   {
    "duration": 4,
    "start_time": "2023-01-13T17:59:17.947Z"
   },
   {
    "duration": 21,
    "start_time": "2023-01-13T17:59:17.953Z"
   },
   {
    "duration": 40,
    "start_time": "2023-01-13T17:59:17.976Z"
   },
   {
    "duration": 26,
    "start_time": "2023-01-13T17:59:18.018Z"
   },
   {
    "duration": 49,
    "start_time": "2023-01-13T17:59:18.046Z"
   },
   {
    "duration": 19,
    "start_time": "2023-01-13T17:59:18.098Z"
   },
   {
    "duration": 124,
    "start_time": "2023-01-13T17:59:18.119Z"
   },
   {
    "duration": 0,
    "start_time": "2023-01-13T17:59:18.245Z"
   },
   {
    "duration": 0,
    "start_time": "2023-01-13T17:59:18.247Z"
   },
   {
    "duration": 0,
    "start_time": "2023-01-13T17:59:18.249Z"
   },
   {
    "duration": 0,
    "start_time": "2023-01-13T17:59:18.250Z"
   },
   {
    "duration": 0,
    "start_time": "2023-01-13T17:59:18.251Z"
   },
   {
    "duration": 0,
    "start_time": "2023-01-13T17:59:18.252Z"
   },
   {
    "duration": 0,
    "start_time": "2023-01-13T17:59:18.253Z"
   },
   {
    "duration": 0,
    "start_time": "2023-01-13T17:59:18.255Z"
   },
   {
    "duration": 0,
    "start_time": "2023-01-13T17:59:18.256Z"
   },
   {
    "duration": 0,
    "start_time": "2023-01-13T17:59:18.257Z"
   },
   {
    "duration": 0,
    "start_time": "2023-01-13T17:59:18.258Z"
   },
   {
    "duration": 0,
    "start_time": "2023-01-13T17:59:18.259Z"
   },
   {
    "duration": 0,
    "start_time": "2023-01-13T17:59:18.260Z"
   },
   {
    "duration": 0,
    "start_time": "2023-01-13T17:59:18.262Z"
   },
   {
    "duration": 0,
    "start_time": "2023-01-13T17:59:18.263Z"
   },
   {
    "duration": 0,
    "start_time": "2023-01-13T17:59:18.264Z"
   },
   {
    "duration": 0,
    "start_time": "2023-01-13T17:59:18.266Z"
   },
   {
    "duration": 0,
    "start_time": "2023-01-13T17:59:18.267Z"
   },
   {
    "duration": 0,
    "start_time": "2023-01-13T17:59:18.268Z"
   },
   {
    "duration": 0,
    "start_time": "2023-01-13T17:59:18.270Z"
   },
   {
    "duration": 0,
    "start_time": "2023-01-13T17:59:18.313Z"
   },
   {
    "duration": 0,
    "start_time": "2023-01-13T17:59:18.314Z"
   },
   {
    "duration": 0,
    "start_time": "2023-01-13T17:59:18.315Z"
   },
   {
    "duration": 0,
    "start_time": "2023-01-13T17:59:18.316Z"
   },
   {
    "duration": 0,
    "start_time": "2023-01-13T17:59:18.317Z"
   },
   {
    "duration": 0,
    "start_time": "2023-01-13T17:59:18.318Z"
   },
   {
    "duration": 0,
    "start_time": "2023-01-13T17:59:18.319Z"
   },
   {
    "duration": 1460,
    "start_time": "2023-01-13T18:00:49.730Z"
   },
   {
    "duration": 702,
    "start_time": "2023-01-13T18:00:51.192Z"
   },
   {
    "duration": 21,
    "start_time": "2023-01-13T18:00:51.896Z"
   },
   {
    "duration": 11,
    "start_time": "2023-01-13T18:00:51.919Z"
   },
   {
    "duration": 26,
    "start_time": "2023-01-13T18:00:51.932Z"
   },
   {
    "duration": 25,
    "start_time": "2023-01-13T18:00:51.960Z"
   },
   {
    "duration": 42,
    "start_time": "2023-01-13T18:00:51.986Z"
   },
   {
    "duration": 7,
    "start_time": "2023-01-13T18:00:52.030Z"
   },
   {
    "duration": 7,
    "start_time": "2023-01-13T18:00:52.038Z"
   },
   {
    "duration": 10,
    "start_time": "2023-01-13T18:00:52.047Z"
   },
   {
    "duration": 6,
    "start_time": "2023-01-13T18:00:52.060Z"
   },
   {
    "duration": 19,
    "start_time": "2023-01-13T18:00:52.067Z"
   },
   {
    "duration": 31,
    "start_time": "2023-01-13T18:00:52.088Z"
   },
   {
    "duration": 11,
    "start_time": "2023-01-13T18:00:52.122Z"
   },
   {
    "duration": 43,
    "start_time": "2023-01-13T18:00:52.135Z"
   },
   {
    "duration": 41,
    "start_time": "2023-01-13T18:00:52.180Z"
   },
   {
    "duration": 131,
    "start_time": "2023-01-13T18:00:52.224Z"
   },
   {
    "duration": 0,
    "start_time": "2023-01-13T18:00:52.357Z"
   },
   {
    "duration": 0,
    "start_time": "2023-01-13T18:00:52.358Z"
   },
   {
    "duration": 0,
    "start_time": "2023-01-13T18:00:52.359Z"
   },
   {
    "duration": 0,
    "start_time": "2023-01-13T18:00:52.361Z"
   },
   {
    "duration": 0,
    "start_time": "2023-01-13T18:00:52.362Z"
   },
   {
    "duration": 0,
    "start_time": "2023-01-13T18:00:52.363Z"
   },
   {
    "duration": 0,
    "start_time": "2023-01-13T18:00:52.364Z"
   },
   {
    "duration": 0,
    "start_time": "2023-01-13T18:00:52.365Z"
   },
   {
    "duration": 0,
    "start_time": "2023-01-13T18:00:52.366Z"
   },
   {
    "duration": 0,
    "start_time": "2023-01-13T18:00:52.367Z"
   },
   {
    "duration": 0,
    "start_time": "2023-01-13T18:00:52.369Z"
   },
   {
    "duration": 0,
    "start_time": "2023-01-13T18:00:52.370Z"
   },
   {
    "duration": 0,
    "start_time": "2023-01-13T18:00:52.371Z"
   },
   {
    "duration": 0,
    "start_time": "2023-01-13T18:00:52.372Z"
   },
   {
    "duration": 0,
    "start_time": "2023-01-13T18:00:52.373Z"
   },
   {
    "duration": 0,
    "start_time": "2023-01-13T18:00:52.374Z"
   },
   {
    "duration": 0,
    "start_time": "2023-01-13T18:00:52.375Z"
   },
   {
    "duration": 0,
    "start_time": "2023-01-13T18:00:52.376Z"
   },
   {
    "duration": 0,
    "start_time": "2023-01-13T18:00:52.377Z"
   },
   {
    "duration": 0,
    "start_time": "2023-01-13T18:00:52.378Z"
   },
   {
    "duration": 0,
    "start_time": "2023-01-13T18:00:52.379Z"
   },
   {
    "duration": 0,
    "start_time": "2023-01-13T18:00:52.380Z"
   },
   {
    "duration": 0,
    "start_time": "2023-01-13T18:00:52.381Z"
   },
   {
    "duration": 0,
    "start_time": "2023-01-13T18:00:52.412Z"
   },
   {
    "duration": 0,
    "start_time": "2023-01-13T18:00:52.416Z"
   },
   {
    "duration": 0,
    "start_time": "2023-01-13T18:00:52.417Z"
   },
   {
    "duration": 0,
    "start_time": "2023-01-13T18:00:52.419Z"
   },
   {
    "duration": 1384,
    "start_time": "2023-01-13T18:01:43.457Z"
   },
   {
    "duration": 750,
    "start_time": "2023-01-13T18:01:44.843Z"
   },
   {
    "duration": 22,
    "start_time": "2023-01-13T18:01:45.595Z"
   },
   {
    "duration": 10,
    "start_time": "2023-01-13T18:01:45.620Z"
   },
   {
    "duration": 26,
    "start_time": "2023-01-13T18:01:45.632Z"
   },
   {
    "duration": 25,
    "start_time": "2023-01-13T18:01:45.659Z"
   },
   {
    "duration": 40,
    "start_time": "2023-01-13T18:01:45.686Z"
   },
   {
    "duration": 7,
    "start_time": "2023-01-13T18:01:45.728Z"
   },
   {
    "duration": 5,
    "start_time": "2023-01-13T18:01:45.736Z"
   },
   {
    "duration": 5,
    "start_time": "2023-01-13T18:01:45.744Z"
   },
   {
    "duration": 3,
    "start_time": "2023-01-13T18:01:45.751Z"
   },
   {
    "duration": 18,
    "start_time": "2023-01-13T18:01:45.756Z"
   },
   {
    "duration": 5,
    "start_time": "2023-01-13T18:01:45.776Z"
   },
   {
    "duration": 61,
    "start_time": "2023-01-13T18:01:45.782Z"
   },
   {
    "duration": 13,
    "start_time": "2023-01-13T18:01:45.845Z"
   },
   {
    "duration": 2,
    "start_time": "2023-01-13T18:01:45.860Z"
   },
   {
    "duration": 11,
    "start_time": "2023-01-13T18:01:45.864Z"
   },
   {
    "duration": 3,
    "start_time": "2023-01-13T18:01:45.877Z"
   },
   {
    "duration": 97,
    "start_time": "2023-01-13T18:01:45.881Z"
   },
   {
    "duration": 1715,
    "start_time": "2023-01-13T18:01:45.980Z"
   },
   {
    "duration": 1730,
    "start_time": "2023-01-13T18:01:47.716Z"
   },
   {
    "duration": 1643,
    "start_time": "2023-01-13T18:01:49.447Z"
   },
   {
    "duration": 618,
    "start_time": "2023-01-13T18:01:51.092Z"
   },
   {
    "duration": 592,
    "start_time": "2023-01-13T18:01:51.711Z"
   },
   {
    "duration": 878,
    "start_time": "2023-01-13T18:01:52.305Z"
   },
   {
    "duration": 0,
    "start_time": "2023-01-13T18:01:53.185Z"
   },
   {
    "duration": 0,
    "start_time": "2023-01-13T18:01:53.187Z"
   },
   {
    "duration": 0,
    "start_time": "2023-01-13T18:01:53.188Z"
   },
   {
    "duration": 0,
    "start_time": "2023-01-13T18:01:53.189Z"
   },
   {
    "duration": 0,
    "start_time": "2023-01-13T18:01:53.190Z"
   },
   {
    "duration": 0,
    "start_time": "2023-01-13T18:01:53.191Z"
   },
   {
    "duration": 0,
    "start_time": "2023-01-13T18:01:53.192Z"
   },
   {
    "duration": 0,
    "start_time": "2023-01-13T18:01:53.193Z"
   },
   {
    "duration": 0,
    "start_time": "2023-01-13T18:01:53.194Z"
   },
   {
    "duration": 0,
    "start_time": "2023-01-13T18:01:53.195Z"
   },
   {
    "duration": 0,
    "start_time": "2023-01-13T18:01:53.196Z"
   },
   {
    "duration": 0,
    "start_time": "2023-01-13T18:01:53.197Z"
   },
   {
    "duration": 0,
    "start_time": "2023-01-13T18:01:53.198Z"
   },
   {
    "duration": 0,
    "start_time": "2023-01-13T18:01:53.200Z"
   },
   {
    "duration": 0,
    "start_time": "2023-01-13T18:01:53.201Z"
   },
   {
    "duration": 1,
    "start_time": "2023-01-13T18:01:53.201Z"
   },
   {
    "duration": 1562,
    "start_time": "2023-01-13T18:21:20.192Z"
   },
   {
    "duration": 733,
    "start_time": "2023-01-13T18:21:21.756Z"
   },
   {
    "duration": 17,
    "start_time": "2023-01-13T18:21:22.491Z"
   },
   {
    "duration": 17,
    "start_time": "2023-01-13T18:21:22.514Z"
   },
   {
    "duration": 23,
    "start_time": "2023-01-13T18:21:22.532Z"
   },
   {
    "duration": 23,
    "start_time": "2023-01-13T18:21:22.557Z"
   },
   {
    "duration": 13,
    "start_time": "2023-01-13T18:21:22.582Z"
   },
   {
    "duration": 15,
    "start_time": "2023-01-13T18:21:22.612Z"
   },
   {
    "duration": 7,
    "start_time": "2023-01-13T18:21:22.629Z"
   },
   {
    "duration": 7,
    "start_time": "2023-01-13T18:21:22.638Z"
   },
   {
    "duration": 6,
    "start_time": "2023-01-13T18:21:22.646Z"
   },
   {
    "duration": 24,
    "start_time": "2023-01-13T18:21:22.653Z"
   },
   {
    "duration": 6,
    "start_time": "2023-01-13T18:21:22.679Z"
   },
   {
    "duration": 2053,
    "start_time": "2023-01-13T18:21:22.687Z"
   },
   {
    "duration": 2113,
    "start_time": "2023-01-13T18:21:24.741Z"
   },
   {
    "duration": 2363,
    "start_time": "2023-01-13T18:21:26.856Z"
   },
   {
    "duration": 704,
    "start_time": "2023-01-13T18:21:29.221Z"
   },
   {
    "duration": 597,
    "start_time": "2023-01-13T18:21:29.928Z"
   },
   {
    "duration": 11,
    "start_time": "2023-01-13T18:21:30.527Z"
   },
   {
    "duration": 190,
    "start_time": "2023-01-13T18:21:30.540Z"
   },
   {
    "duration": 285,
    "start_time": "2023-01-13T18:21:30.732Z"
   },
   {
    "duration": 183,
    "start_time": "2023-01-13T18:21:31.025Z"
   },
   {
    "duration": 217,
    "start_time": "2023-01-13T18:21:31.212Z"
   },
   {
    "duration": 35,
    "start_time": "2023-01-13T18:21:31.431Z"
   },
   {
    "duration": 19,
    "start_time": "2023-01-13T18:21:31.468Z"
   },
   {
    "duration": 130,
    "start_time": "2023-01-13T18:21:31.489Z"
   },
   {
    "duration": 0,
    "start_time": "2023-01-13T18:21:31.625Z"
   },
   {
    "duration": 0,
    "start_time": "2023-01-13T18:21:31.627Z"
   },
   {
    "duration": 0,
    "start_time": "2023-01-13T18:21:31.628Z"
   },
   {
    "duration": 1,
    "start_time": "2023-01-13T18:21:31.629Z"
   },
   {
    "duration": 0,
    "start_time": "2023-01-13T18:21:31.631Z"
   },
   {
    "duration": 0,
    "start_time": "2023-01-13T18:21:31.632Z"
   },
   {
    "duration": 0,
    "start_time": "2023-01-13T18:21:31.633Z"
   },
   {
    "duration": 0,
    "start_time": "2023-01-13T18:21:31.634Z"
   },
   {
    "duration": 0,
    "start_time": "2023-01-13T18:21:31.635Z"
   },
   {
    "duration": 0,
    "start_time": "2023-01-13T18:21:31.636Z"
   },
   {
    "duration": 0,
    "start_time": "2023-01-13T18:21:31.637Z"
   },
   {
    "duration": 0,
    "start_time": "2023-01-13T18:21:31.638Z"
   },
   {
    "duration": 0,
    "start_time": "2023-01-13T18:21:31.640Z"
   },
   {
    "duration": 0,
    "start_time": "2023-01-13T18:21:31.641Z"
   },
   {
    "duration": 0,
    "start_time": "2023-01-13T18:21:31.642Z"
   },
   {
    "duration": 0,
    "start_time": "2023-01-13T18:21:31.643Z"
   },
   {
    "duration": 19,
    "start_time": "2023-01-13T18:26:19.346Z"
   },
   {
    "duration": 195,
    "start_time": "2023-01-13T18:26:27.392Z"
   },
   {
    "duration": 32,
    "start_time": "2023-01-13T18:26:30.244Z"
   },
   {
    "duration": 10,
    "start_time": "2023-01-13T18:26:30.952Z"
   },
   {
    "duration": 1562,
    "start_time": "2023-01-13T18:26:43.396Z"
   },
   {
    "duration": 838,
    "start_time": "2023-01-13T18:26:44.960Z"
   },
   {
    "duration": 28,
    "start_time": "2023-01-13T18:26:45.799Z"
   },
   {
    "duration": 14,
    "start_time": "2023-01-13T18:26:45.829Z"
   },
   {
    "duration": 29,
    "start_time": "2023-01-13T18:26:45.846Z"
   },
   {
    "duration": 50,
    "start_time": "2023-01-13T18:26:45.876Z"
   },
   {
    "duration": 17,
    "start_time": "2023-01-13T18:26:45.928Z"
   },
   {
    "duration": 7,
    "start_time": "2023-01-13T18:26:45.947Z"
   },
   {
    "duration": 4,
    "start_time": "2023-01-13T18:26:45.955Z"
   },
   {
    "duration": 4,
    "start_time": "2023-01-13T18:26:45.961Z"
   },
   {
    "duration": 4,
    "start_time": "2023-01-13T18:26:45.967Z"
   },
   {
    "duration": 46,
    "start_time": "2023-01-13T18:26:45.973Z"
   },
   {
    "duration": 6,
    "start_time": "2023-01-13T18:26:46.026Z"
   },
   {
    "duration": 1765,
    "start_time": "2023-01-13T18:26:46.034Z"
   },
   {
    "duration": 1884,
    "start_time": "2023-01-13T18:26:47.801Z"
   },
   {
    "duration": 1766,
    "start_time": "2023-01-13T18:26:49.687Z"
   },
   {
    "duration": 666,
    "start_time": "2023-01-13T18:26:51.454Z"
   },
   {
    "duration": 741,
    "start_time": "2023-01-13T18:26:52.121Z"
   },
   {
    "duration": 13,
    "start_time": "2023-01-13T18:26:52.864Z"
   },
   {
    "duration": 215,
    "start_time": "2023-01-13T18:26:52.880Z"
   },
   {
    "duration": 344,
    "start_time": "2023-01-13T18:26:53.097Z"
   },
   {
    "duration": 474,
    "start_time": "2023-01-13T18:26:53.443Z"
   },
   {
    "duration": 517,
    "start_time": "2023-01-13T18:26:53.919Z"
   },
   {
    "duration": 94,
    "start_time": "2023-01-13T18:26:54.438Z"
   },
   {
    "duration": 29,
    "start_time": "2023-01-13T18:26:54.534Z"
   },
   {
    "duration": 40,
    "start_time": "2023-01-13T18:26:54.614Z"
   },
   {
    "duration": 64,
    "start_time": "2023-01-13T18:26:54.657Z"
   },
   {
    "duration": 27,
    "start_time": "2023-01-13T18:26:54.725Z"
   },
   {
    "duration": 17,
    "start_time": "2023-01-13T18:26:54.753Z"
   },
   {
    "duration": 47,
    "start_time": "2023-01-13T18:26:54.771Z"
   },
   {
    "duration": 24,
    "start_time": "2023-01-13T18:26:54.822Z"
   },
   {
    "duration": 18,
    "start_time": "2023-01-13T18:26:54.848Z"
   },
   {
    "duration": 5,
    "start_time": "2023-01-13T18:26:54.868Z"
   },
   {
    "duration": 8,
    "start_time": "2023-01-13T18:26:54.914Z"
   },
   {
    "duration": 1274,
    "start_time": "2023-01-13T18:26:54.924Z"
   },
   {
    "duration": 85,
    "start_time": "2023-01-13T18:26:56.200Z"
   },
   {
    "duration": 2956,
    "start_time": "2023-01-13T18:26:56.287Z"
   },
   {
    "duration": 66,
    "start_time": "2023-01-13T18:26:59.245Z"
   },
   {
    "duration": 2,
    "start_time": "2023-01-13T18:26:59.316Z"
   },
   {
    "duration": 89,
    "start_time": "2023-01-13T18:26:59.320Z"
   },
   {
    "duration": 7,
    "start_time": "2023-01-13T18:26:59.411Z"
   },
   {
    "duration": 37,
    "start_time": "2023-01-13T18:26:59.420Z"
   },
   {
    "duration": 4,
    "start_time": "2023-01-13T18:30:26.883Z"
   },
   {
    "duration": 11,
    "start_time": "2023-01-13T18:30:33.133Z"
   },
   {
    "duration": 1582,
    "start_time": "2023-01-13T18:39:08.195Z"
   },
   {
    "duration": 821,
    "start_time": "2023-01-13T18:39:09.779Z"
   },
   {
    "duration": 22,
    "start_time": "2023-01-13T18:39:10.602Z"
   },
   {
    "duration": 20,
    "start_time": "2023-01-13T18:39:10.626Z"
   },
   {
    "duration": 29,
    "start_time": "2023-01-13T18:39:10.648Z"
   },
   {
    "duration": 36,
    "start_time": "2023-01-13T18:39:10.678Z"
   },
   {
    "duration": 25,
    "start_time": "2023-01-13T18:39:10.718Z"
   },
   {
    "duration": 10,
    "start_time": "2023-01-13T18:39:10.745Z"
   },
   {
    "duration": 8,
    "start_time": "2023-01-13T18:39:10.757Z"
   },
   {
    "duration": 6,
    "start_time": "2023-01-13T18:39:10.767Z"
   },
   {
    "duration": 6,
    "start_time": "2023-01-13T18:39:10.775Z"
   },
   {
    "duration": 44,
    "start_time": "2023-01-13T18:39:10.783Z"
   },
   {
    "duration": 8,
    "start_time": "2023-01-13T18:39:10.830Z"
   },
   {
    "duration": 20,
    "start_time": "2023-01-13T18:39:10.843Z"
   },
   {
    "duration": 52,
    "start_time": "2023-01-13T18:39:10.864Z"
   },
   {
    "duration": 28,
    "start_time": "2023-01-13T18:39:10.918Z"
   },
   {
    "duration": 140,
    "start_time": "2023-01-13T18:39:10.948Z"
   },
   {
    "duration": 0,
    "start_time": "2023-01-13T18:39:11.090Z"
   },
   {
    "duration": 0,
    "start_time": "2023-01-13T18:39:11.091Z"
   },
   {
    "duration": 0,
    "start_time": "2023-01-13T18:39:11.093Z"
   },
   {
    "duration": 0,
    "start_time": "2023-01-13T18:39:11.094Z"
   },
   {
    "duration": 0,
    "start_time": "2023-01-13T18:39:11.095Z"
   },
   {
    "duration": 0,
    "start_time": "2023-01-13T18:39:11.096Z"
   },
   {
    "duration": 0,
    "start_time": "2023-01-13T18:39:11.096Z"
   },
   {
    "duration": 0,
    "start_time": "2023-01-13T18:39:11.097Z"
   },
   {
    "duration": 0,
    "start_time": "2023-01-13T18:39:11.098Z"
   },
   {
    "duration": 0,
    "start_time": "2023-01-13T18:39:11.099Z"
   },
   {
    "duration": 0,
    "start_time": "2023-01-13T18:39:11.100Z"
   },
   {
    "duration": 0,
    "start_time": "2023-01-13T18:39:11.120Z"
   },
   {
    "duration": 0,
    "start_time": "2023-01-13T18:39:11.121Z"
   },
   {
    "duration": 0,
    "start_time": "2023-01-13T18:39:11.125Z"
   },
   {
    "duration": 0,
    "start_time": "2023-01-13T18:39:11.126Z"
   },
   {
    "duration": 0,
    "start_time": "2023-01-13T18:39:11.129Z"
   },
   {
    "duration": 0,
    "start_time": "2023-01-13T18:39:11.130Z"
   },
   {
    "duration": 0,
    "start_time": "2023-01-13T18:39:11.134Z"
   },
   {
    "duration": 0,
    "start_time": "2023-01-13T18:39:11.135Z"
   },
   {
    "duration": 0,
    "start_time": "2023-01-13T18:39:11.139Z"
   },
   {
    "duration": 0,
    "start_time": "2023-01-13T18:39:11.141Z"
   },
   {
    "duration": 0,
    "start_time": "2023-01-13T18:39:11.143Z"
   },
   {
    "duration": 0,
    "start_time": "2023-01-13T18:39:11.148Z"
   },
   {
    "duration": 0,
    "start_time": "2023-01-13T18:39:11.149Z"
   },
   {
    "duration": 0,
    "start_time": "2023-01-13T18:39:11.151Z"
   },
   {
    "duration": 0,
    "start_time": "2023-01-13T18:39:11.153Z"
   },
   {
    "duration": 0,
    "start_time": "2023-01-13T18:39:11.154Z"
   },
   {
    "duration": 0,
    "start_time": "2023-01-13T18:39:11.155Z"
   },
   {
    "duration": 0,
    "start_time": "2023-01-13T18:39:11.157Z"
   },
   {
    "duration": 0,
    "start_time": "2023-01-13T18:39:11.158Z"
   },
   {
    "duration": 0,
    "start_time": "2023-01-13T18:39:11.159Z"
   },
   {
    "duration": 0,
    "start_time": "2023-01-13T18:39:11.160Z"
   },
   {
    "duration": 0,
    "start_time": "2023-01-13T18:39:11.161Z"
   },
   {
    "duration": 0,
    "start_time": "2023-01-13T18:39:11.162Z"
   },
   {
    "duration": 0,
    "start_time": "2023-01-13T18:39:11.163Z"
   },
   {
    "duration": 0,
    "start_time": "2023-01-13T18:39:11.164Z"
   },
   {
    "duration": 0,
    "start_time": "2023-01-13T18:39:11.165Z"
   },
   {
    "duration": 0,
    "start_time": "2023-01-13T18:39:11.166Z"
   },
   {
    "duration": 0,
    "start_time": "2023-01-13T18:39:11.167Z"
   },
   {
    "duration": 0,
    "start_time": "2023-01-13T18:39:11.169Z"
   },
   {
    "duration": 1398,
    "start_time": "2023-01-13T18:39:49.907Z"
   },
   {
    "duration": 748,
    "start_time": "2023-01-13T18:39:51.307Z"
   },
   {
    "duration": 18,
    "start_time": "2023-01-13T18:39:52.057Z"
   },
   {
    "duration": 7,
    "start_time": "2023-01-13T18:39:52.077Z"
   },
   {
    "duration": 43,
    "start_time": "2023-01-13T18:39:52.086Z"
   },
   {
    "duration": 31,
    "start_time": "2023-01-13T18:39:52.132Z"
   },
   {
    "duration": 18,
    "start_time": "2023-01-13T18:39:52.166Z"
   },
   {
    "duration": 33,
    "start_time": "2023-01-13T18:39:52.186Z"
   },
   {
    "duration": 6,
    "start_time": "2023-01-13T18:39:52.223Z"
   },
   {
    "duration": 12,
    "start_time": "2023-01-13T18:39:52.230Z"
   },
   {
    "duration": 8,
    "start_time": "2023-01-13T18:39:52.244Z"
   },
   {
    "duration": 24,
    "start_time": "2023-01-13T18:39:52.253Z"
   },
   {
    "duration": 5,
    "start_time": "2023-01-13T18:39:52.278Z"
   },
   {
    "duration": 37,
    "start_time": "2023-01-13T18:39:52.286Z"
   },
   {
    "duration": 117,
    "start_time": "2023-01-13T18:39:52.329Z"
   },
   {
    "duration": 0,
    "start_time": "2023-01-13T18:39:52.448Z"
   },
   {
    "duration": 0,
    "start_time": "2023-01-13T18:39:52.449Z"
   },
   {
    "duration": 0,
    "start_time": "2023-01-13T18:39:52.450Z"
   },
   {
    "duration": 0,
    "start_time": "2023-01-13T18:39:52.451Z"
   },
   {
    "duration": 0,
    "start_time": "2023-01-13T18:39:52.452Z"
   },
   {
    "duration": 0,
    "start_time": "2023-01-13T18:39:52.453Z"
   },
   {
    "duration": 0,
    "start_time": "2023-01-13T18:39:52.454Z"
   },
   {
    "duration": 0,
    "start_time": "2023-01-13T18:39:52.455Z"
   },
   {
    "duration": 0,
    "start_time": "2023-01-13T18:39:52.456Z"
   },
   {
    "duration": 0,
    "start_time": "2023-01-13T18:39:52.457Z"
   },
   {
    "duration": 0,
    "start_time": "2023-01-13T18:39:52.458Z"
   },
   {
    "duration": 0,
    "start_time": "2023-01-13T18:39:52.459Z"
   },
   {
    "duration": 0,
    "start_time": "2023-01-13T18:39:52.460Z"
   },
   {
    "duration": 0,
    "start_time": "2023-01-13T18:39:52.462Z"
   },
   {
    "duration": 0,
    "start_time": "2023-01-13T18:39:52.463Z"
   },
   {
    "duration": 0,
    "start_time": "2023-01-13T18:39:52.464Z"
   },
   {
    "duration": 0,
    "start_time": "2023-01-13T18:39:52.466Z"
   },
   {
    "duration": 0,
    "start_time": "2023-01-13T18:39:52.467Z"
   },
   {
    "duration": 0,
    "start_time": "2023-01-13T18:39:52.468Z"
   },
   {
    "duration": 0,
    "start_time": "2023-01-13T18:39:52.470Z"
   },
   {
    "duration": 0,
    "start_time": "2023-01-13T18:39:52.471Z"
   },
   {
    "duration": 0,
    "start_time": "2023-01-13T18:39:52.473Z"
   },
   {
    "duration": 0,
    "start_time": "2023-01-13T18:39:52.514Z"
   },
   {
    "duration": 0,
    "start_time": "2023-01-13T18:39:52.516Z"
   },
   {
    "duration": 0,
    "start_time": "2023-01-13T18:39:52.517Z"
   },
   {
    "duration": 0,
    "start_time": "2023-01-13T18:39:52.519Z"
   },
   {
    "duration": 0,
    "start_time": "2023-01-13T18:39:52.520Z"
   },
   {
    "duration": 0,
    "start_time": "2023-01-13T18:39:52.521Z"
   },
   {
    "duration": 0,
    "start_time": "2023-01-13T18:39:52.522Z"
   },
   {
    "duration": 0,
    "start_time": "2023-01-13T18:39:52.524Z"
   },
   {
    "duration": 0,
    "start_time": "2023-01-13T18:39:52.525Z"
   },
   {
    "duration": 0,
    "start_time": "2023-01-13T18:39:52.530Z"
   },
   {
    "duration": 0,
    "start_time": "2023-01-13T18:39:52.532Z"
   },
   {
    "duration": 0,
    "start_time": "2023-01-13T18:39:52.533Z"
   },
   {
    "duration": 0,
    "start_time": "2023-01-13T18:39:52.534Z"
   },
   {
    "duration": 0,
    "start_time": "2023-01-13T18:39:52.535Z"
   },
   {
    "duration": 0,
    "start_time": "2023-01-13T18:39:52.536Z"
   },
   {
    "duration": 0,
    "start_time": "2023-01-13T18:39:52.537Z"
   },
   {
    "duration": 0,
    "start_time": "2023-01-13T18:39:52.539Z"
   },
   {
    "duration": 0,
    "start_time": "2023-01-13T18:39:52.539Z"
   },
   {
    "duration": 1611,
    "start_time": "2023-01-13T18:42:00.744Z"
   },
   {
    "duration": 816,
    "start_time": "2023-01-13T18:42:02.357Z"
   },
   {
    "duration": 19,
    "start_time": "2023-01-13T18:42:03.174Z"
   },
   {
    "duration": 17,
    "start_time": "2023-01-13T18:42:03.195Z"
   },
   {
    "duration": 66,
    "start_time": "2023-01-13T18:42:03.216Z"
   },
   {
    "duration": 40,
    "start_time": "2023-01-13T18:42:03.284Z"
   },
   {
    "duration": 29,
    "start_time": "2023-01-13T18:42:03.327Z"
   },
   {
    "duration": 23,
    "start_time": "2023-01-13T18:42:03.358Z"
   },
   {
    "duration": 19,
    "start_time": "2023-01-13T18:42:03.383Z"
   },
   {
    "duration": 47,
    "start_time": "2023-01-13T18:42:03.403Z"
   },
   {
    "duration": 7,
    "start_time": "2023-01-13T18:42:03.452Z"
   },
   {
    "duration": 20,
    "start_time": "2023-01-13T18:42:03.461Z"
   },
   {
    "duration": 5,
    "start_time": "2023-01-13T18:42:03.483Z"
   },
   {
    "duration": 42,
    "start_time": "2023-01-13T18:42:03.491Z"
   },
   {
    "duration": 18,
    "start_time": "2023-01-13T18:42:03.537Z"
   },
   {
    "duration": 6,
    "start_time": "2023-01-13T18:42:03.557Z"
   },
   {
    "duration": 17,
    "start_time": "2023-01-13T18:42:03.564Z"
   },
   {
    "duration": 4,
    "start_time": "2023-01-13T18:42:03.582Z"
   },
   {
    "duration": 1853,
    "start_time": "2023-01-13T18:42:03.587Z"
   },
   {
    "duration": 1943,
    "start_time": "2023-01-13T18:42:05.443Z"
   },
   {
    "duration": 1794,
    "start_time": "2023-01-13T18:42:07.388Z"
   },
   {
    "duration": 687,
    "start_time": "2023-01-13T18:42:09.184Z"
   },
   {
    "duration": 811,
    "start_time": "2023-01-13T18:42:09.872Z"
   },
   {
    "duration": 10,
    "start_time": "2023-01-13T18:42:10.685Z"
   },
   {
    "duration": 215,
    "start_time": "2023-01-13T18:42:10.697Z"
   },
   {
    "duration": 343,
    "start_time": "2023-01-13T18:42:10.915Z"
   },
   {
    "duration": 235,
    "start_time": "2023-01-13T18:42:11.260Z"
   },
   {
    "duration": 259,
    "start_time": "2023-01-13T18:42:11.497Z"
   },
   {
    "duration": 43,
    "start_time": "2023-01-13T18:42:11.758Z"
   },
   {
    "duration": 30,
    "start_time": "2023-01-13T18:42:11.803Z"
   },
   {
    "duration": 14,
    "start_time": "2023-01-13T18:42:11.847Z"
   },
   {
    "duration": 185,
    "start_time": "2023-01-13T18:42:11.863Z"
   },
   {
    "duration": 0,
    "start_time": "2023-01-13T18:42:12.051Z"
   },
   {
    "duration": 0,
    "start_time": "2023-01-13T18:42:12.054Z"
   },
   {
    "duration": 0,
    "start_time": "2023-01-13T18:42:12.055Z"
   },
   {
    "duration": 0,
    "start_time": "2023-01-13T18:42:12.056Z"
   },
   {
    "duration": 0,
    "start_time": "2023-01-13T18:42:12.057Z"
   },
   {
    "duration": 0,
    "start_time": "2023-01-13T18:42:12.059Z"
   },
   {
    "duration": 0,
    "start_time": "2023-01-13T18:42:12.061Z"
   },
   {
    "duration": 0,
    "start_time": "2023-01-13T18:42:12.062Z"
   },
   {
    "duration": 0,
    "start_time": "2023-01-13T18:42:12.064Z"
   },
   {
    "duration": 0,
    "start_time": "2023-01-13T18:42:12.066Z"
   },
   {
    "duration": 0,
    "start_time": "2023-01-13T18:42:12.068Z"
   },
   {
    "duration": 0,
    "start_time": "2023-01-13T18:42:12.071Z"
   },
   {
    "duration": 0,
    "start_time": "2023-01-13T18:42:12.073Z"
   },
   {
    "duration": 0,
    "start_time": "2023-01-13T18:42:12.075Z"
   },
   {
    "duration": 0,
    "start_time": "2023-01-13T18:42:12.076Z"
   },
   {
    "duration": 0,
    "start_time": "2023-01-13T18:42:12.078Z"
   },
   {
    "duration": 0,
    "start_time": "2023-01-13T18:42:12.079Z"
   },
   {
    "duration": 0,
    "start_time": "2023-01-13T18:42:12.080Z"
   },
   {
    "duration": 0,
    "start_time": "2023-01-13T18:42:12.113Z"
   },
   {
    "duration": 0,
    "start_time": "2023-01-13T18:42:12.115Z"
   },
   {
    "duration": 0,
    "start_time": "2023-01-13T18:42:12.116Z"
   },
   {
    "duration": 0,
    "start_time": "2023-01-13T18:42:12.118Z"
   },
   {
    "duration": 10,
    "start_time": "2023-01-13T18:44:40.010Z"
   },
   {
    "duration": 744,
    "start_time": "2023-01-13T18:44:40.049Z"
   },
   {
    "duration": 29,
    "start_time": "2023-01-13T18:44:40.795Z"
   },
   {
    "duration": 5,
    "start_time": "2023-01-13T18:44:40.827Z"
   },
   {
    "duration": 29,
    "start_time": "2023-01-13T18:44:40.834Z"
   },
   {
    "duration": 19,
    "start_time": "2023-01-13T18:44:40.865Z"
   },
   {
    "duration": 40,
    "start_time": "2023-01-13T18:44:40.886Z"
   },
   {
    "duration": 5,
    "start_time": "2023-01-13T18:44:40.928Z"
   },
   {
    "duration": 9,
    "start_time": "2023-01-13T18:44:40.935Z"
   },
   {
    "duration": 7,
    "start_time": "2023-01-13T18:44:40.946Z"
   },
   {
    "duration": 4,
    "start_time": "2023-01-13T18:44:40.955Z"
   },
   {
    "duration": 18,
    "start_time": "2023-01-13T18:44:40.961Z"
   },
   {
    "duration": 4,
    "start_time": "2023-01-13T18:44:40.980Z"
   },
   {
    "duration": 52,
    "start_time": "2023-01-13T18:44:40.986Z"
   },
   {
    "duration": 11,
    "start_time": "2023-01-13T18:44:41.041Z"
   },
   {
    "duration": 3,
    "start_time": "2023-01-13T18:44:41.054Z"
   },
   {
    "duration": 12,
    "start_time": "2023-01-13T18:44:41.058Z"
   },
   {
    "duration": 3,
    "start_time": "2023-01-13T18:44:41.071Z"
   },
   {
    "duration": 1597,
    "start_time": "2023-01-13T18:44:41.075Z"
   },
   {
    "duration": 1553,
    "start_time": "2023-01-13T18:44:42.674Z"
   },
   {
    "duration": 1741,
    "start_time": "2023-01-13T18:44:44.229Z"
   },
   {
    "duration": 661,
    "start_time": "2023-01-13T18:44:45.971Z"
   },
   {
    "duration": 658,
    "start_time": "2023-01-13T18:44:46.633Z"
   },
   {
    "duration": 9,
    "start_time": "2023-01-13T18:44:47.293Z"
   },
   {
    "duration": 191,
    "start_time": "2023-01-13T18:44:47.304Z"
   },
   {
    "duration": 220,
    "start_time": "2023-01-13T18:44:47.496Z"
   },
   {
    "duration": 204,
    "start_time": "2023-01-13T18:44:47.717Z"
   },
   {
    "duration": 202,
    "start_time": "2023-01-13T18:44:47.922Z"
   },
   {
    "duration": 38,
    "start_time": "2023-01-13T18:44:48.126Z"
   },
   {
    "duration": 18,
    "start_time": "2023-01-13T18:44:48.166Z"
   },
   {
    "duration": 32,
    "start_time": "2023-01-13T18:44:48.187Z"
   },
   {
    "duration": 40,
    "start_time": "2023-01-13T18:44:48.220Z"
   },
   {
    "duration": 0,
    "start_time": "2023-01-13T18:44:48.263Z"
   },
   {
    "duration": 0,
    "start_time": "2023-01-13T18:44:48.265Z"
   },
   {
    "duration": 0,
    "start_time": "2023-01-13T18:44:48.266Z"
   },
   {
    "duration": 0,
    "start_time": "2023-01-13T18:44:48.267Z"
   },
   {
    "duration": 0,
    "start_time": "2023-01-13T18:44:48.269Z"
   },
   {
    "duration": 0,
    "start_time": "2023-01-13T18:44:48.271Z"
   },
   {
    "duration": 0,
    "start_time": "2023-01-13T18:44:48.272Z"
   },
   {
    "duration": 0,
    "start_time": "2023-01-13T18:44:48.274Z"
   },
   {
    "duration": 0,
    "start_time": "2023-01-13T18:44:48.275Z"
   },
   {
    "duration": 0,
    "start_time": "2023-01-13T18:44:48.277Z"
   },
   {
    "duration": 0,
    "start_time": "2023-01-13T18:44:48.279Z"
   },
   {
    "duration": 0,
    "start_time": "2023-01-13T18:44:48.280Z"
   },
   {
    "duration": 0,
    "start_time": "2023-01-13T18:44:48.282Z"
   },
   {
    "duration": 0,
    "start_time": "2023-01-13T18:44:48.283Z"
   },
   {
    "duration": 0,
    "start_time": "2023-01-13T18:44:48.285Z"
   },
   {
    "duration": 0,
    "start_time": "2023-01-13T18:44:48.287Z"
   },
   {
    "duration": 0,
    "start_time": "2023-01-13T18:44:48.313Z"
   },
   {
    "duration": 0,
    "start_time": "2023-01-13T18:44:48.315Z"
   },
   {
    "duration": 0,
    "start_time": "2023-01-13T18:44:48.317Z"
   },
   {
    "duration": 0,
    "start_time": "2023-01-13T18:44:48.318Z"
   },
   {
    "duration": 1,
    "start_time": "2023-01-13T18:44:48.321Z"
   },
   {
    "duration": 0,
    "start_time": "2023-01-13T18:44:48.323Z"
   },
   {
    "duration": 4,
    "start_time": "2023-01-13T18:45:14.288Z"
   },
   {
    "duration": 6,
    "start_time": "2023-01-13T18:45:18.687Z"
   },
   {
    "duration": 4,
    "start_time": "2023-01-13T18:45:51.895Z"
   },
   {
    "duration": 3,
    "start_time": "2023-01-13T18:45:55.450Z"
   },
   {
    "duration": 3,
    "start_time": "2023-01-13T18:45:58.855Z"
   },
   {
    "duration": 10,
    "start_time": "2023-01-13T18:46:03.126Z"
   },
   {
    "duration": 159100,
    "start_time": "2023-01-13T18:54:28.579Z"
   },
   {
    "duration": 72,
    "start_time": "2023-01-13T19:04:11.880Z"
   },
   {
    "duration": 1279,
    "start_time": "2023-01-13T19:04:28.272Z"
   },
   {
    "duration": 1617,
    "start_time": "2023-01-13T19:04:34.698Z"
   },
   {
    "duration": 1492,
    "start_time": "2023-01-13T19:04:58.025Z"
   },
   {
    "duration": 3,
    "start_time": "2023-01-13T19:09:36.306Z"
   },
   {
    "duration": 3,
    "start_time": "2023-01-13T19:09:38.508Z"
   },
   {
    "duration": 3,
    "start_time": "2023-01-13T19:09:39.682Z"
   },
   {
    "duration": 8,
    "start_time": "2023-01-13T19:19:18.938Z"
   },
   {
    "duration": 6,
    "start_time": "2023-01-13T19:19:29.748Z"
   },
   {
    "duration": 7,
    "start_time": "2023-01-13T19:19:33.125Z"
   },
   {
    "duration": 2,
    "start_time": "2023-01-13T19:21:05.662Z"
   },
   {
    "duration": 3,
    "start_time": "2023-01-13T19:21:06.540Z"
   },
   {
    "duration": 3,
    "start_time": "2023-01-13T19:21:06.962Z"
   },
   {
    "duration": 820,
    "start_time": "2023-01-13T19:22:02.164Z"
   },
   {
    "duration": 19,
    "start_time": "2023-01-13T19:22:16.471Z"
   },
   {
    "duration": 13,
    "start_time": "2023-01-13T19:22:43.486Z"
   },
   {
    "duration": 14,
    "start_time": "2023-01-13T19:22:46.727Z"
   },
   {
    "duration": 14,
    "start_time": "2023-01-13T19:22:49.197Z"
   },
   {
    "duration": 3,
    "start_time": "2023-01-13T19:22:52.268Z"
   },
   {
    "duration": 21,
    "start_time": "2023-01-13T19:22:54.580Z"
   },
   {
    "duration": 14,
    "start_time": "2023-01-13T19:23:01.380Z"
   },
   {
    "duration": 15,
    "start_time": "2023-01-13T19:23:06.658Z"
   },
   {
    "duration": 3,
    "start_time": "2023-01-13T19:23:16.436Z"
   },
   {
    "duration": 8,
    "start_time": "2023-01-13T19:23:34.269Z"
   },
   {
    "duration": 3181,
    "start_time": "2023-01-13T19:23:47.799Z"
   },
   {
    "duration": 1602,
    "start_time": "2023-01-13T19:24:13.645Z"
   },
   {
    "duration": 836,
    "start_time": "2023-01-13T19:24:40.727Z"
   },
   {
    "duration": 1035,
    "start_time": "2023-01-13T19:24:47.597Z"
   },
   {
    "duration": 1401,
    "start_time": "2023-01-13T19:25:01.928Z"
   },
   {
    "duration": 745,
    "start_time": "2023-01-13T19:25:16.726Z"
   },
   {
    "duration": 2,
    "start_time": "2023-01-13T19:28:02.355Z"
   },
   {
    "duration": 2,
    "start_time": "2023-01-13T19:28:05.071Z"
   },
   {
    "duration": 3,
    "start_time": "2023-01-13T19:28:06.207Z"
   },
   {
    "duration": 1346,
    "start_time": "2023-01-13T19:32:14.771Z"
   },
   {
    "duration": 1550,
    "start_time": "2023-01-13T19:36:22.732Z"
   },
   {
    "duration": 881,
    "start_time": "2023-01-13T19:36:24.284Z"
   },
   {
    "duration": 20,
    "start_time": "2023-01-13T19:36:25.167Z"
   },
   {
    "duration": 8,
    "start_time": "2023-01-13T19:36:25.189Z"
   },
   {
    "duration": 31,
    "start_time": "2023-01-13T19:36:25.216Z"
   },
   {
    "duration": 24,
    "start_time": "2023-01-13T19:36:25.249Z"
   },
   {
    "duration": 48,
    "start_time": "2023-01-13T19:36:25.274Z"
   },
   {
    "duration": 11,
    "start_time": "2023-01-13T19:36:25.324Z"
   },
   {
    "duration": 5,
    "start_time": "2023-01-13T19:36:25.337Z"
   },
   {
    "duration": 5,
    "start_time": "2023-01-13T19:36:25.344Z"
   },
   {
    "duration": 9,
    "start_time": "2023-01-13T19:36:25.351Z"
   },
   {
    "duration": 22,
    "start_time": "2023-01-13T19:36:25.362Z"
   },
   {
    "duration": 7,
    "start_time": "2023-01-13T19:36:25.411Z"
   },
   {
    "duration": 39,
    "start_time": "2023-01-13T19:36:25.420Z"
   },
   {
    "duration": 16,
    "start_time": "2023-01-13T19:36:25.461Z"
   },
   {
    "duration": 3,
    "start_time": "2023-01-13T19:36:25.479Z"
   },
   {
    "duration": 33,
    "start_time": "2023-01-13T19:36:25.484Z"
   },
   {
    "duration": 3,
    "start_time": "2023-01-13T19:36:25.518Z"
   },
   {
    "duration": 1717,
    "start_time": "2023-01-13T19:36:25.523Z"
   },
   {
    "duration": 1651,
    "start_time": "2023-01-13T19:36:27.242Z"
   },
   {
    "duration": 1501,
    "start_time": "2023-01-13T19:36:28.894Z"
   },
   {
    "duration": 841,
    "start_time": "2023-01-13T19:36:30.397Z"
   },
   {
    "duration": 1180,
    "start_time": "2023-01-13T19:36:31.240Z"
   },
   {
    "duration": 10,
    "start_time": "2023-01-13T19:36:32.422Z"
   },
   {
    "duration": 397,
    "start_time": "2023-01-13T19:36:32.434Z"
   },
   {
    "duration": 264,
    "start_time": "2023-01-13T19:36:32.833Z"
   },
   {
    "duration": 211,
    "start_time": "2023-01-13T19:36:33.098Z"
   },
   {
    "duration": 190,
    "start_time": "2023-01-13T19:36:33.313Z"
   },
   {
    "duration": 49,
    "start_time": "2023-01-13T19:36:33.505Z"
   },
   {
    "duration": 21,
    "start_time": "2023-01-13T19:36:33.556Z"
   },
   {
    "duration": 2,
    "start_time": "2023-01-13T19:36:33.579Z"
   },
   {
    "duration": 21,
    "start_time": "2023-01-13T19:36:33.583Z"
   },
   {
    "duration": 41,
    "start_time": "2023-01-13T19:36:33.606Z"
   },
   {
    "duration": 16,
    "start_time": "2023-01-13T19:36:33.649Z"
   },
   {
    "duration": 1777,
    "start_time": "2023-01-13T19:36:33.666Z"
   },
   {
    "duration": 112,
    "start_time": "2023-01-13T19:36:35.445Z"
   },
   {
    "duration": 11918,
    "start_time": "2023-01-13T19:36:35.559Z"
   },
   {
    "duration": 104,
    "start_time": "2023-01-13T19:36:47.479Z"
   },
   {
    "duration": 108,
    "start_time": "2023-01-13T19:36:47.585Z"
   },
   {
    "duration": 3,
    "start_time": "2023-01-13T19:36:47.695Z"
   },
   {
    "duration": 98,
    "start_time": "2023-01-13T19:36:47.700Z"
   },
   {
    "duration": 3,
    "start_time": "2023-01-13T19:36:47.800Z"
   },
   {
    "duration": 22,
    "start_time": "2023-01-13T19:36:47.804Z"
   },
   {
    "duration": 11,
    "start_time": "2023-01-13T19:36:47.828Z"
   },
   {
    "duration": 3,
    "start_time": "2023-01-13T19:36:47.840Z"
   },
   {
    "duration": 8,
    "start_time": "2023-01-13T19:36:47.845Z"
   },
   {
    "duration": 3,
    "start_time": "2023-01-13T19:36:47.855Z"
   },
   {
    "duration": 5,
    "start_time": "2023-01-13T19:36:47.859Z"
   },
   {
    "duration": 10,
    "start_time": "2023-01-13T19:38:10.144Z"
   },
   {
    "duration": 79527,
    "start_time": "2023-01-13T19:38:14.799Z"
   },
   {
    "duration": 547,
    "start_time": "2023-01-13T19:39:34.329Z"
   },
   {
    "duration": 1,
    "start_time": "2023-01-13T19:39:34.878Z"
   },
   {
    "duration": 0,
    "start_time": "2023-01-13T19:39:34.880Z"
   },
   {
    "duration": 0,
    "start_time": "2023-01-13T19:39:34.882Z"
   },
   {
    "duration": 0,
    "start_time": "2023-01-13T19:39:34.883Z"
   },
   {
    "duration": 19982,
    "start_time": "2023-01-13T19:47:41.905Z"
   },
   {
    "duration": 1579,
    "start_time": "2023-01-13T19:48:43.634Z"
   },
   {
    "duration": 296534,
    "start_time": "2023-01-14T19:07:59.863Z"
   },
   {
    "duration": 1582,
    "start_time": "2023-01-14T19:12:56.399Z"
   },
   {
    "duration": 910396,
    "start_time": "2023-01-14T19:12:57.983Z"
   },
   {
    "duration": 1701,
    "start_time": "2023-01-14T19:28:08.381Z"
   },
   {
    "duration": 5915,
    "start_time": "2023-01-14T19:28:10.085Z"
   },
   {
    "duration": 3,
    "start_time": "2023-01-14T19:28:16.002Z"
   },
   {
    "duration": 1414,
    "start_time": "2023-01-14T19:28:16.006Z"
   },
   {
    "duration": 58,
    "start_time": "2023-01-14T19:28:17.422Z"
   },
   {
    "duration": 6,
    "start_time": "2023-01-14T19:28:17.482Z"
   },
   {
    "duration": 9,
    "start_time": "2023-01-14T19:28:17.489Z"
   },
   {
    "duration": 3,
    "start_time": "2023-01-14T19:28:17.499Z"
   },
   {
    "duration": 77,
    "start_time": "2023-01-14T19:28:17.503Z"
   },
   {
    "duration": 4,
    "start_time": "2023-01-14T19:28:17.582Z"
   },
   {
    "duration": 6,
    "start_time": "2023-01-14T19:28:17.588Z"
   },
   {
    "duration": 58,
    "start_time": "2023-01-14T19:32:09.855Z"
   },
   {
    "duration": 17,
    "start_time": "2023-01-14T19:32:20.279Z"
   },
   {
    "duration": 15,
    "start_time": "2023-01-14T19:32:36.703Z"
   },
   {
    "duration": 13,
    "start_time": "2023-01-14T19:32:50.383Z"
   },
   {
    "duration": 1634,
    "start_time": "2023-01-15T18:08:10.598Z"
   },
   {
    "duration": 2176,
    "start_time": "2023-01-15T18:08:13.527Z"
   },
   {
    "duration": 37,
    "start_time": "2023-01-15T18:08:20.800Z"
   },
   {
    "duration": 164,
    "start_time": "2023-01-15T18:08:25.544Z"
   },
   {
    "duration": 48,
    "start_time": "2023-01-15T18:08:38.976Z"
   },
   {
    "duration": 1085,
    "start_time": "2023-01-15T18:09:27.128Z"
   },
   {
    "duration": 48,
    "start_time": "2023-01-15T18:09:54.520Z"
   },
   {
    "duration": 1407,
    "start_time": "2023-01-15T18:09:56.685Z"
   },
   {
    "duration": 624,
    "start_time": "2023-01-15T18:09:58.929Z"
   },
   {
    "duration": 28,
    "start_time": "2023-01-15T18:10:04.232Z"
   },
   {
    "duration": 9,
    "start_time": "2023-01-15T18:10:06.616Z"
   },
   {
    "duration": 126,
    "start_time": "2023-01-15T18:10:11.840Z"
   },
   {
    "duration": 36,
    "start_time": "2023-01-15T18:10:22.664Z"
   },
   {
    "duration": 1162,
    "start_time": "2023-01-15T18:11:06.584Z"
   },
   {
    "duration": 1106,
    "start_time": "2023-01-15T18:11:55.281Z"
   },
   {
    "duration": 1135,
    "start_time": "2023-01-15T18:12:05.121Z"
   },
   {
    "duration": 1429,
    "start_time": "2023-01-15T18:12:43.792Z"
   },
   {
    "duration": 618,
    "start_time": "2023-01-15T18:12:45.223Z"
   },
   {
    "duration": 19,
    "start_time": "2023-01-15T18:12:45.843Z"
   },
   {
    "duration": 6,
    "start_time": "2023-01-15T18:12:45.864Z"
   },
   {
    "duration": 40,
    "start_time": "2023-01-15T18:12:45.873Z"
   },
   {
    "duration": 23,
    "start_time": "2023-01-15T18:12:45.915Z"
   },
   {
    "duration": 13,
    "start_time": "2023-01-15T18:12:45.940Z"
   },
   {
    "duration": 83,
    "start_time": "2023-01-15T18:12:45.955Z"
   },
   {
    "duration": 7,
    "start_time": "2023-01-15T18:12:46.040Z"
   },
   {
    "duration": 11,
    "start_time": "2023-01-15T18:12:46.049Z"
   },
   {
    "duration": 8,
    "start_time": "2023-01-15T18:12:46.061Z"
   },
   {
    "duration": 6,
    "start_time": "2023-01-15T18:12:46.071Z"
   },
   {
    "duration": 34,
    "start_time": "2023-01-15T18:12:46.079Z"
   },
   {
    "duration": 5,
    "start_time": "2023-01-15T18:12:46.116Z"
   },
   {
    "duration": 116,
    "start_time": "2023-01-15T18:12:46.122Z"
   },
   {
    "duration": 0,
    "start_time": "2023-01-15T18:12:46.240Z"
   },
   {
    "duration": 0,
    "start_time": "2023-01-15T18:12:46.241Z"
   },
   {
    "duration": 0,
    "start_time": "2023-01-15T18:12:46.242Z"
   },
   {
    "duration": 0,
    "start_time": "2023-01-15T18:12:46.243Z"
   },
   {
    "duration": 0,
    "start_time": "2023-01-15T18:12:46.244Z"
   },
   {
    "duration": 0,
    "start_time": "2023-01-15T18:12:46.245Z"
   },
   {
    "duration": 0,
    "start_time": "2023-01-15T18:12:46.245Z"
   },
   {
    "duration": 0,
    "start_time": "2023-01-15T18:12:46.246Z"
   },
   {
    "duration": 0,
    "start_time": "2023-01-15T18:12:46.247Z"
   },
   {
    "duration": 0,
    "start_time": "2023-01-15T18:12:46.248Z"
   },
   {
    "duration": 0,
    "start_time": "2023-01-15T18:12:46.249Z"
   },
   {
    "duration": 0,
    "start_time": "2023-01-15T18:12:46.250Z"
   },
   {
    "duration": 0,
    "start_time": "2023-01-15T18:12:46.251Z"
   },
   {
    "duration": 0,
    "start_time": "2023-01-15T18:12:46.251Z"
   },
   {
    "duration": 0,
    "start_time": "2023-01-15T18:12:46.252Z"
   },
   {
    "duration": 0,
    "start_time": "2023-01-15T18:12:46.253Z"
   },
   {
    "duration": 0,
    "start_time": "2023-01-15T18:12:46.254Z"
   },
   {
    "duration": 0,
    "start_time": "2023-01-15T18:12:46.255Z"
   },
   {
    "duration": 0,
    "start_time": "2023-01-15T18:12:46.256Z"
   },
   {
    "duration": 0,
    "start_time": "2023-01-15T18:12:46.257Z"
   },
   {
    "duration": 0,
    "start_time": "2023-01-15T18:12:46.258Z"
   },
   {
    "duration": 0,
    "start_time": "2023-01-15T18:12:46.259Z"
   },
   {
    "duration": 0,
    "start_time": "2023-01-15T18:12:46.260Z"
   },
   {
    "duration": 0,
    "start_time": "2023-01-15T18:12:46.261Z"
   },
   {
    "duration": 0,
    "start_time": "2023-01-15T18:12:46.262Z"
   },
   {
    "duration": 0,
    "start_time": "2023-01-15T18:12:46.263Z"
   },
   {
    "duration": 0,
    "start_time": "2023-01-15T18:12:46.264Z"
   },
   {
    "duration": 0,
    "start_time": "2023-01-15T18:12:46.264Z"
   },
   {
    "duration": 0,
    "start_time": "2023-01-15T18:12:46.265Z"
   },
   {
    "duration": 0,
    "start_time": "2023-01-15T18:12:46.266Z"
   },
   {
    "duration": 0,
    "start_time": "2023-01-15T18:12:46.267Z"
   },
   {
    "duration": 0,
    "start_time": "2023-01-15T18:12:46.268Z"
   },
   {
    "duration": 0,
    "start_time": "2023-01-15T18:12:46.313Z"
   },
   {
    "duration": 0,
    "start_time": "2023-01-15T18:12:46.314Z"
   },
   {
    "duration": 1153,
    "start_time": "2023-01-15T18:14:36.700Z"
   },
   {
    "duration": 6,
    "start_time": "2023-01-15T18:14:44.838Z"
   },
   {
    "duration": 1179,
    "start_time": "2023-01-15T18:14:53.582Z"
   },
   {
    "duration": 1509,
    "start_time": "2023-01-16T09:37:36.187Z"
   },
   {
    "duration": 3066,
    "start_time": "2023-01-16T09:37:37.698Z"
   },
   {
    "duration": 16,
    "start_time": "2023-01-16T09:37:40.766Z"
   },
   {
    "duration": 6,
    "start_time": "2023-01-16T09:37:40.784Z"
   },
   {
    "duration": 32,
    "start_time": "2023-01-16T09:37:40.792Z"
   },
   {
    "duration": 23,
    "start_time": "2023-01-16T09:37:40.826Z"
   },
   {
    "duration": 33,
    "start_time": "2023-01-16T09:37:40.850Z"
   },
   {
    "duration": 57,
    "start_time": "2023-01-16T09:37:40.885Z"
   },
   {
    "duration": 5,
    "start_time": "2023-01-16T09:37:40.944Z"
   },
   {
    "duration": 26,
    "start_time": "2023-01-16T09:37:40.951Z"
   },
   {
    "duration": 9,
    "start_time": "2023-01-16T09:37:40.979Z"
   },
   {
    "duration": 5,
    "start_time": "2023-01-16T09:37:40.990Z"
   },
   {
    "duration": 15,
    "start_time": "2023-01-16T09:37:40.996Z"
   },
   {
    "duration": 4,
    "start_time": "2023-01-16T09:37:41.013Z"
   },
   {
    "duration": 122,
    "start_time": "2023-01-16T09:37:41.019Z"
   },
   {
    "duration": 0,
    "start_time": "2023-01-16T09:37:41.144Z"
   },
   {
    "duration": 0,
    "start_time": "2023-01-16T09:37:41.145Z"
   },
   {
    "duration": 0,
    "start_time": "2023-01-16T09:37:41.146Z"
   },
   {
    "duration": 0,
    "start_time": "2023-01-16T09:37:41.147Z"
   },
   {
    "duration": 0,
    "start_time": "2023-01-16T09:37:41.148Z"
   },
   {
    "duration": 0,
    "start_time": "2023-01-16T09:37:41.149Z"
   },
   {
    "duration": 0,
    "start_time": "2023-01-16T09:37:41.151Z"
   },
   {
    "duration": 0,
    "start_time": "2023-01-16T09:37:41.152Z"
   },
   {
    "duration": 0,
    "start_time": "2023-01-16T09:37:41.153Z"
   },
   {
    "duration": 0,
    "start_time": "2023-01-16T09:37:41.176Z"
   },
   {
    "duration": 0,
    "start_time": "2023-01-16T09:37:41.177Z"
   },
   {
    "duration": 0,
    "start_time": "2023-01-16T09:37:41.178Z"
   },
   {
    "duration": 0,
    "start_time": "2023-01-16T09:37:41.180Z"
   },
   {
    "duration": 0,
    "start_time": "2023-01-16T09:37:41.181Z"
   },
   {
    "duration": 0,
    "start_time": "2023-01-16T09:37:41.182Z"
   },
   {
    "duration": 1,
    "start_time": "2023-01-16T09:37:41.182Z"
   },
   {
    "duration": 0,
    "start_time": "2023-01-16T09:37:41.184Z"
   },
   {
    "duration": 0,
    "start_time": "2023-01-16T09:37:41.185Z"
   },
   {
    "duration": 0,
    "start_time": "2023-01-16T09:37:41.186Z"
   },
   {
    "duration": 0,
    "start_time": "2023-01-16T09:37:41.188Z"
   },
   {
    "duration": 0,
    "start_time": "2023-01-16T09:37:41.188Z"
   },
   {
    "duration": 0,
    "start_time": "2023-01-16T09:37:41.190Z"
   },
   {
    "duration": 0,
    "start_time": "2023-01-16T09:37:41.191Z"
   },
   {
    "duration": 0,
    "start_time": "2023-01-16T09:37:41.192Z"
   },
   {
    "duration": 0,
    "start_time": "2023-01-16T09:37:41.193Z"
   },
   {
    "duration": 0,
    "start_time": "2023-01-16T09:37:41.194Z"
   },
   {
    "duration": 0,
    "start_time": "2023-01-16T09:37:41.194Z"
   },
   {
    "duration": 0,
    "start_time": "2023-01-16T09:37:41.195Z"
   },
   {
    "duration": 0,
    "start_time": "2023-01-16T09:37:41.196Z"
   },
   {
    "duration": 0,
    "start_time": "2023-01-16T09:37:41.198Z"
   },
   {
    "duration": 0,
    "start_time": "2023-01-16T09:37:41.199Z"
   },
   {
    "duration": 0,
    "start_time": "2023-01-16T09:37:41.199Z"
   },
   {
    "duration": 0,
    "start_time": "2023-01-16T09:37:41.201Z"
   },
   {
    "duration": 0,
    "start_time": "2023-01-16T09:37:41.202Z"
   },
   {
    "duration": 15,
    "start_time": "2023-01-16T09:39:28.880Z"
   },
   {
    "duration": 1360,
    "start_time": "2023-01-16T09:39:57.943Z"
   },
   {
    "duration": 671,
    "start_time": "2023-01-16T09:39:59.305Z"
   },
   {
    "duration": 17,
    "start_time": "2023-01-16T09:39:59.978Z"
   },
   {
    "duration": 7,
    "start_time": "2023-01-16T09:39:59.997Z"
   },
   {
    "duration": 43,
    "start_time": "2023-01-16T09:40:00.005Z"
   },
   {
    "duration": 37,
    "start_time": "2023-01-16T09:40:00.050Z"
   },
   {
    "duration": 14,
    "start_time": "2023-01-16T09:40:00.088Z"
   },
   {
    "duration": 73,
    "start_time": "2023-01-16T09:40:00.103Z"
   },
   {
    "duration": 5,
    "start_time": "2023-01-16T09:40:00.178Z"
   },
   {
    "duration": 15,
    "start_time": "2023-01-16T09:40:00.185Z"
   },
   {
    "duration": 14,
    "start_time": "2023-01-16T09:40:00.202Z"
   },
   {
    "duration": 20,
    "start_time": "2023-01-16T09:40:00.217Z"
   },
   {
    "duration": 31,
    "start_time": "2023-01-16T09:40:00.239Z"
   },
   {
    "duration": 25,
    "start_time": "2023-01-16T09:40:00.271Z"
   },
   {
    "duration": 135,
    "start_time": "2023-01-16T09:40:00.298Z"
   },
   {
    "duration": 0,
    "start_time": "2023-01-16T09:40:00.435Z"
   },
   {
    "duration": 0,
    "start_time": "2023-01-16T09:40:00.436Z"
   },
   {
    "duration": 0,
    "start_time": "2023-01-16T09:40:00.437Z"
   },
   {
    "duration": 0,
    "start_time": "2023-01-16T09:40:00.438Z"
   },
   {
    "duration": 0,
    "start_time": "2023-01-16T09:40:00.439Z"
   },
   {
    "duration": 0,
    "start_time": "2023-01-16T09:40:00.440Z"
   },
   {
    "duration": 0,
    "start_time": "2023-01-16T09:40:00.441Z"
   },
   {
    "duration": 0,
    "start_time": "2023-01-16T09:40:00.442Z"
   },
   {
    "duration": 0,
    "start_time": "2023-01-16T09:40:00.442Z"
   },
   {
    "duration": 0,
    "start_time": "2023-01-16T09:40:00.443Z"
   },
   {
    "duration": 0,
    "start_time": "2023-01-16T09:40:00.444Z"
   },
   {
    "duration": 0,
    "start_time": "2023-01-16T09:40:00.445Z"
   },
   {
    "duration": 0,
    "start_time": "2023-01-16T09:40:00.446Z"
   },
   {
    "duration": 0,
    "start_time": "2023-01-16T09:40:00.447Z"
   },
   {
    "duration": 0,
    "start_time": "2023-01-16T09:40:00.448Z"
   },
   {
    "duration": 0,
    "start_time": "2023-01-16T09:40:00.449Z"
   },
   {
    "duration": 0,
    "start_time": "2023-01-16T09:40:00.450Z"
   },
   {
    "duration": 0,
    "start_time": "2023-01-16T09:40:00.476Z"
   },
   {
    "duration": 0,
    "start_time": "2023-01-16T09:40:00.477Z"
   },
   {
    "duration": 0,
    "start_time": "2023-01-16T09:40:00.478Z"
   },
   {
    "duration": 0,
    "start_time": "2023-01-16T09:40:00.479Z"
   },
   {
    "duration": 0,
    "start_time": "2023-01-16T09:40:00.480Z"
   },
   {
    "duration": 0,
    "start_time": "2023-01-16T09:40:00.481Z"
   },
   {
    "duration": 0,
    "start_time": "2023-01-16T09:40:00.482Z"
   },
   {
    "duration": 0,
    "start_time": "2023-01-16T09:40:00.483Z"
   },
   {
    "duration": 0,
    "start_time": "2023-01-16T09:40:00.484Z"
   },
   {
    "duration": 0,
    "start_time": "2023-01-16T09:40:00.486Z"
   },
   {
    "duration": 0,
    "start_time": "2023-01-16T09:40:00.486Z"
   },
   {
    "duration": 0,
    "start_time": "2023-01-16T09:40:00.487Z"
   },
   {
    "duration": 0,
    "start_time": "2023-01-16T09:40:00.488Z"
   },
   {
    "duration": 0,
    "start_time": "2023-01-16T09:40:00.489Z"
   },
   {
    "duration": 0,
    "start_time": "2023-01-16T09:40:00.490Z"
   },
   {
    "duration": 0,
    "start_time": "2023-01-16T09:40:00.491Z"
   },
   {
    "duration": 0,
    "start_time": "2023-01-16T09:40:00.492Z"
   },
   {
    "duration": 39,
    "start_time": "2023-01-16T09:43:09.979Z"
   },
   {
    "duration": 1392,
    "start_time": "2023-01-16T09:44:05.857Z"
   },
   {
    "duration": 674,
    "start_time": "2023-01-16T09:44:07.251Z"
   },
   {
    "duration": 17,
    "start_time": "2023-01-16T09:44:07.927Z"
   },
   {
    "duration": 7,
    "start_time": "2023-01-16T09:44:07.945Z"
   },
   {
    "duration": 42,
    "start_time": "2023-01-16T09:44:07.953Z"
   },
   {
    "duration": 24,
    "start_time": "2023-01-16T09:44:07.997Z"
   },
   {
    "duration": 14,
    "start_time": "2023-01-16T09:44:08.022Z"
   },
   {
    "duration": 81,
    "start_time": "2023-01-16T09:44:08.037Z"
   },
   {
    "duration": 5,
    "start_time": "2023-01-16T09:44:08.120Z"
   },
   {
    "duration": 8,
    "start_time": "2023-01-16T09:44:08.128Z"
   },
   {
    "duration": 7,
    "start_time": "2023-01-16T09:44:08.137Z"
   },
   {
    "duration": 5,
    "start_time": "2023-01-16T09:44:08.145Z"
   },
   {
    "duration": 29,
    "start_time": "2023-01-16T09:44:08.151Z"
   },
   {
    "duration": 4,
    "start_time": "2023-01-16T09:44:08.182Z"
   },
   {
    "duration": 120,
    "start_time": "2023-01-16T09:44:08.188Z"
   },
   {
    "duration": 0,
    "start_time": "2023-01-16T09:44:08.310Z"
   },
   {
    "duration": 0,
    "start_time": "2023-01-16T09:44:08.312Z"
   },
   {
    "duration": 0,
    "start_time": "2023-01-16T09:44:08.313Z"
   },
   {
    "duration": 0,
    "start_time": "2023-01-16T09:44:08.314Z"
   },
   {
    "duration": 0,
    "start_time": "2023-01-16T09:44:08.315Z"
   },
   {
    "duration": 0,
    "start_time": "2023-01-16T09:44:08.316Z"
   },
   {
    "duration": 0,
    "start_time": "2023-01-16T09:44:08.317Z"
   },
   {
    "duration": 1,
    "start_time": "2023-01-16T09:44:08.317Z"
   },
   {
    "duration": 0,
    "start_time": "2023-01-16T09:44:08.318Z"
   },
   {
    "duration": 0,
    "start_time": "2023-01-16T09:44:08.319Z"
   },
   {
    "duration": 0,
    "start_time": "2023-01-16T09:44:08.320Z"
   },
   {
    "duration": 0,
    "start_time": "2023-01-16T09:44:08.321Z"
   },
   {
    "duration": 0,
    "start_time": "2023-01-16T09:44:08.321Z"
   },
   {
    "duration": 0,
    "start_time": "2023-01-16T09:44:08.322Z"
   },
   {
    "duration": 0,
    "start_time": "2023-01-16T09:44:08.323Z"
   },
   {
    "duration": 0,
    "start_time": "2023-01-16T09:44:08.324Z"
   },
   {
    "duration": 0,
    "start_time": "2023-01-16T09:44:08.325Z"
   },
   {
    "duration": 0,
    "start_time": "2023-01-16T09:44:08.325Z"
   },
   {
    "duration": 0,
    "start_time": "2023-01-16T09:44:08.326Z"
   },
   {
    "duration": 0,
    "start_time": "2023-01-16T09:44:08.327Z"
   },
   {
    "duration": 0,
    "start_time": "2023-01-16T09:44:08.328Z"
   },
   {
    "duration": 1,
    "start_time": "2023-01-16T09:44:08.328Z"
   },
   {
    "duration": 0,
    "start_time": "2023-01-16T09:44:08.329Z"
   },
   {
    "duration": 0,
    "start_time": "2023-01-16T09:44:08.330Z"
   },
   {
    "duration": 0,
    "start_time": "2023-01-16T09:44:08.331Z"
   },
   {
    "duration": 0,
    "start_time": "2023-01-16T09:44:08.332Z"
   },
   {
    "duration": 0,
    "start_time": "2023-01-16T09:44:08.332Z"
   },
   {
    "duration": 0,
    "start_time": "2023-01-16T09:44:08.333Z"
   },
   {
    "duration": 0,
    "start_time": "2023-01-16T09:44:08.376Z"
   },
   {
    "duration": 0,
    "start_time": "2023-01-16T09:44:08.377Z"
   },
   {
    "duration": 0,
    "start_time": "2023-01-16T09:44:08.378Z"
   },
   {
    "duration": 0,
    "start_time": "2023-01-16T09:44:08.379Z"
   },
   {
    "duration": 0,
    "start_time": "2023-01-16T09:44:08.380Z"
   },
   {
    "duration": 0,
    "start_time": "2023-01-16T09:44:08.381Z"
   },
   {
    "duration": 817,
    "start_time": "2023-01-16T09:45:38.595Z"
   },
   {
    "duration": 755,
    "start_time": "2023-01-16T09:45:47.209Z"
   },
   {
    "duration": 810,
    "start_time": "2023-01-16T09:45:56.272Z"
   },
   {
    "duration": 1322,
    "start_time": "2023-01-16T09:46:25.684Z"
   },
   {
    "duration": 680,
    "start_time": "2023-01-16T09:46:27.008Z"
   },
   {
    "duration": 18,
    "start_time": "2023-01-16T09:46:27.689Z"
   },
   {
    "duration": 6,
    "start_time": "2023-01-16T09:46:27.709Z"
   },
   {
    "duration": 26,
    "start_time": "2023-01-16T09:46:27.716Z"
   },
   {
    "duration": 53,
    "start_time": "2023-01-16T09:46:27.744Z"
   },
   {
    "duration": 13,
    "start_time": "2023-01-16T09:46:27.798Z"
   },
   {
    "duration": 74,
    "start_time": "2023-01-16T09:46:27.813Z"
   },
   {
    "duration": 5,
    "start_time": "2023-01-16T09:46:27.889Z"
   },
   {
    "duration": 15,
    "start_time": "2023-01-16T09:46:27.896Z"
   },
   {
    "duration": 6,
    "start_time": "2023-01-16T09:46:27.912Z"
   },
   {
    "duration": 10,
    "start_time": "2023-01-16T09:46:27.920Z"
   },
   {
    "duration": 15,
    "start_time": "2023-01-16T09:46:27.932Z"
   },
   {
    "duration": 4,
    "start_time": "2023-01-16T09:46:27.949Z"
   },
   {
    "duration": 125,
    "start_time": "2023-01-16T09:46:27.954Z"
   },
   {
    "duration": 0,
    "start_time": "2023-01-16T09:46:28.082Z"
   },
   {
    "duration": 0,
    "start_time": "2023-01-16T09:46:28.083Z"
   },
   {
    "duration": 0,
    "start_time": "2023-01-16T09:46:28.084Z"
   },
   {
    "duration": 0,
    "start_time": "2023-01-16T09:46:28.084Z"
   },
   {
    "duration": 0,
    "start_time": "2023-01-16T09:46:28.085Z"
   },
   {
    "duration": 0,
    "start_time": "2023-01-16T09:46:28.086Z"
   },
   {
    "duration": 0,
    "start_time": "2023-01-16T09:46:28.087Z"
   },
   {
    "duration": 0,
    "start_time": "2023-01-16T09:46:28.088Z"
   },
   {
    "duration": 0,
    "start_time": "2023-01-16T09:46:28.089Z"
   },
   {
    "duration": 0,
    "start_time": "2023-01-16T09:46:28.089Z"
   },
   {
    "duration": 0,
    "start_time": "2023-01-16T09:46:28.090Z"
   },
   {
    "duration": 0,
    "start_time": "2023-01-16T09:46:28.091Z"
   },
   {
    "duration": 0,
    "start_time": "2023-01-16T09:46:28.092Z"
   },
   {
    "duration": 0,
    "start_time": "2023-01-16T09:46:28.093Z"
   },
   {
    "duration": 0,
    "start_time": "2023-01-16T09:46:28.094Z"
   },
   {
    "duration": 0,
    "start_time": "2023-01-16T09:46:28.095Z"
   },
   {
    "duration": 0,
    "start_time": "2023-01-16T09:46:28.097Z"
   },
   {
    "duration": 0,
    "start_time": "2023-01-16T09:46:28.098Z"
   },
   {
    "duration": 0,
    "start_time": "2023-01-16T09:46:28.099Z"
   },
   {
    "duration": 0,
    "start_time": "2023-01-16T09:46:28.100Z"
   },
   {
    "duration": 0,
    "start_time": "2023-01-16T09:46:28.101Z"
   },
   {
    "duration": 0,
    "start_time": "2023-01-16T09:46:28.102Z"
   },
   {
    "duration": 0,
    "start_time": "2023-01-16T09:46:28.102Z"
   },
   {
    "duration": 0,
    "start_time": "2023-01-16T09:46:28.103Z"
   },
   {
    "duration": 0,
    "start_time": "2023-01-16T09:46:28.104Z"
   },
   {
    "duration": 0,
    "start_time": "2023-01-16T09:46:28.105Z"
   },
   {
    "duration": 0,
    "start_time": "2023-01-16T09:46:28.107Z"
   },
   {
    "duration": 0,
    "start_time": "2023-01-16T09:46:28.107Z"
   },
   {
    "duration": 0,
    "start_time": "2023-01-16T09:46:28.108Z"
   },
   {
    "duration": 0,
    "start_time": "2023-01-16T09:46:28.109Z"
   },
   {
    "duration": 0,
    "start_time": "2023-01-16T09:46:28.110Z"
   },
   {
    "duration": 0,
    "start_time": "2023-01-16T09:46:28.111Z"
   },
   {
    "duration": 0,
    "start_time": "2023-01-16T09:46:28.112Z"
   },
   {
    "duration": 0,
    "start_time": "2023-01-16T09:46:28.113Z"
   },
   {
    "duration": 7,
    "start_time": "2023-01-16T09:46:39.607Z"
   },
   {
    "duration": 6,
    "start_time": "2023-01-16T09:47:07.584Z"
   },
   {
    "duration": 1138,
    "start_time": "2023-01-16T09:47:23.595Z"
   },
   {
    "duration": 43,
    "start_time": "2023-01-16T09:47:35.973Z"
   },
   {
    "duration": 1379,
    "start_time": "2023-01-16T09:47:51.068Z"
   },
   {
    "duration": 669,
    "start_time": "2023-01-16T09:47:52.449Z"
   },
   {
    "duration": 18,
    "start_time": "2023-01-16T09:47:53.120Z"
   },
   {
    "duration": 6,
    "start_time": "2023-01-16T09:47:53.140Z"
   },
   {
    "duration": 38,
    "start_time": "2023-01-16T09:47:53.148Z"
   },
   {
    "duration": 24,
    "start_time": "2023-01-16T09:47:53.187Z"
   },
   {
    "duration": 13,
    "start_time": "2023-01-16T09:47:53.213Z"
   },
   {
    "duration": 83,
    "start_time": "2023-01-16T09:47:53.227Z"
   },
   {
    "duration": 6,
    "start_time": "2023-01-16T09:47:53.311Z"
   },
   {
    "duration": 7,
    "start_time": "2023-01-16T09:47:53.319Z"
   },
   {
    "duration": 10,
    "start_time": "2023-01-16T09:47:53.328Z"
   },
   {
    "duration": 10,
    "start_time": "2023-01-16T09:47:53.339Z"
   },
   {
    "duration": 5,
    "start_time": "2023-01-16T09:47:53.351Z"
   },
   {
    "duration": 23,
    "start_time": "2023-01-16T09:47:53.357Z"
   },
   {
    "duration": 4,
    "start_time": "2023-01-16T09:47:53.382Z"
   },
   {
    "duration": 124,
    "start_time": "2023-01-16T09:47:53.388Z"
   },
   {
    "duration": 0,
    "start_time": "2023-01-16T09:47:53.514Z"
   },
   {
    "duration": 0,
    "start_time": "2023-01-16T09:47:53.515Z"
   },
   {
    "duration": 0,
    "start_time": "2023-01-16T09:47:53.516Z"
   },
   {
    "duration": 0,
    "start_time": "2023-01-16T09:47:53.517Z"
   },
   {
    "duration": 0,
    "start_time": "2023-01-16T09:47:53.518Z"
   },
   {
    "duration": 0,
    "start_time": "2023-01-16T09:47:53.520Z"
   },
   {
    "duration": 0,
    "start_time": "2023-01-16T09:47:53.521Z"
   },
   {
    "duration": 0,
    "start_time": "2023-01-16T09:47:53.523Z"
   },
   {
    "duration": 0,
    "start_time": "2023-01-16T09:47:53.524Z"
   },
   {
    "duration": 0,
    "start_time": "2023-01-16T09:47:53.526Z"
   },
   {
    "duration": 0,
    "start_time": "2023-01-16T09:47:53.527Z"
   },
   {
    "duration": 0,
    "start_time": "2023-01-16T09:47:53.528Z"
   },
   {
    "duration": 0,
    "start_time": "2023-01-16T09:47:53.530Z"
   },
   {
    "duration": 0,
    "start_time": "2023-01-16T09:47:53.531Z"
   },
   {
    "duration": 0,
    "start_time": "2023-01-16T09:47:53.533Z"
   },
   {
    "duration": 0,
    "start_time": "2023-01-16T09:47:53.534Z"
   },
   {
    "duration": 0,
    "start_time": "2023-01-16T09:47:53.536Z"
   },
   {
    "duration": 0,
    "start_time": "2023-01-16T09:47:53.537Z"
   },
   {
    "duration": 0,
    "start_time": "2023-01-16T09:47:53.576Z"
   },
   {
    "duration": 0,
    "start_time": "2023-01-16T09:47:53.577Z"
   },
   {
    "duration": 0,
    "start_time": "2023-01-16T09:47:53.578Z"
   },
   {
    "duration": 0,
    "start_time": "2023-01-16T09:47:53.579Z"
   },
   {
    "duration": 0,
    "start_time": "2023-01-16T09:47:53.580Z"
   },
   {
    "duration": 0,
    "start_time": "2023-01-16T09:47:53.581Z"
   },
   {
    "duration": 0,
    "start_time": "2023-01-16T09:47:53.582Z"
   },
   {
    "duration": 0,
    "start_time": "2023-01-16T09:47:53.583Z"
   },
   {
    "duration": 0,
    "start_time": "2023-01-16T09:47:53.584Z"
   },
   {
    "duration": 0,
    "start_time": "2023-01-16T09:47:53.585Z"
   },
   {
    "duration": 0,
    "start_time": "2023-01-16T09:47:53.586Z"
   },
   {
    "duration": 0,
    "start_time": "2023-01-16T09:47:53.586Z"
   },
   {
    "duration": 0,
    "start_time": "2023-01-16T09:47:53.587Z"
   },
   {
    "duration": 0,
    "start_time": "2023-01-16T09:47:53.588Z"
   },
   {
    "duration": 0,
    "start_time": "2023-01-16T09:47:53.589Z"
   },
   {
    "duration": 0,
    "start_time": "2023-01-16T09:47:53.590Z"
   },
   {
    "duration": 5,
    "start_time": "2023-01-16T09:48:07.192Z"
   },
   {
    "duration": 45,
    "start_time": "2023-01-16T09:49:55.316Z"
   },
   {
    "duration": 716,
    "start_time": "2023-01-16T09:49:56.392Z"
   },
   {
    "duration": 862,
    "start_time": "2023-01-16T09:50:13.618Z"
   },
   {
    "duration": 810,
    "start_time": "2023-01-16T09:50:30.388Z"
   },
   {
    "duration": 41,
    "start_time": "2023-01-16T10:14:23.356Z"
   },
   {
    "duration": 906,
    "start_time": "2023-01-16T10:14:36.705Z"
   },
   {
    "duration": 975,
    "start_time": "2023-01-16T10:14:42.466Z"
   },
   {
    "duration": 5,
    "start_time": "2023-01-16T10:15:00.692Z"
   },
   {
    "duration": 1500,
    "start_time": "2023-01-16T10:15:17.491Z"
   },
   {
    "duration": 768,
    "start_time": "2023-01-16T10:15:18.993Z"
   },
   {
    "duration": 27,
    "start_time": "2023-01-16T10:15:19.763Z"
   },
   {
    "duration": 6,
    "start_time": "2023-01-16T10:15:19.793Z"
   },
   {
    "duration": 29,
    "start_time": "2023-01-16T10:15:19.801Z"
   },
   {
    "duration": 51,
    "start_time": "2023-01-16T10:15:19.833Z"
   },
   {
    "duration": 20,
    "start_time": "2023-01-16T10:15:19.887Z"
   },
   {
    "duration": 83,
    "start_time": "2023-01-16T10:15:19.909Z"
   },
   {
    "duration": 6,
    "start_time": "2023-01-16T10:15:19.994Z"
   },
   {
    "duration": 6,
    "start_time": "2023-01-16T10:15:20.004Z"
   },
   {
    "duration": 10,
    "start_time": "2023-01-16T10:15:20.011Z"
   },
   {
    "duration": 7,
    "start_time": "2023-01-16T10:15:20.023Z"
   },
   {
    "duration": 7,
    "start_time": "2023-01-16T10:15:20.031Z"
   },
   {
    "duration": 13,
    "start_time": "2023-01-16T10:15:20.040Z"
   },
   {
    "duration": 28,
    "start_time": "2023-01-16T10:15:20.054Z"
   },
   {
    "duration": 140,
    "start_time": "2023-01-16T10:15:20.084Z"
   },
   {
    "duration": 0,
    "start_time": "2023-01-16T10:15:20.226Z"
   },
   {
    "duration": 0,
    "start_time": "2023-01-16T10:15:20.228Z"
   },
   {
    "duration": 0,
    "start_time": "2023-01-16T10:15:20.228Z"
   },
   {
    "duration": 0,
    "start_time": "2023-01-16T10:15:20.230Z"
   },
   {
    "duration": 0,
    "start_time": "2023-01-16T10:15:20.231Z"
   },
   {
    "duration": 0,
    "start_time": "2023-01-16T10:15:20.231Z"
   },
   {
    "duration": 0,
    "start_time": "2023-01-16T10:15:20.232Z"
   },
   {
    "duration": 0,
    "start_time": "2023-01-16T10:15:20.233Z"
   },
   {
    "duration": 0,
    "start_time": "2023-01-16T10:15:20.234Z"
   },
   {
    "duration": 0,
    "start_time": "2023-01-16T10:15:20.235Z"
   },
   {
    "duration": 0,
    "start_time": "2023-01-16T10:15:20.237Z"
   },
   {
    "duration": 0,
    "start_time": "2023-01-16T10:15:20.238Z"
   },
   {
    "duration": 0,
    "start_time": "2023-01-16T10:15:20.239Z"
   },
   {
    "duration": 0,
    "start_time": "2023-01-16T10:15:20.240Z"
   },
   {
    "duration": 0,
    "start_time": "2023-01-16T10:15:20.241Z"
   },
   {
    "duration": 0,
    "start_time": "2023-01-16T10:15:20.242Z"
   },
   {
    "duration": 0,
    "start_time": "2023-01-16T10:15:20.243Z"
   },
   {
    "duration": 0,
    "start_time": "2023-01-16T10:15:20.243Z"
   },
   {
    "duration": 0,
    "start_time": "2023-01-16T10:15:20.244Z"
   },
   {
    "duration": 0,
    "start_time": "2023-01-16T10:15:20.276Z"
   },
   {
    "duration": 0,
    "start_time": "2023-01-16T10:15:20.277Z"
   },
   {
    "duration": 0,
    "start_time": "2023-01-16T10:15:20.278Z"
   },
   {
    "duration": 0,
    "start_time": "2023-01-16T10:15:20.279Z"
   },
   {
    "duration": 0,
    "start_time": "2023-01-16T10:15:20.280Z"
   },
   {
    "duration": 0,
    "start_time": "2023-01-16T10:15:20.281Z"
   },
   {
    "duration": 0,
    "start_time": "2023-01-16T10:15:20.282Z"
   },
   {
    "duration": 0,
    "start_time": "2023-01-16T10:15:20.283Z"
   },
   {
    "duration": 0,
    "start_time": "2023-01-16T10:15:20.285Z"
   },
   {
    "duration": 0,
    "start_time": "2023-01-16T10:15:20.286Z"
   },
   {
    "duration": 0,
    "start_time": "2023-01-16T10:15:20.287Z"
   },
   {
    "duration": 0,
    "start_time": "2023-01-16T10:15:20.288Z"
   },
   {
    "duration": 0,
    "start_time": "2023-01-16T10:15:20.289Z"
   },
   {
    "duration": 0,
    "start_time": "2023-01-16T10:15:20.290Z"
   },
   {
    "duration": 0,
    "start_time": "2023-01-16T10:15:20.291Z"
   },
   {
    "duration": 7,
    "start_time": "2023-01-16T10:15:51.859Z"
   },
   {
    "duration": 8,
    "start_time": "2023-01-16T10:15:56.020Z"
   },
   {
    "duration": 34,
    "start_time": "2023-01-16T10:16:11.786Z"
   },
   {
    "duration": 49,
    "start_time": "2023-01-16T10:19:53.484Z"
   },
   {
    "duration": 33,
    "start_time": "2023-01-16T10:19:54.093Z"
   },
   {
    "duration": 8,
    "start_time": "2023-01-16T10:20:08.016Z"
   },
   {
    "duration": 35,
    "start_time": "2023-01-16T10:20:56.198Z"
   },
   {
    "duration": 37,
    "start_time": "2023-01-16T10:21:07.963Z"
   },
   {
    "duration": 36,
    "start_time": "2023-01-16T10:21:18.010Z"
   },
   {
    "duration": 38,
    "start_time": "2023-01-16T10:21:21.100Z"
   },
   {
    "duration": 12,
    "start_time": "2023-01-16T10:21:24.451Z"
   },
   {
    "duration": 39,
    "start_time": "2023-01-16T10:21:29.551Z"
   },
   {
    "duration": 8,
    "start_time": "2023-01-16T10:21:45.267Z"
   },
   {
    "duration": 5,
    "start_time": "2023-01-16T10:21:57.159Z"
   },
   {
    "duration": 4,
    "start_time": "2023-01-16T10:21:57.708Z"
   },
   {
    "duration": 20,
    "start_time": "2023-01-16T10:22:01.305Z"
   },
   {
    "duration": 1595,
    "start_time": "2023-01-16T10:22:14.424Z"
   },
   {
    "duration": 830,
    "start_time": "2023-01-16T10:22:16.022Z"
   },
   {
    "duration": 25,
    "start_time": "2023-01-16T10:22:16.854Z"
   },
   {
    "duration": 7,
    "start_time": "2023-01-16T10:22:16.882Z"
   },
   {
    "duration": 43,
    "start_time": "2023-01-16T10:22:16.891Z"
   },
   {
    "duration": 25,
    "start_time": "2023-01-16T10:22:16.936Z"
   },
   {
    "duration": 21,
    "start_time": "2023-01-16T10:22:16.963Z"
   },
   {
    "duration": 62,
    "start_time": "2023-01-16T10:22:16.985Z"
   },
   {
    "duration": 8,
    "start_time": "2023-01-16T10:22:17.049Z"
   },
   {
    "duration": 5,
    "start_time": "2023-01-16T10:22:17.077Z"
   },
   {
    "duration": 18,
    "start_time": "2023-01-16T10:22:17.084Z"
   },
   {
    "duration": 13,
    "start_time": "2023-01-16T10:22:17.104Z"
   },
   {
    "duration": 16,
    "start_time": "2023-01-16T10:22:17.118Z"
   },
   {
    "duration": 27,
    "start_time": "2023-01-16T10:22:17.136Z"
   },
   {
    "duration": 24,
    "start_time": "2023-01-16T10:22:17.166Z"
   },
   {
    "duration": 34,
    "start_time": "2023-01-16T10:22:17.192Z"
   },
   {
    "duration": 43,
    "start_time": "2023-01-16T10:22:17.228Z"
   },
   {
    "duration": 14,
    "start_time": "2023-01-16T10:22:17.273Z"
   },
   {
    "duration": 38,
    "start_time": "2023-01-16T10:22:17.289Z"
   },
   {
    "duration": 12,
    "start_time": "2023-01-16T10:22:17.329Z"
   },
   {
    "duration": 1626,
    "start_time": "2023-01-16T10:22:17.343Z"
   },
   {
    "duration": 1695,
    "start_time": "2023-01-16T10:22:18.971Z"
   },
   {
    "duration": 1581,
    "start_time": "2023-01-16T10:22:20.668Z"
   },
   {
    "duration": 598,
    "start_time": "2023-01-16T10:22:22.251Z"
   },
   {
    "duration": 632,
    "start_time": "2023-01-16T10:22:22.850Z"
   },
   {
    "duration": 9,
    "start_time": "2023-01-16T10:22:23.484Z"
   },
   {
    "duration": 213,
    "start_time": "2023-01-16T10:22:23.494Z"
   },
   {
    "duration": 295,
    "start_time": "2023-01-16T10:22:23.710Z"
   },
   {
    "duration": 198,
    "start_time": "2023-01-16T10:22:24.013Z"
   },
   {
    "duration": 189,
    "start_time": "2023-01-16T10:22:24.213Z"
   },
   {
    "duration": 20,
    "start_time": "2023-01-16T10:22:24.404Z"
   },
   {
    "duration": 44,
    "start_time": "2023-01-16T10:22:24.426Z"
   },
   {
    "duration": 10,
    "start_time": "2023-01-16T10:22:24.472Z"
   },
   {
    "duration": 8,
    "start_time": "2023-01-16T10:22:24.484Z"
   },
   {
    "duration": 7,
    "start_time": "2023-01-16T10:22:24.493Z"
   },
   {
    "duration": 13,
    "start_time": "2023-01-16T10:22:24.502Z"
   },
   {
    "duration": 23351,
    "start_time": "2023-01-16T10:22:24.517Z"
   },
   {
    "duration": 0,
    "start_time": "2023-01-16T10:22:47.870Z"
   },
   {
    "duration": 0,
    "start_time": "2023-01-16T10:22:47.872Z"
   },
   {
    "duration": 0,
    "start_time": "2023-01-16T10:22:47.873Z"
   },
   {
    "duration": 0,
    "start_time": "2023-01-16T10:22:47.875Z"
   },
   {
    "duration": 0,
    "start_time": "2023-01-16T10:22:47.876Z"
   },
   {
    "duration": 0,
    "start_time": "2023-01-16T10:22:47.878Z"
   },
   {
    "duration": 0,
    "start_time": "2023-01-16T10:22:47.879Z"
   },
   {
    "duration": 0,
    "start_time": "2023-01-16T10:22:47.880Z"
   },
   {
    "duration": 0,
    "start_time": "2023-01-16T10:22:47.882Z"
   },
   {
    "duration": 0,
    "start_time": "2023-01-16T10:22:47.883Z"
   },
   {
    "duration": 0,
    "start_time": "2023-01-16T10:22:47.885Z"
   },
   {
    "duration": 0,
    "start_time": "2023-01-16T10:22:47.886Z"
   },
   {
    "duration": 0,
    "start_time": "2023-01-16T10:22:47.888Z"
   },
   {
    "duration": 8,
    "start_time": "2023-01-16T10:57:09.778Z"
   },
   {
    "duration": 797,
    "start_time": "2023-01-16T10:57:37.238Z"
   },
   {
    "duration": 838,
    "start_time": "2023-01-16T10:57:41.747Z"
   },
   {
    "duration": 32,
    "start_time": "2023-01-16T10:57:50.707Z"
   },
   {
    "duration": 29,
    "start_time": "2023-01-16T10:58:00.390Z"
   },
   {
    "duration": 669,
    "start_time": "2023-01-16T10:59:03.799Z"
   },
   {
    "duration": 650,
    "start_time": "2023-01-16T10:59:12.372Z"
   },
   {
    "duration": 1256,
    "start_time": "2023-01-16T10:59:29.228Z"
   },
   {
    "duration": 753,
    "start_time": "2023-01-16T10:59:59.986Z"
   },
   {
    "duration": 29,
    "start_time": "2023-01-16T19:18:01.982Z"
   },
   {
    "duration": 27,
    "start_time": "2023-01-16T19:18:11.539Z"
   }
  ],
  "kernelspec": {
   "display_name": "Python 3 (ipykernel)",
   "language": "python",
   "name": "python3"
  },
  "language_info": {
   "codemirror_mode": {
    "name": "ipython",
    "version": 3
   },
   "file_extension": ".py",
   "mimetype": "text/x-python",
   "name": "python",
   "nbconvert_exporter": "python",
   "pygments_lexer": "ipython3",
   "version": "3.9.13"
  },
  "toc": {
   "base_numbering": 1,
   "nav_menu": {},
   "number_sections": true,
   "sideBar": true,
   "skip_h1_title": true,
   "title_cell": "Содержание",
   "title_sidebar": "Contents",
   "toc_cell": true,
   "toc_position": {
    "height": "calc(100% - 180px)",
    "left": "10px",
    "top": "150px",
    "width": "310px"
   },
   "toc_section_display": true,
   "toc_window_display": true
  }
 },
 "nbformat": 4,
 "nbformat_minor": 2
}
